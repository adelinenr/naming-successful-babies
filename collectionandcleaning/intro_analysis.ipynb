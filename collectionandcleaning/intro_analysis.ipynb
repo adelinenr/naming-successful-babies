{
 "cells": [
  {
   "cell_type": "code",
   "execution_count": 4,
   "id": "24d41342",
   "metadata": {},
   "outputs": [],
   "source": [
    "#pip install plotly_express==0.4.0"
   ]
  },
  {
   "cell_type": "code",
   "execution_count": 3,
   "id": "34316809",
   "metadata": {},
   "outputs": [],
   "source": [
    "import plotly_express as px"
   ]
  },
  {
   "cell_type": "code",
   "execution_count": 9,
   "id": "83a25dca",
   "metadata": {},
   "outputs": [],
   "source": [
    "import json\n",
    "import os\n",
    "import pandas as pd"
   ]
  },
  {
   "cell_type": "code",
   "execution_count": 6,
   "id": "eb79f694",
   "metadata": {},
   "outputs": [],
   "source": [
    "with open(\"billionaires_with_ssa.json\", \"r\") as infile:\n",
    "    nd = json.load(infile)"
   ]
  },
  {
   "cell_type": "code",
   "execution_count": 11,
   "id": "a8c65561",
   "metadata": {},
   "outputs": [
    {
     "data": {
      "text/html": [
       "<div>\n",
       "<style scoped>\n",
       "    .dataframe tbody tr th:only-of-type {\n",
       "        vertical-align: middle;\n",
       "    }\n",
       "\n",
       "    .dataframe tbody tr th {\n",
       "        vertical-align: top;\n",
       "    }\n",
       "\n",
       "    .dataframe thead th {\n",
       "        text-align: right;\n",
       "    }\n",
       "</style>\n",
       "<table border=\"1\" class=\"dataframe\">\n",
       "  <thead>\n",
       "    <tr style=\"text-align: right;\">\n",
       "      <th></th>\n",
       "      <th>firstName</th>\n",
       "      <th>lastName</th>\n",
       "      <th>gender</th>\n",
       "      <th>birthYear</th>\n",
       "      <th>selfMadeRank</th>\n",
       "      <th>finalName</th>\n",
       "      <th>nickName</th>\n",
       "      <th>nameGender</th>\n",
       "      <th>nameUsage</th>\n",
       "      <th>freqYB</th>\n",
       "      <th>pctYB</th>\n",
       "    </tr>\n",
       "  </thead>\n",
       "  <tbody>\n",
       "    <tr>\n",
       "      <th>0</th>\n",
       "      <td>Elon</td>\n",
       "      <td>Musk</td>\n",
       "      <td>M</td>\n",
       "      <td>1971</td>\n",
       "      <td>8</td>\n",
       "      <td>Elon</td>\n",
       "      <td>0</td>\n",
       "      <td>[Masculine]</td>\n",
       "      <td>[Biblical, Hebrew, Biblical Hebrew]</td>\n",
       "      <td>10.0</td>\n",
       "      <td>0.000005</td>\n",
       "    </tr>\n",
       "    <tr>\n",
       "      <th>1</th>\n",
       "      <td>Jeff</td>\n",
       "      <td>Bezos</td>\n",
       "      <td>M</td>\n",
       "      <td>1964</td>\n",
       "      <td>8</td>\n",
       "      <td>Jeffrey</td>\n",
       "      <td>1</td>\n",
       "      <td>[Masculine]</td>\n",
       "      <td>[English]</td>\n",
       "      <td>30730.0</td>\n",
       "      <td>0.015159</td>\n",
       "    </tr>\n",
       "    <tr>\n",
       "      <th>2</th>\n",
       "      <td>Bill</td>\n",
       "      <td>Gates</td>\n",
       "      <td>M</td>\n",
       "      <td>1955</td>\n",
       "      <td>8</td>\n",
       "      <td>William</td>\n",
       "      <td>1</td>\n",
       "      <td>[Masculine]</td>\n",
       "      <td>[English]</td>\n",
       "      <td>59986.0</td>\n",
       "      <td>0.028696</td>\n",
       "    </tr>\n",
       "    <tr>\n",
       "      <th>3</th>\n",
       "      <td>Larry</td>\n",
       "      <td>Ellison</td>\n",
       "      <td>M</td>\n",
       "      <td>1944</td>\n",
       "      <td>9</td>\n",
       "      <td>Lawrence</td>\n",
       "      <td>1</td>\n",
       "      <td>[Masculine]</td>\n",
       "      <td>[English]</td>\n",
       "      <td>7128.0</td>\n",
       "      <td>0.005131</td>\n",
       "    </tr>\n",
       "    <tr>\n",
       "      <th>4</th>\n",
       "      <td>Warren</td>\n",
       "      <td>Buffett</td>\n",
       "      <td>M</td>\n",
       "      <td>1930</td>\n",
       "      <td>8</td>\n",
       "      <td>Warren</td>\n",
       "      <td>0</td>\n",
       "      <td>[Masculine]</td>\n",
       "      <td>[English]</td>\n",
       "      <td>2012.0</td>\n",
       "      <td>0.001781</td>\n",
       "    </tr>\n",
       "  </tbody>\n",
       "</table>\n",
       "</div>"
      ],
      "text/plain": [
       "  firstName lastName gender birthYear  selfMadeRank finalName  nickName  \\\n",
       "0      Elon     Musk      M      1971             8      Elon         0   \n",
       "1      Jeff    Bezos      M      1964             8   Jeffrey         1   \n",
       "2      Bill    Gates      M      1955             8   William         1   \n",
       "3     Larry  Ellison      M      1944             9  Lawrence         1   \n",
       "4    Warren  Buffett      M      1930             8    Warren         0   \n",
       "\n",
       "    nameGender                            nameUsage   freqYB     pctYB  \n",
       "0  [Masculine]  [Biblical, Hebrew, Biblical Hebrew]     10.0  0.000005  \n",
       "1  [Masculine]                            [English]  30730.0  0.015159  \n",
       "2  [Masculine]                            [English]  59986.0  0.028696  \n",
       "3  [Masculine]                            [English]   7128.0  0.005131  \n",
       "4  [Masculine]                            [English]   2012.0  0.001781  "
      ]
     },
     "execution_count": 11,
     "metadata": {},
     "output_type": "execute_result"
    }
   ],
   "source": [
    "df = pd.DataFrame(nd)\n",
    "df.head()"
   ]
  },
  {
   "cell_type": "code",
   "execution_count": 13,
   "id": "522d6675",
   "metadata": {},
   "outputs": [
    {
     "data": {
      "text/html": [
       "<div>\n",
       "<style scoped>\n",
       "    .dataframe tbody tr th:only-of-type {\n",
       "        vertical-align: middle;\n",
       "    }\n",
       "\n",
       "    .dataframe tbody tr th {\n",
       "        vertical-align: top;\n",
       "    }\n",
       "\n",
       "    .dataframe thead th {\n",
       "        text-align: right;\n",
       "    }\n",
       "</style>\n",
       "<table border=\"1\" class=\"dataframe\">\n",
       "  <thead>\n",
       "    <tr style=\"text-align: right;\">\n",
       "      <th></th>\n",
       "      <th>firstName</th>\n",
       "      <th>lastName</th>\n",
       "      <th>gender</th>\n",
       "      <th>birthYear</th>\n",
       "      <th>selfMadeRank</th>\n",
       "      <th>finalName</th>\n",
       "      <th>nickName</th>\n",
       "      <th>nameGender</th>\n",
       "      <th>nameUsage</th>\n",
       "      <th>freqYB</th>\n",
       "      <th>pctYB</th>\n",
       "      <th>male</th>\n",
       "    </tr>\n",
       "  </thead>\n",
       "  <tbody>\n",
       "    <tr>\n",
       "      <th>0</th>\n",
       "      <td>Elon</td>\n",
       "      <td>Musk</td>\n",
       "      <td>M</td>\n",
       "      <td>1971</td>\n",
       "      <td>8</td>\n",
       "      <td>Elon</td>\n",
       "      <td>0</td>\n",
       "      <td>[Masculine]</td>\n",
       "      <td>[Biblical, Hebrew, Biblical Hebrew]</td>\n",
       "      <td>10.0</td>\n",
       "      <td>0.000005</td>\n",
       "      <td>1</td>\n",
       "    </tr>\n",
       "    <tr>\n",
       "      <th>1</th>\n",
       "      <td>Jeff</td>\n",
       "      <td>Bezos</td>\n",
       "      <td>M</td>\n",
       "      <td>1964</td>\n",
       "      <td>8</td>\n",
       "      <td>Jeffrey</td>\n",
       "      <td>1</td>\n",
       "      <td>[Masculine]</td>\n",
       "      <td>[English]</td>\n",
       "      <td>30730.0</td>\n",
       "      <td>0.015159</td>\n",
       "      <td>1</td>\n",
       "    </tr>\n",
       "    <tr>\n",
       "      <th>2</th>\n",
       "      <td>Bill</td>\n",
       "      <td>Gates</td>\n",
       "      <td>M</td>\n",
       "      <td>1955</td>\n",
       "      <td>8</td>\n",
       "      <td>William</td>\n",
       "      <td>1</td>\n",
       "      <td>[Masculine]</td>\n",
       "      <td>[English]</td>\n",
       "      <td>59986.0</td>\n",
       "      <td>0.028696</td>\n",
       "      <td>1</td>\n",
       "    </tr>\n",
       "    <tr>\n",
       "      <th>3</th>\n",
       "      <td>Larry</td>\n",
       "      <td>Ellison</td>\n",
       "      <td>M</td>\n",
       "      <td>1944</td>\n",
       "      <td>9</td>\n",
       "      <td>Lawrence</td>\n",
       "      <td>1</td>\n",
       "      <td>[Masculine]</td>\n",
       "      <td>[English]</td>\n",
       "      <td>7128.0</td>\n",
       "      <td>0.005131</td>\n",
       "      <td>1</td>\n",
       "    </tr>\n",
       "    <tr>\n",
       "      <th>4</th>\n",
       "      <td>Warren</td>\n",
       "      <td>Buffett</td>\n",
       "      <td>M</td>\n",
       "      <td>1930</td>\n",
       "      <td>8</td>\n",
       "      <td>Warren</td>\n",
       "      <td>0</td>\n",
       "      <td>[Masculine]</td>\n",
       "      <td>[English]</td>\n",
       "      <td>2012.0</td>\n",
       "      <td>0.001781</td>\n",
       "      <td>1</td>\n",
       "    </tr>\n",
       "  </tbody>\n",
       "</table>\n",
       "</div>"
      ],
      "text/plain": [
       "  firstName lastName gender birthYear  selfMadeRank finalName  nickName  \\\n",
       "0      Elon     Musk      M      1971             8      Elon         0   \n",
       "1      Jeff    Bezos      M      1964             8   Jeffrey         1   \n",
       "2      Bill    Gates      M      1955             8   William         1   \n",
       "3     Larry  Ellison      M      1944             9  Lawrence         1   \n",
       "4    Warren  Buffett      M      1930             8    Warren         0   \n",
       "\n",
       "    nameGender                            nameUsage   freqYB     pctYB  male  \n",
       "0  [Masculine]  [Biblical, Hebrew, Biblical Hebrew]     10.0  0.000005     1  \n",
       "1  [Masculine]                            [English]  30730.0  0.015159     1  \n",
       "2  [Masculine]                            [English]  59986.0  0.028696     1  \n",
       "3  [Masculine]                            [English]   7128.0  0.005131     1  \n",
       "4  [Masculine]                            [English]   2012.0  0.001781     1  "
      ]
     },
     "execution_count": 13,
     "metadata": {},
     "output_type": "execute_result"
    }
   ],
   "source": [
    "m = []\n",
    "for l in df['gender']:\n",
    "    if l == 'M':\n",
    "        m.append(1)\n",
    "    else:\n",
    "        m.append(0)\n",
    "\n",
    "df['male'] = m\n",
    "df.head()"
   ]
  },
  {
   "cell_type": "code",
   "execution_count": 56,
   "id": "acf576df",
   "metadata": {},
   "outputs": [],
   "source": [
    "df.to_csv('out.csv')"
   ]
  },
  {
   "cell_type": "code",
   "execution_count": 19,
   "id": "0ef20d1b",
   "metadata": {},
   "outputs": [
    {
     "data": {
      "application/vnd.plotly.v1+json": {
       "config": {
        "plotlyServerURL": "https://plot.ly"
       },
       "data": [
        {
         "alignmentgroup": "True",
         "hovertemplate": "Gender=%{x}<br>count=%{y}<extra></extra>",
         "legendgroup": "",
         "marker": {
          "color": "#636efa",
          "pattern": {
           "shape": ""
          }
         },
         "name": "",
         "offsetgroup": "",
         "orientation": "v",
         "showlegend": false,
         "textposition": "auto",
         "type": "bar",
         "x": [
          "M",
          "M",
          "M",
          "M",
          "M",
          "M",
          "M",
          "M",
          "M",
          "M",
          "M",
          "M",
          "M",
          "F",
          "F",
          "M",
          "M",
          "F",
          "F",
          "M",
          "M",
          "M",
          "M",
          "M",
          "M",
          "F",
          "M",
          "M",
          "F",
          "M",
          "M",
          "M",
          "M",
          "M",
          "M",
          "M",
          "M",
          "M",
          "M",
          "M",
          "M",
          "M",
          "M",
          "M",
          "M",
          "M",
          "M",
          "M",
          "M",
          "F",
          "F",
          "M",
          "M",
          "M",
          "M",
          "M",
          "M",
          "M",
          "M",
          "M",
          "M",
          "M",
          "M",
          "F",
          "M",
          "M",
          "M",
          "M",
          "F",
          "F",
          "F",
          "F",
          "M",
          "M",
          "M",
          "M",
          "M",
          "F",
          "M",
          "F",
          "M",
          "M",
          "F",
          "M",
          "M",
          "M",
          "M",
          "M",
          "M",
          "M",
          "M",
          "M",
          "M",
          "M",
          "M",
          "M",
          "F",
          "M",
          "M",
          "M",
          "M",
          "M",
          "M",
          "M",
          "M",
          "M",
          "M",
          "M",
          "M",
          "F",
          "M",
          "M",
          "M",
          "M",
          "M",
          "M",
          "M",
          "M",
          "F",
          "F",
          "M",
          "F",
          "M",
          "M",
          "F",
          "M",
          "M",
          "F",
          "M",
          "M",
          "M",
          "M",
          "M",
          "M",
          "F",
          "M",
          "M",
          "M",
          "M",
          "M",
          "M",
          "M",
          "M",
          "M",
          "M",
          "F",
          "M",
          "M",
          "M",
          "M",
          "M",
          "M",
          "M",
          "M",
          "M",
          "M",
          "M",
          "M",
          "M",
          "M",
          "M",
          "M",
          "M",
          "F",
          "M",
          "M",
          "M",
          "M",
          "M",
          "F",
          "M",
          "M",
          "M",
          "M",
          "M",
          "F",
          "M",
          "F",
          "M",
          "F",
          "M",
          "M",
          "M",
          "M",
          "M",
          "F",
          "M",
          "M",
          "M",
          "M",
          "M",
          "F",
          "M",
          "M",
          "M",
          "F",
          "M",
          "M",
          "M",
          "M",
          "F",
          "M",
          "M",
          "M",
          "M",
          "M",
          "F",
          "M",
          "M",
          "M",
          "M",
          "M",
          "M",
          "M",
          "M",
          "M",
          "M",
          "F",
          "F",
          "M",
          "M",
          "M",
          "M",
          "F",
          "M",
          "M",
          "M",
          "F",
          "M",
          "F",
          "M",
          "M",
          "M",
          "F",
          "M",
          "M",
          "M",
          "M",
          "M",
          "M",
          "M",
          "M",
          "M",
          "M",
          "M",
          "M",
          "M",
          "M",
          "F",
          "M",
          "M",
          "M",
          "M",
          "F",
          "M",
          "F",
          "M",
          "F",
          "M",
          "M",
          "M",
          "M",
          "M",
          "M",
          "M",
          "F",
          "M",
          "M",
          "M",
          "M",
          "M",
          "M",
          "M",
          "M",
          "M",
          "M",
          "M",
          "M",
          "M",
          "M",
          "F",
          "M",
          "M",
          "M",
          "M",
          "F",
          "M",
          "M",
          "M",
          "M",
          "M",
          "M",
          "F",
          "M",
          "M",
          "F",
          "M",
          "M",
          "M",
          "F",
          "M",
          "M",
          "M",
          "M",
          "M",
          "M",
          "M",
          "M",
          "M",
          "M",
          "M",
          "M",
          "M",
          "M",
          "M",
          "M",
          "M",
          "M",
          "M",
          "M",
          "M",
          "M",
          "M",
          "M",
          "M",
          "M",
          "M",
          "M",
          "M",
          "M",
          "M",
          "M",
          "M",
          "F",
          "M",
          "M",
          "M",
          "M",
          "M",
          "M",
          "M",
          "M",
          "M",
          "M",
          "F",
          "M",
          "M",
          "M",
          "M",
          "M",
          "M",
          "M",
          "M",
          "M",
          "M",
          "M",
          "M",
          "F",
          "M",
          "M",
          "M",
          "M",
          "M",
          "M",
          "F",
          "M",
          "F",
          "M",
          "M",
          "M",
          "M",
          "M",
          "M",
          "M",
          "M",
          "M",
          "M",
          "M",
          "M",
          "F",
          "M",
          "M",
          "M",
          "M",
          "M",
          "M",
          "M",
          "M",
          "M",
          "M",
          "M",
          "M",
          "M",
          "M",
          "M",
          "M",
          "M",
          "M",
          "F",
          "M"
         ],
         "xaxis": "x",
         "y": [
          1,
          1,
          1,
          1,
          1,
          1,
          1,
          1,
          1,
          1,
          1,
          1,
          1,
          1,
          1,
          1,
          1,
          1,
          1,
          1,
          1,
          1,
          1,
          1,
          1,
          1,
          1,
          1,
          1,
          1,
          1,
          1,
          1,
          1,
          1,
          1,
          1,
          1,
          1,
          1,
          1,
          1,
          1,
          1,
          1,
          1,
          1,
          1,
          1,
          1,
          1,
          1,
          1,
          1,
          1,
          1,
          1,
          1,
          1,
          1,
          1,
          1,
          1,
          1,
          1,
          1,
          1,
          1,
          1,
          1,
          1,
          1,
          1,
          1,
          1,
          1,
          1,
          1,
          1,
          1,
          1,
          1,
          1,
          1,
          1,
          1,
          1,
          1,
          1,
          1,
          1,
          1,
          1,
          1,
          1,
          1,
          1,
          1,
          1,
          1,
          1,
          1,
          1,
          1,
          1,
          1,
          1,
          1,
          1,
          1,
          1,
          1,
          1,
          1,
          1,
          1,
          1,
          1,
          1,
          1,
          1,
          1,
          1,
          1,
          1,
          1,
          1,
          1,
          1,
          1,
          1,
          1,
          1,
          1,
          1,
          1,
          1,
          1,
          1,
          1,
          1,
          1,
          1,
          1,
          1,
          1,
          1,
          1,
          1,
          1,
          1,
          1,
          1,
          1,
          1,
          1,
          1,
          1,
          1,
          1,
          1,
          1,
          1,
          1,
          1,
          1,
          1,
          1,
          1,
          1,
          1,
          1,
          1,
          1,
          1,
          1,
          1,
          1,
          1,
          1,
          1,
          1,
          1,
          1,
          1,
          1,
          1,
          1,
          1,
          1,
          1,
          1,
          1,
          1,
          1,
          1,
          1,
          1,
          1,
          1,
          1,
          1,
          1,
          1,
          1,
          1,
          1,
          1,
          1,
          1,
          1,
          1,
          1,
          1,
          1,
          1,
          1,
          1,
          1,
          1,
          1,
          1,
          1,
          1,
          1,
          1,
          1,
          1,
          1,
          1,
          1,
          1,
          1,
          1,
          1,
          1,
          1,
          1,
          1,
          1,
          1,
          1,
          1,
          1,
          1,
          1,
          1,
          1,
          1,
          1,
          1,
          1,
          1,
          1,
          1,
          1,
          1,
          1,
          1,
          1,
          1,
          1,
          1,
          1,
          1,
          1,
          1,
          1,
          1,
          1,
          1,
          1,
          1,
          1,
          1,
          1,
          1,
          1,
          1,
          1,
          1,
          1,
          1,
          1,
          1,
          1,
          1,
          1,
          1,
          1,
          1,
          1,
          1,
          1,
          1,
          1,
          1,
          1,
          1,
          1,
          1,
          1,
          1,
          1,
          1,
          1,
          1,
          1,
          1,
          1,
          1,
          1,
          1,
          1,
          1,
          1,
          1,
          1,
          1,
          1,
          1,
          1,
          1,
          1,
          1,
          1,
          1,
          1,
          1,
          1,
          1,
          1,
          1,
          1,
          1,
          1,
          1,
          1,
          1,
          1,
          1,
          1,
          1,
          1,
          1,
          1,
          1,
          1,
          1,
          1,
          1,
          1,
          1,
          1,
          1,
          1,
          1,
          1,
          1,
          1,
          1,
          1,
          1,
          1,
          1,
          1,
          1,
          1,
          1,
          1,
          1,
          1,
          1,
          1,
          1,
          1,
          1,
          1,
          1,
          1,
          1,
          1,
          1,
          1,
          1,
          1,
          1,
          1,
          1,
          1,
          1,
          1,
          1,
          1,
          1,
          1,
          1,
          1,
          1,
          1
         ],
         "yaxis": "y"
        }
       ],
       "layout": {
        "barmode": "relative",
        "legend": {
         "tracegroupgap": 0
        },
        "template": {
         "data": {
          "bar": [
           {
            "error_x": {
             "color": "#2a3f5f"
            },
            "error_y": {
             "color": "#2a3f5f"
            },
            "marker": {
             "line": {
              "color": "#E5ECF6",
              "width": 0.5
             },
             "pattern": {
              "fillmode": "overlay",
              "size": 10,
              "solidity": 0.2
             }
            },
            "type": "bar"
           }
          ],
          "barpolar": [
           {
            "marker": {
             "line": {
              "color": "#E5ECF6",
              "width": 0.5
             },
             "pattern": {
              "fillmode": "overlay",
              "size": 10,
              "solidity": 0.2
             }
            },
            "type": "barpolar"
           }
          ],
          "carpet": [
           {
            "aaxis": {
             "endlinecolor": "#2a3f5f",
             "gridcolor": "white",
             "linecolor": "white",
             "minorgridcolor": "white",
             "startlinecolor": "#2a3f5f"
            },
            "baxis": {
             "endlinecolor": "#2a3f5f",
             "gridcolor": "white",
             "linecolor": "white",
             "minorgridcolor": "white",
             "startlinecolor": "#2a3f5f"
            },
            "type": "carpet"
           }
          ],
          "choropleth": [
           {
            "colorbar": {
             "outlinewidth": 0,
             "ticks": ""
            },
            "type": "choropleth"
           }
          ],
          "contour": [
           {
            "colorbar": {
             "outlinewidth": 0,
             "ticks": ""
            },
            "colorscale": [
             [
              0,
              "#0d0887"
             ],
             [
              0.1111111111111111,
              "#46039f"
             ],
             [
              0.2222222222222222,
              "#7201a8"
             ],
             [
              0.3333333333333333,
              "#9c179e"
             ],
             [
              0.4444444444444444,
              "#bd3786"
             ],
             [
              0.5555555555555556,
              "#d8576b"
             ],
             [
              0.6666666666666666,
              "#ed7953"
             ],
             [
              0.7777777777777778,
              "#fb9f3a"
             ],
             [
              0.8888888888888888,
              "#fdca26"
             ],
             [
              1,
              "#f0f921"
             ]
            ],
            "type": "contour"
           }
          ],
          "contourcarpet": [
           {
            "colorbar": {
             "outlinewidth": 0,
             "ticks": ""
            },
            "type": "contourcarpet"
           }
          ],
          "heatmap": [
           {
            "colorbar": {
             "outlinewidth": 0,
             "ticks": ""
            },
            "colorscale": [
             [
              0,
              "#0d0887"
             ],
             [
              0.1111111111111111,
              "#46039f"
             ],
             [
              0.2222222222222222,
              "#7201a8"
             ],
             [
              0.3333333333333333,
              "#9c179e"
             ],
             [
              0.4444444444444444,
              "#bd3786"
             ],
             [
              0.5555555555555556,
              "#d8576b"
             ],
             [
              0.6666666666666666,
              "#ed7953"
             ],
             [
              0.7777777777777778,
              "#fb9f3a"
             ],
             [
              0.8888888888888888,
              "#fdca26"
             ],
             [
              1,
              "#f0f921"
             ]
            ],
            "type": "heatmap"
           }
          ],
          "heatmapgl": [
           {
            "colorbar": {
             "outlinewidth": 0,
             "ticks": ""
            },
            "colorscale": [
             [
              0,
              "#0d0887"
             ],
             [
              0.1111111111111111,
              "#46039f"
             ],
             [
              0.2222222222222222,
              "#7201a8"
             ],
             [
              0.3333333333333333,
              "#9c179e"
             ],
             [
              0.4444444444444444,
              "#bd3786"
             ],
             [
              0.5555555555555556,
              "#d8576b"
             ],
             [
              0.6666666666666666,
              "#ed7953"
             ],
             [
              0.7777777777777778,
              "#fb9f3a"
             ],
             [
              0.8888888888888888,
              "#fdca26"
             ],
             [
              1,
              "#f0f921"
             ]
            ],
            "type": "heatmapgl"
           }
          ],
          "histogram": [
           {
            "marker": {
             "pattern": {
              "fillmode": "overlay",
              "size": 10,
              "solidity": 0.2
             }
            },
            "type": "histogram"
           }
          ],
          "histogram2d": [
           {
            "colorbar": {
             "outlinewidth": 0,
             "ticks": ""
            },
            "colorscale": [
             [
              0,
              "#0d0887"
             ],
             [
              0.1111111111111111,
              "#46039f"
             ],
             [
              0.2222222222222222,
              "#7201a8"
             ],
             [
              0.3333333333333333,
              "#9c179e"
             ],
             [
              0.4444444444444444,
              "#bd3786"
             ],
             [
              0.5555555555555556,
              "#d8576b"
             ],
             [
              0.6666666666666666,
              "#ed7953"
             ],
             [
              0.7777777777777778,
              "#fb9f3a"
             ],
             [
              0.8888888888888888,
              "#fdca26"
             ],
             [
              1,
              "#f0f921"
             ]
            ],
            "type": "histogram2d"
           }
          ],
          "histogram2dcontour": [
           {
            "colorbar": {
             "outlinewidth": 0,
             "ticks": ""
            },
            "colorscale": [
             [
              0,
              "#0d0887"
             ],
             [
              0.1111111111111111,
              "#46039f"
             ],
             [
              0.2222222222222222,
              "#7201a8"
             ],
             [
              0.3333333333333333,
              "#9c179e"
             ],
             [
              0.4444444444444444,
              "#bd3786"
             ],
             [
              0.5555555555555556,
              "#d8576b"
             ],
             [
              0.6666666666666666,
              "#ed7953"
             ],
             [
              0.7777777777777778,
              "#fb9f3a"
             ],
             [
              0.8888888888888888,
              "#fdca26"
             ],
             [
              1,
              "#f0f921"
             ]
            ],
            "type": "histogram2dcontour"
           }
          ],
          "mesh3d": [
           {
            "colorbar": {
             "outlinewidth": 0,
             "ticks": ""
            },
            "type": "mesh3d"
           }
          ],
          "parcoords": [
           {
            "line": {
             "colorbar": {
              "outlinewidth": 0,
              "ticks": ""
             }
            },
            "type": "parcoords"
           }
          ],
          "pie": [
           {
            "automargin": true,
            "type": "pie"
           }
          ],
          "scatter": [
           {
            "marker": {
             "colorbar": {
              "outlinewidth": 0,
              "ticks": ""
             }
            },
            "type": "scatter"
           }
          ],
          "scatter3d": [
           {
            "line": {
             "colorbar": {
              "outlinewidth": 0,
              "ticks": ""
             }
            },
            "marker": {
             "colorbar": {
              "outlinewidth": 0,
              "ticks": ""
             }
            },
            "type": "scatter3d"
           }
          ],
          "scattercarpet": [
           {
            "marker": {
             "colorbar": {
              "outlinewidth": 0,
              "ticks": ""
             }
            },
            "type": "scattercarpet"
           }
          ],
          "scattergeo": [
           {
            "marker": {
             "colorbar": {
              "outlinewidth": 0,
              "ticks": ""
             }
            },
            "type": "scattergeo"
           }
          ],
          "scattergl": [
           {
            "marker": {
             "colorbar": {
              "outlinewidth": 0,
              "ticks": ""
             }
            },
            "type": "scattergl"
           }
          ],
          "scattermapbox": [
           {
            "marker": {
             "colorbar": {
              "outlinewidth": 0,
              "ticks": ""
             }
            },
            "type": "scattermapbox"
           }
          ],
          "scatterpolar": [
           {
            "marker": {
             "colorbar": {
              "outlinewidth": 0,
              "ticks": ""
             }
            },
            "type": "scatterpolar"
           }
          ],
          "scatterpolargl": [
           {
            "marker": {
             "colorbar": {
              "outlinewidth": 0,
              "ticks": ""
             }
            },
            "type": "scatterpolargl"
           }
          ],
          "scatterternary": [
           {
            "marker": {
             "colorbar": {
              "outlinewidth": 0,
              "ticks": ""
             }
            },
            "type": "scatterternary"
           }
          ],
          "surface": [
           {
            "colorbar": {
             "outlinewidth": 0,
             "ticks": ""
            },
            "colorscale": [
             [
              0,
              "#0d0887"
             ],
             [
              0.1111111111111111,
              "#46039f"
             ],
             [
              0.2222222222222222,
              "#7201a8"
             ],
             [
              0.3333333333333333,
              "#9c179e"
             ],
             [
              0.4444444444444444,
              "#bd3786"
             ],
             [
              0.5555555555555556,
              "#d8576b"
             ],
             [
              0.6666666666666666,
              "#ed7953"
             ],
             [
              0.7777777777777778,
              "#fb9f3a"
             ],
             [
              0.8888888888888888,
              "#fdca26"
             ],
             [
              1,
              "#f0f921"
             ]
            ],
            "type": "surface"
           }
          ],
          "table": [
           {
            "cells": {
             "fill": {
              "color": "#EBF0F8"
             },
             "line": {
              "color": "white"
             }
            },
            "header": {
             "fill": {
              "color": "#C8D4E3"
             },
             "line": {
              "color": "white"
             }
            },
            "type": "table"
           }
          ]
         },
         "layout": {
          "annotationdefaults": {
           "arrowcolor": "#2a3f5f",
           "arrowhead": 0,
           "arrowwidth": 1
          },
          "autotypenumbers": "strict",
          "coloraxis": {
           "colorbar": {
            "outlinewidth": 0,
            "ticks": ""
           }
          },
          "colorscale": {
           "diverging": [
            [
             0,
             "#8e0152"
            ],
            [
             0.1,
             "#c51b7d"
            ],
            [
             0.2,
             "#de77ae"
            ],
            [
             0.3,
             "#f1b6da"
            ],
            [
             0.4,
             "#fde0ef"
            ],
            [
             0.5,
             "#f7f7f7"
            ],
            [
             0.6,
             "#e6f5d0"
            ],
            [
             0.7,
             "#b8e186"
            ],
            [
             0.8,
             "#7fbc41"
            ],
            [
             0.9,
             "#4d9221"
            ],
            [
             1,
             "#276419"
            ]
           ],
           "sequential": [
            [
             0,
             "#0d0887"
            ],
            [
             0.1111111111111111,
             "#46039f"
            ],
            [
             0.2222222222222222,
             "#7201a8"
            ],
            [
             0.3333333333333333,
             "#9c179e"
            ],
            [
             0.4444444444444444,
             "#bd3786"
            ],
            [
             0.5555555555555556,
             "#d8576b"
            ],
            [
             0.6666666666666666,
             "#ed7953"
            ],
            [
             0.7777777777777778,
             "#fb9f3a"
            ],
            [
             0.8888888888888888,
             "#fdca26"
            ],
            [
             1,
             "#f0f921"
            ]
           ],
           "sequentialminus": [
            [
             0,
             "#0d0887"
            ],
            [
             0.1111111111111111,
             "#46039f"
            ],
            [
             0.2222222222222222,
             "#7201a8"
            ],
            [
             0.3333333333333333,
             "#9c179e"
            ],
            [
             0.4444444444444444,
             "#bd3786"
            ],
            [
             0.5555555555555556,
             "#d8576b"
            ],
            [
             0.6666666666666666,
             "#ed7953"
            ],
            [
             0.7777777777777778,
             "#fb9f3a"
            ],
            [
             0.8888888888888888,
             "#fdca26"
            ],
            [
             1,
             "#f0f921"
            ]
           ]
          },
          "colorway": [
           "#636efa",
           "#EF553B",
           "#00cc96",
           "#ab63fa",
           "#FFA15A",
           "#19d3f3",
           "#FF6692",
           "#B6E880",
           "#FF97FF",
           "#FECB52"
          ],
          "font": {
           "color": "#2a3f5f"
          },
          "geo": {
           "bgcolor": "white",
           "lakecolor": "white",
           "landcolor": "#E5ECF6",
           "showlakes": true,
           "showland": true,
           "subunitcolor": "white"
          },
          "hoverlabel": {
           "align": "left"
          },
          "hovermode": "closest",
          "mapbox": {
           "style": "light"
          },
          "paper_bgcolor": "white",
          "plot_bgcolor": "#E5ECF6",
          "polar": {
           "angularaxis": {
            "gridcolor": "white",
            "linecolor": "white",
            "ticks": ""
           },
           "bgcolor": "#E5ECF6",
           "radialaxis": {
            "gridcolor": "white",
            "linecolor": "white",
            "ticks": ""
           }
          },
          "scene": {
           "xaxis": {
            "backgroundcolor": "#E5ECF6",
            "gridcolor": "white",
            "gridwidth": 2,
            "linecolor": "white",
            "showbackground": true,
            "ticks": "",
            "zerolinecolor": "white"
           },
           "yaxis": {
            "backgroundcolor": "#E5ECF6",
            "gridcolor": "white",
            "gridwidth": 2,
            "linecolor": "white",
            "showbackground": true,
            "ticks": "",
            "zerolinecolor": "white"
           },
           "zaxis": {
            "backgroundcolor": "#E5ECF6",
            "gridcolor": "white",
            "gridwidth": 2,
            "linecolor": "white",
            "showbackground": true,
            "ticks": "",
            "zerolinecolor": "white"
           }
          },
          "shapedefaults": {
           "line": {
            "color": "#2a3f5f"
           }
          },
          "ternary": {
           "aaxis": {
            "gridcolor": "white",
            "linecolor": "white",
            "ticks": ""
           },
           "baxis": {
            "gridcolor": "white",
            "linecolor": "white",
            "ticks": ""
           },
           "bgcolor": "#E5ECF6",
           "caxis": {
            "gridcolor": "white",
            "linecolor": "white",
            "ticks": ""
           }
          },
          "title": {
           "x": 0.05
          },
          "xaxis": {
           "automargin": true,
           "gridcolor": "white",
           "linecolor": "white",
           "ticks": "",
           "title": {
            "standoff": 15
           },
           "zerolinecolor": "white",
           "zerolinewidth": 2
          },
          "yaxis": {
           "automargin": true,
           "gridcolor": "white",
           "linecolor": "white",
           "ticks": "",
           "title": {
            "standoff": 15
           },
           "zerolinecolor": "white",
           "zerolinewidth": 2
          }
         }
        },
        "title": {
         "text": "Gender Distribution of Forbes 400"
        },
        "xaxis": {
         "anchor": "y",
         "domain": [
          0,
          1
         ],
         "title": {
          "text": "Gender"
         }
        },
        "yaxis": {
         "anchor": "x",
         "domain": [
          0,
          1
         ],
         "title": {
          "text": "count"
         }
        }
       }
      },
      "text/html": [
       "<div>                            <div id=\"b4c2d16a-3005-46cf-9b95-674f3457f45c\" class=\"plotly-graph-div\" style=\"height:525px; width:100%;\"></div>            <script type=\"text/javascript\">                require([\"plotly\"], function(Plotly) {                    window.PLOTLYENV=window.PLOTLYENV || {};                                    if (document.getElementById(\"b4c2d16a-3005-46cf-9b95-674f3457f45c\")) {                    Plotly.newPlot(                        \"b4c2d16a-3005-46cf-9b95-674f3457f45c\",                        [{\"alignmentgroup\":\"True\",\"hovertemplate\":\"Gender=%{x}<br>count=%{y}<extra></extra>\",\"legendgroup\":\"\",\"marker\":{\"color\":\"#636efa\",\"pattern\":{\"shape\":\"\"}},\"name\":\"\",\"offsetgroup\":\"\",\"orientation\":\"v\",\"showlegend\":false,\"textposition\":\"auto\",\"x\":[\"M\",\"M\",\"M\",\"M\",\"M\",\"M\",\"M\",\"M\",\"M\",\"M\",\"M\",\"M\",\"M\",\"F\",\"F\",\"M\",\"M\",\"F\",\"F\",\"M\",\"M\",\"M\",\"M\",\"M\",\"M\",\"F\",\"M\",\"M\",\"F\",\"M\",\"M\",\"M\",\"M\",\"M\",\"M\",\"M\",\"M\",\"M\",\"M\",\"M\",\"M\",\"M\",\"M\",\"M\",\"M\",\"M\",\"M\",\"M\",\"M\",\"F\",\"F\",\"M\",\"M\",\"M\",\"M\",\"M\",\"M\",\"M\",\"M\",\"M\",\"M\",\"M\",\"M\",\"F\",\"M\",\"M\",\"M\",\"M\",\"F\",\"F\",\"F\",\"F\",\"M\",\"M\",\"M\",\"M\",\"M\",\"F\",\"M\",\"F\",\"M\",\"M\",\"F\",\"M\",\"M\",\"M\",\"M\",\"M\",\"M\",\"M\",\"M\",\"M\",\"M\",\"M\",\"M\",\"M\",\"F\",\"M\",\"M\",\"M\",\"M\",\"M\",\"M\",\"M\",\"M\",\"M\",\"M\",\"M\",\"M\",\"F\",\"M\",\"M\",\"M\",\"M\",\"M\",\"M\",\"M\",\"M\",\"F\",\"F\",\"M\",\"F\",\"M\",\"M\",\"F\",\"M\",\"M\",\"F\",\"M\",\"M\",\"M\",\"M\",\"M\",\"M\",\"F\",\"M\",\"M\",\"M\",\"M\",\"M\",\"M\",\"M\",\"M\",\"M\",\"M\",\"F\",\"M\",\"M\",\"M\",\"M\",\"M\",\"M\",\"M\",\"M\",\"M\",\"M\",\"M\",\"M\",\"M\",\"M\",\"M\",\"M\",\"M\",\"F\",\"M\",\"M\",\"M\",\"M\",\"M\",\"F\",\"M\",\"M\",\"M\",\"M\",\"M\",\"F\",\"M\",\"F\",\"M\",\"F\",\"M\",\"M\",\"M\",\"M\",\"M\",\"F\",\"M\",\"M\",\"M\",\"M\",\"M\",\"F\",\"M\",\"M\",\"M\",\"F\",\"M\",\"M\",\"M\",\"M\",\"F\",\"M\",\"M\",\"M\",\"M\",\"M\",\"F\",\"M\",\"M\",\"M\",\"M\",\"M\",\"M\",\"M\",\"M\",\"M\",\"M\",\"F\",\"F\",\"M\",\"M\",\"M\",\"M\",\"F\",\"M\",\"M\",\"M\",\"F\",\"M\",\"F\",\"M\",\"M\",\"M\",\"F\",\"M\",\"M\",\"M\",\"M\",\"M\",\"M\",\"M\",\"M\",\"M\",\"M\",\"M\",\"M\",\"M\",\"M\",\"F\",\"M\",\"M\",\"M\",\"M\",\"F\",\"M\",\"F\",\"M\",\"F\",\"M\",\"M\",\"M\",\"M\",\"M\",\"M\",\"M\",\"F\",\"M\",\"M\",\"M\",\"M\",\"M\",\"M\",\"M\",\"M\",\"M\",\"M\",\"M\",\"M\",\"M\",\"M\",\"F\",\"M\",\"M\",\"M\",\"M\",\"F\",\"M\",\"M\",\"M\",\"M\",\"M\",\"M\",\"F\",\"M\",\"M\",\"F\",\"M\",\"M\",\"M\",\"F\",\"M\",\"M\",\"M\",\"M\",\"M\",\"M\",\"M\",\"M\",\"M\",\"M\",\"M\",\"M\",\"M\",\"M\",\"M\",\"M\",\"M\",\"M\",\"M\",\"M\",\"M\",\"M\",\"M\",\"M\",\"M\",\"M\",\"M\",\"M\",\"M\",\"M\",\"M\",\"M\",\"M\",\"F\",\"M\",\"M\",\"M\",\"M\",\"M\",\"M\",\"M\",\"M\",\"M\",\"M\",\"F\",\"M\",\"M\",\"M\",\"M\",\"M\",\"M\",\"M\",\"M\",\"M\",\"M\",\"M\",\"M\",\"F\",\"M\",\"M\",\"M\",\"M\",\"M\",\"M\",\"F\",\"M\",\"F\",\"M\",\"M\",\"M\",\"M\",\"M\",\"M\",\"M\",\"M\",\"M\",\"M\",\"M\",\"M\",\"F\",\"M\",\"M\",\"M\",\"M\",\"M\",\"M\",\"M\",\"M\",\"M\",\"M\",\"M\",\"M\",\"M\",\"M\",\"M\",\"M\",\"M\",\"M\",\"F\",\"M\"],\"xaxis\":\"x\",\"y\":[1,1,1,1,1,1,1,1,1,1,1,1,1,1,1,1,1,1,1,1,1,1,1,1,1,1,1,1,1,1,1,1,1,1,1,1,1,1,1,1,1,1,1,1,1,1,1,1,1,1,1,1,1,1,1,1,1,1,1,1,1,1,1,1,1,1,1,1,1,1,1,1,1,1,1,1,1,1,1,1,1,1,1,1,1,1,1,1,1,1,1,1,1,1,1,1,1,1,1,1,1,1,1,1,1,1,1,1,1,1,1,1,1,1,1,1,1,1,1,1,1,1,1,1,1,1,1,1,1,1,1,1,1,1,1,1,1,1,1,1,1,1,1,1,1,1,1,1,1,1,1,1,1,1,1,1,1,1,1,1,1,1,1,1,1,1,1,1,1,1,1,1,1,1,1,1,1,1,1,1,1,1,1,1,1,1,1,1,1,1,1,1,1,1,1,1,1,1,1,1,1,1,1,1,1,1,1,1,1,1,1,1,1,1,1,1,1,1,1,1,1,1,1,1,1,1,1,1,1,1,1,1,1,1,1,1,1,1,1,1,1,1,1,1,1,1,1,1,1,1,1,1,1,1,1,1,1,1,1,1,1,1,1,1,1,1,1,1,1,1,1,1,1,1,1,1,1,1,1,1,1,1,1,1,1,1,1,1,1,1,1,1,1,1,1,1,1,1,1,1,1,1,1,1,1,1,1,1,1,1,1,1,1,1,1,1,1,1,1,1,1,1,1,1,1,1,1,1,1,1,1,1,1,1,1,1,1,1,1,1,1,1,1,1,1,1,1,1,1,1,1,1,1,1,1,1,1,1,1,1,1,1,1,1,1,1,1,1,1,1,1,1,1,1,1,1,1,1,1,1,1,1,1,1,1,1,1,1,1,1,1,1,1,1,1,1,1,1,1,1],\"yaxis\":\"y\",\"type\":\"bar\"}],                        {\"template\":{\"data\":{\"bar\":[{\"error_x\":{\"color\":\"#2a3f5f\"},\"error_y\":{\"color\":\"#2a3f5f\"},\"marker\":{\"line\":{\"color\":\"#E5ECF6\",\"width\":0.5},\"pattern\":{\"fillmode\":\"overlay\",\"size\":10,\"solidity\":0.2}},\"type\":\"bar\"}],\"barpolar\":[{\"marker\":{\"line\":{\"color\":\"#E5ECF6\",\"width\":0.5},\"pattern\":{\"fillmode\":\"overlay\",\"size\":10,\"solidity\":0.2}},\"type\":\"barpolar\"}],\"carpet\":[{\"aaxis\":{\"endlinecolor\":\"#2a3f5f\",\"gridcolor\":\"white\",\"linecolor\":\"white\",\"minorgridcolor\":\"white\",\"startlinecolor\":\"#2a3f5f\"},\"baxis\":{\"endlinecolor\":\"#2a3f5f\",\"gridcolor\":\"white\",\"linecolor\":\"white\",\"minorgridcolor\":\"white\",\"startlinecolor\":\"#2a3f5f\"},\"type\":\"carpet\"}],\"choropleth\":[{\"colorbar\":{\"outlinewidth\":0,\"ticks\":\"\"},\"type\":\"choropleth\"}],\"contour\":[{\"colorbar\":{\"outlinewidth\":0,\"ticks\":\"\"},\"colorscale\":[[0.0,\"#0d0887\"],[0.1111111111111111,\"#46039f\"],[0.2222222222222222,\"#7201a8\"],[0.3333333333333333,\"#9c179e\"],[0.4444444444444444,\"#bd3786\"],[0.5555555555555556,\"#d8576b\"],[0.6666666666666666,\"#ed7953\"],[0.7777777777777778,\"#fb9f3a\"],[0.8888888888888888,\"#fdca26\"],[1.0,\"#f0f921\"]],\"type\":\"contour\"}],\"contourcarpet\":[{\"colorbar\":{\"outlinewidth\":0,\"ticks\":\"\"},\"type\":\"contourcarpet\"}],\"heatmap\":[{\"colorbar\":{\"outlinewidth\":0,\"ticks\":\"\"},\"colorscale\":[[0.0,\"#0d0887\"],[0.1111111111111111,\"#46039f\"],[0.2222222222222222,\"#7201a8\"],[0.3333333333333333,\"#9c179e\"],[0.4444444444444444,\"#bd3786\"],[0.5555555555555556,\"#d8576b\"],[0.6666666666666666,\"#ed7953\"],[0.7777777777777778,\"#fb9f3a\"],[0.8888888888888888,\"#fdca26\"],[1.0,\"#f0f921\"]],\"type\":\"heatmap\"}],\"heatmapgl\":[{\"colorbar\":{\"outlinewidth\":0,\"ticks\":\"\"},\"colorscale\":[[0.0,\"#0d0887\"],[0.1111111111111111,\"#46039f\"],[0.2222222222222222,\"#7201a8\"],[0.3333333333333333,\"#9c179e\"],[0.4444444444444444,\"#bd3786\"],[0.5555555555555556,\"#d8576b\"],[0.6666666666666666,\"#ed7953\"],[0.7777777777777778,\"#fb9f3a\"],[0.8888888888888888,\"#fdca26\"],[1.0,\"#f0f921\"]],\"type\":\"heatmapgl\"}],\"histogram\":[{\"marker\":{\"pattern\":{\"fillmode\":\"overlay\",\"size\":10,\"solidity\":0.2}},\"type\":\"histogram\"}],\"histogram2d\":[{\"colorbar\":{\"outlinewidth\":0,\"ticks\":\"\"},\"colorscale\":[[0.0,\"#0d0887\"],[0.1111111111111111,\"#46039f\"],[0.2222222222222222,\"#7201a8\"],[0.3333333333333333,\"#9c179e\"],[0.4444444444444444,\"#bd3786\"],[0.5555555555555556,\"#d8576b\"],[0.6666666666666666,\"#ed7953\"],[0.7777777777777778,\"#fb9f3a\"],[0.8888888888888888,\"#fdca26\"],[1.0,\"#f0f921\"]],\"type\":\"histogram2d\"}],\"histogram2dcontour\":[{\"colorbar\":{\"outlinewidth\":0,\"ticks\":\"\"},\"colorscale\":[[0.0,\"#0d0887\"],[0.1111111111111111,\"#46039f\"],[0.2222222222222222,\"#7201a8\"],[0.3333333333333333,\"#9c179e\"],[0.4444444444444444,\"#bd3786\"],[0.5555555555555556,\"#d8576b\"],[0.6666666666666666,\"#ed7953\"],[0.7777777777777778,\"#fb9f3a\"],[0.8888888888888888,\"#fdca26\"],[1.0,\"#f0f921\"]],\"type\":\"histogram2dcontour\"}],\"mesh3d\":[{\"colorbar\":{\"outlinewidth\":0,\"ticks\":\"\"},\"type\":\"mesh3d\"}],\"parcoords\":[{\"line\":{\"colorbar\":{\"outlinewidth\":0,\"ticks\":\"\"}},\"type\":\"parcoords\"}],\"pie\":[{\"automargin\":true,\"type\":\"pie\"}],\"scatter\":[{\"marker\":{\"colorbar\":{\"outlinewidth\":0,\"ticks\":\"\"}},\"type\":\"scatter\"}],\"scatter3d\":[{\"line\":{\"colorbar\":{\"outlinewidth\":0,\"ticks\":\"\"}},\"marker\":{\"colorbar\":{\"outlinewidth\":0,\"ticks\":\"\"}},\"type\":\"scatter3d\"}],\"scattercarpet\":[{\"marker\":{\"colorbar\":{\"outlinewidth\":0,\"ticks\":\"\"}},\"type\":\"scattercarpet\"}],\"scattergeo\":[{\"marker\":{\"colorbar\":{\"outlinewidth\":0,\"ticks\":\"\"}},\"type\":\"scattergeo\"}],\"scattergl\":[{\"marker\":{\"colorbar\":{\"outlinewidth\":0,\"ticks\":\"\"}},\"type\":\"scattergl\"}],\"scattermapbox\":[{\"marker\":{\"colorbar\":{\"outlinewidth\":0,\"ticks\":\"\"}},\"type\":\"scattermapbox\"}],\"scatterpolar\":[{\"marker\":{\"colorbar\":{\"outlinewidth\":0,\"ticks\":\"\"}},\"type\":\"scatterpolar\"}],\"scatterpolargl\":[{\"marker\":{\"colorbar\":{\"outlinewidth\":0,\"ticks\":\"\"}},\"type\":\"scatterpolargl\"}],\"scatterternary\":[{\"marker\":{\"colorbar\":{\"outlinewidth\":0,\"ticks\":\"\"}},\"type\":\"scatterternary\"}],\"surface\":[{\"colorbar\":{\"outlinewidth\":0,\"ticks\":\"\"},\"colorscale\":[[0.0,\"#0d0887\"],[0.1111111111111111,\"#46039f\"],[0.2222222222222222,\"#7201a8\"],[0.3333333333333333,\"#9c179e\"],[0.4444444444444444,\"#bd3786\"],[0.5555555555555556,\"#d8576b\"],[0.6666666666666666,\"#ed7953\"],[0.7777777777777778,\"#fb9f3a\"],[0.8888888888888888,\"#fdca26\"],[1.0,\"#f0f921\"]],\"type\":\"surface\"}],\"table\":[{\"cells\":{\"fill\":{\"color\":\"#EBF0F8\"},\"line\":{\"color\":\"white\"}},\"header\":{\"fill\":{\"color\":\"#C8D4E3\"},\"line\":{\"color\":\"white\"}},\"type\":\"table\"}]},\"layout\":{\"annotationdefaults\":{\"arrowcolor\":\"#2a3f5f\",\"arrowhead\":0,\"arrowwidth\":1},\"autotypenumbers\":\"strict\",\"coloraxis\":{\"colorbar\":{\"outlinewidth\":0,\"ticks\":\"\"}},\"colorscale\":{\"diverging\":[[0,\"#8e0152\"],[0.1,\"#c51b7d\"],[0.2,\"#de77ae\"],[0.3,\"#f1b6da\"],[0.4,\"#fde0ef\"],[0.5,\"#f7f7f7\"],[0.6,\"#e6f5d0\"],[0.7,\"#b8e186\"],[0.8,\"#7fbc41\"],[0.9,\"#4d9221\"],[1,\"#276419\"]],\"sequential\":[[0.0,\"#0d0887\"],[0.1111111111111111,\"#46039f\"],[0.2222222222222222,\"#7201a8\"],[0.3333333333333333,\"#9c179e\"],[0.4444444444444444,\"#bd3786\"],[0.5555555555555556,\"#d8576b\"],[0.6666666666666666,\"#ed7953\"],[0.7777777777777778,\"#fb9f3a\"],[0.8888888888888888,\"#fdca26\"],[1.0,\"#f0f921\"]],\"sequentialminus\":[[0.0,\"#0d0887\"],[0.1111111111111111,\"#46039f\"],[0.2222222222222222,\"#7201a8\"],[0.3333333333333333,\"#9c179e\"],[0.4444444444444444,\"#bd3786\"],[0.5555555555555556,\"#d8576b\"],[0.6666666666666666,\"#ed7953\"],[0.7777777777777778,\"#fb9f3a\"],[0.8888888888888888,\"#fdca26\"],[1.0,\"#f0f921\"]]},\"colorway\":[\"#636efa\",\"#EF553B\",\"#00cc96\",\"#ab63fa\",\"#FFA15A\",\"#19d3f3\",\"#FF6692\",\"#B6E880\",\"#FF97FF\",\"#FECB52\"],\"font\":{\"color\":\"#2a3f5f\"},\"geo\":{\"bgcolor\":\"white\",\"lakecolor\":\"white\",\"landcolor\":\"#E5ECF6\",\"showlakes\":true,\"showland\":true,\"subunitcolor\":\"white\"},\"hoverlabel\":{\"align\":\"left\"},\"hovermode\":\"closest\",\"mapbox\":{\"style\":\"light\"},\"paper_bgcolor\":\"white\",\"plot_bgcolor\":\"#E5ECF6\",\"polar\":{\"angularaxis\":{\"gridcolor\":\"white\",\"linecolor\":\"white\",\"ticks\":\"\"},\"bgcolor\":\"#E5ECF6\",\"radialaxis\":{\"gridcolor\":\"white\",\"linecolor\":\"white\",\"ticks\":\"\"}},\"scene\":{\"xaxis\":{\"backgroundcolor\":\"#E5ECF6\",\"gridcolor\":\"white\",\"gridwidth\":2,\"linecolor\":\"white\",\"showbackground\":true,\"ticks\":\"\",\"zerolinecolor\":\"white\"},\"yaxis\":{\"backgroundcolor\":\"#E5ECF6\",\"gridcolor\":\"white\",\"gridwidth\":2,\"linecolor\":\"white\",\"showbackground\":true,\"ticks\":\"\",\"zerolinecolor\":\"white\"},\"zaxis\":{\"backgroundcolor\":\"#E5ECF6\",\"gridcolor\":\"white\",\"gridwidth\":2,\"linecolor\":\"white\",\"showbackground\":true,\"ticks\":\"\",\"zerolinecolor\":\"white\"}},\"shapedefaults\":{\"line\":{\"color\":\"#2a3f5f\"}},\"ternary\":{\"aaxis\":{\"gridcolor\":\"white\",\"linecolor\":\"white\",\"ticks\":\"\"},\"baxis\":{\"gridcolor\":\"white\",\"linecolor\":\"white\",\"ticks\":\"\"},\"bgcolor\":\"#E5ECF6\",\"caxis\":{\"gridcolor\":\"white\",\"linecolor\":\"white\",\"ticks\":\"\"}},\"title\":{\"x\":0.05},\"xaxis\":{\"automargin\":true,\"gridcolor\":\"white\",\"linecolor\":\"white\",\"ticks\":\"\",\"title\":{\"standoff\":15},\"zerolinecolor\":\"white\",\"zerolinewidth\":2},\"yaxis\":{\"automargin\":true,\"gridcolor\":\"white\",\"linecolor\":\"white\",\"ticks\":\"\",\"title\":{\"standoff\":15},\"zerolinecolor\":\"white\",\"zerolinewidth\":2}}},\"xaxis\":{\"anchor\":\"y\",\"domain\":[0.0,1.0],\"title\":{\"text\":\"Gender\"}},\"yaxis\":{\"anchor\":\"x\",\"domain\":[0.0,1.0],\"title\":{\"text\":\"count\"}},\"legend\":{\"tracegroupgap\":0},\"title\":{\"text\":\"Gender Distribution of Forbes 400\"},\"barmode\":\"relative\"},                        {\"responsive\": true}                    ).then(function(){\n",
       "                            \n",
       "var gd = document.getElementById('b4c2d16a-3005-46cf-9b95-674f3457f45c');\n",
       "var x = new MutationObserver(function (mutations, observer) {{\n",
       "        var display = window.getComputedStyle(gd).display;\n",
       "        if (!display || display === 'none') {{\n",
       "            console.log([gd, 'removed!']);\n",
       "            Plotly.purge(gd);\n",
       "            observer.disconnect();\n",
       "        }}\n",
       "}});\n",
       "\n",
       "// Listen for the removal of the full notebook cells\n",
       "var notebookContainer = gd.closest('#notebook-container');\n",
       "if (notebookContainer) {{\n",
       "    x.observe(notebookContainer, {childList: true});\n",
       "}}\n",
       "\n",
       "// Listen for the clearing of the current output cell\n",
       "var outputEl = gd.closest('.output');\n",
       "if (outputEl) {{\n",
       "    x.observe(outputEl, {childList: true});\n",
       "}}\n",
       "\n",
       "                        })                };                });            </script>        </div>"
      ]
     },
     "metadata": {},
     "output_type": "display_data"
    }
   ],
   "source": [
    "fig1 = px.bar(x=df['gender'],\n",
    "              title='Gender Distribution of Forbes 400',\n",
    "             labels={'x':\"Gender\"})\n",
    "\n",
    "fig1.show()"
   ]
  },
  {
   "cell_type": "code",
   "execution_count": 29,
   "id": "497e2014",
   "metadata": {},
   "outputs": [
    {
     "data": {
      "application/vnd.plotly.v1+json": {
       "config": {
        "plotlyServerURL": "https://plot.ly"
       },
       "data": [
        {
         "hovertemplate": "finalName=Elon<br>birthYear=%{x}<br>pctYB=%{y}<extra></extra>",
         "legendgroup": "Elon",
         "marker": {
          "color": "#636efa",
          "symbol": "circle"
         },
         "mode": "markers",
         "name": "Elon",
         "orientation": "v",
         "showlegend": true,
         "type": "scatter",
         "x": [
          "1971"
         ],
         "xaxis": "x",
         "y": [
          5.49952456610126e-06
         ],
         "yaxis": "y"
        },
        {
         "hovertemplate": "finalName=Jeffrey<br>birthYear=%{x}<br>pctYB=%{y}<extra></extra>",
         "legendgroup": "Jeffrey",
         "marker": {
          "color": "#EF553B",
          "symbol": "circle"
         },
         "mode": "markers",
         "name": "Jeffrey",
         "orientation": "v",
         "showlegend": true,
         "type": "scatter",
         "x": [
          "1964",
          "1958",
          "1951",
          "1977",
          "1975"
         ],
         "xaxis": "x",
         "y": [
          0.015158727613992595,
          0.011243191238724422,
          0.005081805827416329,
          0.010225087606847604,
          0.0112881601549696
         ],
         "yaxis": "y"
        },
        {
         "hovertemplate": "finalName=William<br>birthYear=%{x}<br>pctYB=%{y}<extra></extra>",
         "legendgroup": "William",
         "marker": {
          "color": "#00cc96",
          "symbol": "circle"
         },
         "mode": "markers",
         "name": "William",
         "orientation": "v",
         "showlegend": true,
         "type": "scatter",
         "x": [
          "1955",
          "1946",
          "1960",
          "1966",
          "1949",
          "1963",
          "1958"
         ],
         "xaxis": "x",
         "y": [
          0.028696355190707866,
          0.03637774931195246,
          0.02278847552654245,
          0.02103878629114996,
          0.034127416197869756,
          0.02153199484750753,
          0.025170651435533667
         ],
         "yaxis": "y"
        },
        {
         "hovertemplate": "finalName=Lawrence<br>birthYear=%{x}<br>pctYB=%{y}<extra></extra>",
         "legendgroup": "Lawrence",
         "marker": {
          "color": "#ab63fa",
          "symbol": "circle"
         },
         "mode": "markers",
         "name": "Lawrence",
         "orientation": "v",
         "showlegend": true,
         "type": "scatter",
         "x": [
          "1944",
          "1973"
         ],
         "xaxis": "x",
         "y": [
          0.005131320926402115,
          0.0015649112938148832
         ],
         "yaxis": "y"
        },
        {
         "hovertemplate": "finalName=Warren<br>birthYear=%{x}<br>pctYB=%{y}<extra></extra>",
         "legendgroup": "Warren",
         "marker": {
          "color": "#FFA15A",
          "symbol": "circle"
         },
         "mode": "markers",
         "name": "Warren",
         "orientation": "v",
         "showlegend": true,
         "type": "scatter",
         "x": [
          "1930",
          "1957"
         ],
         "xaxis": "x",
         "y": [
          0.001781265548447413,
          0.0010676372903402134
         ],
         "yaxis": "y"
        },
        {
         "hovertemplate": "finalName=Sergey<br>birthYear=%{x}<br>pctYB=%{y}<extra></extra>",
         "legendgroup": "Sergey",
         "marker": {
          "color": "#19d3f3",
          "symbol": "circle"
         },
         "mode": "markers",
         "name": "Sergey",
         "orientation": "v",
         "showlegend": true,
         "type": "scatter",
         "x": [
          "1973"
         ],
         "xaxis": "x",
         "y": [
          0
         ],
         "yaxis": "y"
        },
        {
         "hovertemplate": "finalName=Steven<br>birthYear=%{x}<br>pctYB=%{y}<extra></extra>",
         "legendgroup": "Steven",
         "marker": {
          "color": "#FF6692",
          "symbol": "circle"
         },
         "mode": "markers",
         "name": "Steven",
         "orientation": "v",
         "showlegend": true,
         "type": "scatter",
         "x": [
          "1956",
          "1956",
          "1951",
          "1946",
          "1946",
          "1965",
          "1956"
         ],
         "xaxis": "x",
         "y": [
          0.01789194950786191,
          0.01789194950786191,
          0.014837931456561152,
          0.0053789502897010405,
          0.0053789502897010405,
          0.014766717838112824,
          0.01789194950786191
         ],
         "yaxis": "y"
        },
        {
         "hovertemplate": "finalName=Michael<br>birthYear=%{x}<br>pctYB=%{y}<extra></extra>",
         "legendgroup": "Michael",
         "marker": {
          "color": "#B6E880",
          "symbol": "circle"
         },
         "mode": "markers",
         "name": "Michael",
         "orientation": "v",
         "showlegend": true,
         "type": "scatter",
         "x": [
          "1942",
          "1965",
          "1972",
          "1963",
          "1946",
          "1954",
          "1969"
         ],
         "xaxis": "x",
         "y": [
          0.015428368542517308,
          0.04275181707887914,
          0.042635334866083424,
          0.04057006711799401,
          0.02495512996857583,
          0.04280379603993603,
          0.04656144054016977
         ],
         "yaxis": "y"
        },
        {
         "hovertemplate": "finalName=James<br>birthYear=%{x}<br>pctYB=%{y}<extra></extra>",
         "legendgroup": "James",
         "marker": {
          "color": "#FF97FF",
          "symbol": "circle"
         },
         "mode": "markers",
         "name": "James",
         "orientation": "v",
         "showlegend": true,
         "type": "scatter",
         "x": [
          "1948",
          "1938",
          "1947",
          "1943",
          "1957",
          "1954",
          "1960",
          "1949",
          "1943",
          "1959",
          "1959",
          "1944",
          "1937"
         ],
         "xaxis": "x",
         "y": [
          0.049696977176244626,
          0.05200354433632126,
          0.051014755528949296,
          0.0551888520925014,
          0.038528634937059214,
          0.04171352434674313,
          0.03547860463075641,
          0.04820214511699251,
          0.0551888520925014,
          0.03628829015123121,
          0.03628829015123121,
          0.05539926111282283,
          0.051712802562505884
         ],
         "yaxis": "y"
        },
        {
         "hovertemplate": "finalName=Mark<br>birthYear=%{x}<br>pctYB=%{y}<extra></extra>",
         "legendgroup": "Mark",
         "marker": {
          "color": "#FECB52",
          "symbol": "circle"
         },
         "mode": "markers",
         "name": "Mark",
         "orientation": "v",
         "showlegend": true,
         "type": "scatter",
         "x": [
          "1984",
          "1960",
          "1957",
          "1950",
          "1958",
          "1960"
         ],
         "xaxis": "x",
         "y": [
          0.0070412629945826605,
          0.02712273790528355,
          0.024131984831872264,
          0.009129169083427025,
          0.024456982279924537,
          0.02712273790528355
         ],
         "yaxis": "y"
        },
        {
         "hovertemplate": "finalName=Robert<br>birthYear=%{x}<br>pctYB=%{y}<extra></extra>",
         "legendgroup": "Robert",
         "marker": {
          "color": "#636efa",
          "symbol": "circle"
         },
         "mode": "markers",
         "name": "Robert",
         "orientation": "v",
         "showlegend": true,
         "type": "scatter",
         "x": [
          "1944",
          "1978",
          "1941",
          "1962",
          "1966",
          "1963",
          "1941",
          "1966",
          "1948",
          "1953",
          "1958",
          "1950",
          "1988"
         ],
         "xaxis": "x",
         "y": [
          0.051001500234681627,
          0.019531878471171975,
          0.05119837167453255,
          0.03339286291956941,
          0.03263281060471451,
          0.033905724884020494,
          0.05119837167453255,
          0.03263281060471451,
          0.04794682684281855,
          0.04307640980973462,
          0.03588590394301048,
          0.04593723112109275,
          0.015143675118222556
         ],
         "yaxis": "y"
        },
        {
         "hovertemplate": "finalName=Charles<br>birthYear=%{x}<br>pctYB=%{y}<extra></extra>",
         "legendgroup": "Charles",
         "marker": {
          "color": "#EF553B",
          "symbol": "circle"
         },
         "mode": "markers",
         "name": "Charles",
         "orientation": "v",
         "showlegend": true,
         "type": "scatter",
         "x": [
          "1935",
          "1937",
          "1938",
          "1948",
          "1933",
          "1926",
          "1953",
          "1952",
          "1948"
         ],
         "xaxis": "x",
         "y": [
          0.028033468500097705,
          0.027911051126674146,
          0.027406131842623725,
          0.021697376569525844,
          0.02841697176437145,
          0.025773767380465783,
          0.01918835553495657,
          0.019696595004601344,
          0.021697376569525844
         ],
         "yaxis": "y"
        },
        {
         "hovertemplate": "finalName=Julia<br>birthYear=%{x}<br>pctYB=%{y}<extra></extra>",
         "legendgroup": "Julia",
         "marker": {
          "color": "#00cc96",
          "symbol": "circle"
         },
         "mode": "markers",
         "name": "Julia",
         "orientation": "v",
         "showlegend": true,
         "type": "scatter",
         "x": [
          "1962"
         ],
         "xaxis": "x",
         "y": [
          0.0018500410955795364
         ],
         "yaxis": "y"
        },
        {
         "hovertemplate": "finalName=Alice<br>birthYear=%{x}<br>pctYB=%{y}<extra></extra>",
         "legendgroup": "Alice",
         "marker": {
          "color": "#ab63fa",
          "symbol": "circle"
         },
         "mode": "markers",
         "name": "Alice",
         "orientation": "v",
         "showlegend": true,
         "type": "scatter",
         "x": [
          "1949"
         ],
         "xaxis": "x",
         "y": [
          0.003793167286139474
         ],
         "yaxis": "y"
        },
        {
         "hovertemplate": "finalName=Phil<br>birthYear=%{x}<br>pctYB=%{y}<extra></extra>",
         "legendgroup": "Phil",
         "marker": {
          "color": "#FFA15A",
          "symbol": "circle"
         },
         "mode": "markers",
         "name": "Phil",
         "orientation": "v",
         "showlegend": true,
         "type": "scatter",
         "x": [
          "1938"
         ],
         "xaxis": "x",
         "y": [
          0.00027277662849847025
         ],
         "yaxis": "y"
        },
        {
         "hovertemplate": "finalName=MacKenzie<br>birthYear=%{x}<br>pctYB=%{y}<extra></extra>",
         "legendgroup": "MacKenzie",
         "marker": {
          "color": "#19d3f3",
          "symbol": "circle"
         },
         "mode": "markers",
         "name": "MacKenzie",
         "orientation": "v",
         "showlegend": true,
         "type": "scatter",
         "x": [
          "1970"
         ],
         "xaxis": "x",
         "y": [
          0
         ],
         "yaxis": "y"
        },
        {
         "hovertemplate": "finalName=Jacqueline<br>birthYear=%{x}<br>pctYB=%{y}<extra></extra>",
         "legendgroup": "Jacqueline",
         "marker": {
          "color": "#FF6692",
          "symbol": "circle"
         },
         "mode": "markers",
         "name": "Jacqueline",
         "orientation": "v",
         "showlegend": true,
         "type": "scatter",
         "x": [
          "1939"
         ],
         "xaxis": "x",
         "y": [
          0.002986567061524869
         ],
         "yaxis": "y"
        },
        {
         "hovertemplate": "finalName=John<br>birthYear=%{x}<br>pctYB=%{y}<extra></extra>",
         "legendgroup": "John",
         "marker": {
          "color": "#B6E880",
          "symbol": "circle"
         },
         "mode": "markers",
         "name": "John",
         "orientation": "v",
         "showlegend": true,
         "type": "scatter",
         "x": [
          "1935",
          "1940",
          "1951",
          "1941",
          "1948",
          "1969",
          "1939",
          "1941",
          "1934",
          "1948",
          "1949",
          "1948",
          "1955",
          "1974",
          "1955"
         ],
         "xaxis": "x",
         "y": [
          0.04441523155216761,
          0.04618396359240081,
          0.0426699070262308,
          0.04583968899876154,
          0.046464247569983574,
          0.03211329835755203,
          0.04501968618578606,
          0.04583968899876154,
          0.0440145968216598,
          0.046464247569983574,
          0.045045570000993365,
          0.046464247569983574,
          0.03833149155412678,
          0.023078333508104152,
          0.03833149155412678
         ],
         "yaxis": "y"
        },
        {
         "hovertemplate": "finalName=Kenneth<br>birthYear=%{x}<br>pctYB=%{y}<extra></extra>",
         "legendgroup": "Kenneth",
         "marker": {
          "color": "#FF97FF",
          "symbol": "circle"
         },
         "mode": "markers",
         "name": "Kenneth",
         "orientation": "v",
         "showlegend": true,
         "type": "scatter",
         "x": [
          "1968",
          "1950",
          "1935",
          "1963",
          "1948"
         ],
         "xaxis": "x",
         "y": [
          0.010183235164934173,
          0.013094763578986143,
          0.011280518875818924,
          0.012219736370592052,
          0.013210830289268437
         ],
         "yaxis": "y"
        },
        {
         "hovertemplate": "finalName=Leonard<br>birthYear=%{x}<br>pctYB=%{y}<extra></extra>",
         "legendgroup": "Leonard",
         "marker": {
          "color": "#FECB52",
          "symbol": "circle"
         },
         "mode": "markers",
         "name": "Leonard",
         "orientation": "v",
         "showlegend": true,
         "type": "scatter",
         "x": [
          "1957",
          "1933",
          "1938"
         ],
         "xaxis": "x",
         "y": [
          0.00198125327638049,
          0.0038778040807124336,
          0.0032284433869706045
         ],
         "yaxis": "y"
        },
        {
         "hovertemplate": "finalName=Stephen<br>birthYear=%{x}<br>pctYB=%{y}<extra></extra>",
         "legendgroup": "Stephen",
         "marker": {
          "color": "#636efa",
          "symbol": "circle"
         },
         "mode": "markers",
         "name": "Stephen",
         "orientation": "v",
         "showlegend": true,
         "type": "scatter",
         "x": [
          "1947",
          "1940",
          "1960",
          "1960",
          "1956",
          "1965"
         ],
         "xaxis": "x",
         "y": [
          0.008251231063002108,
          0.003727260004417743,
          0.007505640083036801,
          0.007505640083036801,
          0.009877701541821488,
          0.00773165545873029
         ],
         "yaxis": "y"
        },
        {
         "hovertemplate": "finalName=Miriam<br>birthYear=%{x}<br>pctYB=%{y}<extra></extra>",
         "legendgroup": "Miriam",
         "marker": {
          "color": "#EF553B",
          "symbol": "circle"
         },
         "mode": "markers",
         "name": "Miriam",
         "orientation": "v",
         "showlegend": true,
         "type": "scatter",
         "x": [
          "1945"
         ],
         "xaxis": "x",
         "y": [
          0.0004992210813930943
         ],
         "yaxis": "y"
        },
        {
         "hovertemplate": "finalName=Harold<br>birthYear=%{x}<br>pctYB=%{y}<extra></extra>",
         "legendgroup": "Harold",
         "marker": {
          "color": "#00cc96",
          "symbol": "circle"
         },
         "mode": "markers",
         "name": "Harold",
         "orientation": "v",
         "showlegend": true,
         "type": "scatter",
         "x": [
          "1945"
         ],
         "xaxis": "x",
         "y": [
          0.00548632029347876
         ],
         "yaxis": "y"
        },
        {
         "hovertemplate": "finalName=Abigail<br>birthYear=%{x}<br>pctYB=%{y}<extra></extra>",
         "legendgroup": "Abigail",
         "marker": {
          "color": "#ab63fa",
          "symbol": "circle"
         },
         "mode": "markers",
         "name": "Abigail",
         "orientation": "v",
         "showlegend": true,
         "type": "scatter",
         "x": [
          "1961"
         ],
         "xaxis": "x",
         "y": [
          0.00011219869473913322
         ],
         "yaxis": "y"
        },
        {
         "hovertemplate": "finalName=Lukas<br>birthYear=%{x}<br>pctYB=%{y}<extra></extra>",
         "legendgroup": "Lukas",
         "marker": {
          "color": "#FFA15A",
          "symbol": "circle"
         },
         "mode": "markers",
         "name": "Lukas",
         "orientation": "v",
         "showlegend": true,
         "type": "scatter",
         "x": [
          "1986"
         ],
         "xaxis": "x",
         "y": [
          7.90950279928752e-05
         ],
         "yaxis": "y"
        },
        {
         "hovertemplate": "finalName=Thomas<br>birthYear=%{x}<br>pctYB=%{y}<extra></extra>",
         "legendgroup": "Thomas",
         "marker": {
          "color": "#19d3f3",
          "symbol": "circle"
         },
         "mode": "markers",
         "name": "Thomas",
         "orientation": "v",
         "showlegend": true,
         "type": "scatter",
         "x": [
          "1944",
          "1938",
          "1964",
          "1937",
          "1941",
          "1950",
          "1936",
          "1954",
          "1952",
          "1970"
         ],
         "xaxis": "x",
         "y": [
          0.022748280201221497,
          0.01881454796952997,
          0.016992277582792155,
          0.018076712413943822,
          0.021232305747753002,
          0.025068516874256073,
          0.017236049501964237,
          0.022793250947584318,
          0.02465317614435656,
          0.014005671336448387
         ],
         "yaxis": "y"
        },
        {
         "hovertemplate": "finalName=Raymond<br>birthYear=%{x}<br>pctYB=%{y}<extra></extra>",
         "legendgroup": "Raymond",
         "marker": {
          "color": "#FF6692",
          "symbol": "circle"
         },
         "mode": "markers",
         "name": "Raymond",
         "orientation": "v",
         "showlegend": true,
         "type": "scatter",
         "x": [
          "1949"
         ],
         "xaxis": "x",
         "y": [
          0.006273748538391401
         ],
         "yaxis": "y"
        },
        {
         "hovertemplate": "finalName=David<br>birthYear=%{x}<br>pctYB=%{y}<extra></extra>",
         "legendgroup": "David",
         "marker": {
          "color": "#B6E880",
          "symbol": "circle"
         },
         "mode": "markers",
         "name": "David",
         "orientation": "v",
         "showlegend": true,
         "type": "scatter",
         "x": [
          "1957",
          "1941",
          "1940",
          "1951",
          "1943",
          "1961",
          "1942",
          "1951",
          "1951",
          "1949",
          "1966",
          "1926",
          "1963"
         ],
         "xaxis": "x",
         "y": [
          0.03764609743378569,
          0.02434757799337895,
          0.02334406294103662,
          0.03389091091696387,
          0.025603089888219802,
          0.03930923272351361,
          0.025489792295402096,
          0.03389091091696387,
          0.03389091091696387,
          0.03308132898027862,
          0.036538559922721175,
          0.007891977682464881,
          0.03799430513990179
         ],
         "yaxis": "y"
        },
        {
         "hovertemplate": "finalName=Eric<br>birthYear=%{x}<br>pctYB=%{y}<extra></extra>",
         "legendgroup": "Eric",
         "marker": {
          "color": "#FF97FF",
          "symbol": "circle"
         },
         "mode": "markers",
         "name": "Eric",
         "orientation": "v",
         "showlegend": true,
         "type": "scatter",
         "x": [
          "1955",
          "1960",
          "1970",
          "1969"
         ],
         "xaxis": "x",
         "y": [
          0.002228313647823113,
          0.004863056243808609,
          0.012368719792628312,
          0.011339345786373
         ],
         "yaxis": "y"
        },
        {
         "hovertemplate": "finalName=Rupert<br>birthYear=%{x}<br>pctYB=%{y}<extra></extra>",
         "legendgroup": "Rupert",
         "marker": {
          "color": "#FECB52",
          "symbol": "circle"
         },
         "mode": "markers",
         "name": "Rupert",
         "orientation": "v",
         "showlegend": true,
         "type": "scatter",
         "x": [
          "1931",
          "1940"
         ],
         "xaxis": "x",
         "y": [
          8.693522484440464e-05,
          4.721252210979272e-05
         ],
         "yaxis": "y"
        },
        {
         "hovertemplate": "finalName=Carl<br>birthYear=%{x}<br>pctYB=%{y}<extra></extra>",
         "legendgroup": "Carl",
         "marker": {
          "color": "#636efa",
          "symbol": "circle"
         },
         "mode": "markers",
         "name": "Carl",
         "orientation": "v",
         "showlegend": true,
         "type": "scatter",
         "x": [
          "1936",
          "1962",
          "1948"
         ],
         "xaxis": "x",
         "y": [
          0.0061900945333046445,
          0.003261123976944258,
          0.0043916432565361384
         ],
         "yaxis": "y"
        },
        {
         "hovertemplate": "finalName=Donald<br>birthYear=%{x}<br>pctYB=%{y}<extra></extra>",
         "legendgroup": "Donald",
         "marker": {
          "color": "#EF553B",
          "symbol": "circle"
         },
         "mode": "markers",
         "name": "Donald",
         "orientation": "v",
         "showlegend": true,
         "type": "scatter",
         "x": [
          "1932",
          "1929",
          "1943",
          "1954",
          "1934",
          "1946"
         ],
         "xaxis": "x",
         "y": [
          0.02772299344294337,
          0.024542159265829755,
          0.016788685993134652,
          0.014149851464980096,
          0.028634255444379045,
          0.01591628785170409
         ],
         "yaxis": "y"
        },
        {
         "hovertemplate": "finalName=Daniel<br>birthYear=%{x}<br>pctYB=%{y}<extra></extra>",
         "legendgroup": "Daniel",
         "marker": {
          "color": "#00cc96",
          "symbol": "circle"
         },
         "mode": "markers",
         "name": "Daniel",
         "orientation": "v",
         "showlegend": true,
         "type": "scatter",
         "x": [
          "1962",
          "1953",
          "1971",
          "1965",
          "1964",
          "1961",
          "1946",
          "1961",
          "1977"
         ],
         "xaxis": "x",
         "y": [
          0.012154882218953434,
          0.011732266003947547,
          0.011980164314794987,
          0.013110198386542666,
          0.01200809978221353,
          0.012002535929925225,
          0.007797266230468963,
          0.012002535929925225,
          0.015251077248419802
         ],
         "yaxis": "y"
        },
        {
         "hovertemplate": "finalName=Samuel<br>birthYear=%{x}<br>pctYB=%{y}<extra></extra>",
         "legendgroup": "Samuel",
         "marker": {
          "color": "#ab63fa",
          "symbol": "circle"
         },
         "mode": "markers",
         "name": "Samuel",
         "orientation": "v",
         "showlegend": true,
         "type": "scatter",
         "x": [
          "1992",
          "1941"
         ],
         "xaxis": "x",
         "y": [
          0.005403898925222959,
          0.0028172134531306535
         ],
         "yaxis": "y"
        },
        {
         "hovertemplate": "finalName=Jerral<br>birthYear=%{x}<br>pctYB=%{y}<extra></extra>",
         "legendgroup": "Jerral",
         "marker": {
          "color": "#FFA15A",
          "symbol": "circle"
         },
         "mode": "markers",
         "name": "Jerral",
         "orientation": "v",
         "showlegend": true,
         "type": "scatter",
         "x": [
          "1942"
         ],
         "xaxis": "x",
         "y": [
          7.811113083614415e-06
         ],
         "yaxis": "y"
        },
        {
         "hovertemplate": "finalName=George<br>birthYear=%{x}<br>pctYB=%{y}<extra></extra>",
         "legendgroup": "George",
         "marker": {
          "color": "#19d3f3",
          "symbol": "circle"
         },
         "mode": "markers",
         "name": "George",
         "orientation": "v",
         "showlegend": true,
         "type": "scatter",
         "x": [
          "1942",
          "1943",
          "1930",
          "1944",
          "1937"
         ],
         "xaxis": "x",
         "y": [
          0.015106692703710279,
          0.014910443153935476,
          0.020171150226553605,
          0.014699996256612119,
          0.01685690694274138
         ],
         "yaxis": "y"
        },
        {
         "hovertemplate": "finalName=Jan<br>birthYear=%{x}<br>pctYB=%{y}<extra></extra>",
         "legendgroup": "Jan",
         "marker": {
          "color": "#FF6692",
          "symbol": "circle"
         },
         "mode": "markers",
         "name": "Jan",
         "orientation": "v",
         "showlegend": true,
         "type": "scatter",
         "x": [
          "1976"
         ],
         "xaxis": "x",
         "y": [
          8.939751585122049e-05
         ],
         "yaxis": "y"
        },
        {
         "hovertemplate": "finalName=Jensen<br>birthYear=%{x}<br>pctYB=%{y}<extra></extra>",
         "legendgroup": "Jensen",
         "marker": {
          "color": "#B6E880",
          "symbol": "circle"
         },
         "mode": "markers",
         "name": "Jensen",
         "orientation": "v",
         "showlegend": true,
         "type": "scatter",
         "x": [
          "1963"
         ],
         "xaxis": "x",
         "y": [
          0
         ],
         "yaxis": "y"
        },
        {
         "hovertemplate": "finalName=Stanley<br>birthYear=%{x}<br>pctYB=%{y}<extra></extra>",
         "legendgroup": "Stanley",
         "marker": {
          "color": "#FF97FF",
          "symbol": "circle"
         },
         "mode": "markers",
         "name": "Stanley",
         "orientation": "v",
         "showlegend": true,
         "type": "scatter",
         "x": [
          "1947",
          "1953"
         ],
         "xaxis": "x",
         "y": [
          0.0029619803815905004,
          0.0031334654509713043
         ],
         "yaxis": "y"
        },
        {
         "hovertemplate": "finalName=Laurene<br>birthYear=%{x}<br>pctYB=%{y}<extra></extra>",
         "legendgroup": "Laurene",
         "marker": {
          "color": "#FECB52",
          "symbol": "circle"
         },
         "mode": "markers",
         "name": "Laurene",
         "orientation": "v",
         "showlegend": true,
         "type": "scatter",
         "x": [
          "1963"
         ],
         "xaxis": "x",
         "y": [
          4.3761144630583006e-05
         ],
         "yaxis": "y"
        },
        {
         "hovertemplate": "finalName=Diane<br>birthYear=%{x}<br>pctYB=%{y}<extra></extra>",
         "legendgroup": "Diane",
         "marker": {
          "color": "#636efa",
          "symbol": "circle"
         },
         "mode": "markers",
         "name": "Diane",
         "orientation": "v",
         "showlegend": true,
         "type": "scatter",
         "x": [
          "1947"
         ],
         "xaxis": "x",
         "y": [
          0.009778568454104925
         ],
         "yaxis": "y"
        },
        {
         "hovertemplate": "finalName=Israel<br>birthYear=%{x}<br>pctYB=%{y}<extra></extra>",
         "legendgroup": "Israel",
         "marker": {
          "color": "#EF553B",
          "symbol": "circle"
         },
         "mode": "markers",
         "name": "Israel",
         "orientation": "v",
         "showlegend": true,
         "type": "scatter",
         "x": [
          "1948"
         ],
         "xaxis": "x",
         "y": [
          6.899631122160494e-05
         ],
         "yaxis": "y"
        },
        {
         "hovertemplate": "finalName=Shahid<br>birthYear=%{x}<br>pctYB=%{y}<extra></extra>",
         "legendgroup": "Shahid",
         "marker": {
          "color": "#00cc96",
          "symbol": "circle"
         },
         "mode": "markers",
         "name": "Shahid",
         "orientation": "v",
         "showlegend": true,
         "type": "scatter",
         "x": [
          "1950"
         ],
         "xaxis": "x",
         "y": [
          0
         ],
         "yaxis": "y"
        },
        {
         "hovertemplate": "finalName=Philip<br>birthYear=%{x}<br>pctYB=%{y}<extra></extra>",
         "legendgroup": "Philip",
         "marker": {
          "color": "#ab63fa",
          "symbol": "circle"
         },
         "mode": "markers",
         "name": "Philip",
         "orientation": "v",
         "showlegend": true,
         "type": "scatter",
         "x": [
          "1939"
         ],
         "xaxis": "x",
         "y": [
          0.002800715091212955
         ],
         "yaxis": "y"
        },
        {
         "hovertemplate": "finalName=Jeffery<br>birthYear=%{x}<br>pctYB=%{y}<extra></extra>",
         "legendgroup": "Jeffery",
         "marker": {
          "color": "#FFA15A",
          "symbol": "circle"
         },
         "mode": "markers",
         "name": "Jeffery",
         "orientation": "v",
         "showlegend": true,
         "type": "scatter",
         "x": [
          "1959"
         ],
         "xaxis": "x",
         "y": [
          0.0034512140408145178
         ],
         "yaxis": "y"
        },
        {
         "hovertemplate": "finalName=Andrew<br>birthYear=%{x}<br>pctYB=%{y}<extra></extra>",
         "legendgroup": "Andrew",
         "marker": {
          "color": "#19d3f3",
          "symbol": "circle"
         },
         "mode": "markers",
         "name": "Andrew",
         "orientation": "v",
         "showlegend": true,
         "type": "scatter",
         "x": [
          "1952"
         ],
         "xaxis": "x",
         "y": [
          0.002824151588984339
         ],
         "yaxis": "y"
        },
        {
         "hovertemplate": "finalName=Autry<br>birthYear=%{x}<br>pctYB=%{y}<extra></extra>",
         "legendgroup": "Autry",
         "marker": {
          "color": "#FF6692",
          "symbol": "circle"
         },
         "mode": "markers",
         "name": "Autry",
         "orientation": "v",
         "showlegend": true,
         "type": "scatter",
         "x": [
          "1938"
         ],
         "xaxis": "x",
         "y": [
          5.0155702659396146e-05
         ],
         "yaxis": "y"
        },
        {
         "hovertemplate": "finalName=Christy<br>birthYear=%{x}<br>pctYB=%{y}<extra></extra>",
         "legendgroup": "Christy",
         "marker": {
          "color": "#B6E880",
          "symbol": "circle"
         },
         "mode": "markers",
         "name": "Christy",
         "orientation": "v",
         "showlegend": true,
         "type": "scatter",
         "x": [
          "1949"
         ],
         "xaxis": "x",
         "y": [
          0.00023981430056535795
         ],
         "yaxis": "y"
        },
        {
         "hovertemplate": "finalName=Pierre<br>birthYear=%{x}<br>pctYB=%{y}<extra></extra>",
         "legendgroup": "Pierre",
         "marker": {
          "color": "#FF97FF",
          "symbol": "circle"
         },
         "mode": "markers",
         "name": "Pierre",
         "orientation": "v",
         "showlegend": true,
         "type": "scatter",
         "x": [
          "1967"
         ],
         "xaxis": "x",
         "y": [
          0.00012080823518834846
         ],
         "yaxis": "y"
        },
        {
         "hovertemplate": "finalName=Marijke<br>birthYear=%{x}<br>pctYB=%{y}<extra></extra>",
         "legendgroup": "Marijke",
         "marker": {
          "color": "#FECB52",
          "symbol": "circle"
         },
         "mode": "markers",
         "name": "Marijke",
         "orientation": "v",
         "showlegend": true,
         "type": "scatter",
         "x": [
          "1964"
         ],
         "xaxis": "x",
         "y": [
          0
         ],
         "yaxis": "y"
        },
        {
         "hovertemplate": "finalName=Pamela<br>birthYear=%{x}<br>pctYB=%{y}<extra></extra>",
         "legendgroup": "Pamela",
         "marker": {
          "color": "#636efa",
          "symbol": "circle"
         },
         "mode": "markers",
         "name": "Pamela",
         "orientation": "v",
         "showlegend": true,
         "type": "scatter",
         "x": [
          "1960"
         ],
         "xaxis": "x",
         "y": [
          0.010622896780388172
         ],
         "yaxis": "y"
        },
        {
         "hovertemplate": "finalName=Valerie<br>birthYear=%{x}<br>pctYB=%{y}<extra></extra>",
         "legendgroup": "Valerie",
         "marker": {
          "color": "#EF553B",
          "symbol": "circle"
         },
         "mode": "markers",
         "name": "Valerie",
         "orientation": "v",
         "showlegend": true,
         "type": "scatter",
         "x": [
          "1959"
         ],
         "xaxis": "x",
         "y": [
          0.0035149723098506307
         ],
         "yaxis": "y"
        },
        {
         "hovertemplate": "finalName=Victoria<br>birthYear=%{x}<br>pctYB=%{y}<extra></extra>",
         "legendgroup": "Victoria",
         "marker": {
          "color": "#00cc96",
          "symbol": "circle"
         },
         "mode": "markers",
         "name": "Victoria",
         "orientation": "v",
         "showlegend": true,
         "type": "scatter",
         "x": [
          "1956"
         ],
         "xaxis": "x",
         "y": [
          0.002615855248241653
         ],
         "yaxis": "y"
        },
        {
         "hovertemplate": "finalName=Brian<br>birthYear=%{x}<br>pctYB=%{y}<extra></extra>",
         "legendgroup": "Brian",
         "marker": {
          "color": "#ab63fa",
          "symbol": "circle"
         },
         "mode": "markers",
         "name": "Brian",
         "orientation": "v",
         "showlegend": true,
         "type": "scatter",
         "x": [
          "1981",
          "1983"
         ],
         "xaxis": "x",
         "y": [
          0.01427852874091387,
          0.013978713256654991
         ],
         "yaxis": "y"
        },
        {
         "hovertemplate": "finalName=Chase<br>birthYear=%{x}<br>pctYB=%{y}<extra></extra>",
         "legendgroup": "Chase",
         "marker": {
          "color": "#FFA15A",
          "symbol": "circle"
         },
         "mode": "markers",
         "name": "Chase",
         "orientation": "v",
         "showlegend": true,
         "type": "scatter",
         "x": [
          "1975"
         ],
         "xaxis": "x",
         "y": [
          7.824880408717533e-05
         ],
         "yaxis": "y"
        },
        {
         "hovertemplate": "finalName=Patrick<br>birthYear=%{x}<br>pctYB=%{y}<extra></extra>",
         "legendgroup": "Patrick",
         "marker": {
          "color": "#19d3f3",
          "symbol": "circle"
         },
         "mode": "markers",
         "name": "Patrick",
         "orientation": "v",
         "showlegend": true,
         "type": "scatter",
         "x": [
          "1937",
          "1952"
         ],
         "xaxis": "x",
         "y": [
          0.0019101751344392048,
          0.004649486960152756
         ],
         "yaxis": "y"
        },
        {
         "hovertemplate": "finalName=Blair<br>birthYear=%{x}<br>pctYB=%{y}<extra></extra>",
         "legendgroup": "Blair",
         "marker": {
          "color": "#FF6692",
          "symbol": "circle"
         },
         "mode": "markers",
         "name": "Blair",
         "orientation": "v",
         "showlegend": true,
         "type": "scatter",
         "x": [
          "1950"
         ],
         "xaxis": "x",
         "y": [
          1.3079180219730228e-05
         ],
         "yaxis": "y"
        },
        {
         "hovertemplate": "finalName=Jay<br>birthYear=%{x}<br>pctYB=%{y}<extra></extra>",
         "legendgroup": "Jay",
         "marker": {
          "color": "#B6E880",
          "symbol": "circle"
         },
         "mode": "markers",
         "name": "Jay",
         "orientation": "v",
         "showlegend": true,
         "type": "scatter",
         "x": [
          "1959",
          "1947",
          "1965"
         ],
         "xaxis": "x",
         "y": [
          0.0022797306603695206,
          0.0013119495074402127,
          0.0020813356855663274
         ],
         "yaxis": "y"
        },
        {
         "hovertemplate": "finalName=Ann<br>birthYear=%{x}<br>pctYB=%{y}<extra></extra>",
         "legendgroup": "Ann",
         "marker": {
          "color": "#FF97FF",
          "symbol": "circle"
         },
         "mode": "markers",
         "name": "Ann",
         "orientation": "v",
         "showlegend": true,
         "type": "scatter",
         "x": [
          "1948"
         ],
         "xaxis": "x",
         "y": [
          0.00460511629855385
         ],
         "yaxis": "y"
        },
        {
         "hovertemplate": "finalName=Leon<br>birthYear=%{x}<br>pctYB=%{y}<extra></extra>",
         "legendgroup": "Leon",
         "marker": {
          "color": "#FECB52",
          "symbol": "circle"
         },
         "mode": "markers",
         "name": "Leon",
         "orientation": "v",
         "showlegend": true,
         "type": "scatter",
         "x": [
          "1951"
         ],
         "xaxis": "x",
         "y": [
          0.001238673823913728
         ],
         "yaxis": "y"
        },
        {
         "hovertemplate": "finalName=Bernard<br>birthYear=%{x}<br>pctYB=%{y}<extra></extra>",
         "legendgroup": "Bernard",
         "marker": {
          "color": "#636efa",
          "symbol": "circle"
         },
         "mode": "markers",
         "name": "Bernard",
         "orientation": "v",
         "showlegend": true,
         "type": "scatter",
         "x": [
          "1929",
          "1932"
         ],
         "xaxis": "x",
         "y": [
          0.0034388274221433764,
          0.003025832662425599
         ],
         "yaxis": "y"
        },
        {
         "hovertemplate": "finalName=Tamara<br>birthYear=%{x}<br>pctYB=%{y}<extra></extra>",
         "legendgroup": "Tamara",
         "marker": {
          "color": "#EF553B",
          "symbol": "circle"
         },
         "mode": "markers",
         "name": "Tamara",
         "orientation": "v",
         "showlegend": true,
         "type": "scatter",
         "x": [
          "1961"
         ],
         "xaxis": "x",
         "y": [
          0.001796142194750931
         ],
         "yaxis": "y"
        },
        {
         "hovertemplate": "finalName=Dustin<br>birthYear=%{x}<br>pctYB=%{y}<extra></extra>",
         "legendgroup": "Dustin",
         "marker": {
          "color": "#00cc96",
          "symbol": "circle"
         },
         "mode": "markers",
         "name": "Dustin",
         "orientation": "v",
         "showlegend": true,
         "type": "scatter",
         "x": [
          "1984"
         ],
         "xaxis": "x",
         "y": [
          0.005540412672568484
         ],
         "yaxis": "y"
        },
        {
         "hovertemplate": "finalName=Orlando<br>birthYear=%{x}<br>pctYB=%{y}<extra></extra>",
         "legendgroup": "Orlando",
         "marker": {
          "color": "#ab63fa",
          "symbol": "circle"
         },
         "mode": "markers",
         "name": "Orlando",
         "orientation": "v",
         "showlegend": true,
         "type": "scatter",
         "x": [
          "1970"
         ],
         "xaxis": "x",
         "y": [
          0.00037840399586222317
         ],
         "yaxis": "y"
        },
        {
         "hovertemplate": "finalName=Ramzi<br>birthYear=%{x}<br>pctYB=%{y}<extra></extra>",
         "legendgroup": "Ramzi",
         "marker": {
          "color": "#FFA15A",
          "symbol": "circle"
         },
         "mode": "markers",
         "name": "Ramzi",
         "orientation": "v",
         "showlegend": true,
         "type": "scatter",
         "x": [
          "1968"
         ],
         "xaxis": "x",
         "y": [
          0
         ],
         "yaxis": "y"
        },
        {
         "hovertemplate": "finalName=Nathan<br>birthYear=%{x}<br>pctYB=%{y}<extra></extra>",
         "legendgroup": "Nathan",
         "marker": {
          "color": "#19d3f3",
          "symbol": "circle"
         },
         "mode": "markers",
         "name": "Nathan",
         "orientation": "v",
         "showlegend": true,
         "type": "scatter",
         "x": [
          "1983"
         ],
         "xaxis": "x",
         "y": [
          0.00566584244333487
         ],
         "yaxis": "y"
        },
        {
         "hovertemplate": "finalName=Rocco<br>birthYear=%{x}<br>pctYB=%{y}<extra></extra>",
         "legendgroup": "Rocco",
         "marker": {
          "color": "#FF6692",
          "symbol": "circle"
         },
         "mode": "markers",
         "name": "Rocco",
         "orientation": "v",
         "showlegend": true,
         "type": "scatter",
         "x": [
          "1949"
         ],
         "xaxis": "x",
         "y": [
          0.00010377629161248934
         ],
         "yaxis": "y"
        },
        {
         "hovertemplate": "finalName=Tilman<br>birthYear=%{x}<br>pctYB=%{y}<extra></extra>",
         "legendgroup": "Tilman",
         "marker": {
          "color": "#B6E880",
          "symbol": "circle"
         },
         "mode": "markers",
         "name": "Tilman",
         "orientation": "v",
         "showlegend": true,
         "type": "scatter",
         "x": [
          "1957"
         ],
         "xaxis": "x",
         "y": [
          7.31258418041242e-06
         ],
         "yaxis": "y"
        },
        {
         "hovertemplate": "finalName=Nancy<br>birthYear=%{x}<br>pctYB=%{y}<extra></extra>",
         "legendgroup": "Nancy",
         "marker": {
          "color": "#FF97FF",
          "symbol": "circle"
         },
         "mode": "markers",
         "name": "Nancy",
         "orientation": "v",
         "showlegend": true,
         "type": "scatter",
         "x": [
          "1951"
         ],
         "xaxis": "x",
         "y": [
          0.01642893102869609
         ],
         "yaxis": "y"
        },
        {
         "hovertemplate": "finalName=Harry<br>birthYear=%{x}<br>pctYB=%{y}<extra></extra>",
         "legendgroup": "Harry",
         "marker": {
          "color": "#FECB52",
          "symbol": "circle"
         },
         "mode": "markers",
         "name": "Harry",
         "orientation": "v",
         "showlegend": true,
         "type": "scatter",
         "x": [
          "1941"
         ],
         "xaxis": "x",
         "y": [
          0.004029372339187718
         ],
         "yaxis": "y"
        },
        {
         "hovertemplate": "finalName=Arthur<br>birthYear=%{x}<br>pctYB=%{y}<extra></extra>",
         "legendgroup": "Arthur",
         "marker": {
          "color": "#636efa",
          "symbol": "circle"
         },
         "mode": "markers",
         "name": "Arthur",
         "orientation": "v",
         "showlegend": true,
         "type": "scatter",
         "x": [
          "1942",
          "1957"
         ],
         "xaxis": "x",
         "y": [
          0.005699982247470265,
          0.0027696412583312043
         ],
         "yaxis": "y"
        },
        {
         "hovertemplate": "finalName=Rick<br>birthYear=%{x}<br>pctYB=%{y}<extra></extra>",
         "legendgroup": "Rick",
         "marker": {
          "color": "#EF553B",
          "symbol": "circle"
         },
         "mode": "markers",
         "name": "Rick",
         "orientation": "v",
         "showlegend": true,
         "type": "scatter",
         "x": [
          "1952"
         ],
         "xaxis": "x",
         "y": [
          0.0013094576899220407
         ],
         "yaxis": "y"
        },
        {
         "hovertemplate": "finalName=Joe<br>birthYear=%{x}<br>pctYB=%{y}<extra></extra>",
         "legendgroup": "Joe",
         "marker": {
          "color": "#00cc96",
          "symbol": "circle"
         },
         "mode": "markers",
         "name": "Joe",
         "orientation": "v",
         "showlegend": true,
         "type": "scatter",
         "x": [
          "1981"
         ],
         "xaxis": "x",
         "y": [
          0.0009984609744012858
         ],
         "yaxis": "y"
        },
        {
         "hovertemplate": "finalName=Tim<br>birthYear=%{x}<br>pctYB=%{y}<extra></extra>",
         "legendgroup": "Tim",
         "marker": {
          "color": "#ab63fa",
          "symbol": "circle"
         },
         "mode": "markers",
         "name": "Tim",
         "orientation": "v",
         "showlegend": true,
         "type": "scatter",
         "x": [
          "1970"
         ],
         "xaxis": "x",
         "y": [
          0.0006959274597965436
         ],
         "yaxis": "y"
        },
        {
         "hovertemplate": "finalName=Paul<br>birthYear=%{x}<br>pctYB=%{y}<extra></extra>",
         "legendgroup": "Paul",
         "marker": {
          "color": "#FFA15A",
          "symbol": "circle"
         },
         "mode": "markers",
         "name": "Paul",
         "orientation": "v",
         "showlegend": true,
         "type": "scatter",
         "x": [
          "1954",
          "1958",
          "1944"
         ],
         "xaxis": "x",
         "y": [
          0.01267199205106879,
          0.01218577314235912,
          0.011991079218726153
         ],
         "yaxis": "y"
        },
        {
         "hovertemplate": "finalName=Gordon<br>birthYear=%{x}<br>pctYB=%{y}<extra></extra>",
         "legendgroup": "Gordon",
         "marker": {
          "color": "#19d3f3",
          "symbol": "circle"
         },
         "mode": "markers",
         "name": "Gordon",
         "orientation": "v",
         "showlegend": true,
         "type": "scatter",
         "x": [
          "1929"
         ],
         "xaxis": "x",
         "y": [
          0.0022507211245480275
         ],
         "yaxis": "y"
        },
        {
         "hovertemplate": "finalName=Henry<br>birthYear=%{x}<br>pctYB=%{y}<extra></extra>",
         "legendgroup": "Henry",
         "marker": {
          "color": "#FF6692",
          "symbol": "circle"
         },
         "mode": "markers",
         "name": "Henry",
         "orientation": "v",
         "showlegend": true,
         "type": "scatter",
         "x": [
          "1944",
          "1954",
          "1959"
         ],
         "xaxis": "x",
         "y": [
          0.005019739172250554,
          0.0030949024482302173,
          0.0023346583681208817
         ],
         "yaxis": "y"
        },
        {
         "hovertemplate": "finalName=Pauline<br>birthYear=%{x}<br>pctYB=%{y}<extra></extra>",
         "legendgroup": "Pauline",
         "marker": {
          "color": "#B6E880",
          "symbol": "circle"
         },
         "mode": "markers",
         "name": "Pauline",
         "orientation": "v",
         "showlegend": true,
         "type": "scatter",
         "x": [
          "1934"
         ],
         "xaxis": "x",
         "y": [
          0.0031829596628003025
         ],
         "yaxis": "y"
        },
        {
         "hovertemplate": "finalName=Richard<br>birthYear=%{x}<br>pctYB=%{y}<extra></extra>",
         "legendgroup": "Richard",
         "marker": {
          "color": "#FF97FF",
          "symbol": "circle"
         },
         "mode": "markers",
         "name": "Richard",
         "orientation": "v",
         "showlegend": true,
         "type": "scatter",
         "x": [
          "1944",
          "1959",
          "1945",
          "1951",
          "1945",
          "1941",
          "1938"
         ],
         "xaxis": "x",
         "y": [
          0.03285830700963779,
          0.02177814375735062,
          0.033573450993174186,
          0.028533437393093764,
          0.033573450993174186,
          0.031167864480477148,
          0.030255327723520648
         ],
         "yaxis": "y"
        },
        {
         "hovertemplate": "finalName=Jeff<br>birthYear=%{x}<br>pctYB=%{y}<extra></extra>",
         "legendgroup": "Jeff",
         "marker": {
          "color": "#FECB52",
          "symbol": "circle"
         },
         "mode": "markers",
         "name": "Jeff",
         "orientation": "v",
         "showlegend": true,
         "type": "scatter",
         "x": [
          "1954",
          "1965"
         ],
         "xaxis": "x",
         "y": [
          0.00047119454825491285,
          0.0028555039032959937
         ],
         "yaxis": "y"
        },
        {
         "hovertemplate": "finalName=Leo<br>birthYear=%{x}<br>pctYB=%{y}<extra></extra>",
         "legendgroup": "Leo",
         "marker": {
          "color": "#636efa",
          "symbol": "circle"
         },
         "mode": "markers",
         "name": "Leo",
         "orientation": "v",
         "showlegend": true,
         "type": "scatter",
         "x": [
          "1955"
         ],
         "xaxis": "x",
         "y": [
          0.0007544118983720586
         ],
         "yaxis": "y"
        },
        {
         "hovertemplate": "finalName=Jack<br>birthYear=%{x}<br>pctYB=%{y}<extra></extra>",
         "legendgroup": "Jack",
         "marker": {
          "color": "#EF553B",
          "symbol": "circle"
         },
         "mode": "markers",
         "name": "Jack",
         "orientation": "v",
         "showlegend": true,
         "type": "scatter",
         "x": [
          "1945",
          "1976"
         ],
         "xaxis": "x",
         "y": [
          0.004997772367291789,
          0.0010201113795077627
         ],
         "yaxis": "y"
        },
        {
         "hovertemplate": "finalName=Christopher<br>birthYear=%{x}<br>pctYB=%{y}<extra></extra>",
         "legendgroup": "Christopher",
         "marker": {
          "color": "#00cc96",
          "symbol": "circle"
         },
         "mode": "markers",
         "name": "Christopher",
         "orientation": "v",
         "showlegend": true,
         "type": "scatter",
         "x": [
          "1953"
         ],
         "xaxis": "x",
         "y": [
          0.003035076433782693
         ],
         "yaxis": "y"
        },
        {
         "hovertemplate": "finalName=Jude<br>birthYear=%{x}<br>pctYB=%{y}<extra></extra>",
         "legendgroup": "Jude",
         "marker": {
          "color": "#ab63fa",
          "symbol": "circle"
         },
         "mode": "markers",
         "name": "Jude",
         "orientation": "v",
         "showlegend": true,
         "type": "scatter",
         "x": [
          "1955"
         ],
         "xaxis": "x",
         "y": [
          2.9659820988628807e-05
         ],
         "yaxis": "y"
        },
        {
         "hovertemplate": "finalName=Don<br>birthYear=%{x}<br>pctYB=%{y}<extra></extra>",
         "legendgroup": "Don",
         "marker": {
          "color": "#FFA15A",
          "symbol": "circle"
         },
         "mode": "markers",
         "name": "Don",
         "orientation": "v",
         "showlegend": true,
         "type": "scatter",
         "x": [
          "1952"
         ],
         "xaxis": "x",
         "y": [
          0.0013018563488427718
         ],
         "yaxis": "y"
        },
        {
         "hovertemplate": "finalName=Dannine<br>birthYear=%{x}<br>pctYB=%{y}<extra></extra>",
         "legendgroup": "Dannine",
         "marker": {
          "color": "#19d3f3",
          "symbol": "circle"
         },
         "mode": "markers",
         "name": "Dannine",
         "orientation": "v",
         "showlegend": true,
         "type": "scatter",
         "x": [
          "1964"
         ],
         "xaxis": "x",
         "y": [
          null
         ],
         "yaxis": "y"
        },
        {
         "hovertemplate": "finalName=Edythe <br>birthYear=%{x}<br>pctYB=%{y}<extra></extra>",
         "legendgroup": "Edythe ",
         "marker": {
          "color": "#FF6692",
          "symbol": "circle"
         },
         "mode": "markers",
         "name": "Edythe ",
         "orientation": "v",
         "showlegend": true,
         "type": "scatter",
         "x": [
          "1936"
         ],
         "xaxis": "x",
         "y": [
          null
         ],
         "yaxis": "y"
        },
        {
         "hovertemplate": "finalName=Scott<br>birthYear=%{x}<br>pctYB=%{y}<extra></extra>",
         "legendgroup": "Scott",
         "marker": {
          "color": "#B6E880",
          "symbol": "circle"
         },
         "mode": "markers",
         "name": "Scott",
         "orientation": "v",
         "showlegend": true,
         "type": "scatter",
         "x": [
          "1982",
          "1952",
          "1977"
         ],
         "xaxis": "x",
         "y": [
          0.006467451364320732,
          0.003314184710561202,
          0.008312708490261488
         ],
         "yaxis": "y"
        },
        {
         "hovertemplate": "finalName=Milane<br>birthYear=%{x}<br>pctYB=%{y}<extra></extra>",
         "legendgroup": "Milane",
         "marker": {
          "color": "#FF97FF",
          "symbol": "circle"
         },
         "mode": "markers",
         "name": "Milane",
         "orientation": "v",
         "showlegend": true,
         "type": "scatter",
         "x": [
          "1969"
         ],
         "xaxis": "x",
         "y": [
          null
         ],
         "yaxis": "y"
        },
        {
         "hovertemplate": "finalName=Philippe<br>birthYear=%{x}<br>pctYB=%{y}<extra></extra>",
         "legendgroup": "Philippe",
         "marker": {
          "color": "#FECB52",
          "symbol": "circle"
         },
         "mode": "markers",
         "name": "Philippe",
         "orientation": "v",
         "showlegend": true,
         "type": "scatter",
         "x": [
          "1967"
         ],
         "xaxis": "x",
         "y": [
          2.1914051964398093e-05
         ],
         "yaxis": "y"
        },
        {
         "hovertemplate": "finalName=Igor<br>birthYear=%{x}<br>pctYB=%{y}<extra></extra>",
         "legendgroup": "Igor",
         "marker": {
          "color": "#636efa",
          "symbol": "circle"
         },
         "mode": "markers",
         "name": "Igor",
         "orientation": "v",
         "showlegend": true,
         "type": "scatter",
         "x": [
          "1942"
         ],
         "xaxis": "x",
         "y": [
          0
         ],
         "yaxis": "y"
        },
        {
         "hovertemplate": "finalName=Randa<br>birthYear=%{x}<br>pctYB=%{y}<extra></extra>",
         "legendgroup": "Randa",
         "marker": {
          "color": "#EF553B",
          "symbol": "circle"
         },
         "mode": "markers",
         "name": "Randa",
         "orientation": "v",
         "showlegend": true,
         "type": "scatter",
         "x": [
          "1961"
         ],
         "xaxis": "x",
         "y": [
          1.733542064638968e-05
         ],
         "yaxis": "y"
        },
        {
         "hovertemplate": "finalName=Judith<br>birthYear=%{x}<br>pctYB=%{y}<extra></extra>",
         "legendgroup": "Judith",
         "marker": {
          "color": "#00cc96",
          "symbol": "circle"
         },
         "mode": "markers",
         "name": "Judith",
         "orientation": "v",
         "showlegend": true,
         "type": "scatter",
         "x": [
          "1943"
         ],
         "xaxis": "x",
         "y": [
          0.017566275871486257
         ],
         "yaxis": "y"
        },
        {
         "hovertemplate": "finalName=Terrence<br>birthYear=%{x}<br>pctYB=%{y}<extra></extra>",
         "legendgroup": "Terrence",
         "marker": {
          "color": "#ab63fa",
          "symbol": "circle"
         },
         "mode": "markers",
         "name": "Terrence",
         "orientation": "v",
         "showlegend": true,
         "type": "scatter",
         "x": [
          "1951"
         ],
         "xaxis": "x",
         "y": [
          0.0006120136714438606
         ],
         "yaxis": "y"
        },
        {
         "hovertemplate": "finalName=Trudy<br>birthYear=%{x}<br>pctYB=%{y}<extra></extra>",
         "legendgroup": "Trudy",
         "marker": {
          "color": "#FFA15A",
          "symbol": "circle"
         },
         "mode": "markers",
         "name": "Trudy",
         "orientation": "v",
         "showlegend": true,
         "type": "scatter",
         "x": [
          "1955"
         ],
         "xaxis": "x",
         "y": [
          0.0004284453816929628
         ],
         "yaxis": "y"
        },
        {
         "hovertemplate": "finalName=Edward<br>birthYear=%{x}<br>pctYB=%{y}<extra></extra>",
         "legendgroup": "Edward",
         "marker": {
          "color": "#19d3f3",
          "symbol": "circle"
         },
         "mode": "markers",
         "name": "Edward",
         "orientation": "v",
         "showlegend": true,
         "type": "scatter",
         "x": [
          "1964",
          "1938",
          "1946"
         ],
         "xaxis": "x",
         "y": [
          0.0076992326911551065,
          0.012802023122658851,
          0.011257803022682845
         ],
         "yaxis": "y"
        },
        {
         "hovertemplate": "finalName=Bruce<br>birthYear=%{x}<br>pctYB=%{y}<extra></extra>",
         "legendgroup": "Bruce",
         "marker": {
          "color": "#FF6692",
          "symbol": "circle"
         },
         "mode": "markers",
         "name": "Bruce",
         "orientation": "v",
         "showlegend": true,
         "type": "scatter",
         "x": [
          "1945"
         ],
         "xaxis": "x",
         "y": [
          0.004092864939832042
         ],
         "yaxis": "y"
        },
        {
         "hovertemplate": "finalName=Ralph<br>birthYear=%{x}<br>pctYB=%{y}<extra></extra>",
         "legendgroup": "Ralph",
         "marker": {
          "color": "#B6E880",
          "symbol": "circle"
         },
         "mode": "markers",
         "name": "Ralph",
         "orientation": "v",
         "showlegend": true,
         "type": "scatter",
         "x": [
          "1939"
         ],
         "xaxis": "x",
         "y": [
          0.005258179341064271
         ],
         "yaxis": "y"
        },
        {
         "hovertemplate": "finalName=Reinhold<br>birthYear=%{x}<br>pctYB=%{y}<extra></extra>",
         "legendgroup": "Reinhold",
         "marker": {
          "color": "#FF97FF",
          "symbol": "circle"
         },
         "mode": "markers",
         "name": "Reinhold",
         "orientation": "v",
         "showlegend": true,
         "type": "scatter",
         "x": [
          "1955"
         ],
         "xaxis": "x",
         "y": [
          2.870305256964078e-06
         ],
         "yaxis": "y"
        },
        {
         "hovertemplate": "finalName=Marc<br>birthYear=%{x}<br>pctYB=%{y}<extra></extra>",
         "legendgroup": "Marc",
         "marker": {
          "color": "#FECB52",
          "symbol": "circle"
         },
         "mode": "markers",
         "name": "Marc",
         "orientation": "v",
         "showlegend": true,
         "type": "scatter",
         "x": [
          "1964",
          "1962"
         ],
         "xaxis": "x",
         "y": [
          0.0015203123497014377,
          0.0014010226275858262
         ],
         "yaxis": "y"
        },
        {
         "hovertemplate": "finalName=Melinda<br>birthYear=%{x}<br>pctYB=%{y}<extra></extra>",
         "legendgroup": "Melinda",
         "marker": {
          "color": "#636efa",
          "symbol": "circle"
         },
         "mode": "markers",
         "name": "Melinda",
         "orientation": "v",
         "showlegend": true,
         "type": "scatter",
         "x": [
          "1964"
         ],
         "xaxis": "x",
         "y": [
          0.001890794726414622
         ],
         "yaxis": "y"
        },
        {
         "hovertemplate": "finalName=Ted<br>birthYear=%{x}<br>pctYB=%{y}<extra></extra>",
         "legendgroup": "Ted",
         "marker": {
          "color": "#EF553B",
          "symbol": "circle"
         },
         "mode": "markers",
         "name": "Ted",
         "orientation": "v",
         "showlegend": true,
         "type": "scatter",
         "x": [
          "1925"
         ],
         "xaxis": "x",
         "y": [
          0.0005818800805947336
         ],
         "yaxis": "y"
        },
        {
         "hovertemplate": "finalName=Dennis<br>birthYear=%{x}<br>pctYB=%{y}<extra></extra>",
         "legendgroup": "Dennis",
         "marker": {
          "color": "#00cc96",
          "symbol": "circle"
         },
         "mode": "markers",
         "name": "Dennis",
         "orientation": "v",
         "showlegend": true,
         "type": "scatter",
         "x": [
          "1934"
         ],
         "xaxis": "x",
         "y": [
          0.001933372572101236
         ],
         "yaxis": "y"
        },
        {
         "hovertemplate": "finalName=Neil<br>birthYear=%{x}<br>pctYB=%{y}<extra></extra>",
         "legendgroup": "Neil",
         "marker": {
          "color": "#ab63fa",
          "symbol": "circle"
         },
         "mode": "markers",
         "name": "Neil",
         "orientation": "v",
         "showlegend": true,
         "type": "scatter",
         "x": [
          "1938"
         ],
         "xaxis": "x",
         "y": [
          0.0009388795567995735
         ],
         "yaxis": "y"
        },
        {
         "hovertemplate": "finalName=Ge<br>birthYear=%{x}<br>pctYB=%{y}<extra></extra>",
         "legendgroup": "Ge",
         "marker": {
          "color": "#FFA15A",
          "symbol": "circle"
         },
         "mode": "markers",
         "name": "Ge",
         "orientation": "v",
         "showlegend": true,
         "type": "scatter",
         "x": [
          "1967"
         ],
         "xaxis": "x",
         "y": [
          0
         ],
         "yaxis": "y"
        },
        {
         "hovertemplate": "finalName=Leslie<br>birthYear=%{x}<br>pctYB=%{y}<extra></extra>",
         "legendgroup": "Leslie",
         "marker": {
          "color": "#19d3f3",
          "symbol": "circle"
         },
         "mode": "markers",
         "name": "Leslie",
         "orientation": "v",
         "showlegend": true,
         "type": "scatter",
         "x": [
          "1937"
         ],
         "xaxis": "x",
         "y": [
          0.001132023368327303
         ],
         "yaxis": "y"
        },
        {
         "hovertemplate": "finalName=Mitchell<br>birthYear=%{x}<br>pctYB=%{y}<extra></extra>",
         "legendgroup": "Mitchell",
         "marker": {
          "color": "#FF6692",
          "symbol": "circle"
         },
         "mode": "markers",
         "name": "Mitchell",
         "orientation": "v",
         "showlegend": true,
         "type": "scatter",
         "x": [
          "1956"
         ],
         "xaxis": "x",
         "y": [
          0.0011204014624383663
         ],
         "yaxis": "y"
        },
        {
         "hovertemplate": "finalName=Antony<br>birthYear=%{x}<br>pctYB=%{y}<extra></extra>",
         "legendgroup": "Antony",
         "marker": {
          "color": "#B6E880",
          "symbol": "circle"
         },
         "mode": "markers",
         "name": "Antony",
         "orientation": "v",
         "showlegend": true,
         "type": "scatter",
         "x": [
          "1962"
         ],
         "xaxis": "x",
         "y": [
          4.51942783092202e-05
         ],
         "yaxis": "y"
        },
        {
         "hovertemplate": "finalName=Josh<br>birthYear=%{x}<br>pctYB=%{y}<extra></extra>",
         "legendgroup": "Josh",
         "marker": {
          "color": "#FF97FF",
          "symbol": "circle"
         },
         "mode": "markers",
         "name": "Josh",
         "orientation": "v",
         "showlegend": true,
         "type": "scatter",
         "x": [
          "1964"
         ],
         "xaxis": "x",
         "y": [
          4.686232096743562e-05
         ],
         "yaxis": "y"
        },
        {
         "hovertemplate": "finalName=Ray<br>birthYear=%{x}<br>pctYB=%{y}<extra></extra>",
         "legendgroup": "Ray",
         "marker": {
          "color": "#FECB52",
          "symbol": "circle"
         },
         "mode": "markers",
         "name": "Ray",
         "orientation": "v",
         "showlegend": true,
         "type": "scatter",
         "x": [
          "1943"
         ],
         "xaxis": "x",
         "y": [
          0.002105804471620452
         ],
         "yaxis": "y"
        },
        {
         "hovertemplate": "finalName=Douglas<br>birthYear=%{x}<br>pctYB=%{y}<extra></extra>",
         "legendgroup": "Douglas",
         "marker": {
          "color": "#636efa",
          "symbol": "circle"
         },
         "mode": "markers",
         "name": "Douglas",
         "orientation": "v",
         "showlegend": true,
         "type": "scatter",
         "x": [
          "1957",
          "1954"
         ],
         "xaxis": "x",
         "y": [
          0.0076457637971324615,
          0.007106580340603583
         ],
         "yaxis": "y"
        },
        {
         "hovertemplate": "finalName=Karen<br>birthYear=%{x}<br>pctYB=%{y}<extra></extra>",
         "legendgroup": "Karen",
         "marker": {
          "color": "#EF553B",
          "symbol": "circle"
         },
         "mode": "markers",
         "name": "Karen",
         "orientation": "v",
         "showlegend": true,
         "type": "scatter",
         "x": [
          "1958"
         ],
         "xaxis": "x",
         "y": [
          0.018624491307747616
         ],
         "yaxis": "y"
        },
        {
         "hovertemplate": "finalName=Dirk<br>birthYear=%{x}<br>pctYB=%{y}<extra></extra>",
         "legendgroup": "Dirk",
         "marker": {
          "color": "#00cc96",
          "symbol": "circle"
         },
         "mode": "markers",
         "name": "Dirk",
         "orientation": "v",
         "showlegend": true,
         "type": "scatter",
         "x": [
          "1964"
         ],
         "xaxis": "x",
         "y": [
          0.00016426476718059012
         ],
         "yaxis": "y"
        },
        {
         "hovertemplate": "finalName=Ronda<br>birthYear=%{x}<br>pctYB=%{y}<extra></extra>",
         "legendgroup": "Ronda",
         "marker": {
          "color": "#ab63fa",
          "symbol": "circle"
         },
         "mode": "markers",
         "name": "Ronda",
         "orientation": "v",
         "showlegend": true,
         "type": "scatter",
         "x": [
          "1954"
         ],
         "xaxis": "x",
         "y": [
          0.0002898175104022888
         ],
         "yaxis": "y"
        },
        {
         "hovertemplate": "finalName=Micky<br>birthYear=%{x}<br>pctYB=%{y}<extra></extra>",
         "legendgroup": "Micky",
         "marker": {
          "color": "#FFA15A",
          "symbol": "circle"
         },
         "mode": "markers",
         "name": "Micky",
         "orientation": "v",
         "showlegend": true,
         "type": "scatter",
         "x": [
          "1949"
         ],
         "xaxis": "x",
         "y": [
          1.664860293248492e-05
         ],
         "yaxis": "y"
        },
        {
         "hovertemplate": "finalName=Wesley<br>birthYear=%{x}<br>pctYB=%{y}<extra></extra>",
         "legendgroup": "Wesley",
         "marker": {
          "color": "#19d3f3",
          "symbol": "circle"
         },
         "mode": "markers",
         "name": "Wesley",
         "orientation": "v",
         "showlegend": true,
         "type": "scatter",
         "x": [
          "1961"
         ],
         "xaxis": "x",
         "y": [
          0.0009289443380077367
         ],
         "yaxis": "y"
        },
        {
         "hovertemplate": "finalName=Archie<br>birthYear=%{x}<br>pctYB=%{y}<extra></extra>",
         "legendgroup": "Archie",
         "marker": {
          "color": "#FF6692",
          "symbol": "circle"
         },
         "mode": "markers",
         "name": "Archie",
         "orientation": "v",
         "showlegend": true,
         "type": "scatter",
         "x": [
          "1929"
         ],
         "xaxis": "x",
         "y": [
          0.0006608615576290237
         ],
         "yaxis": "y"
        },
        {
         "hovertemplate": "finalName=Jonathan<br>birthYear=%{x}<br>pctYB=%{y}<extra></extra>",
         "legendgroup": "Jonathan",
         "marker": {
          "color": "#B6E880",
          "symbol": "circle"
         },
         "mode": "markers",
         "name": "Jonathan",
         "orientation": "v",
         "showlegend": true,
         "type": "scatter",
         "x": [
          "1970",
          "1956"
         ],
         "xaxis": "x",
         "y": [
          0.0043046734730401584,
          0.0014548913792910678
         ],
         "yaxis": "y"
        },
        {
         "hovertemplate": "finalName=Judy<br>birthYear=%{x}<br>pctYB=%{y}<extra></extra>",
         "legendgroup": "Judy",
         "marker": {
          "color": "#FF97FF",
          "symbol": "circle"
         },
         "mode": "markers",
         "name": "Judy",
         "orientation": "v",
         "showlegend": true,
         "type": "scatter",
         "x": [
          "1937"
         ],
         "xaxis": "x",
         "y": [
          0.0024876705565448154
         ],
         "yaxis": "y"
        },
        {
         "hovertemplate": "finalName=Katharine<br>birthYear=%{x}<br>pctYB=%{y}<extra></extra>",
         "legendgroup": "Katharine",
         "marker": {
          "color": "#FECB52",
          "symbol": "circle"
         },
         "mode": "markers",
         "name": "Katharine",
         "orientation": "v",
         "showlegend": true,
         "type": "scatter",
         "x": [
          "1945"
         ],
         "xaxis": "x",
         "y": [
          0.00020949456094174491
         ],
         "yaxis": "y"
        },
        {
         "hovertemplate": "finalName=Margaretta<br>birthYear=%{x}<br>pctYB=%{y}<extra></extra>",
         "legendgroup": "Margaretta",
         "marker": {
          "color": "#636efa",
          "symbol": "circle"
         },
         "mode": "markers",
         "name": "Margaretta",
         "orientation": "v",
         "showlegend": true,
         "type": "scatter",
         "x": [
          "1942"
         ],
         "xaxis": "x",
         "y": [
          2.085615224128123e-05
         ],
         "yaxis": "y"
        },
        {
         "hovertemplate": "finalName=Vinod<br>birthYear=%{x}<br>pctYB=%{y}<extra></extra>",
         "legendgroup": "Vinod",
         "marker": {
          "color": "#EF553B",
          "symbol": "circle"
         },
         "mode": "markers",
         "name": "Vinod",
         "orientation": "v",
         "showlegend": true,
         "type": "scatter",
         "x": [
          "1955"
         ],
         "xaxis": "x",
         "y": [
          0
         ],
         "yaxis": "y"
        },
        {
         "hovertemplate": "finalName=Todd<br>birthYear=%{x}<br>pctYB=%{y}<extra></extra>",
         "legendgroup": "Todd",
         "marker": {
          "color": "#00cc96",
          "symbol": "circle"
         },
         "mode": "markers",
         "name": "Todd",
         "orientation": "v",
         "showlegend": true,
         "type": "scatter",
         "x": [
          "1973",
          "1962",
          "1964"
         ],
         "xaxis": "x",
         "y": [
          0.0053774465678199474,
          0.006063169232115911,
          0.007572457780748465
         ],
         "yaxis": "y"
        },
        {
         "hovertemplate": "finalName=Lynda<br>birthYear=%{x}<br>pctYB=%{y}<extra></extra>",
         "legendgroup": "Lynda",
         "marker": {
          "color": "#ab63fa",
          "symbol": "circle"
         },
         "mode": "markers",
         "name": "Lynda",
         "orientation": "v",
         "showlegend": true,
         "type": "scatter",
         "x": [
          "1943"
         ],
         "xaxis": "x",
         "y": [
          0.0016804099865957347
         ],
         "yaxis": "y"
        },
        {
         "hovertemplate": "finalName=Stewart<br>birthYear=%{x}<br>pctYB=%{y}<extra></extra>",
         "legendgroup": "Stewart",
         "marker": {
          "color": "#FFA15A",
          "symbol": "circle"
         },
         "mode": "markers",
         "name": "Stewart",
         "orientation": "v",
         "showlegend": true,
         "type": "scatter",
         "x": [
          "1936",
          "1946"
         ],
         "xaxis": "x",
         "y": [
          0.0002574508048156455,
          0.00023449969157534107
         ],
         "yaxis": "y"
        },
        {
         "hovertemplate": "finalName=Jane<br>birthYear=%{x}<br>pctYB=%{y}<extra></extra>",
         "legendgroup": "Jane",
         "marker": {
          "color": "#19d3f3",
          "symbol": "circle"
         },
         "mode": "markers",
         "name": "Jane",
         "orientation": "v",
         "showlegend": true,
         "type": "scatter",
         "x": [
          "1973"
         ],
         "xaxis": "x",
         "y": [
          0.0006170619230326245
         ],
         "yaxis": "y"
        },
        {
         "hovertemplate": "finalName=Gary<br>birthYear=%{x}<br>pctYB=%{y}<extra></extra>",
         "legendgroup": "Gary",
         "marker": {
          "color": "#FF6692",
          "symbol": "circle"
         },
         "mode": "markers",
         "name": "Gary",
         "orientation": "v",
         "showlegend": true,
         "type": "scatter",
         "x": [
          "1944",
          "1993"
         ],
         "xaxis": "x",
         "y": [
          0.014440118751781708,
          0.0009998344099911782
         ],
         "yaxis": "y"
        },
        {
         "hovertemplate": "finalName=Elizabeth<br>birthYear=%{x}<br>pctYB=%{y}<extra></extra>",
         "legendgroup": "Elizabeth",
         "marker": {
          "color": "#B6E880",
          "symbol": "circle"
         },
         "mode": "markers",
         "name": "Elizabeth",
         "orientation": "v",
         "showlegend": true,
         "type": "scatter",
         "x": [
          "1963",
          "1945"
         ],
         "xaxis": "x",
         "y": [
          0.008848302243638915,
          0.007682953011558602
         ],
         "yaxis": "y"
        },
        {
         "hovertemplate": "finalName=Sami<br>birthYear=%{x}<br>pctYB=%{y}<extra></extra>",
         "legendgroup": "Sami",
         "marker": {
          "color": "#FF97FF",
          "symbol": "circle"
         },
         "mode": "markers",
         "name": "Sami",
         "orientation": "v",
         "showlegend": true,
         "type": "scatter",
         "x": [
          "1961"
         ],
         "xaxis": "x",
         "y": [
          3.2464355297324798e-06
         ],
         "yaxis": "y"
        },
        {
         "hovertemplate": "finalName=Anthony<br>birthYear=%{x}<br>pctYB=%{y}<extra></extra>",
         "legendgroup": "Anthony",
         "marker": {
          "color": "#FECB52",
          "symbol": "circle"
         },
         "mode": "markers",
         "name": "Anthony",
         "orientation": "v",
         "showlegend": true,
         "type": "scatter",
         "x": [
          "1957",
          "1961"
         ],
         "xaxis": "x",
         "y": [
          0.007788359188650504,
          0.009364111397261215
         ],
         "yaxis": "y"
        },
        {
         "hovertemplate": "finalName=Romesh<br>birthYear=%{x}<br>pctYB=%{y}<extra></extra>",
         "legendgroup": "Romesh",
         "marker": {
          "color": "#636efa",
          "symbol": "circle"
         },
         "mode": "markers",
         "name": "Romesh",
         "orientation": "v",
         "showlegend": true,
         "type": "scatter",
         "x": [
          "1947"
         ],
         "xaxis": "x",
         "y": [
          null
         ],
         "yaxis": "y"
        },
        {
         "hovertemplate": "finalName=Denise<br>birthYear=%{x}<br>pctYB=%{y}<extra></extra>",
         "legendgroup": "Denise",
         "marker": {
          "color": "#EF553B",
          "symbol": "circle"
         },
         "mode": "markers",
         "name": "Denise",
         "orientation": "v",
         "showlegend": true,
         "type": "scatter",
         "x": [
          "1950"
         ],
         "xaxis": "x",
         "y": [
          0.0025669312831244455
         ],
         "yaxis": "y"
        },
        {
         "hovertemplate": "finalName=Bert<br>birthYear=%{x}<br>pctYB=%{y}<extra></extra>",
         "legendgroup": "Bert",
         "marker": {
          "color": "#00cc96",
          "symbol": "circle"
         },
         "mode": "markers",
         "name": "Bert",
         "orientation": "v",
         "showlegend": true,
         "type": "scatter",
         "x": [
          "1962"
         ],
         "xaxis": "x",
         "y": [
          0.00017173825757503677
         ],
         "yaxis": "y"
        },
        {
         "hovertemplate": "finalName=Joseph<br>birthYear=%{x}<br>pctYB=%{y}<extra></extra>",
         "legendgroup": "Joseph",
         "marker": {
          "color": "#ab63fa",
          "symbol": "circle"
         },
         "mode": "markers",
         "name": "Joseph",
         "orientation": "v",
         "showlegend": true,
         "type": "scatter",
         "x": [
          "1956",
          "1968",
          "1961",
          "1949",
          "1941"
         ],
         "xaxis": "x",
         "y": [
          0.01526121892225299,
          0.014303492392418321,
          0.013658681826593038,
          0.01465299039431106,
          0.01578356787531898
         ],
         "yaxis": "y"
        },
        {
         "hovertemplate": "finalName=Janice<br>birthYear=%{x}<br>pctYB=%{y}<extra></extra>",
         "legendgroup": "Janice",
         "marker": {
          "color": "#FFA15A",
          "symbol": "circle"
         },
         "mode": "markers",
         "name": "Janice",
         "orientation": "v",
         "showlegend": true,
         "type": "scatter",
         "x": [
          "1936"
         ],
         "xaxis": "x",
         "y": [
          0.005706543174931673
         ],
         "yaxis": "y"
        },
        {
         "hovertemplate": "finalName=Hendrik<br>birthYear=%{x}<br>pctYB=%{y}<extra></extra>",
         "legendgroup": "Hendrik",
         "marker": {
          "color": "#19d3f3",
          "symbol": "circle"
         },
         "mode": "markers",
         "name": "Hendrik",
         "orientation": "v",
         "showlegend": true,
         "type": "scatter",
         "x": [
          "1952"
         ],
         "xaxis": "x",
         "y": [
          0
         ],
         "yaxis": "y"
        },
        {
         "hovertemplate": "finalName=Ronald<br>birthYear=%{x}<br>pctYB=%{y}<extra></extra>",
         "legendgroup": "Ronald",
         "marker": {
          "color": "#FF6692",
          "symbol": "circle"
         },
         "mode": "markers",
         "name": "Ronald",
         "orientation": "v",
         "showlegend": true,
         "type": "scatter",
         "x": [
          "1943",
          "1941",
          "1944",
          "1952"
         ],
         "xaxis": "x",
         "y": [
          0.020100360867374194,
          0.01944873468463945,
          0.018366356733346963,
          0.014088325556316816
         ],
         "yaxis": "y"
        },
        {
         "hovertemplate": "finalName=Fisk<br>birthYear=%{x}<br>pctYB=%{y}<extra></extra>",
         "legendgroup": "Fisk",
         "marker": {
          "color": "#B6E880",
          "symbol": "circle"
         },
         "mode": "markers",
         "name": "Fisk",
         "orientation": "v",
         "showlegend": true,
         "type": "scatter",
         "x": [
          "1958"
         ],
         "xaxis": "x",
         "y": [
          null
         ],
         "yaxis": "y"
        },
        {
         "hovertemplate": "finalName=Curtis<br>birthYear=%{x}<br>pctYB=%{y}<extra></extra>",
         "legendgroup": "Curtis",
         "marker": {
          "color": "#FF97FF",
          "symbol": "circle"
         },
         "mode": "markers",
         "name": "Curtis",
         "orientation": "v",
         "showlegend": true,
         "type": "scatter",
         "x": [
          "1955"
         ],
         "xaxis": "x",
         "y": [
          0.002381874979070691
         ],
         "yaxis": "y"
        },
        {
         "hovertemplate": "finalName=Helen<br>birthYear=%{x}<br>pctYB=%{y}<extra></extra>",
         "legendgroup": "Helen",
         "marker": {
          "color": "#FECB52",
          "symbol": "circle"
         },
         "mode": "markers",
         "name": "Helen",
         "orientation": "v",
         "showlegend": true,
         "type": "scatter",
         "x": [
          "1956"
         ],
         "xaxis": "x",
         "y": [
          0.0025634216241120877
         ],
         "yaxis": "y"
        },
        {
         "hovertemplate": "finalName=Winifred<br>birthYear=%{x}<br>pctYB=%{y}<extra></extra>",
         "legendgroup": "Winifred",
         "marker": {
          "color": "#636efa",
          "symbol": "circle"
         },
         "mode": "markers",
         "name": "Winifred",
         "orientation": "v",
         "showlegend": true,
         "type": "scatter",
         "x": [
          "1959"
         ],
         "xaxis": "x",
         "y": [
          9.333487929250237e-05
         ],
         "yaxis": "y"
        },
        {
         "hovertemplate": "finalName=Barry<br>birthYear=%{x}<br>pctYB=%{y}<extra></extra>",
         "legendgroup": "Barry",
         "marker": {
          "color": "#EF553B",
          "symbol": "circle"
         },
         "mode": "markers",
         "name": "Barry",
         "orientation": "v",
         "showlegend": true,
         "type": "scatter",
         "x": [
          "1960",
          "1942"
         ],
         "xaxis": "x",
         "y": [
          0.0026476639549624648,
          0.0022772945144683117
         ],
         "yaxis": "y"
        },
        {
         "hovertemplate": "finalName=Gayle<br>birthYear=%{x}<br>pctYB=%{y}<extra></extra>",
         "legendgroup": "Gayle",
         "marker": {
          "color": "#00cc96",
          "symbol": "circle"
         },
         "mode": "markers",
         "name": "Gayle",
         "orientation": "v",
         "showlegend": true,
         "type": "scatter",
         "x": [
          "1947"
         ],
         "xaxis": "x",
         "y": [
          0.0013669972214474988
         ],
         "yaxis": "y"
        },
        {
         "hovertemplate": "finalName=Fred<br>birthYear=%{x}<br>pctYB=%{y}<extra></extra>",
         "legendgroup": "Fred",
         "marker": {
          "color": "#ab63fa",
          "symbol": "circle"
         },
         "mode": "markers",
         "name": "Fred",
         "orientation": "v",
         "showlegend": true,
         "type": "scatter",
         "x": [
          "1944"
         ],
         "xaxis": "x",
         "y": [
          0.004016223267171352
         ],
         "yaxis": "y"
        },
        {
         "hovertemplate": "finalName=Dagmar<br>birthYear=%{x}<br>pctYB=%{y}<extra></extra>",
         "legendgroup": "Dagmar",
         "marker": {
          "color": "#FFA15A",
          "symbol": "circle"
         },
         "mode": "markers",
         "name": "Dagmar",
         "orientation": "v",
         "showlegend": true,
         "type": "scatter",
         "x": [
          "1941"
         ],
         "xaxis": "x",
         "y": [
          0
         ],
         "yaxis": "y"
        },
        {
         "hovertemplate": "finalName=Gwendolyn<br>birthYear=%{x}<br>pctYB=%{y}<extra></extra>",
         "legendgroup": "Gwendolyn",
         "marker": {
          "color": "#19d3f3",
          "symbol": "circle"
         },
         "mode": "markers",
         "name": "Gwendolyn",
         "orientation": "v",
         "showlegend": true,
         "type": "scatter",
         "x": [
          "1961"
         ],
         "xaxis": "x",
         "y": [
          0.001219739458258474
         ],
         "yaxis": "y"
        },
        {
         "hovertemplate": "finalName=Kelcy<br>birthYear=%{x}<br>pctYB=%{y}<extra></extra>",
         "legendgroup": "Kelcy",
         "marker": {
          "color": "#FF6692",
          "symbol": "circle"
         },
         "mode": "markers",
         "name": "Kelcy",
         "orientation": "v",
         "showlegend": true,
         "type": "scatter",
         "x": [
          "1955"
         ],
         "xaxis": "x",
         "y": [
          0
         ],
         "yaxis": "y"
        },
        {
         "hovertemplate": "finalName=Russ<br>birthYear=%{x}<br>pctYB=%{y}<extra></extra>",
         "legendgroup": "Russ",
         "marker": {
          "color": "#B6E880",
          "symbol": "circle"
         },
         "mode": "markers",
         "name": "Russ",
         "orientation": "v",
         "showlegend": true,
         "type": "scatter",
         "x": [
          "1970"
         ],
         "xaxis": "x",
         "y": [
          6.665368581761768e-05
         ],
         "yaxis": "y"
        },
        {
         "hovertemplate": "finalName=Margot<br>birthYear=%{x}<br>pctYB=%{y}<extra></extra>",
         "legendgroup": "Margot",
         "marker": {
          "color": "#FF97FF",
          "symbol": "circle"
         },
         "mode": "markers",
         "name": "Margot",
         "orientation": "v",
         "showlegend": true,
         "type": "scatter",
         "x": [
          "1933"
         ],
         "xaxis": "x",
         "y": [
          0.00010229308594340038
         ],
         "yaxis": "y"
        },
        {
         "hovertemplate": "finalName=Nick<br>birthYear=%{x}<br>pctYB=%{y}<extra></extra>",
         "legendgroup": "Nick",
         "marker": {
          "color": "#FECB52",
          "symbol": "circle"
         },
         "mode": "markers",
         "name": "Nick",
         "orientation": "v",
         "showlegend": true,
         "type": "scatter",
         "x": [
          "1936"
         ],
         "xaxis": "x",
         "y": [
          0.0003955722219977619
         ],
         "yaxis": "y"
        },
        {
         "hovertemplate": "finalName=Mathew<br>birthYear=%{x}<br>pctYB=%{y}<extra></extra>",
         "legendgroup": "Mathew",
         "marker": {
          "color": "#636efa",
          "symbol": "circle"
         },
         "mode": "markers",
         "name": "Mathew",
         "orientation": "v",
         "showlegend": true,
         "type": "scatter",
         "x": [
          "1980"
         ],
         "xaxis": "x",
         "y": [
          0.0007190052933665563
         ],
         "yaxis": "y"
        },
        {
         "hovertemplate": "finalName=Neal<br>birthYear=%{x}<br>pctYB=%{y}<extra></extra>",
         "legendgroup": "Neal",
         "marker": {
          "color": "#EF553B",
          "symbol": "circle"
         },
         "mode": "markers",
         "name": "Neal",
         "orientation": "v",
         "showlegend": true,
         "type": "scatter",
         "x": [
          "1935"
         ],
         "xaxis": "x",
         "y": [
          0.00038801619009240393
         ],
         "yaxis": "y"
        },
        {
         "hovertemplate": "finalName=Behdad<br>birthYear=%{x}<br>pctYB=%{y}<extra></extra>",
         "legendgroup": "Behdad",
         "marker": {
          "color": "#00cc96",
          "symbol": "circle"
         },
         "mode": "markers",
         "name": "Behdad",
         "orientation": "v",
         "showlegend": true,
         "type": "scatter",
         "x": [
          "1976"
         ],
         "xaxis": "x",
         "y": [
          null
         ],
         "yaxis": "y"
        },
        {
         "hovertemplate": "finalName=Jose<br>birthYear=%{x}<br>pctYB=%{y}<extra></extra>",
         "legendgroup": "Jose",
         "marker": {
          "color": "#ab63fa",
          "symbol": "circle"
         },
         "mode": "markers",
         "name": "Jose",
         "orientation": "v",
         "showlegend": true,
         "type": "scatter",
         "x": [
          "1973"
         ],
         "xaxis": "x",
         "y": [
          0.0037766030273537325
         ],
         "yaxis": "y"
        },
        {
         "hovertemplate": "finalName=Ernest<br>birthYear=%{x}<br>pctYB=%{y}<extra></extra>",
         "legendgroup": "Ernest",
         "marker": {
          "color": "#FFA15A",
          "symbol": "circle"
         },
         "mode": "markers",
         "name": "Ernest",
         "orientation": "v",
         "showlegend": true,
         "type": "scatter",
         "x": [
          "1957"
         ],
         "xaxis": "x",
         "y": [
          0.0017280550491337102
         ],
         "yaxis": "y"
        },
        {
         "hovertemplate": "finalName=Marian<br>birthYear=%{x}<br>pctYB=%{y}<extra></extra>",
         "legendgroup": "Marian",
         "marker": {
          "color": "#19d3f3",
          "symbol": "circle"
         },
         "mode": "markers",
         "name": "Marian",
         "orientation": "v",
         "showlegend": true,
         "type": "scatter",
         "x": [
          "1933"
         ],
         "xaxis": "x",
         "y": [
          0.002521954773071871
         ],
         "yaxis": "y"
        },
        {
         "hovertemplate": "finalName=Isaac<br>birthYear=%{x}<br>pctYB=%{y}<extra></extra>",
         "legendgroup": "Isaac",
         "marker": {
          "color": "#FF6692",
          "symbol": "circle"
         },
         "mode": "markers",
         "name": "Isaac",
         "orientation": "v",
         "showlegend": true,
         "type": "scatter",
         "x": [
          "1942"
         ],
         "xaxis": "x",
         "y": [
          0.000318835434049352
         ],
         "yaxis": "y"
        },
        {
         "hovertemplate": "finalName=Benjamin<br>birthYear=%{x}<br>pctYB=%{y}<extra></extra>",
         "legendgroup": "Benjamin",
         "marker": {
          "color": "#B6E880",
          "symbol": "circle"
         },
         "mode": "markers",
         "name": "Benjamin",
         "orientation": "v",
         "showlegend": true,
         "type": "scatter",
         "x": [
          "1974"
         ],
         "xaxis": "x",
         "y": [
          0.004406677594442165
         ],
         "yaxis": "y"
        },
        {
         "hovertemplate": "finalName=Johnelle<br>birthYear=%{x}<br>pctYB=%{y}<extra></extra>",
         "legendgroup": "Johnelle",
         "marker": {
          "color": "#FF97FF",
          "symbol": "circle"
         },
         "mode": "markers",
         "name": "Johnelle",
         "orientation": "v",
         "showlegend": true,
         "type": "scatter",
         "x": [
          "1932"
         ],
         "xaxis": "x",
         "y": [
          0
         ],
         "yaxis": "y"
        },
        {
         "hovertemplate": "finalName=Dan<br>birthYear=%{x}<br>pctYB=%{y}<extra></extra>",
         "legendgroup": "Dan",
         "marker": {
          "color": "#FECB52",
          "symbol": "circle"
         },
         "mode": "markers",
         "name": "Dan",
         "orientation": "v",
         "showlegend": true,
         "type": "scatter",
         "x": [
          "1971"
         ],
         "xaxis": "x",
         "y": [
          0.0004960571158623337
         ],
         "yaxis": "y"
        },
        {
         "hovertemplate": "finalName=Thai<br>birthYear=%{x}<br>pctYB=%{y}<extra></extra>",
         "legendgroup": "Thai",
         "marker": {
          "color": "#636efa",
          "symbol": "circle"
         },
         "mode": "markers",
         "name": "Thai",
         "orientation": "v",
         "showlegend": true,
         "type": "scatter",
         "x": [
          "1958"
         ],
         "xaxis": "x",
         "y": [
          0
         ],
         "yaxis": "y"
        },
        {
         "hovertemplate": "finalName=Bin<br>birthYear=%{x}<br>pctYB=%{y}<extra></extra>",
         "legendgroup": "Bin",
         "marker": {
          "color": "#EF553B",
          "symbol": "circle"
         },
         "mode": "markers",
         "name": "Bin",
         "orientation": "v",
         "showlegend": true,
         "type": "scatter",
         "x": [
          "1968"
         ],
         "xaxis": "x",
         "y": [
          0
         ],
         "yaxis": "y"
        },
        {
         "hovertemplate": "finalName=Lynsi<br>birthYear=%{x}<br>pctYB=%{y}<extra></extra>",
         "legendgroup": "Lynsi",
         "marker": {
          "color": "#00cc96",
          "symbol": "circle"
         },
         "mode": "markers",
         "name": "Lynsi",
         "orientation": "v",
         "showlegend": true,
         "type": "scatter",
         "x": [
          "1982"
         ],
         "xaxis": "x",
         "y": [
          9.920984867191083e-06
         ],
         "yaxis": "y"
        },
        {
         "hovertemplate": "finalName=Peter<br>birthYear=%{x}<br>pctYB=%{y}<extra></extra>",
         "legendgroup": "Peter",
         "marker": {
          "color": "#ab63fa",
          "symbol": "circle"
         },
         "mode": "markers",
         "name": "Peter",
         "orientation": "v",
         "showlegend": true,
         "type": "scatter",
         "x": [
          "1967",
          "1965",
          "1942"
         ],
         "xaxis": "x",
         "y": [
          0.004675559651173245,
          0.004957948470054678,
          0.004677436534706195
         ],
         "yaxis": "y"
        },
        {
         "hovertemplate": "finalName=Herbert<br>birthYear=%{x}<br>pctYB=%{y}<extra></extra>",
         "legendgroup": "Herbert",
         "marker": {
          "color": "#FFA15A",
          "symbol": "circle"
         },
         "mode": "markers",
         "name": "Herbert",
         "orientation": "v",
         "showlegend": true,
         "type": "scatter",
         "x": [
          "1939",
          "1929"
         ],
         "xaxis": "x",
         "y": [
          0.0027336532301757196,
          0.007113289907867593
         ],
         "yaxis": "y"
        },
        {
         "hovertemplate": "finalName=Austen<br>birthYear=%{x}<br>pctYB=%{y}<extra></extra>",
         "legendgroup": "Austen",
         "marker": {
          "color": "#19d3f3",
          "symbol": "circle"
         },
         "mode": "markers",
         "name": "Austen",
         "orientation": "v",
         "showlegend": true,
         "type": "scatter",
         "x": [
          "1951"
         ],
         "xaxis": "x",
         "y": [
          0
         ],
         "yaxis": "y"
        },
        {
         "hovertemplate": "finalName=Rakesh<br>birthYear=%{x}<br>pctYB=%{y}<extra></extra>",
         "legendgroup": "Rakesh",
         "marker": {
          "color": "#FF6692",
          "symbol": "circle"
         },
         "mode": "markers",
         "name": "Rakesh",
         "orientation": "v",
         "showlegend": true,
         "type": "scatter",
         "x": [
          "1953"
         ],
         "xaxis": "x",
         "y": [
          0
         ],
         "yaxis": "y"
        },
        {
         "hovertemplate": "finalName=Marianne<br>birthYear=%{x}<br>pctYB=%{y}<extra></extra>",
         "legendgroup": "Marianne",
         "marker": {
          "color": "#B6E880",
          "symbol": "circle"
         },
         "mode": "markers",
         "name": "Marianne",
         "orientation": "v",
         "showlegend": true,
         "type": "scatter",
         "x": [
          "1953"
         ],
         "xaxis": "x",
         "y": [
          0.0008551447060323463
         ],
         "yaxis": "y"
        },
        {
         "hovertemplate": "finalName=Arturo<br>birthYear=%{x}<br>pctYB=%{y}<extra></extra>",
         "legendgroup": "Arturo",
         "marker": {
          "color": "#FF97FF",
          "symbol": "circle"
         },
         "mode": "markers",
         "name": "Arturo",
         "orientation": "v",
         "showlegend": true,
         "type": "scatter",
         "x": [
          "1946"
         ],
         "xaxis": "x",
         "y": [
          0.00017087574424869814
         ],
         "yaxis": "y"
        },
        {
         "hovertemplate": "finalName=Ty<br>birthYear=%{x}<br>pctYB=%{y}<extra></extra>",
         "legendgroup": "Ty",
         "marker": {
          "color": "#FECB52",
          "symbol": "circle"
         },
         "mode": "markers",
         "name": "Ty",
         "orientation": "v",
         "showlegend": true,
         "type": "scatter",
         "x": [
          "1944"
         ],
         "xaxis": "x",
         "y": [
          1.0798234272731723e-05
         ],
         "yaxis": "y"
        },
        {
         "hovertemplate": "finalName=Hayes<br>birthYear=%{x}<br>pctYB=%{y}<extra></extra>",
         "legendgroup": "Hayes",
         "marker": {
          "color": "#636efa",
          "symbol": "circle"
         },
         "mode": "markers",
         "name": "Hayes",
         "orientation": "v",
         "showlegend": true,
         "type": "scatter",
         "x": [
          "1972"
         ],
         "xaxis": "x",
         "y": [
          1.7915260816338718e-05
         ],
         "yaxis": "y"
        },
        {
         "hovertemplate": "finalName=Jeremy<br>birthYear=%{x}<br>pctYB=%{y}<extra></extra>",
         "legendgroup": "Jeremy",
         "marker": {
          "color": "#EF553B",
          "symbol": "circle"
         },
         "mode": "markers",
         "name": "Jeremy",
         "orientation": "v",
         "showlegend": true,
         "type": "scatter",
         "x": [
          "1940"
         ],
         "xaxis": "x",
         "y": [
          3.20370685745022e-05
         ],
         "yaxis": "y"
        },
        {
         "hovertemplate": "finalName=Travis<br>birthYear=%{x}<br>pctYB=%{y}<extra></extra>",
         "legendgroup": "Travis",
         "marker": {
          "color": "#00cc96",
          "symbol": "circle"
         },
         "mode": "markers",
         "name": "Travis",
         "orientation": "v",
         "showlegend": true,
         "type": "scatter",
         "x": [
          "1976"
         ],
         "xaxis": "x",
         "y": [
          0.004185763139444817
         ],
         "yaxis": "y"
        },
        {
         "hovertemplate": "finalName=Min<br>birthYear=%{x}<br>pctYB=%{y}<extra></extra>",
         "legendgroup": "Min",
         "marker": {
          "color": "#ab63fa",
          "symbol": "circle"
         },
         "mode": "markers",
         "name": "Min",
         "orientation": "v",
         "showlegend": true,
         "type": "scatter",
         "x": [
          "1949"
         ],
         "xaxis": "x",
         "y": [
          0
         ],
         "yaxis": "y"
        },
        {
         "hovertemplate": "finalName=Gail<br>birthYear=%{x}<br>pctYB=%{y}<extra></extra>",
         "legendgroup": "Gail",
         "marker": {
          "color": "#FFA15A",
          "symbol": "circle"
         },
         "mode": "markers",
         "name": "Gail",
         "orientation": "v",
         "showlegend": true,
         "type": "scatter",
         "x": [
          "1943"
         ],
         "xaxis": "x",
         "y": [
          0.0033503696623295555
         ],
         "yaxis": "y"
        },
        {
         "hovertemplate": "finalName=Trevor<br>birthYear=%{x}<br>pctYB=%{y}<extra></extra>",
         "legendgroup": "Trevor",
         "marker": {
          "color": "#19d3f3",
          "symbol": "circle"
         },
         "mode": "markers",
         "name": "Trevor",
         "orientation": "v",
         "showlegend": true,
         "type": "scatter",
         "x": [
          "1951"
         ],
         "xaxis": "x",
         "y": [
          2.2492810147082053e-05
         ],
         "yaxis": "y"
        },
        {
         "hovertemplate": "finalName=Mary Alice<br>birthYear=%{x}<br>pctYB=%{y}<extra></extra>",
         "legendgroup": "Mary Alice",
         "marker": {
          "color": "#FF6692",
          "symbol": "circle"
         },
         "mode": "markers",
         "name": "Mary Alice",
         "orientation": "v",
         "showlegend": true,
         "type": "scatter",
         "x": [
          "1950"
         ],
         "xaxis": "x",
         "y": [
          null
         ],
         "yaxis": "y"
        },
        {
         "hovertemplate": "finalName=Gabriel<br>birthYear=%{x}<br>pctYB=%{y}<extra></extra>",
         "legendgroup": "Gabriel",
         "marker": {
          "color": "#B6E880",
          "symbol": "circle"
         },
         "mode": "markers",
         "name": "Gabriel",
         "orientation": "v",
         "showlegend": true,
         "type": "scatter",
         "x": [
          "1962"
         ],
         "xaxis": "x",
         "y": [
          0.00027211712834604164
         ],
         "yaxis": "y"
        },
        {
         "hovertemplate": "finalName=Martha<br>birthYear=%{x}<br>pctYB=%{y}<extra></extra>",
         "legendgroup": "Martha",
         "marker": {
          "color": "#FF97FF",
          "symbol": "circle"
         },
         "mode": "markers",
         "name": "Martha",
         "orientation": "v",
         "showlegend": true,
         "type": "scatter",
         "x": [
          "1935"
         ],
         "xaxis": "x",
         "y": [
          0.007011758037296664
         ],
         "yaxis": "y"
        },
        {
         "hovertemplate": "finalName=Bradley<br>birthYear=%{x}<br>pctYB=%{y}<extra></extra>",
         "legendgroup": "Bradley",
         "marker": {
          "color": "#FECB52",
          "symbol": "circle"
         },
         "mode": "markers",
         "name": "Bradley",
         "orientation": "v",
         "showlegend": true,
         "type": "scatter",
         "x": [
          "1956"
         ],
         "xaxis": "x",
         "y": [
          0.001638907419899448
         ],
         "yaxis": "y"
        },
        {
         "hovertemplate": "finalName=Ross<br>birthYear=%{x}<br>pctYB=%{y}<extra></extra>",
         "legendgroup": "Ross",
         "marker": {
          "color": "#636efa",
          "symbol": "circle"
         },
         "mode": "markers",
         "name": "Ross",
         "orientation": "v",
         "showlegend": true,
         "type": "scatter",
         "x": [
          "1958"
         ],
         "xaxis": "x",
         "y": [
          0.00047964882091361725
         ],
         "yaxis": "y"
        },
        {
         "hovertemplate": "finalName=Jean<br>birthYear=%{x}<br>pctYB=%{y}<extra></extra>",
         "legendgroup": "Jean",
         "marker": {
          "color": "#EF553B",
          "symbol": "circle"
         },
         "mode": "markers",
         "name": "Jean",
         "orientation": "v",
         "showlegend": true,
         "type": "scatter",
         "x": [
          "1962"
         ],
         "xaxis": "x",
         "y": [
          0.0024080134900063247
         ],
         "yaxis": "y"
        },
        {
         "hovertemplate": "finalName=Sid<br>birthYear=%{x}<br>pctYB=%{y}<extra></extra>",
         "legendgroup": "Sid",
         "marker": {
          "color": "#00cc96",
          "symbol": "circle"
         },
         "mode": "markers",
         "name": "Sid",
         "orientation": "v",
         "showlegend": true,
         "type": "scatter",
         "x": [
          "1942"
         ],
         "xaxis": "x",
         "y": [
          2.6273744008521215e-05
         ],
         "yaxis": "y"
        },
        {
         "hovertemplate": "finalName=Jim<br>birthYear=%{x}<br>pctYB=%{y}<extra></extra>",
         "legendgroup": "Jim",
         "marker": {
          "color": "#ab63fa",
          "symbol": "circle"
         },
         "mode": "markers",
         "name": "Jim",
         "orientation": "v",
         "showlegend": true,
         "type": "scatter",
         "x": [
          "1962"
         ],
         "xaxis": "x",
         "y": [
          0.0022402090164012414
         ],
         "yaxis": "y"
        },
        {
         "hovertemplate": "finalName=Pablo<br>birthYear=%{x}<br>pctYB=%{y}<extra></extra>",
         "legendgroup": "Pablo",
         "marker": {
          "color": "#FFA15A",
          "symbol": "circle"
         },
         "mode": "markers",
         "name": "Pablo",
         "orientation": "v",
         "showlegend": true,
         "type": "scatter",
         "x": [
          "1963"
         ],
         "xaxis": "x",
         "y": [
          0.00011961143233479579
         ],
         "yaxis": "y"
        },
        {
         "hovertemplate": "finalName=Jerry<br>birthYear=%{x}<br>pctYB=%{y}<extra></extra>",
         "legendgroup": "Jerry",
         "marker": {
          "color": "#19d3f3",
          "symbol": "circle"
         },
         "mode": "markers",
         "name": "Jerry",
         "orientation": "v",
         "showlegend": true,
         "type": "scatter",
         "x": [
          "1940"
         ],
         "xaxis": "x",
         "y": [
          0.012822415156568526
         ],
         "yaxis": "y"
        },
        {
         "hovertemplate": "finalName=Vincent<br>birthYear=%{x}<br>pctYB=%{y}<extra></extra>",
         "legendgroup": "Vincent",
         "marker": {
          "color": "#FF6692",
          "symbol": "circle"
         },
         "mode": "markers",
         "name": "Vincent",
         "orientation": "v",
         "showlegend": true,
         "type": "scatter",
         "x": [
          "1956"
         ],
         "xaxis": "x",
         "y": [
          0.0017511804978402573
         ],
         "yaxis": "y"
        },
        {
         "hovertemplate": "finalName=Hamilton<br>birthYear=%{x}<br>pctYB=%{y}<extra></extra>",
         "legendgroup": "Hamilton",
         "marker": {
          "color": "#B6E880",
          "symbol": "circle"
         },
         "mode": "markers",
         "name": "Hamilton",
         "orientation": "v",
         "showlegend": true,
         "type": "scatter",
         "x": [
          "1951"
         ],
         "xaxis": "x",
         "y": [
          1.830810128250865e-05
         ],
         "yaxis": "y"
        },
        {
         "hovertemplate": "finalName=Ira<br>birthYear=%{x}<br>pctYB=%{y}<extra></extra>",
         "legendgroup": "Ira",
         "marker": {
          "color": "#FF97FF",
          "symbol": "circle"
         },
         "mode": "markers",
         "name": "Ira",
         "orientation": "v",
         "showlegend": true,
         "type": "scatter",
         "x": [
          "1934"
         ],
         "xaxis": "x",
         "y": [
          0.0005367863449087699
         ],
         "yaxis": "y"
        },
        {
         "hovertemplate": "finalName=Jon<br>birthYear=%{x}<br>pctYB=%{y}<extra></extra>",
         "legendgroup": "Jon",
         "marker": {
          "color": "#FECB52",
          "symbol": "circle"
         },
         "mode": "markers",
         "name": "Jon",
         "orientation": "v",
         "showlegend": true,
         "type": "scatter",
         "x": [
          "1958",
          "1957"
         ],
         "xaxis": "x",
         "y": [
          0.0015963529973872374,
          0.0015845455845931165
         ],
         "yaxis": "y"
        },
        {
         "hovertemplate": "finalName=Amos<br>birthYear=%{x}<br>pctYB=%{y}<extra></extra>",
         "legendgroup": "Amos",
         "marker": {
          "color": "#636efa",
          "symbol": "circle"
         },
         "mode": "markers",
         "name": "Amos",
         "orientation": "v",
         "showlegend": true,
         "type": "scatter",
         "x": [
          "1937"
         ],
         "xaxis": "x",
         "y": [
          0.0002633463086254146
         ],
         "yaxis": "y"
        },
        {
         "hovertemplate": "finalName=Robert <br>birthYear=%{x}<br>pctYB=%{y}<extra></extra>",
         "legendgroup": "Robert ",
         "marker": {
          "color": "#EF553B",
          "symbol": "circle"
         },
         "mode": "markers",
         "name": "Robert ",
         "orientation": "v",
         "showlegend": true,
         "type": "scatter",
         "x": [
          "1947"
         ],
         "xaxis": "x",
         "y": [
          null
         ],
         "yaxis": "y"
        },
        {
         "hovertemplate": "finalName=Aerin<br>birthYear=%{x}<br>pctYB=%{y}<extra></extra>",
         "legendgroup": "Aerin",
         "marker": {
          "color": "#00cc96",
          "symbol": "circle"
         },
         "mode": "markers",
         "name": "Aerin",
         "orientation": "v",
         "showlegend": true,
         "type": "scatter",
         "x": [
          "1970"
         ],
         "xaxis": "x",
         "y": [
          0
         ],
         "yaxis": "y"
        },
        {
         "hovertemplate": "finalName=Rodger<br>birthYear=%{x}<br>pctYB=%{y}<extra></extra>",
         "legendgroup": "Rodger",
         "marker": {
          "color": "#ab63fa",
          "symbol": "circle"
         },
         "mode": "markers",
         "name": "Rodger",
         "orientation": "v",
         "showlegend": true,
         "type": "scatter",
         "x": [
          "1946"
         ],
         "xaxis": "x",
         "y": [
          0.0003908328192922351
         ],
         "yaxis": "y"
        },
        {
         "hovertemplate": "finalName=Rodney<br>birthYear=%{x}<br>pctYB=%{y}<extra></extra>",
         "legendgroup": "Rodney",
         "marker": {
          "color": "#FFA15A",
          "symbol": "circle"
         },
         "mode": "markers",
         "name": "Rodney",
         "orientation": "v",
         "showlegend": true,
         "type": "scatter",
         "x": [
          "1949"
         ],
         "xaxis": "x",
         "y": [
          0.002123806780753993
         ],
         "yaxis": "y"
        },
        {
         "hovertemplate": "finalName=Howard<br>birthYear=%{x}<br>pctYB=%{y}<extra></extra>",
         "legendgroup": "Howard",
         "marker": {
          "color": "#19d3f3",
          "symbol": "circle"
         },
         "mode": "markers",
         "name": "Howard",
         "orientation": "v",
         "showlegend": true,
         "type": "scatter",
         "x": [
          "1953"
         ],
         "xaxis": "x",
         "y": [
          0.0024906905011147424
         ],
         "yaxis": "y"
        },
        {
         "hovertemplate": "finalName=Bennett<br>birthYear=%{x}<br>pctYB=%{y}<extra></extra>",
         "legendgroup": "Bennett",
         "marker": {
          "color": "#FF6692",
          "symbol": "circle"
         },
         "mode": "markers",
         "name": "Bennett",
         "orientation": "v",
         "showlegend": true,
         "type": "scatter",
         "x": [
          "1946"
         ],
         "xaxis": "x",
         "y": [
          7.937844856943069e-05
         ],
         "yaxis": "y"
        },
        {
         "hovertemplate": "finalName=Lynn<br>birthYear=%{x}<br>pctYB=%{y}<extra></extra>",
         "legendgroup": "Lynn",
         "marker": {
          "color": "#B6E880",
          "symbol": "circle"
         },
         "mode": "markers",
         "name": "Lynn",
         "orientation": "v",
         "showlegend": true,
         "type": "scatter",
         "x": [
          "1939"
         ],
         "xaxis": "x",
         "y": [
          0.0007680247743100562
         ],
         "yaxis": "y"
        },
        {
         "hovertemplate": "finalName=Herb<br>birthYear=%{x}<br>pctYB=%{y}<extra></extra>",
         "legendgroup": "Herb",
         "marker": {
          "color": "#FF97FF",
          "symbol": "circle"
         },
         "mode": "markers",
         "name": "Herb",
         "orientation": "v",
         "showlegend": true,
         "type": "scatter",
         "x": [
          "1934"
         ],
         "xaxis": "x",
         "y": [
          3.201883460859329e-05
         ],
         "yaxis": "y"
        },
        {
         "hovertemplate": "finalName=Steve<br>birthYear=%{x}<br>pctYB=%{y}<extra></extra>",
         "legendgroup": "Steve",
         "marker": {
          "color": "#FECB52",
          "symbol": "circle"
         },
         "mode": "markers",
         "name": "Steve",
         "orientation": "v",
         "showlegend": true,
         "type": "scatter",
         "x": [
          "1942"
         ],
         "xaxis": "x",
         "y": [
          0.0016872004260607136
         ],
         "yaxis": "y"
        },
        {
         "hovertemplate": "finalName=Bill<br>birthYear=%{x}<br>pctYB=%{y}<extra></extra>",
         "legendgroup": "Bill",
         "marker": {
          "color": "#636efa",
          "symbol": "circle"
         },
         "mode": "markers",
         "name": "Bill",
         "orientation": "v",
         "showlegend": true,
         "type": "scatter",
         "x": [
          "1942"
         ],
         "xaxis": "x",
         "y": [
          0.002694834013846973
         ],
         "yaxis": "y"
        },
        {
         "hovertemplate": "finalName=Nicolas<br>birthYear=%{x}<br>pctYB=%{y}<extra></extra>",
         "legendgroup": "Nicolas",
         "marker": {
          "color": "#EF553B",
          "symbol": "circle"
         },
         "mode": "markers",
         "name": "Nicolas",
         "orientation": "v",
         "showlegend": true,
         "type": "scatter",
         "x": [
          "1961"
         ],
         "xaxis": "x",
         "y": [
          4.962408595448219e-05
         ],
         "yaxis": "y"
        },
        {
         "hovertemplate": "finalName=Sheldon<br>birthYear=%{x}<br>pctYB=%{y}<extra></extra>",
         "legendgroup": "Sheldon",
         "marker": {
          "color": "#00cc96",
          "symbol": "circle"
         },
         "mode": "markers",
         "name": "Sheldon",
         "orientation": "v",
         "showlegend": true,
         "type": "scatter",
         "x": [
          "1932"
         ],
         "xaxis": "x",
         "y": [
          0.00039370261956506565
         ],
         "yaxis": "y"
        },
        {
         "hovertemplate": "finalName=Frank<br>birthYear=%{x}<br>pctYB=%{y}<extra></extra>",
         "legendgroup": "Frank",
         "marker": {
          "color": "#ab63fa",
          "symbol": "circle"
         },
         "mode": "markers",
         "name": "Frank",
         "orientation": "v",
         "showlegend": true,
         "type": "scatter",
         "x": [
          "1948"
         ],
         "xaxis": "x",
         "y": [
          0.007122887478796256
         ],
         "yaxis": "y"
        },
        {
         "hovertemplate": "finalName=Margaret<br>birthYear=%{x}<br>pctYB=%{y}<extra></extra>",
         "legendgroup": "Margaret",
         "marker": {
          "color": "#FFA15A",
          "symbol": "circle"
         },
         "mode": "markers",
         "name": "Margaret",
         "orientation": "v",
         "showlegend": true,
         "type": "scatter",
         "x": [
          "1956"
         ],
         "xaxis": "x",
         "y": [
          0.00675859705099704
         ],
         "yaxis": "y"
        },
        {
         "hovertemplate": "finalName=Penny<br>birthYear=%{x}<br>pctYB=%{y}<extra></extra>",
         "legendgroup": "Penny",
         "marker": {
          "color": "#19d3f3",
          "symbol": "circle"
         },
         "mode": "markers",
         "name": "Penny",
         "orientation": "v",
         "showlegend": true,
         "type": "scatter",
         "x": [
          "1959"
         ],
         "xaxis": "x",
         "y": [
          0.001807040240322881
         ],
         "yaxis": "y"
        },
        {
         "hovertemplate": "finalName=Phillip<br>birthYear=%{x}<br>pctYB=%{y}<extra></extra>",
         "legendgroup": "Phillip",
         "marker": {
          "color": "#FF6692",
          "symbol": "circle"
         },
         "mode": "markers",
         "name": "Phillip",
         "orientation": "v",
         "showlegend": true,
         "type": "scatter",
         "x": [
          "1935"
         ],
         "xaxis": "x",
         "y": [
          0.0016661321704690695
         ],
         "yaxis": "y"
        },
        {
         "hovertemplate": "finalName=Barbara<br>birthYear=%{x}<br>pctYB=%{y}<extra></extra>",
         "legendgroup": "Barbara",
         "marker": {
          "color": "#B6E880",
          "symbol": "circle"
         },
         "mode": "markers",
         "name": "Barbara",
         "orientation": "v",
         "showlegend": true,
         "type": "scatter",
         "x": [
          "1949"
         ],
         "xaxis": "x",
         "y": [
          0.024266245140342632
         ],
         "yaxis": "y"
        },
        {
         "hovertemplate": "finalName=Norman<br>birthYear=%{x}<br>pctYB=%{y}<extra></extra>",
         "legendgroup": "Norman",
         "marker": {
          "color": "#FF97FF",
          "symbol": "circle"
         },
         "mode": "markers",
         "name": "Norman",
         "orientation": "v",
         "showlegend": true,
         "type": "scatter",
         "x": [
          "1932"
         ],
         "xaxis": "x",
         "y": [
          0.004904064072076432
         ],
         "yaxis": "y"
        },
        {
         "hovertemplate": "finalName=John Paul<br>birthYear=%{x}<br>pctYB=%{y}<extra></extra>",
         "legendgroup": "John Paul",
         "marker": {
          "color": "#FECB52",
          "symbol": "circle"
         },
         "mode": "markers",
         "name": "John Paul",
         "orientation": "v",
         "showlegend": true,
         "type": "scatter",
         "x": [
          "1944"
         ],
         "xaxis": "x",
         "y": [
          null
         ],
         "yaxis": "y"
        },
        {
         "hovertemplate": "finalName=Bom<br>birthYear=%{x}<br>pctYB=%{y}<extra></extra>",
         "legendgroup": "Bom",
         "marker": {
          "color": "#636efa",
          "symbol": "circle"
         },
         "mode": "markers",
         "name": "Bom",
         "orientation": "v",
         "showlegend": true,
         "type": "scatter",
         "x": [
          "1978"
         ],
         "xaxis": "x",
         "y": [
          null
         ],
         "yaxis": "y"
        },
        {
         "hovertemplate": "finalName=Haim<br>birthYear=%{x}<br>pctYB=%{y}<extra></extra>",
         "legendgroup": "Haim",
         "marker": {
          "color": "#EF553B",
          "symbol": "circle"
         },
         "mode": "markers",
         "name": "Haim",
         "orientation": "v",
         "showlegend": true,
         "type": "scatter",
         "x": [
          "1944"
         ],
         "xaxis": "x",
         "y": [
          0
         ],
         "yaxis": "y"
        },
        {
         "hovertemplate": "finalName=Eleanor<br>birthYear=%{x}<br>pctYB=%{y}<extra></extra>",
         "legendgroup": "Eleanor",
         "marker": {
          "color": "#00cc96",
          "symbol": "circle"
         },
         "mode": "markers",
         "name": "Eleanor",
         "orientation": "v",
         "showlegend": true,
         "type": "scatter",
         "x": [
          "1932"
         ],
         "xaxis": "x",
         "y": [
          0.004370471342001359
         ],
         "yaxis": "y"
        },
        {
         "hovertemplate": "finalName=Chris<br>birthYear=%{x}<br>pctYB=%{y}<extra></extra>",
         "legendgroup": "Chris",
         "marker": {
          "color": "#ab63fa",
          "symbol": "circle"
         },
         "mode": "markers",
         "name": "Chris",
         "orientation": "v",
         "showlegend": true,
         "type": "scatter",
         "x": [
          "1960"
         ],
         "xaxis": "x",
         "y": [
          0.003001886570252228
         ],
         "yaxis": "y"
        },
        {
         "hovertemplate": "finalName=Sean<br>birthYear=%{x}<br>pctYB=%{y}<extra></extra>",
         "legendgroup": "Sean",
         "marker": {
          "color": "#FFA15A",
          "symbol": "circle"
         },
         "mode": "markers",
         "name": "Sean",
         "orientation": "v",
         "showlegend": true,
         "type": "scatter",
         "x": [
          "1979"
         ],
         "xaxis": "x",
         "y": [
          0.0038277613427914027
         ],
         "yaxis": "y"
        },
        {
         "hovertemplate": "finalName=Hua<br>birthYear=%{x}<br>pctYB=%{y}<extra></extra>",
         "legendgroup": "Hua",
         "marker": {
          "color": "#19d3f3",
          "symbol": "circle"
         },
         "mode": "markers",
         "name": "Hua",
         "orientation": "v",
         "showlegend": true,
         "type": "scatter",
         "x": [
          "1963"
         ],
         "xaxis": "x",
         "y": [
          null
         ],
         "yaxis": "y"
        },
        {
         "hovertemplate": "finalName=Evan<br>birthYear=%{x}<br>pctYB=%{y}<extra></extra>",
         "legendgroup": "Evan",
         "marker": {
          "color": "#FF6692",
          "symbol": "circle"
         },
         "mode": "markers",
         "name": "Evan",
         "orientation": "v",
         "showlegend": true,
         "type": "scatter",
         "x": [
          "1990"
         ],
         "xaxis": "x",
         "y": [
          0.0024671576197249924
         ],
         "yaxis": "y"
        },
        {
         "hovertemplate": "finalName=Reed<br>birthYear=%{x}<br>pctYB=%{y}<extra></extra>",
         "legendgroup": "Reed",
         "marker": {
          "color": "#B6E880",
          "symbol": "circle"
         },
         "mode": "markers",
         "name": "Reed",
         "orientation": "v",
         "showlegend": true,
         "type": "scatter",
         "x": [
          "1960"
         ],
         "xaxis": "x",
         "y": [
          9.883134246676566e-05
         ],
         "yaxis": "y"
        },
        {
         "hovertemplate": "finalName=Tomilson<br>birthYear=%{x}<br>pctYB=%{y}<extra></extra>",
         "legendgroup": "Tomilson",
         "marker": {
          "color": "#FF97FF",
          "symbol": "circle"
         },
         "mode": "markers",
         "name": "Tomilson",
         "orientation": "v",
         "showlegend": true,
         "type": "scatter",
         "x": [
          "1948"
         ],
         "xaxis": "x",
         "y": [
          null
         ],
         "yaxis": "y"
        },
        {
         "hovertemplate": "finalName=Drayton<br>birthYear=%{x}<br>pctYB=%{y}<extra></extra>",
         "legendgroup": "Drayton",
         "marker": {
          "color": "#FECB52",
          "symbol": "circle"
         },
         "mode": "markers",
         "name": "Drayton",
         "orientation": "v",
         "showlegend": true,
         "type": "scatter",
         "x": [
          "1936"
         ],
         "xaxis": "x",
         "y": [
          5.637608864576179e-06
         ],
         "yaxis": "y"
        },
        {
         "hovertemplate": "finalName=Dean<br>birthYear=%{x}<br>pctYB=%{y}<extra></extra>",
         "legendgroup": "Dean",
         "marker": {
          "color": "#636efa",
          "symbol": "circle"
         },
         "mode": "markers",
         "name": "Dean",
         "orientation": "v",
         "showlegend": true,
         "type": "scatter",
         "x": [
          "1946"
         ],
         "xaxis": "x",
         "y": [
          0.0011428072824576053
         ],
         "yaxis": "y"
        },
        {
         "hovertemplate": "finalName=Roger<br>birthYear=%{x}<br>pctYB=%{y}<extra></extra>",
         "legendgroup": "Roger",
         "marker": {
          "color": "#EF553B",
          "symbol": "circle"
         },
         "mode": "markers",
         "name": "Roger",
         "orientation": "v",
         "showlegend": true,
         "type": "scatter",
         "x": [
          "1937",
          "1949"
         ],
         "xaxis": "x",
         "y": [
          0.005222120724165773,
          0.0071161678467751375
         ],
         "yaxis": "y"
        },
        {
         "hovertemplate": "finalName=Chad<br>birthYear=%{x}<br>pctYB=%{y}<extra></extra>",
         "legendgroup": "Chad",
         "marker": {
          "color": "#00cc96",
          "symbol": "circle"
         },
         "mode": "markers",
         "name": "Chad",
         "orientation": "v",
         "showlegend": true,
         "type": "scatter",
         "x": [
          "1970"
         ],
         "xaxis": "x",
         "y": [
          0.003480686963326302
         ],
         "yaxis": "y"
        },
        {
         "hovertemplate": "finalName=Patricia<br>birthYear=%{x}<br>pctYB=%{y}<extra></extra>",
         "legendgroup": "Patricia",
         "marker": {
          "color": "#ab63fa",
          "symbol": "circle"
         },
         "mode": "markers",
         "name": "Patricia",
         "orientation": "v",
         "showlegend": true,
         "type": "scatter",
         "x": [
          "1956"
         ],
         "xaxis": "x",
         "y": [
          0.021040448171547283
         ],
         "yaxis": "y"
        }
       ],
       "layout": {
        "hovermode": "x",
        "legend": {
         "title": {
          "text": "finalName"
         },
         "tracegroupgap": 0
        },
        "template": {
         "data": {
          "bar": [
           {
            "error_x": {
             "color": "#2a3f5f"
            },
            "error_y": {
             "color": "#2a3f5f"
            },
            "marker": {
             "line": {
              "color": "#E5ECF6",
              "width": 0.5
             },
             "pattern": {
              "fillmode": "overlay",
              "size": 10,
              "solidity": 0.2
             }
            },
            "type": "bar"
           }
          ],
          "barpolar": [
           {
            "marker": {
             "line": {
              "color": "#E5ECF6",
              "width": 0.5
             },
             "pattern": {
              "fillmode": "overlay",
              "size": 10,
              "solidity": 0.2
             }
            },
            "type": "barpolar"
           }
          ],
          "carpet": [
           {
            "aaxis": {
             "endlinecolor": "#2a3f5f",
             "gridcolor": "white",
             "linecolor": "white",
             "minorgridcolor": "white",
             "startlinecolor": "#2a3f5f"
            },
            "baxis": {
             "endlinecolor": "#2a3f5f",
             "gridcolor": "white",
             "linecolor": "white",
             "minorgridcolor": "white",
             "startlinecolor": "#2a3f5f"
            },
            "type": "carpet"
           }
          ],
          "choropleth": [
           {
            "colorbar": {
             "outlinewidth": 0,
             "ticks": ""
            },
            "type": "choropleth"
           }
          ],
          "contour": [
           {
            "colorbar": {
             "outlinewidth": 0,
             "ticks": ""
            },
            "colorscale": [
             [
              0,
              "#0d0887"
             ],
             [
              0.1111111111111111,
              "#46039f"
             ],
             [
              0.2222222222222222,
              "#7201a8"
             ],
             [
              0.3333333333333333,
              "#9c179e"
             ],
             [
              0.4444444444444444,
              "#bd3786"
             ],
             [
              0.5555555555555556,
              "#d8576b"
             ],
             [
              0.6666666666666666,
              "#ed7953"
             ],
             [
              0.7777777777777778,
              "#fb9f3a"
             ],
             [
              0.8888888888888888,
              "#fdca26"
             ],
             [
              1,
              "#f0f921"
             ]
            ],
            "type": "contour"
           }
          ],
          "contourcarpet": [
           {
            "colorbar": {
             "outlinewidth": 0,
             "ticks": ""
            },
            "type": "contourcarpet"
           }
          ],
          "heatmap": [
           {
            "colorbar": {
             "outlinewidth": 0,
             "ticks": ""
            },
            "colorscale": [
             [
              0,
              "#0d0887"
             ],
             [
              0.1111111111111111,
              "#46039f"
             ],
             [
              0.2222222222222222,
              "#7201a8"
             ],
             [
              0.3333333333333333,
              "#9c179e"
             ],
             [
              0.4444444444444444,
              "#bd3786"
             ],
             [
              0.5555555555555556,
              "#d8576b"
             ],
             [
              0.6666666666666666,
              "#ed7953"
             ],
             [
              0.7777777777777778,
              "#fb9f3a"
             ],
             [
              0.8888888888888888,
              "#fdca26"
             ],
             [
              1,
              "#f0f921"
             ]
            ],
            "type": "heatmap"
           }
          ],
          "heatmapgl": [
           {
            "colorbar": {
             "outlinewidth": 0,
             "ticks": ""
            },
            "colorscale": [
             [
              0,
              "#0d0887"
             ],
             [
              0.1111111111111111,
              "#46039f"
             ],
             [
              0.2222222222222222,
              "#7201a8"
             ],
             [
              0.3333333333333333,
              "#9c179e"
             ],
             [
              0.4444444444444444,
              "#bd3786"
             ],
             [
              0.5555555555555556,
              "#d8576b"
             ],
             [
              0.6666666666666666,
              "#ed7953"
             ],
             [
              0.7777777777777778,
              "#fb9f3a"
             ],
             [
              0.8888888888888888,
              "#fdca26"
             ],
             [
              1,
              "#f0f921"
             ]
            ],
            "type": "heatmapgl"
           }
          ],
          "histogram": [
           {
            "marker": {
             "pattern": {
              "fillmode": "overlay",
              "size": 10,
              "solidity": 0.2
             }
            },
            "type": "histogram"
           }
          ],
          "histogram2d": [
           {
            "colorbar": {
             "outlinewidth": 0,
             "ticks": ""
            },
            "colorscale": [
             [
              0,
              "#0d0887"
             ],
             [
              0.1111111111111111,
              "#46039f"
             ],
             [
              0.2222222222222222,
              "#7201a8"
             ],
             [
              0.3333333333333333,
              "#9c179e"
             ],
             [
              0.4444444444444444,
              "#bd3786"
             ],
             [
              0.5555555555555556,
              "#d8576b"
             ],
             [
              0.6666666666666666,
              "#ed7953"
             ],
             [
              0.7777777777777778,
              "#fb9f3a"
             ],
             [
              0.8888888888888888,
              "#fdca26"
             ],
             [
              1,
              "#f0f921"
             ]
            ],
            "type": "histogram2d"
           }
          ],
          "histogram2dcontour": [
           {
            "colorbar": {
             "outlinewidth": 0,
             "ticks": ""
            },
            "colorscale": [
             [
              0,
              "#0d0887"
             ],
             [
              0.1111111111111111,
              "#46039f"
             ],
             [
              0.2222222222222222,
              "#7201a8"
             ],
             [
              0.3333333333333333,
              "#9c179e"
             ],
             [
              0.4444444444444444,
              "#bd3786"
             ],
             [
              0.5555555555555556,
              "#d8576b"
             ],
             [
              0.6666666666666666,
              "#ed7953"
             ],
             [
              0.7777777777777778,
              "#fb9f3a"
             ],
             [
              0.8888888888888888,
              "#fdca26"
             ],
             [
              1,
              "#f0f921"
             ]
            ],
            "type": "histogram2dcontour"
           }
          ],
          "mesh3d": [
           {
            "colorbar": {
             "outlinewidth": 0,
             "ticks": ""
            },
            "type": "mesh3d"
           }
          ],
          "parcoords": [
           {
            "line": {
             "colorbar": {
              "outlinewidth": 0,
              "ticks": ""
             }
            },
            "type": "parcoords"
           }
          ],
          "pie": [
           {
            "automargin": true,
            "type": "pie"
           }
          ],
          "scatter": [
           {
            "marker": {
             "colorbar": {
              "outlinewidth": 0,
              "ticks": ""
             }
            },
            "type": "scatter"
           }
          ],
          "scatter3d": [
           {
            "line": {
             "colorbar": {
              "outlinewidth": 0,
              "ticks": ""
             }
            },
            "marker": {
             "colorbar": {
              "outlinewidth": 0,
              "ticks": ""
             }
            },
            "type": "scatter3d"
           }
          ],
          "scattercarpet": [
           {
            "marker": {
             "colorbar": {
              "outlinewidth": 0,
              "ticks": ""
             }
            },
            "type": "scattercarpet"
           }
          ],
          "scattergeo": [
           {
            "marker": {
             "colorbar": {
              "outlinewidth": 0,
              "ticks": ""
             }
            },
            "type": "scattergeo"
           }
          ],
          "scattergl": [
           {
            "marker": {
             "colorbar": {
              "outlinewidth": 0,
              "ticks": ""
             }
            },
            "type": "scattergl"
           }
          ],
          "scattermapbox": [
           {
            "marker": {
             "colorbar": {
              "outlinewidth": 0,
              "ticks": ""
             }
            },
            "type": "scattermapbox"
           }
          ],
          "scatterpolar": [
           {
            "marker": {
             "colorbar": {
              "outlinewidth": 0,
              "ticks": ""
             }
            },
            "type": "scatterpolar"
           }
          ],
          "scatterpolargl": [
           {
            "marker": {
             "colorbar": {
              "outlinewidth": 0,
              "ticks": ""
             }
            },
            "type": "scatterpolargl"
           }
          ],
          "scatterternary": [
           {
            "marker": {
             "colorbar": {
              "outlinewidth": 0,
              "ticks": ""
             }
            },
            "type": "scatterternary"
           }
          ],
          "surface": [
           {
            "colorbar": {
             "outlinewidth": 0,
             "ticks": ""
            },
            "colorscale": [
             [
              0,
              "#0d0887"
             ],
             [
              0.1111111111111111,
              "#46039f"
             ],
             [
              0.2222222222222222,
              "#7201a8"
             ],
             [
              0.3333333333333333,
              "#9c179e"
             ],
             [
              0.4444444444444444,
              "#bd3786"
             ],
             [
              0.5555555555555556,
              "#d8576b"
             ],
             [
              0.6666666666666666,
              "#ed7953"
             ],
             [
              0.7777777777777778,
              "#fb9f3a"
             ],
             [
              0.8888888888888888,
              "#fdca26"
             ],
             [
              1,
              "#f0f921"
             ]
            ],
            "type": "surface"
           }
          ],
          "table": [
           {
            "cells": {
             "fill": {
              "color": "#EBF0F8"
             },
             "line": {
              "color": "white"
             }
            },
            "header": {
             "fill": {
              "color": "#C8D4E3"
             },
             "line": {
              "color": "white"
             }
            },
            "type": "table"
           }
          ]
         },
         "layout": {
          "annotationdefaults": {
           "arrowcolor": "#2a3f5f",
           "arrowhead": 0,
           "arrowwidth": 1
          },
          "autotypenumbers": "strict",
          "coloraxis": {
           "colorbar": {
            "outlinewidth": 0,
            "ticks": ""
           }
          },
          "colorscale": {
           "diverging": [
            [
             0,
             "#8e0152"
            ],
            [
             0.1,
             "#c51b7d"
            ],
            [
             0.2,
             "#de77ae"
            ],
            [
             0.3,
             "#f1b6da"
            ],
            [
             0.4,
             "#fde0ef"
            ],
            [
             0.5,
             "#f7f7f7"
            ],
            [
             0.6,
             "#e6f5d0"
            ],
            [
             0.7,
             "#b8e186"
            ],
            [
             0.8,
             "#7fbc41"
            ],
            [
             0.9,
             "#4d9221"
            ],
            [
             1,
             "#276419"
            ]
           ],
           "sequential": [
            [
             0,
             "#0d0887"
            ],
            [
             0.1111111111111111,
             "#46039f"
            ],
            [
             0.2222222222222222,
             "#7201a8"
            ],
            [
             0.3333333333333333,
             "#9c179e"
            ],
            [
             0.4444444444444444,
             "#bd3786"
            ],
            [
             0.5555555555555556,
             "#d8576b"
            ],
            [
             0.6666666666666666,
             "#ed7953"
            ],
            [
             0.7777777777777778,
             "#fb9f3a"
            ],
            [
             0.8888888888888888,
             "#fdca26"
            ],
            [
             1,
             "#f0f921"
            ]
           ],
           "sequentialminus": [
            [
             0,
             "#0d0887"
            ],
            [
             0.1111111111111111,
             "#46039f"
            ],
            [
             0.2222222222222222,
             "#7201a8"
            ],
            [
             0.3333333333333333,
             "#9c179e"
            ],
            [
             0.4444444444444444,
             "#bd3786"
            ],
            [
             0.5555555555555556,
             "#d8576b"
            ],
            [
             0.6666666666666666,
             "#ed7953"
            ],
            [
             0.7777777777777778,
             "#fb9f3a"
            ],
            [
             0.8888888888888888,
             "#fdca26"
            ],
            [
             1,
             "#f0f921"
            ]
           ]
          },
          "colorway": [
           "#636efa",
           "#EF553B",
           "#00cc96",
           "#ab63fa",
           "#FFA15A",
           "#19d3f3",
           "#FF6692",
           "#B6E880",
           "#FF97FF",
           "#FECB52"
          ],
          "font": {
           "color": "#2a3f5f"
          },
          "geo": {
           "bgcolor": "white",
           "lakecolor": "white",
           "landcolor": "#E5ECF6",
           "showlakes": true,
           "showland": true,
           "subunitcolor": "white"
          },
          "hoverlabel": {
           "align": "left"
          },
          "hovermode": "closest",
          "mapbox": {
           "style": "light"
          },
          "paper_bgcolor": "white",
          "plot_bgcolor": "#E5ECF6",
          "polar": {
           "angularaxis": {
            "gridcolor": "white",
            "linecolor": "white",
            "ticks": ""
           },
           "bgcolor": "#E5ECF6",
           "radialaxis": {
            "gridcolor": "white",
            "linecolor": "white",
            "ticks": ""
           }
          },
          "scene": {
           "xaxis": {
            "backgroundcolor": "#E5ECF6",
            "gridcolor": "white",
            "gridwidth": 2,
            "linecolor": "white",
            "showbackground": true,
            "ticks": "",
            "zerolinecolor": "white"
           },
           "yaxis": {
            "backgroundcolor": "#E5ECF6",
            "gridcolor": "white",
            "gridwidth": 2,
            "linecolor": "white",
            "showbackground": true,
            "ticks": "",
            "zerolinecolor": "white"
           },
           "zaxis": {
            "backgroundcolor": "#E5ECF6",
            "gridcolor": "white",
            "gridwidth": 2,
            "linecolor": "white",
            "showbackground": true,
            "ticks": "",
            "zerolinecolor": "white"
           }
          },
          "shapedefaults": {
           "line": {
            "color": "#2a3f5f"
           }
          },
          "ternary": {
           "aaxis": {
            "gridcolor": "white",
            "linecolor": "white",
            "ticks": ""
           },
           "baxis": {
            "gridcolor": "white",
            "linecolor": "white",
            "ticks": ""
           },
           "bgcolor": "#E5ECF6",
           "caxis": {
            "gridcolor": "white",
            "linecolor": "white",
            "ticks": ""
           }
          },
          "title": {
           "x": 0.05
          },
          "xaxis": {
           "automargin": true,
           "gridcolor": "white",
           "linecolor": "white",
           "ticks": "",
           "title": {
            "standoff": 15
           },
           "zerolinecolor": "white",
           "zerolinewidth": 2
          },
          "yaxis": {
           "automargin": true,
           "gridcolor": "white",
           "linecolor": "white",
           "ticks": "",
           "title": {
            "standoff": 15
           },
           "zerolinecolor": "white",
           "zerolinewidth": 2
          }
         }
        },
        "title": {
         "text": "Name Popularity Distribution of Forbes 400 Over Time"
        },
        "xaxis": {
         "anchor": "y",
         "categoryorder": "category ascending",
         "domain": [
          0,
          1
         ],
         "title": {
          "text": "birthYear"
         }
        },
        "yaxis": {
         "anchor": "x",
         "domain": [
          0,
          1
         ],
         "title": {
          "text": "pctYB"
         }
        }
       }
      },
      "text/html": [
       "<div>                            <div id=\"1d908aae-afc5-4a6c-8865-e5aa046c1ab4\" class=\"plotly-graph-div\" style=\"height:525px; width:100%;\"></div>            <script type=\"text/javascript\">                require([\"plotly\"], function(Plotly) {                    window.PLOTLYENV=window.PLOTLYENV || {};                                    if (document.getElementById(\"1d908aae-afc5-4a6c-8865-e5aa046c1ab4\")) {                    Plotly.newPlot(                        \"1d908aae-afc5-4a6c-8865-e5aa046c1ab4\",                        [{\"hovertemplate\":\"finalName=Elon<br>birthYear=%{x}<br>pctYB=%{y}<extra></extra>\",\"legendgroup\":\"Elon\",\"marker\":{\"color\":\"#636efa\",\"symbol\":\"circle\"},\"mode\":\"markers\",\"name\":\"Elon\",\"orientation\":\"v\",\"showlegend\":true,\"x\":[\"1971\"],\"xaxis\":\"x\",\"y\":[5.49952456610126e-06],\"yaxis\":\"y\",\"type\":\"scatter\"},{\"hovertemplate\":\"finalName=Jeffrey<br>birthYear=%{x}<br>pctYB=%{y}<extra></extra>\",\"legendgroup\":\"Jeffrey\",\"marker\":{\"color\":\"#EF553B\",\"symbol\":\"circle\"},\"mode\":\"markers\",\"name\":\"Jeffrey\",\"orientation\":\"v\",\"showlegend\":true,\"x\":[\"1964\",\"1958\",\"1951\",\"1977\",\"1975\"],\"xaxis\":\"x\",\"y\":[0.015158727613992595,0.011243191238724422,0.005081805827416329,0.010225087606847604,0.0112881601549696],\"yaxis\":\"y\",\"type\":\"scatter\"},{\"hovertemplate\":\"finalName=William<br>birthYear=%{x}<br>pctYB=%{y}<extra></extra>\",\"legendgroup\":\"William\",\"marker\":{\"color\":\"#00cc96\",\"symbol\":\"circle\"},\"mode\":\"markers\",\"name\":\"William\",\"orientation\":\"v\",\"showlegend\":true,\"x\":[\"1955\",\"1946\",\"1960\",\"1966\",\"1949\",\"1963\",\"1958\"],\"xaxis\":\"x\",\"y\":[0.028696355190707866,0.03637774931195246,0.02278847552654245,0.02103878629114996,0.034127416197869756,0.02153199484750753,0.025170651435533667],\"yaxis\":\"y\",\"type\":\"scatter\"},{\"hovertemplate\":\"finalName=Lawrence<br>birthYear=%{x}<br>pctYB=%{y}<extra></extra>\",\"legendgroup\":\"Lawrence\",\"marker\":{\"color\":\"#ab63fa\",\"symbol\":\"circle\"},\"mode\":\"markers\",\"name\":\"Lawrence\",\"orientation\":\"v\",\"showlegend\":true,\"x\":[\"1944\",\"1973\"],\"xaxis\":\"x\",\"y\":[0.005131320926402115,0.0015649112938148832],\"yaxis\":\"y\",\"type\":\"scatter\"},{\"hovertemplate\":\"finalName=Warren<br>birthYear=%{x}<br>pctYB=%{y}<extra></extra>\",\"legendgroup\":\"Warren\",\"marker\":{\"color\":\"#FFA15A\",\"symbol\":\"circle\"},\"mode\":\"markers\",\"name\":\"Warren\",\"orientation\":\"v\",\"showlegend\":true,\"x\":[\"1930\",\"1957\"],\"xaxis\":\"x\",\"y\":[0.001781265548447413,0.0010676372903402134],\"yaxis\":\"y\",\"type\":\"scatter\"},{\"hovertemplate\":\"finalName=Sergey<br>birthYear=%{x}<br>pctYB=%{y}<extra></extra>\",\"legendgroup\":\"Sergey\",\"marker\":{\"color\":\"#19d3f3\",\"symbol\":\"circle\"},\"mode\":\"markers\",\"name\":\"Sergey\",\"orientation\":\"v\",\"showlegend\":true,\"x\":[\"1973\"],\"xaxis\":\"x\",\"y\":[0.0],\"yaxis\":\"y\",\"type\":\"scatter\"},{\"hovertemplate\":\"finalName=Steven<br>birthYear=%{x}<br>pctYB=%{y}<extra></extra>\",\"legendgroup\":\"Steven\",\"marker\":{\"color\":\"#FF6692\",\"symbol\":\"circle\"},\"mode\":\"markers\",\"name\":\"Steven\",\"orientation\":\"v\",\"showlegend\":true,\"x\":[\"1956\",\"1956\",\"1951\",\"1946\",\"1946\",\"1965\",\"1956\"],\"xaxis\":\"x\",\"y\":[0.01789194950786191,0.01789194950786191,0.014837931456561152,0.0053789502897010405,0.0053789502897010405,0.014766717838112824,0.01789194950786191],\"yaxis\":\"y\",\"type\":\"scatter\"},{\"hovertemplate\":\"finalName=Michael<br>birthYear=%{x}<br>pctYB=%{y}<extra></extra>\",\"legendgroup\":\"Michael\",\"marker\":{\"color\":\"#B6E880\",\"symbol\":\"circle\"},\"mode\":\"markers\",\"name\":\"Michael\",\"orientation\":\"v\",\"showlegend\":true,\"x\":[\"1942\",\"1965\",\"1972\",\"1963\",\"1946\",\"1954\",\"1969\"],\"xaxis\":\"x\",\"y\":[0.015428368542517308,0.04275181707887914,0.042635334866083424,0.04057006711799401,0.02495512996857583,0.04280379603993603,0.04656144054016977],\"yaxis\":\"y\",\"type\":\"scatter\"},{\"hovertemplate\":\"finalName=James<br>birthYear=%{x}<br>pctYB=%{y}<extra></extra>\",\"legendgroup\":\"James\",\"marker\":{\"color\":\"#FF97FF\",\"symbol\":\"circle\"},\"mode\":\"markers\",\"name\":\"James\",\"orientation\":\"v\",\"showlegend\":true,\"x\":[\"1948\",\"1938\",\"1947\",\"1943\",\"1957\",\"1954\",\"1960\",\"1949\",\"1943\",\"1959\",\"1959\",\"1944\",\"1937\"],\"xaxis\":\"x\",\"y\":[0.049696977176244626,0.05200354433632126,0.051014755528949296,0.0551888520925014,0.038528634937059214,0.04171352434674313,0.03547860463075641,0.04820214511699251,0.0551888520925014,0.03628829015123121,0.03628829015123121,0.05539926111282283,0.051712802562505884],\"yaxis\":\"y\",\"type\":\"scatter\"},{\"hovertemplate\":\"finalName=Mark<br>birthYear=%{x}<br>pctYB=%{y}<extra></extra>\",\"legendgroup\":\"Mark\",\"marker\":{\"color\":\"#FECB52\",\"symbol\":\"circle\"},\"mode\":\"markers\",\"name\":\"Mark\",\"orientation\":\"v\",\"showlegend\":true,\"x\":[\"1984\",\"1960\",\"1957\",\"1950\",\"1958\",\"1960\"],\"xaxis\":\"x\",\"y\":[0.0070412629945826605,0.02712273790528355,0.024131984831872264,0.009129169083427025,0.024456982279924537,0.02712273790528355],\"yaxis\":\"y\",\"type\":\"scatter\"},{\"hovertemplate\":\"finalName=Robert<br>birthYear=%{x}<br>pctYB=%{y}<extra></extra>\",\"legendgroup\":\"Robert\",\"marker\":{\"color\":\"#636efa\",\"symbol\":\"circle\"},\"mode\":\"markers\",\"name\":\"Robert\",\"orientation\":\"v\",\"showlegend\":true,\"x\":[\"1944\",\"1978\",\"1941\",\"1962\",\"1966\",\"1963\",\"1941\",\"1966\",\"1948\",\"1953\",\"1958\",\"1950\",\"1988\"],\"xaxis\":\"x\",\"y\":[0.051001500234681627,0.019531878471171975,0.05119837167453255,0.03339286291956941,0.03263281060471451,0.033905724884020494,0.05119837167453255,0.03263281060471451,0.04794682684281855,0.04307640980973462,0.03588590394301048,0.04593723112109275,0.015143675118222556],\"yaxis\":\"y\",\"type\":\"scatter\"},{\"hovertemplate\":\"finalName=Charles<br>birthYear=%{x}<br>pctYB=%{y}<extra></extra>\",\"legendgroup\":\"Charles\",\"marker\":{\"color\":\"#EF553B\",\"symbol\":\"circle\"},\"mode\":\"markers\",\"name\":\"Charles\",\"orientation\":\"v\",\"showlegend\":true,\"x\":[\"1935\",\"1937\",\"1938\",\"1948\",\"1933\",\"1926\",\"1953\",\"1952\",\"1948\"],\"xaxis\":\"x\",\"y\":[0.028033468500097705,0.027911051126674146,0.027406131842623725,0.021697376569525844,0.02841697176437145,0.025773767380465783,0.01918835553495657,0.019696595004601344,0.021697376569525844],\"yaxis\":\"y\",\"type\":\"scatter\"},{\"hovertemplate\":\"finalName=Julia<br>birthYear=%{x}<br>pctYB=%{y}<extra></extra>\",\"legendgroup\":\"Julia\",\"marker\":{\"color\":\"#00cc96\",\"symbol\":\"circle\"},\"mode\":\"markers\",\"name\":\"Julia\",\"orientation\":\"v\",\"showlegend\":true,\"x\":[\"1962\"],\"xaxis\":\"x\",\"y\":[0.0018500410955795364],\"yaxis\":\"y\",\"type\":\"scatter\"},{\"hovertemplate\":\"finalName=Alice<br>birthYear=%{x}<br>pctYB=%{y}<extra></extra>\",\"legendgroup\":\"Alice\",\"marker\":{\"color\":\"#ab63fa\",\"symbol\":\"circle\"},\"mode\":\"markers\",\"name\":\"Alice\",\"orientation\":\"v\",\"showlegend\":true,\"x\":[\"1949\"],\"xaxis\":\"x\",\"y\":[0.003793167286139474],\"yaxis\":\"y\",\"type\":\"scatter\"},{\"hovertemplate\":\"finalName=Phil<br>birthYear=%{x}<br>pctYB=%{y}<extra></extra>\",\"legendgroup\":\"Phil\",\"marker\":{\"color\":\"#FFA15A\",\"symbol\":\"circle\"},\"mode\":\"markers\",\"name\":\"Phil\",\"orientation\":\"v\",\"showlegend\":true,\"x\":[\"1938\"],\"xaxis\":\"x\",\"y\":[0.00027277662849847025],\"yaxis\":\"y\",\"type\":\"scatter\"},{\"hovertemplate\":\"finalName=MacKenzie<br>birthYear=%{x}<br>pctYB=%{y}<extra></extra>\",\"legendgroup\":\"MacKenzie\",\"marker\":{\"color\":\"#19d3f3\",\"symbol\":\"circle\"},\"mode\":\"markers\",\"name\":\"MacKenzie\",\"orientation\":\"v\",\"showlegend\":true,\"x\":[\"1970\"],\"xaxis\":\"x\",\"y\":[0.0],\"yaxis\":\"y\",\"type\":\"scatter\"},{\"hovertemplate\":\"finalName=Jacqueline<br>birthYear=%{x}<br>pctYB=%{y}<extra></extra>\",\"legendgroup\":\"Jacqueline\",\"marker\":{\"color\":\"#FF6692\",\"symbol\":\"circle\"},\"mode\":\"markers\",\"name\":\"Jacqueline\",\"orientation\":\"v\",\"showlegend\":true,\"x\":[\"1939\"],\"xaxis\":\"x\",\"y\":[0.002986567061524869],\"yaxis\":\"y\",\"type\":\"scatter\"},{\"hovertemplate\":\"finalName=John<br>birthYear=%{x}<br>pctYB=%{y}<extra></extra>\",\"legendgroup\":\"John\",\"marker\":{\"color\":\"#B6E880\",\"symbol\":\"circle\"},\"mode\":\"markers\",\"name\":\"John\",\"orientation\":\"v\",\"showlegend\":true,\"x\":[\"1935\",\"1940\",\"1951\",\"1941\",\"1948\",\"1969\",\"1939\",\"1941\",\"1934\",\"1948\",\"1949\",\"1948\",\"1955\",\"1974\",\"1955\"],\"xaxis\":\"x\",\"y\":[0.04441523155216761,0.04618396359240081,0.0426699070262308,0.04583968899876154,0.046464247569983574,0.03211329835755203,0.04501968618578606,0.04583968899876154,0.0440145968216598,0.046464247569983574,0.045045570000993365,0.046464247569983574,0.03833149155412678,0.023078333508104152,0.03833149155412678],\"yaxis\":\"y\",\"type\":\"scatter\"},{\"hovertemplate\":\"finalName=Kenneth<br>birthYear=%{x}<br>pctYB=%{y}<extra></extra>\",\"legendgroup\":\"Kenneth\",\"marker\":{\"color\":\"#FF97FF\",\"symbol\":\"circle\"},\"mode\":\"markers\",\"name\":\"Kenneth\",\"orientation\":\"v\",\"showlegend\":true,\"x\":[\"1968\",\"1950\",\"1935\",\"1963\",\"1948\"],\"xaxis\":\"x\",\"y\":[0.010183235164934173,0.013094763578986143,0.011280518875818924,0.012219736370592052,0.013210830289268437],\"yaxis\":\"y\",\"type\":\"scatter\"},{\"hovertemplate\":\"finalName=Leonard<br>birthYear=%{x}<br>pctYB=%{y}<extra></extra>\",\"legendgroup\":\"Leonard\",\"marker\":{\"color\":\"#FECB52\",\"symbol\":\"circle\"},\"mode\":\"markers\",\"name\":\"Leonard\",\"orientation\":\"v\",\"showlegend\":true,\"x\":[\"1957\",\"1933\",\"1938\"],\"xaxis\":\"x\",\"y\":[0.00198125327638049,0.0038778040807124336,0.0032284433869706045],\"yaxis\":\"y\",\"type\":\"scatter\"},{\"hovertemplate\":\"finalName=Stephen<br>birthYear=%{x}<br>pctYB=%{y}<extra></extra>\",\"legendgroup\":\"Stephen\",\"marker\":{\"color\":\"#636efa\",\"symbol\":\"circle\"},\"mode\":\"markers\",\"name\":\"Stephen\",\"orientation\":\"v\",\"showlegend\":true,\"x\":[\"1947\",\"1940\",\"1960\",\"1960\",\"1956\",\"1965\"],\"xaxis\":\"x\",\"y\":[0.008251231063002108,0.003727260004417743,0.007505640083036801,0.007505640083036801,0.009877701541821488,0.00773165545873029],\"yaxis\":\"y\",\"type\":\"scatter\"},{\"hovertemplate\":\"finalName=Miriam<br>birthYear=%{x}<br>pctYB=%{y}<extra></extra>\",\"legendgroup\":\"Miriam\",\"marker\":{\"color\":\"#EF553B\",\"symbol\":\"circle\"},\"mode\":\"markers\",\"name\":\"Miriam\",\"orientation\":\"v\",\"showlegend\":true,\"x\":[\"1945\"],\"xaxis\":\"x\",\"y\":[0.0004992210813930943],\"yaxis\":\"y\",\"type\":\"scatter\"},{\"hovertemplate\":\"finalName=Harold<br>birthYear=%{x}<br>pctYB=%{y}<extra></extra>\",\"legendgroup\":\"Harold\",\"marker\":{\"color\":\"#00cc96\",\"symbol\":\"circle\"},\"mode\":\"markers\",\"name\":\"Harold\",\"orientation\":\"v\",\"showlegend\":true,\"x\":[\"1945\"],\"xaxis\":\"x\",\"y\":[0.00548632029347876],\"yaxis\":\"y\",\"type\":\"scatter\"},{\"hovertemplate\":\"finalName=Abigail<br>birthYear=%{x}<br>pctYB=%{y}<extra></extra>\",\"legendgroup\":\"Abigail\",\"marker\":{\"color\":\"#ab63fa\",\"symbol\":\"circle\"},\"mode\":\"markers\",\"name\":\"Abigail\",\"orientation\":\"v\",\"showlegend\":true,\"x\":[\"1961\"],\"xaxis\":\"x\",\"y\":[0.00011219869473913322],\"yaxis\":\"y\",\"type\":\"scatter\"},{\"hovertemplate\":\"finalName=Lukas<br>birthYear=%{x}<br>pctYB=%{y}<extra></extra>\",\"legendgroup\":\"Lukas\",\"marker\":{\"color\":\"#FFA15A\",\"symbol\":\"circle\"},\"mode\":\"markers\",\"name\":\"Lukas\",\"orientation\":\"v\",\"showlegend\":true,\"x\":[\"1986\"],\"xaxis\":\"x\",\"y\":[7.90950279928752e-05],\"yaxis\":\"y\",\"type\":\"scatter\"},{\"hovertemplate\":\"finalName=Thomas<br>birthYear=%{x}<br>pctYB=%{y}<extra></extra>\",\"legendgroup\":\"Thomas\",\"marker\":{\"color\":\"#19d3f3\",\"symbol\":\"circle\"},\"mode\":\"markers\",\"name\":\"Thomas\",\"orientation\":\"v\",\"showlegend\":true,\"x\":[\"1944\",\"1938\",\"1964\",\"1937\",\"1941\",\"1950\",\"1936\",\"1954\",\"1952\",\"1970\"],\"xaxis\":\"x\",\"y\":[0.022748280201221497,0.01881454796952997,0.016992277582792155,0.018076712413943822,0.021232305747753002,0.025068516874256073,0.017236049501964237,0.022793250947584318,0.02465317614435656,0.014005671336448387],\"yaxis\":\"y\",\"type\":\"scatter\"},{\"hovertemplate\":\"finalName=Raymond<br>birthYear=%{x}<br>pctYB=%{y}<extra></extra>\",\"legendgroup\":\"Raymond\",\"marker\":{\"color\":\"#FF6692\",\"symbol\":\"circle\"},\"mode\":\"markers\",\"name\":\"Raymond\",\"orientation\":\"v\",\"showlegend\":true,\"x\":[\"1949\"],\"xaxis\":\"x\",\"y\":[0.006273748538391401],\"yaxis\":\"y\",\"type\":\"scatter\"},{\"hovertemplate\":\"finalName=David<br>birthYear=%{x}<br>pctYB=%{y}<extra></extra>\",\"legendgroup\":\"David\",\"marker\":{\"color\":\"#B6E880\",\"symbol\":\"circle\"},\"mode\":\"markers\",\"name\":\"David\",\"orientation\":\"v\",\"showlegend\":true,\"x\":[\"1957\",\"1941\",\"1940\",\"1951\",\"1943\",\"1961\",\"1942\",\"1951\",\"1951\",\"1949\",\"1966\",\"1926\",\"1963\"],\"xaxis\":\"x\",\"y\":[0.03764609743378569,0.02434757799337895,0.02334406294103662,0.03389091091696387,0.025603089888219802,0.03930923272351361,0.025489792295402096,0.03389091091696387,0.03389091091696387,0.03308132898027862,0.036538559922721175,0.007891977682464881,0.03799430513990179],\"yaxis\":\"y\",\"type\":\"scatter\"},{\"hovertemplate\":\"finalName=Eric<br>birthYear=%{x}<br>pctYB=%{y}<extra></extra>\",\"legendgroup\":\"Eric\",\"marker\":{\"color\":\"#FF97FF\",\"symbol\":\"circle\"},\"mode\":\"markers\",\"name\":\"Eric\",\"orientation\":\"v\",\"showlegend\":true,\"x\":[\"1955\",\"1960\",\"1970\",\"1969\"],\"xaxis\":\"x\",\"y\":[0.002228313647823113,0.004863056243808609,0.012368719792628312,0.011339345786373],\"yaxis\":\"y\",\"type\":\"scatter\"},{\"hovertemplate\":\"finalName=Rupert<br>birthYear=%{x}<br>pctYB=%{y}<extra></extra>\",\"legendgroup\":\"Rupert\",\"marker\":{\"color\":\"#FECB52\",\"symbol\":\"circle\"},\"mode\":\"markers\",\"name\":\"Rupert\",\"orientation\":\"v\",\"showlegend\":true,\"x\":[\"1931\",\"1940\"],\"xaxis\":\"x\",\"y\":[8.693522484440464e-05,4.721252210979272e-05],\"yaxis\":\"y\",\"type\":\"scatter\"},{\"hovertemplate\":\"finalName=Carl<br>birthYear=%{x}<br>pctYB=%{y}<extra></extra>\",\"legendgroup\":\"Carl\",\"marker\":{\"color\":\"#636efa\",\"symbol\":\"circle\"},\"mode\":\"markers\",\"name\":\"Carl\",\"orientation\":\"v\",\"showlegend\":true,\"x\":[\"1936\",\"1962\",\"1948\"],\"xaxis\":\"x\",\"y\":[0.0061900945333046445,0.003261123976944258,0.0043916432565361384],\"yaxis\":\"y\",\"type\":\"scatter\"},{\"hovertemplate\":\"finalName=Donald<br>birthYear=%{x}<br>pctYB=%{y}<extra></extra>\",\"legendgroup\":\"Donald\",\"marker\":{\"color\":\"#EF553B\",\"symbol\":\"circle\"},\"mode\":\"markers\",\"name\":\"Donald\",\"orientation\":\"v\",\"showlegend\":true,\"x\":[\"1932\",\"1929\",\"1943\",\"1954\",\"1934\",\"1946\"],\"xaxis\":\"x\",\"y\":[0.02772299344294337,0.024542159265829755,0.016788685993134652,0.014149851464980096,0.028634255444379045,0.01591628785170409],\"yaxis\":\"y\",\"type\":\"scatter\"},{\"hovertemplate\":\"finalName=Daniel<br>birthYear=%{x}<br>pctYB=%{y}<extra></extra>\",\"legendgroup\":\"Daniel\",\"marker\":{\"color\":\"#00cc96\",\"symbol\":\"circle\"},\"mode\":\"markers\",\"name\":\"Daniel\",\"orientation\":\"v\",\"showlegend\":true,\"x\":[\"1962\",\"1953\",\"1971\",\"1965\",\"1964\",\"1961\",\"1946\",\"1961\",\"1977\"],\"xaxis\":\"x\",\"y\":[0.012154882218953434,0.011732266003947547,0.011980164314794987,0.013110198386542666,0.01200809978221353,0.012002535929925225,0.007797266230468963,0.012002535929925225,0.015251077248419802],\"yaxis\":\"y\",\"type\":\"scatter\"},{\"hovertemplate\":\"finalName=Samuel<br>birthYear=%{x}<br>pctYB=%{y}<extra></extra>\",\"legendgroup\":\"Samuel\",\"marker\":{\"color\":\"#ab63fa\",\"symbol\":\"circle\"},\"mode\":\"markers\",\"name\":\"Samuel\",\"orientation\":\"v\",\"showlegend\":true,\"x\":[\"1992\",\"1941\"],\"xaxis\":\"x\",\"y\":[0.005403898925222959,0.0028172134531306535],\"yaxis\":\"y\",\"type\":\"scatter\"},{\"hovertemplate\":\"finalName=Jerral<br>birthYear=%{x}<br>pctYB=%{y}<extra></extra>\",\"legendgroup\":\"Jerral\",\"marker\":{\"color\":\"#FFA15A\",\"symbol\":\"circle\"},\"mode\":\"markers\",\"name\":\"Jerral\",\"orientation\":\"v\",\"showlegend\":true,\"x\":[\"1942\"],\"xaxis\":\"x\",\"y\":[7.811113083614415e-06],\"yaxis\":\"y\",\"type\":\"scatter\"},{\"hovertemplate\":\"finalName=George<br>birthYear=%{x}<br>pctYB=%{y}<extra></extra>\",\"legendgroup\":\"George\",\"marker\":{\"color\":\"#19d3f3\",\"symbol\":\"circle\"},\"mode\":\"markers\",\"name\":\"George\",\"orientation\":\"v\",\"showlegend\":true,\"x\":[\"1942\",\"1943\",\"1930\",\"1944\",\"1937\"],\"xaxis\":\"x\",\"y\":[0.015106692703710279,0.014910443153935476,0.020171150226553605,0.014699996256612119,0.01685690694274138],\"yaxis\":\"y\",\"type\":\"scatter\"},{\"hovertemplate\":\"finalName=Jan<br>birthYear=%{x}<br>pctYB=%{y}<extra></extra>\",\"legendgroup\":\"Jan\",\"marker\":{\"color\":\"#FF6692\",\"symbol\":\"circle\"},\"mode\":\"markers\",\"name\":\"Jan\",\"orientation\":\"v\",\"showlegend\":true,\"x\":[\"1976\"],\"xaxis\":\"x\",\"y\":[8.939751585122049e-05],\"yaxis\":\"y\",\"type\":\"scatter\"},{\"hovertemplate\":\"finalName=Jensen<br>birthYear=%{x}<br>pctYB=%{y}<extra></extra>\",\"legendgroup\":\"Jensen\",\"marker\":{\"color\":\"#B6E880\",\"symbol\":\"circle\"},\"mode\":\"markers\",\"name\":\"Jensen\",\"orientation\":\"v\",\"showlegend\":true,\"x\":[\"1963\"],\"xaxis\":\"x\",\"y\":[0.0],\"yaxis\":\"y\",\"type\":\"scatter\"},{\"hovertemplate\":\"finalName=Stanley<br>birthYear=%{x}<br>pctYB=%{y}<extra></extra>\",\"legendgroup\":\"Stanley\",\"marker\":{\"color\":\"#FF97FF\",\"symbol\":\"circle\"},\"mode\":\"markers\",\"name\":\"Stanley\",\"orientation\":\"v\",\"showlegend\":true,\"x\":[\"1947\",\"1953\"],\"xaxis\":\"x\",\"y\":[0.0029619803815905004,0.0031334654509713043],\"yaxis\":\"y\",\"type\":\"scatter\"},{\"hovertemplate\":\"finalName=Laurene<br>birthYear=%{x}<br>pctYB=%{y}<extra></extra>\",\"legendgroup\":\"Laurene\",\"marker\":{\"color\":\"#FECB52\",\"symbol\":\"circle\"},\"mode\":\"markers\",\"name\":\"Laurene\",\"orientation\":\"v\",\"showlegend\":true,\"x\":[\"1963\"],\"xaxis\":\"x\",\"y\":[4.3761144630583006e-05],\"yaxis\":\"y\",\"type\":\"scatter\"},{\"hovertemplate\":\"finalName=Diane<br>birthYear=%{x}<br>pctYB=%{y}<extra></extra>\",\"legendgroup\":\"Diane\",\"marker\":{\"color\":\"#636efa\",\"symbol\":\"circle\"},\"mode\":\"markers\",\"name\":\"Diane\",\"orientation\":\"v\",\"showlegend\":true,\"x\":[\"1947\"],\"xaxis\":\"x\",\"y\":[0.009778568454104925],\"yaxis\":\"y\",\"type\":\"scatter\"},{\"hovertemplate\":\"finalName=Israel<br>birthYear=%{x}<br>pctYB=%{y}<extra></extra>\",\"legendgroup\":\"Israel\",\"marker\":{\"color\":\"#EF553B\",\"symbol\":\"circle\"},\"mode\":\"markers\",\"name\":\"Israel\",\"orientation\":\"v\",\"showlegend\":true,\"x\":[\"1948\"],\"xaxis\":\"x\",\"y\":[6.899631122160494e-05],\"yaxis\":\"y\",\"type\":\"scatter\"},{\"hovertemplate\":\"finalName=Shahid<br>birthYear=%{x}<br>pctYB=%{y}<extra></extra>\",\"legendgroup\":\"Shahid\",\"marker\":{\"color\":\"#00cc96\",\"symbol\":\"circle\"},\"mode\":\"markers\",\"name\":\"Shahid\",\"orientation\":\"v\",\"showlegend\":true,\"x\":[\"1950\"],\"xaxis\":\"x\",\"y\":[0.0],\"yaxis\":\"y\",\"type\":\"scatter\"},{\"hovertemplate\":\"finalName=Philip<br>birthYear=%{x}<br>pctYB=%{y}<extra></extra>\",\"legendgroup\":\"Philip\",\"marker\":{\"color\":\"#ab63fa\",\"symbol\":\"circle\"},\"mode\":\"markers\",\"name\":\"Philip\",\"orientation\":\"v\",\"showlegend\":true,\"x\":[\"1939\"],\"xaxis\":\"x\",\"y\":[0.002800715091212955],\"yaxis\":\"y\",\"type\":\"scatter\"},{\"hovertemplate\":\"finalName=Jeffery<br>birthYear=%{x}<br>pctYB=%{y}<extra></extra>\",\"legendgroup\":\"Jeffery\",\"marker\":{\"color\":\"#FFA15A\",\"symbol\":\"circle\"},\"mode\":\"markers\",\"name\":\"Jeffery\",\"orientation\":\"v\",\"showlegend\":true,\"x\":[\"1959\"],\"xaxis\":\"x\",\"y\":[0.0034512140408145178],\"yaxis\":\"y\",\"type\":\"scatter\"},{\"hovertemplate\":\"finalName=Andrew<br>birthYear=%{x}<br>pctYB=%{y}<extra></extra>\",\"legendgroup\":\"Andrew\",\"marker\":{\"color\":\"#19d3f3\",\"symbol\":\"circle\"},\"mode\":\"markers\",\"name\":\"Andrew\",\"orientation\":\"v\",\"showlegend\":true,\"x\":[\"1952\"],\"xaxis\":\"x\",\"y\":[0.002824151588984339],\"yaxis\":\"y\",\"type\":\"scatter\"},{\"hovertemplate\":\"finalName=Autry<br>birthYear=%{x}<br>pctYB=%{y}<extra></extra>\",\"legendgroup\":\"Autry\",\"marker\":{\"color\":\"#FF6692\",\"symbol\":\"circle\"},\"mode\":\"markers\",\"name\":\"Autry\",\"orientation\":\"v\",\"showlegend\":true,\"x\":[\"1938\"],\"xaxis\":\"x\",\"y\":[5.0155702659396146e-05],\"yaxis\":\"y\",\"type\":\"scatter\"},{\"hovertemplate\":\"finalName=Christy<br>birthYear=%{x}<br>pctYB=%{y}<extra></extra>\",\"legendgroup\":\"Christy\",\"marker\":{\"color\":\"#B6E880\",\"symbol\":\"circle\"},\"mode\":\"markers\",\"name\":\"Christy\",\"orientation\":\"v\",\"showlegend\":true,\"x\":[\"1949\"],\"xaxis\":\"x\",\"y\":[0.00023981430056535795],\"yaxis\":\"y\",\"type\":\"scatter\"},{\"hovertemplate\":\"finalName=Pierre<br>birthYear=%{x}<br>pctYB=%{y}<extra></extra>\",\"legendgroup\":\"Pierre\",\"marker\":{\"color\":\"#FF97FF\",\"symbol\":\"circle\"},\"mode\":\"markers\",\"name\":\"Pierre\",\"orientation\":\"v\",\"showlegend\":true,\"x\":[\"1967\"],\"xaxis\":\"x\",\"y\":[0.00012080823518834846],\"yaxis\":\"y\",\"type\":\"scatter\"},{\"hovertemplate\":\"finalName=Marijke<br>birthYear=%{x}<br>pctYB=%{y}<extra></extra>\",\"legendgroup\":\"Marijke\",\"marker\":{\"color\":\"#FECB52\",\"symbol\":\"circle\"},\"mode\":\"markers\",\"name\":\"Marijke\",\"orientation\":\"v\",\"showlegend\":true,\"x\":[\"1964\"],\"xaxis\":\"x\",\"y\":[0.0],\"yaxis\":\"y\",\"type\":\"scatter\"},{\"hovertemplate\":\"finalName=Pamela<br>birthYear=%{x}<br>pctYB=%{y}<extra></extra>\",\"legendgroup\":\"Pamela\",\"marker\":{\"color\":\"#636efa\",\"symbol\":\"circle\"},\"mode\":\"markers\",\"name\":\"Pamela\",\"orientation\":\"v\",\"showlegend\":true,\"x\":[\"1960\"],\"xaxis\":\"x\",\"y\":[0.010622896780388172],\"yaxis\":\"y\",\"type\":\"scatter\"},{\"hovertemplate\":\"finalName=Valerie<br>birthYear=%{x}<br>pctYB=%{y}<extra></extra>\",\"legendgroup\":\"Valerie\",\"marker\":{\"color\":\"#EF553B\",\"symbol\":\"circle\"},\"mode\":\"markers\",\"name\":\"Valerie\",\"orientation\":\"v\",\"showlegend\":true,\"x\":[\"1959\"],\"xaxis\":\"x\",\"y\":[0.0035149723098506307],\"yaxis\":\"y\",\"type\":\"scatter\"},{\"hovertemplate\":\"finalName=Victoria<br>birthYear=%{x}<br>pctYB=%{y}<extra></extra>\",\"legendgroup\":\"Victoria\",\"marker\":{\"color\":\"#00cc96\",\"symbol\":\"circle\"},\"mode\":\"markers\",\"name\":\"Victoria\",\"orientation\":\"v\",\"showlegend\":true,\"x\":[\"1956\"],\"xaxis\":\"x\",\"y\":[0.002615855248241653],\"yaxis\":\"y\",\"type\":\"scatter\"},{\"hovertemplate\":\"finalName=Brian<br>birthYear=%{x}<br>pctYB=%{y}<extra></extra>\",\"legendgroup\":\"Brian\",\"marker\":{\"color\":\"#ab63fa\",\"symbol\":\"circle\"},\"mode\":\"markers\",\"name\":\"Brian\",\"orientation\":\"v\",\"showlegend\":true,\"x\":[\"1981\",\"1983\"],\"xaxis\":\"x\",\"y\":[0.01427852874091387,0.013978713256654991],\"yaxis\":\"y\",\"type\":\"scatter\"},{\"hovertemplate\":\"finalName=Chase<br>birthYear=%{x}<br>pctYB=%{y}<extra></extra>\",\"legendgroup\":\"Chase\",\"marker\":{\"color\":\"#FFA15A\",\"symbol\":\"circle\"},\"mode\":\"markers\",\"name\":\"Chase\",\"orientation\":\"v\",\"showlegend\":true,\"x\":[\"1975\"],\"xaxis\":\"x\",\"y\":[7.824880408717533e-05],\"yaxis\":\"y\",\"type\":\"scatter\"},{\"hovertemplate\":\"finalName=Patrick<br>birthYear=%{x}<br>pctYB=%{y}<extra></extra>\",\"legendgroup\":\"Patrick\",\"marker\":{\"color\":\"#19d3f3\",\"symbol\":\"circle\"},\"mode\":\"markers\",\"name\":\"Patrick\",\"orientation\":\"v\",\"showlegend\":true,\"x\":[\"1937\",\"1952\"],\"xaxis\":\"x\",\"y\":[0.0019101751344392048,0.004649486960152756],\"yaxis\":\"y\",\"type\":\"scatter\"},{\"hovertemplate\":\"finalName=Blair<br>birthYear=%{x}<br>pctYB=%{y}<extra></extra>\",\"legendgroup\":\"Blair\",\"marker\":{\"color\":\"#FF6692\",\"symbol\":\"circle\"},\"mode\":\"markers\",\"name\":\"Blair\",\"orientation\":\"v\",\"showlegend\":true,\"x\":[\"1950\"],\"xaxis\":\"x\",\"y\":[1.3079180219730228e-05],\"yaxis\":\"y\",\"type\":\"scatter\"},{\"hovertemplate\":\"finalName=Jay<br>birthYear=%{x}<br>pctYB=%{y}<extra></extra>\",\"legendgroup\":\"Jay\",\"marker\":{\"color\":\"#B6E880\",\"symbol\":\"circle\"},\"mode\":\"markers\",\"name\":\"Jay\",\"orientation\":\"v\",\"showlegend\":true,\"x\":[\"1959\",\"1947\",\"1965\"],\"xaxis\":\"x\",\"y\":[0.0022797306603695206,0.0013119495074402127,0.0020813356855663274],\"yaxis\":\"y\",\"type\":\"scatter\"},{\"hovertemplate\":\"finalName=Ann<br>birthYear=%{x}<br>pctYB=%{y}<extra></extra>\",\"legendgroup\":\"Ann\",\"marker\":{\"color\":\"#FF97FF\",\"symbol\":\"circle\"},\"mode\":\"markers\",\"name\":\"Ann\",\"orientation\":\"v\",\"showlegend\":true,\"x\":[\"1948\"],\"xaxis\":\"x\",\"y\":[0.00460511629855385],\"yaxis\":\"y\",\"type\":\"scatter\"},{\"hovertemplate\":\"finalName=Leon<br>birthYear=%{x}<br>pctYB=%{y}<extra></extra>\",\"legendgroup\":\"Leon\",\"marker\":{\"color\":\"#FECB52\",\"symbol\":\"circle\"},\"mode\":\"markers\",\"name\":\"Leon\",\"orientation\":\"v\",\"showlegend\":true,\"x\":[\"1951\"],\"xaxis\":\"x\",\"y\":[0.001238673823913728],\"yaxis\":\"y\",\"type\":\"scatter\"},{\"hovertemplate\":\"finalName=Bernard<br>birthYear=%{x}<br>pctYB=%{y}<extra></extra>\",\"legendgroup\":\"Bernard\",\"marker\":{\"color\":\"#636efa\",\"symbol\":\"circle\"},\"mode\":\"markers\",\"name\":\"Bernard\",\"orientation\":\"v\",\"showlegend\":true,\"x\":[\"1929\",\"1932\"],\"xaxis\":\"x\",\"y\":[0.0034388274221433764,0.003025832662425599],\"yaxis\":\"y\",\"type\":\"scatter\"},{\"hovertemplate\":\"finalName=Tamara<br>birthYear=%{x}<br>pctYB=%{y}<extra></extra>\",\"legendgroup\":\"Tamara\",\"marker\":{\"color\":\"#EF553B\",\"symbol\":\"circle\"},\"mode\":\"markers\",\"name\":\"Tamara\",\"orientation\":\"v\",\"showlegend\":true,\"x\":[\"1961\"],\"xaxis\":\"x\",\"y\":[0.001796142194750931],\"yaxis\":\"y\",\"type\":\"scatter\"},{\"hovertemplate\":\"finalName=Dustin<br>birthYear=%{x}<br>pctYB=%{y}<extra></extra>\",\"legendgroup\":\"Dustin\",\"marker\":{\"color\":\"#00cc96\",\"symbol\":\"circle\"},\"mode\":\"markers\",\"name\":\"Dustin\",\"orientation\":\"v\",\"showlegend\":true,\"x\":[\"1984\"],\"xaxis\":\"x\",\"y\":[0.005540412672568484],\"yaxis\":\"y\",\"type\":\"scatter\"},{\"hovertemplate\":\"finalName=Orlando<br>birthYear=%{x}<br>pctYB=%{y}<extra></extra>\",\"legendgroup\":\"Orlando\",\"marker\":{\"color\":\"#ab63fa\",\"symbol\":\"circle\"},\"mode\":\"markers\",\"name\":\"Orlando\",\"orientation\":\"v\",\"showlegend\":true,\"x\":[\"1970\"],\"xaxis\":\"x\",\"y\":[0.00037840399586222317],\"yaxis\":\"y\",\"type\":\"scatter\"},{\"hovertemplate\":\"finalName=Ramzi<br>birthYear=%{x}<br>pctYB=%{y}<extra></extra>\",\"legendgroup\":\"Ramzi\",\"marker\":{\"color\":\"#FFA15A\",\"symbol\":\"circle\"},\"mode\":\"markers\",\"name\":\"Ramzi\",\"orientation\":\"v\",\"showlegend\":true,\"x\":[\"1968\"],\"xaxis\":\"x\",\"y\":[0.0],\"yaxis\":\"y\",\"type\":\"scatter\"},{\"hovertemplate\":\"finalName=Nathan<br>birthYear=%{x}<br>pctYB=%{y}<extra></extra>\",\"legendgroup\":\"Nathan\",\"marker\":{\"color\":\"#19d3f3\",\"symbol\":\"circle\"},\"mode\":\"markers\",\"name\":\"Nathan\",\"orientation\":\"v\",\"showlegend\":true,\"x\":[\"1983\"],\"xaxis\":\"x\",\"y\":[0.00566584244333487],\"yaxis\":\"y\",\"type\":\"scatter\"},{\"hovertemplate\":\"finalName=Rocco<br>birthYear=%{x}<br>pctYB=%{y}<extra></extra>\",\"legendgroup\":\"Rocco\",\"marker\":{\"color\":\"#FF6692\",\"symbol\":\"circle\"},\"mode\":\"markers\",\"name\":\"Rocco\",\"orientation\":\"v\",\"showlegend\":true,\"x\":[\"1949\"],\"xaxis\":\"x\",\"y\":[0.00010377629161248934],\"yaxis\":\"y\",\"type\":\"scatter\"},{\"hovertemplate\":\"finalName=Tilman<br>birthYear=%{x}<br>pctYB=%{y}<extra></extra>\",\"legendgroup\":\"Tilman\",\"marker\":{\"color\":\"#B6E880\",\"symbol\":\"circle\"},\"mode\":\"markers\",\"name\":\"Tilman\",\"orientation\":\"v\",\"showlegend\":true,\"x\":[\"1957\"],\"xaxis\":\"x\",\"y\":[7.31258418041242e-06],\"yaxis\":\"y\",\"type\":\"scatter\"},{\"hovertemplate\":\"finalName=Nancy<br>birthYear=%{x}<br>pctYB=%{y}<extra></extra>\",\"legendgroup\":\"Nancy\",\"marker\":{\"color\":\"#FF97FF\",\"symbol\":\"circle\"},\"mode\":\"markers\",\"name\":\"Nancy\",\"orientation\":\"v\",\"showlegend\":true,\"x\":[\"1951\"],\"xaxis\":\"x\",\"y\":[0.01642893102869609],\"yaxis\":\"y\",\"type\":\"scatter\"},{\"hovertemplate\":\"finalName=Harry<br>birthYear=%{x}<br>pctYB=%{y}<extra></extra>\",\"legendgroup\":\"Harry\",\"marker\":{\"color\":\"#FECB52\",\"symbol\":\"circle\"},\"mode\":\"markers\",\"name\":\"Harry\",\"orientation\":\"v\",\"showlegend\":true,\"x\":[\"1941\"],\"xaxis\":\"x\",\"y\":[0.004029372339187718],\"yaxis\":\"y\",\"type\":\"scatter\"},{\"hovertemplate\":\"finalName=Arthur<br>birthYear=%{x}<br>pctYB=%{y}<extra></extra>\",\"legendgroup\":\"Arthur\",\"marker\":{\"color\":\"#636efa\",\"symbol\":\"circle\"},\"mode\":\"markers\",\"name\":\"Arthur\",\"orientation\":\"v\",\"showlegend\":true,\"x\":[\"1942\",\"1957\"],\"xaxis\":\"x\",\"y\":[0.005699982247470265,0.0027696412583312043],\"yaxis\":\"y\",\"type\":\"scatter\"},{\"hovertemplate\":\"finalName=Rick<br>birthYear=%{x}<br>pctYB=%{y}<extra></extra>\",\"legendgroup\":\"Rick\",\"marker\":{\"color\":\"#EF553B\",\"symbol\":\"circle\"},\"mode\":\"markers\",\"name\":\"Rick\",\"orientation\":\"v\",\"showlegend\":true,\"x\":[\"1952\"],\"xaxis\":\"x\",\"y\":[0.0013094576899220407],\"yaxis\":\"y\",\"type\":\"scatter\"},{\"hovertemplate\":\"finalName=Joe<br>birthYear=%{x}<br>pctYB=%{y}<extra></extra>\",\"legendgroup\":\"Joe\",\"marker\":{\"color\":\"#00cc96\",\"symbol\":\"circle\"},\"mode\":\"markers\",\"name\":\"Joe\",\"orientation\":\"v\",\"showlegend\":true,\"x\":[\"1981\"],\"xaxis\":\"x\",\"y\":[0.0009984609744012858],\"yaxis\":\"y\",\"type\":\"scatter\"},{\"hovertemplate\":\"finalName=Tim<br>birthYear=%{x}<br>pctYB=%{y}<extra></extra>\",\"legendgroup\":\"Tim\",\"marker\":{\"color\":\"#ab63fa\",\"symbol\":\"circle\"},\"mode\":\"markers\",\"name\":\"Tim\",\"orientation\":\"v\",\"showlegend\":true,\"x\":[\"1970\"],\"xaxis\":\"x\",\"y\":[0.0006959274597965436],\"yaxis\":\"y\",\"type\":\"scatter\"},{\"hovertemplate\":\"finalName=Paul<br>birthYear=%{x}<br>pctYB=%{y}<extra></extra>\",\"legendgroup\":\"Paul\",\"marker\":{\"color\":\"#FFA15A\",\"symbol\":\"circle\"},\"mode\":\"markers\",\"name\":\"Paul\",\"orientation\":\"v\",\"showlegend\":true,\"x\":[\"1954\",\"1958\",\"1944\"],\"xaxis\":\"x\",\"y\":[0.01267199205106879,0.01218577314235912,0.011991079218726153],\"yaxis\":\"y\",\"type\":\"scatter\"},{\"hovertemplate\":\"finalName=Gordon<br>birthYear=%{x}<br>pctYB=%{y}<extra></extra>\",\"legendgroup\":\"Gordon\",\"marker\":{\"color\":\"#19d3f3\",\"symbol\":\"circle\"},\"mode\":\"markers\",\"name\":\"Gordon\",\"orientation\":\"v\",\"showlegend\":true,\"x\":[\"1929\"],\"xaxis\":\"x\",\"y\":[0.0022507211245480275],\"yaxis\":\"y\",\"type\":\"scatter\"},{\"hovertemplate\":\"finalName=Henry<br>birthYear=%{x}<br>pctYB=%{y}<extra></extra>\",\"legendgroup\":\"Henry\",\"marker\":{\"color\":\"#FF6692\",\"symbol\":\"circle\"},\"mode\":\"markers\",\"name\":\"Henry\",\"orientation\":\"v\",\"showlegend\":true,\"x\":[\"1944\",\"1954\",\"1959\"],\"xaxis\":\"x\",\"y\":[0.005019739172250554,0.0030949024482302173,0.0023346583681208817],\"yaxis\":\"y\",\"type\":\"scatter\"},{\"hovertemplate\":\"finalName=Pauline<br>birthYear=%{x}<br>pctYB=%{y}<extra></extra>\",\"legendgroup\":\"Pauline\",\"marker\":{\"color\":\"#B6E880\",\"symbol\":\"circle\"},\"mode\":\"markers\",\"name\":\"Pauline\",\"orientation\":\"v\",\"showlegend\":true,\"x\":[\"1934\"],\"xaxis\":\"x\",\"y\":[0.0031829596628003025],\"yaxis\":\"y\",\"type\":\"scatter\"},{\"hovertemplate\":\"finalName=Richard<br>birthYear=%{x}<br>pctYB=%{y}<extra></extra>\",\"legendgroup\":\"Richard\",\"marker\":{\"color\":\"#FF97FF\",\"symbol\":\"circle\"},\"mode\":\"markers\",\"name\":\"Richard\",\"orientation\":\"v\",\"showlegend\":true,\"x\":[\"1944\",\"1959\",\"1945\",\"1951\",\"1945\",\"1941\",\"1938\"],\"xaxis\":\"x\",\"y\":[0.03285830700963779,0.02177814375735062,0.033573450993174186,0.028533437393093764,0.033573450993174186,0.031167864480477148,0.030255327723520648],\"yaxis\":\"y\",\"type\":\"scatter\"},{\"hovertemplate\":\"finalName=Jeff<br>birthYear=%{x}<br>pctYB=%{y}<extra></extra>\",\"legendgroup\":\"Jeff\",\"marker\":{\"color\":\"#FECB52\",\"symbol\":\"circle\"},\"mode\":\"markers\",\"name\":\"Jeff\",\"orientation\":\"v\",\"showlegend\":true,\"x\":[\"1954\",\"1965\"],\"xaxis\":\"x\",\"y\":[0.00047119454825491285,0.0028555039032959937],\"yaxis\":\"y\",\"type\":\"scatter\"},{\"hovertemplate\":\"finalName=Leo<br>birthYear=%{x}<br>pctYB=%{y}<extra></extra>\",\"legendgroup\":\"Leo\",\"marker\":{\"color\":\"#636efa\",\"symbol\":\"circle\"},\"mode\":\"markers\",\"name\":\"Leo\",\"orientation\":\"v\",\"showlegend\":true,\"x\":[\"1955\"],\"xaxis\":\"x\",\"y\":[0.0007544118983720586],\"yaxis\":\"y\",\"type\":\"scatter\"},{\"hovertemplate\":\"finalName=Jack<br>birthYear=%{x}<br>pctYB=%{y}<extra></extra>\",\"legendgroup\":\"Jack\",\"marker\":{\"color\":\"#EF553B\",\"symbol\":\"circle\"},\"mode\":\"markers\",\"name\":\"Jack\",\"orientation\":\"v\",\"showlegend\":true,\"x\":[\"1945\",\"1976\"],\"xaxis\":\"x\",\"y\":[0.004997772367291789,0.0010201113795077627],\"yaxis\":\"y\",\"type\":\"scatter\"},{\"hovertemplate\":\"finalName=Christopher<br>birthYear=%{x}<br>pctYB=%{y}<extra></extra>\",\"legendgroup\":\"Christopher\",\"marker\":{\"color\":\"#00cc96\",\"symbol\":\"circle\"},\"mode\":\"markers\",\"name\":\"Christopher\",\"orientation\":\"v\",\"showlegend\":true,\"x\":[\"1953\"],\"xaxis\":\"x\",\"y\":[0.003035076433782693],\"yaxis\":\"y\",\"type\":\"scatter\"},{\"hovertemplate\":\"finalName=Jude<br>birthYear=%{x}<br>pctYB=%{y}<extra></extra>\",\"legendgroup\":\"Jude\",\"marker\":{\"color\":\"#ab63fa\",\"symbol\":\"circle\"},\"mode\":\"markers\",\"name\":\"Jude\",\"orientation\":\"v\",\"showlegend\":true,\"x\":[\"1955\"],\"xaxis\":\"x\",\"y\":[2.9659820988628807e-05],\"yaxis\":\"y\",\"type\":\"scatter\"},{\"hovertemplate\":\"finalName=Don<br>birthYear=%{x}<br>pctYB=%{y}<extra></extra>\",\"legendgroup\":\"Don\",\"marker\":{\"color\":\"#FFA15A\",\"symbol\":\"circle\"},\"mode\":\"markers\",\"name\":\"Don\",\"orientation\":\"v\",\"showlegend\":true,\"x\":[\"1952\"],\"xaxis\":\"x\",\"y\":[0.0013018563488427718],\"yaxis\":\"y\",\"type\":\"scatter\"},{\"hovertemplate\":\"finalName=Dannine<br>birthYear=%{x}<br>pctYB=%{y}<extra></extra>\",\"legendgroup\":\"Dannine\",\"marker\":{\"color\":\"#19d3f3\",\"symbol\":\"circle\"},\"mode\":\"markers\",\"name\":\"Dannine\",\"orientation\":\"v\",\"showlegend\":true,\"x\":[\"1964\"],\"xaxis\":\"x\",\"y\":[null],\"yaxis\":\"y\",\"type\":\"scatter\"},{\"hovertemplate\":\"finalName=Edythe <br>birthYear=%{x}<br>pctYB=%{y}<extra></extra>\",\"legendgroup\":\"Edythe \",\"marker\":{\"color\":\"#FF6692\",\"symbol\":\"circle\"},\"mode\":\"markers\",\"name\":\"Edythe \",\"orientation\":\"v\",\"showlegend\":true,\"x\":[\"1936\"],\"xaxis\":\"x\",\"y\":[null],\"yaxis\":\"y\",\"type\":\"scatter\"},{\"hovertemplate\":\"finalName=Scott<br>birthYear=%{x}<br>pctYB=%{y}<extra></extra>\",\"legendgroup\":\"Scott\",\"marker\":{\"color\":\"#B6E880\",\"symbol\":\"circle\"},\"mode\":\"markers\",\"name\":\"Scott\",\"orientation\":\"v\",\"showlegend\":true,\"x\":[\"1982\",\"1952\",\"1977\"],\"xaxis\":\"x\",\"y\":[0.006467451364320732,0.003314184710561202,0.008312708490261488],\"yaxis\":\"y\",\"type\":\"scatter\"},{\"hovertemplate\":\"finalName=Milane<br>birthYear=%{x}<br>pctYB=%{y}<extra></extra>\",\"legendgroup\":\"Milane\",\"marker\":{\"color\":\"#FF97FF\",\"symbol\":\"circle\"},\"mode\":\"markers\",\"name\":\"Milane\",\"orientation\":\"v\",\"showlegend\":true,\"x\":[\"1969\"],\"xaxis\":\"x\",\"y\":[null],\"yaxis\":\"y\",\"type\":\"scatter\"},{\"hovertemplate\":\"finalName=Philippe<br>birthYear=%{x}<br>pctYB=%{y}<extra></extra>\",\"legendgroup\":\"Philippe\",\"marker\":{\"color\":\"#FECB52\",\"symbol\":\"circle\"},\"mode\":\"markers\",\"name\":\"Philippe\",\"orientation\":\"v\",\"showlegend\":true,\"x\":[\"1967\"],\"xaxis\":\"x\",\"y\":[2.1914051964398093e-05],\"yaxis\":\"y\",\"type\":\"scatter\"},{\"hovertemplate\":\"finalName=Igor<br>birthYear=%{x}<br>pctYB=%{y}<extra></extra>\",\"legendgroup\":\"Igor\",\"marker\":{\"color\":\"#636efa\",\"symbol\":\"circle\"},\"mode\":\"markers\",\"name\":\"Igor\",\"orientation\":\"v\",\"showlegend\":true,\"x\":[\"1942\"],\"xaxis\":\"x\",\"y\":[0.0],\"yaxis\":\"y\",\"type\":\"scatter\"},{\"hovertemplate\":\"finalName=Randa<br>birthYear=%{x}<br>pctYB=%{y}<extra></extra>\",\"legendgroup\":\"Randa\",\"marker\":{\"color\":\"#EF553B\",\"symbol\":\"circle\"},\"mode\":\"markers\",\"name\":\"Randa\",\"orientation\":\"v\",\"showlegend\":true,\"x\":[\"1961\"],\"xaxis\":\"x\",\"y\":[1.733542064638968e-05],\"yaxis\":\"y\",\"type\":\"scatter\"},{\"hovertemplate\":\"finalName=Judith<br>birthYear=%{x}<br>pctYB=%{y}<extra></extra>\",\"legendgroup\":\"Judith\",\"marker\":{\"color\":\"#00cc96\",\"symbol\":\"circle\"},\"mode\":\"markers\",\"name\":\"Judith\",\"orientation\":\"v\",\"showlegend\":true,\"x\":[\"1943\"],\"xaxis\":\"x\",\"y\":[0.017566275871486257],\"yaxis\":\"y\",\"type\":\"scatter\"},{\"hovertemplate\":\"finalName=Terrence<br>birthYear=%{x}<br>pctYB=%{y}<extra></extra>\",\"legendgroup\":\"Terrence\",\"marker\":{\"color\":\"#ab63fa\",\"symbol\":\"circle\"},\"mode\":\"markers\",\"name\":\"Terrence\",\"orientation\":\"v\",\"showlegend\":true,\"x\":[\"1951\"],\"xaxis\":\"x\",\"y\":[0.0006120136714438606],\"yaxis\":\"y\",\"type\":\"scatter\"},{\"hovertemplate\":\"finalName=Trudy<br>birthYear=%{x}<br>pctYB=%{y}<extra></extra>\",\"legendgroup\":\"Trudy\",\"marker\":{\"color\":\"#FFA15A\",\"symbol\":\"circle\"},\"mode\":\"markers\",\"name\":\"Trudy\",\"orientation\":\"v\",\"showlegend\":true,\"x\":[\"1955\"],\"xaxis\":\"x\",\"y\":[0.0004284453816929628],\"yaxis\":\"y\",\"type\":\"scatter\"},{\"hovertemplate\":\"finalName=Edward<br>birthYear=%{x}<br>pctYB=%{y}<extra></extra>\",\"legendgroup\":\"Edward\",\"marker\":{\"color\":\"#19d3f3\",\"symbol\":\"circle\"},\"mode\":\"markers\",\"name\":\"Edward\",\"orientation\":\"v\",\"showlegend\":true,\"x\":[\"1964\",\"1938\",\"1946\"],\"xaxis\":\"x\",\"y\":[0.0076992326911551065,0.012802023122658851,0.011257803022682845],\"yaxis\":\"y\",\"type\":\"scatter\"},{\"hovertemplate\":\"finalName=Bruce<br>birthYear=%{x}<br>pctYB=%{y}<extra></extra>\",\"legendgroup\":\"Bruce\",\"marker\":{\"color\":\"#FF6692\",\"symbol\":\"circle\"},\"mode\":\"markers\",\"name\":\"Bruce\",\"orientation\":\"v\",\"showlegend\":true,\"x\":[\"1945\"],\"xaxis\":\"x\",\"y\":[0.004092864939832042],\"yaxis\":\"y\",\"type\":\"scatter\"},{\"hovertemplate\":\"finalName=Ralph<br>birthYear=%{x}<br>pctYB=%{y}<extra></extra>\",\"legendgroup\":\"Ralph\",\"marker\":{\"color\":\"#B6E880\",\"symbol\":\"circle\"},\"mode\":\"markers\",\"name\":\"Ralph\",\"orientation\":\"v\",\"showlegend\":true,\"x\":[\"1939\"],\"xaxis\":\"x\",\"y\":[0.005258179341064271],\"yaxis\":\"y\",\"type\":\"scatter\"},{\"hovertemplate\":\"finalName=Reinhold<br>birthYear=%{x}<br>pctYB=%{y}<extra></extra>\",\"legendgroup\":\"Reinhold\",\"marker\":{\"color\":\"#FF97FF\",\"symbol\":\"circle\"},\"mode\":\"markers\",\"name\":\"Reinhold\",\"orientation\":\"v\",\"showlegend\":true,\"x\":[\"1955\"],\"xaxis\":\"x\",\"y\":[2.870305256964078e-06],\"yaxis\":\"y\",\"type\":\"scatter\"},{\"hovertemplate\":\"finalName=Marc<br>birthYear=%{x}<br>pctYB=%{y}<extra></extra>\",\"legendgroup\":\"Marc\",\"marker\":{\"color\":\"#FECB52\",\"symbol\":\"circle\"},\"mode\":\"markers\",\"name\":\"Marc\",\"orientation\":\"v\",\"showlegend\":true,\"x\":[\"1964\",\"1962\"],\"xaxis\":\"x\",\"y\":[0.0015203123497014377,0.0014010226275858262],\"yaxis\":\"y\",\"type\":\"scatter\"},{\"hovertemplate\":\"finalName=Melinda<br>birthYear=%{x}<br>pctYB=%{y}<extra></extra>\",\"legendgroup\":\"Melinda\",\"marker\":{\"color\":\"#636efa\",\"symbol\":\"circle\"},\"mode\":\"markers\",\"name\":\"Melinda\",\"orientation\":\"v\",\"showlegend\":true,\"x\":[\"1964\"],\"xaxis\":\"x\",\"y\":[0.001890794726414622],\"yaxis\":\"y\",\"type\":\"scatter\"},{\"hovertemplate\":\"finalName=Ted<br>birthYear=%{x}<br>pctYB=%{y}<extra></extra>\",\"legendgroup\":\"Ted\",\"marker\":{\"color\":\"#EF553B\",\"symbol\":\"circle\"},\"mode\":\"markers\",\"name\":\"Ted\",\"orientation\":\"v\",\"showlegend\":true,\"x\":[\"1925\"],\"xaxis\":\"x\",\"y\":[0.0005818800805947336],\"yaxis\":\"y\",\"type\":\"scatter\"},{\"hovertemplate\":\"finalName=Dennis<br>birthYear=%{x}<br>pctYB=%{y}<extra></extra>\",\"legendgroup\":\"Dennis\",\"marker\":{\"color\":\"#00cc96\",\"symbol\":\"circle\"},\"mode\":\"markers\",\"name\":\"Dennis\",\"orientation\":\"v\",\"showlegend\":true,\"x\":[\"1934\"],\"xaxis\":\"x\",\"y\":[0.001933372572101236],\"yaxis\":\"y\",\"type\":\"scatter\"},{\"hovertemplate\":\"finalName=Neil<br>birthYear=%{x}<br>pctYB=%{y}<extra></extra>\",\"legendgroup\":\"Neil\",\"marker\":{\"color\":\"#ab63fa\",\"symbol\":\"circle\"},\"mode\":\"markers\",\"name\":\"Neil\",\"orientation\":\"v\",\"showlegend\":true,\"x\":[\"1938\"],\"xaxis\":\"x\",\"y\":[0.0009388795567995735],\"yaxis\":\"y\",\"type\":\"scatter\"},{\"hovertemplate\":\"finalName=Ge<br>birthYear=%{x}<br>pctYB=%{y}<extra></extra>\",\"legendgroup\":\"Ge\",\"marker\":{\"color\":\"#FFA15A\",\"symbol\":\"circle\"},\"mode\":\"markers\",\"name\":\"Ge\",\"orientation\":\"v\",\"showlegend\":true,\"x\":[\"1967\"],\"xaxis\":\"x\",\"y\":[0.0],\"yaxis\":\"y\",\"type\":\"scatter\"},{\"hovertemplate\":\"finalName=Leslie<br>birthYear=%{x}<br>pctYB=%{y}<extra></extra>\",\"legendgroup\":\"Leslie\",\"marker\":{\"color\":\"#19d3f3\",\"symbol\":\"circle\"},\"mode\":\"markers\",\"name\":\"Leslie\",\"orientation\":\"v\",\"showlegend\":true,\"x\":[\"1937\"],\"xaxis\":\"x\",\"y\":[0.001132023368327303],\"yaxis\":\"y\",\"type\":\"scatter\"},{\"hovertemplate\":\"finalName=Mitchell<br>birthYear=%{x}<br>pctYB=%{y}<extra></extra>\",\"legendgroup\":\"Mitchell\",\"marker\":{\"color\":\"#FF6692\",\"symbol\":\"circle\"},\"mode\":\"markers\",\"name\":\"Mitchell\",\"orientation\":\"v\",\"showlegend\":true,\"x\":[\"1956\"],\"xaxis\":\"x\",\"y\":[0.0011204014624383663],\"yaxis\":\"y\",\"type\":\"scatter\"},{\"hovertemplate\":\"finalName=Antony<br>birthYear=%{x}<br>pctYB=%{y}<extra></extra>\",\"legendgroup\":\"Antony\",\"marker\":{\"color\":\"#B6E880\",\"symbol\":\"circle\"},\"mode\":\"markers\",\"name\":\"Antony\",\"orientation\":\"v\",\"showlegend\":true,\"x\":[\"1962\"],\"xaxis\":\"x\",\"y\":[4.51942783092202e-05],\"yaxis\":\"y\",\"type\":\"scatter\"},{\"hovertemplate\":\"finalName=Josh<br>birthYear=%{x}<br>pctYB=%{y}<extra></extra>\",\"legendgroup\":\"Josh\",\"marker\":{\"color\":\"#FF97FF\",\"symbol\":\"circle\"},\"mode\":\"markers\",\"name\":\"Josh\",\"orientation\":\"v\",\"showlegend\":true,\"x\":[\"1964\"],\"xaxis\":\"x\",\"y\":[4.686232096743562e-05],\"yaxis\":\"y\",\"type\":\"scatter\"},{\"hovertemplate\":\"finalName=Ray<br>birthYear=%{x}<br>pctYB=%{y}<extra></extra>\",\"legendgroup\":\"Ray\",\"marker\":{\"color\":\"#FECB52\",\"symbol\":\"circle\"},\"mode\":\"markers\",\"name\":\"Ray\",\"orientation\":\"v\",\"showlegend\":true,\"x\":[\"1943\"],\"xaxis\":\"x\",\"y\":[0.002105804471620452],\"yaxis\":\"y\",\"type\":\"scatter\"},{\"hovertemplate\":\"finalName=Douglas<br>birthYear=%{x}<br>pctYB=%{y}<extra></extra>\",\"legendgroup\":\"Douglas\",\"marker\":{\"color\":\"#636efa\",\"symbol\":\"circle\"},\"mode\":\"markers\",\"name\":\"Douglas\",\"orientation\":\"v\",\"showlegend\":true,\"x\":[\"1957\",\"1954\"],\"xaxis\":\"x\",\"y\":[0.0076457637971324615,0.007106580340603583],\"yaxis\":\"y\",\"type\":\"scatter\"},{\"hovertemplate\":\"finalName=Karen<br>birthYear=%{x}<br>pctYB=%{y}<extra></extra>\",\"legendgroup\":\"Karen\",\"marker\":{\"color\":\"#EF553B\",\"symbol\":\"circle\"},\"mode\":\"markers\",\"name\":\"Karen\",\"orientation\":\"v\",\"showlegend\":true,\"x\":[\"1958\"],\"xaxis\":\"x\",\"y\":[0.018624491307747616],\"yaxis\":\"y\",\"type\":\"scatter\"},{\"hovertemplate\":\"finalName=Dirk<br>birthYear=%{x}<br>pctYB=%{y}<extra></extra>\",\"legendgroup\":\"Dirk\",\"marker\":{\"color\":\"#00cc96\",\"symbol\":\"circle\"},\"mode\":\"markers\",\"name\":\"Dirk\",\"orientation\":\"v\",\"showlegend\":true,\"x\":[\"1964\"],\"xaxis\":\"x\",\"y\":[0.00016426476718059012],\"yaxis\":\"y\",\"type\":\"scatter\"},{\"hovertemplate\":\"finalName=Ronda<br>birthYear=%{x}<br>pctYB=%{y}<extra></extra>\",\"legendgroup\":\"Ronda\",\"marker\":{\"color\":\"#ab63fa\",\"symbol\":\"circle\"},\"mode\":\"markers\",\"name\":\"Ronda\",\"orientation\":\"v\",\"showlegend\":true,\"x\":[\"1954\"],\"xaxis\":\"x\",\"y\":[0.0002898175104022888],\"yaxis\":\"y\",\"type\":\"scatter\"},{\"hovertemplate\":\"finalName=Micky<br>birthYear=%{x}<br>pctYB=%{y}<extra></extra>\",\"legendgroup\":\"Micky\",\"marker\":{\"color\":\"#FFA15A\",\"symbol\":\"circle\"},\"mode\":\"markers\",\"name\":\"Micky\",\"orientation\":\"v\",\"showlegend\":true,\"x\":[\"1949\"],\"xaxis\":\"x\",\"y\":[1.664860293248492e-05],\"yaxis\":\"y\",\"type\":\"scatter\"},{\"hovertemplate\":\"finalName=Wesley<br>birthYear=%{x}<br>pctYB=%{y}<extra></extra>\",\"legendgroup\":\"Wesley\",\"marker\":{\"color\":\"#19d3f3\",\"symbol\":\"circle\"},\"mode\":\"markers\",\"name\":\"Wesley\",\"orientation\":\"v\",\"showlegend\":true,\"x\":[\"1961\"],\"xaxis\":\"x\",\"y\":[0.0009289443380077367],\"yaxis\":\"y\",\"type\":\"scatter\"},{\"hovertemplate\":\"finalName=Archie<br>birthYear=%{x}<br>pctYB=%{y}<extra></extra>\",\"legendgroup\":\"Archie\",\"marker\":{\"color\":\"#FF6692\",\"symbol\":\"circle\"},\"mode\":\"markers\",\"name\":\"Archie\",\"orientation\":\"v\",\"showlegend\":true,\"x\":[\"1929\"],\"xaxis\":\"x\",\"y\":[0.0006608615576290237],\"yaxis\":\"y\",\"type\":\"scatter\"},{\"hovertemplate\":\"finalName=Jonathan<br>birthYear=%{x}<br>pctYB=%{y}<extra></extra>\",\"legendgroup\":\"Jonathan\",\"marker\":{\"color\":\"#B6E880\",\"symbol\":\"circle\"},\"mode\":\"markers\",\"name\":\"Jonathan\",\"orientation\":\"v\",\"showlegend\":true,\"x\":[\"1970\",\"1956\"],\"xaxis\":\"x\",\"y\":[0.0043046734730401584,0.0014548913792910678],\"yaxis\":\"y\",\"type\":\"scatter\"},{\"hovertemplate\":\"finalName=Judy<br>birthYear=%{x}<br>pctYB=%{y}<extra></extra>\",\"legendgroup\":\"Judy\",\"marker\":{\"color\":\"#FF97FF\",\"symbol\":\"circle\"},\"mode\":\"markers\",\"name\":\"Judy\",\"orientation\":\"v\",\"showlegend\":true,\"x\":[\"1937\"],\"xaxis\":\"x\",\"y\":[0.0024876705565448154],\"yaxis\":\"y\",\"type\":\"scatter\"},{\"hovertemplate\":\"finalName=Katharine<br>birthYear=%{x}<br>pctYB=%{y}<extra></extra>\",\"legendgroup\":\"Katharine\",\"marker\":{\"color\":\"#FECB52\",\"symbol\":\"circle\"},\"mode\":\"markers\",\"name\":\"Katharine\",\"orientation\":\"v\",\"showlegend\":true,\"x\":[\"1945\"],\"xaxis\":\"x\",\"y\":[0.00020949456094174491],\"yaxis\":\"y\",\"type\":\"scatter\"},{\"hovertemplate\":\"finalName=Margaretta<br>birthYear=%{x}<br>pctYB=%{y}<extra></extra>\",\"legendgroup\":\"Margaretta\",\"marker\":{\"color\":\"#636efa\",\"symbol\":\"circle\"},\"mode\":\"markers\",\"name\":\"Margaretta\",\"orientation\":\"v\",\"showlegend\":true,\"x\":[\"1942\"],\"xaxis\":\"x\",\"y\":[2.085615224128123e-05],\"yaxis\":\"y\",\"type\":\"scatter\"},{\"hovertemplate\":\"finalName=Vinod<br>birthYear=%{x}<br>pctYB=%{y}<extra></extra>\",\"legendgroup\":\"Vinod\",\"marker\":{\"color\":\"#EF553B\",\"symbol\":\"circle\"},\"mode\":\"markers\",\"name\":\"Vinod\",\"orientation\":\"v\",\"showlegend\":true,\"x\":[\"1955\"],\"xaxis\":\"x\",\"y\":[0.0],\"yaxis\":\"y\",\"type\":\"scatter\"},{\"hovertemplate\":\"finalName=Todd<br>birthYear=%{x}<br>pctYB=%{y}<extra></extra>\",\"legendgroup\":\"Todd\",\"marker\":{\"color\":\"#00cc96\",\"symbol\":\"circle\"},\"mode\":\"markers\",\"name\":\"Todd\",\"orientation\":\"v\",\"showlegend\":true,\"x\":[\"1973\",\"1962\",\"1964\"],\"xaxis\":\"x\",\"y\":[0.0053774465678199474,0.006063169232115911,0.007572457780748465],\"yaxis\":\"y\",\"type\":\"scatter\"},{\"hovertemplate\":\"finalName=Lynda<br>birthYear=%{x}<br>pctYB=%{y}<extra></extra>\",\"legendgroup\":\"Lynda\",\"marker\":{\"color\":\"#ab63fa\",\"symbol\":\"circle\"},\"mode\":\"markers\",\"name\":\"Lynda\",\"orientation\":\"v\",\"showlegend\":true,\"x\":[\"1943\"],\"xaxis\":\"x\",\"y\":[0.0016804099865957347],\"yaxis\":\"y\",\"type\":\"scatter\"},{\"hovertemplate\":\"finalName=Stewart<br>birthYear=%{x}<br>pctYB=%{y}<extra></extra>\",\"legendgroup\":\"Stewart\",\"marker\":{\"color\":\"#FFA15A\",\"symbol\":\"circle\"},\"mode\":\"markers\",\"name\":\"Stewart\",\"orientation\":\"v\",\"showlegend\":true,\"x\":[\"1936\",\"1946\"],\"xaxis\":\"x\",\"y\":[0.0002574508048156455,0.00023449969157534107],\"yaxis\":\"y\",\"type\":\"scatter\"},{\"hovertemplate\":\"finalName=Jane<br>birthYear=%{x}<br>pctYB=%{y}<extra></extra>\",\"legendgroup\":\"Jane\",\"marker\":{\"color\":\"#19d3f3\",\"symbol\":\"circle\"},\"mode\":\"markers\",\"name\":\"Jane\",\"orientation\":\"v\",\"showlegend\":true,\"x\":[\"1973\"],\"xaxis\":\"x\",\"y\":[0.0006170619230326245],\"yaxis\":\"y\",\"type\":\"scatter\"},{\"hovertemplate\":\"finalName=Gary<br>birthYear=%{x}<br>pctYB=%{y}<extra></extra>\",\"legendgroup\":\"Gary\",\"marker\":{\"color\":\"#FF6692\",\"symbol\":\"circle\"},\"mode\":\"markers\",\"name\":\"Gary\",\"orientation\":\"v\",\"showlegend\":true,\"x\":[\"1944\",\"1993\"],\"xaxis\":\"x\",\"y\":[0.014440118751781708,0.0009998344099911782],\"yaxis\":\"y\",\"type\":\"scatter\"},{\"hovertemplate\":\"finalName=Elizabeth<br>birthYear=%{x}<br>pctYB=%{y}<extra></extra>\",\"legendgroup\":\"Elizabeth\",\"marker\":{\"color\":\"#B6E880\",\"symbol\":\"circle\"},\"mode\":\"markers\",\"name\":\"Elizabeth\",\"orientation\":\"v\",\"showlegend\":true,\"x\":[\"1963\",\"1945\"],\"xaxis\":\"x\",\"y\":[0.008848302243638915,0.007682953011558602],\"yaxis\":\"y\",\"type\":\"scatter\"},{\"hovertemplate\":\"finalName=Sami<br>birthYear=%{x}<br>pctYB=%{y}<extra></extra>\",\"legendgroup\":\"Sami\",\"marker\":{\"color\":\"#FF97FF\",\"symbol\":\"circle\"},\"mode\":\"markers\",\"name\":\"Sami\",\"orientation\":\"v\",\"showlegend\":true,\"x\":[\"1961\"],\"xaxis\":\"x\",\"y\":[3.2464355297324798e-06],\"yaxis\":\"y\",\"type\":\"scatter\"},{\"hovertemplate\":\"finalName=Anthony<br>birthYear=%{x}<br>pctYB=%{y}<extra></extra>\",\"legendgroup\":\"Anthony\",\"marker\":{\"color\":\"#FECB52\",\"symbol\":\"circle\"},\"mode\":\"markers\",\"name\":\"Anthony\",\"orientation\":\"v\",\"showlegend\":true,\"x\":[\"1957\",\"1961\"],\"xaxis\":\"x\",\"y\":[0.007788359188650504,0.009364111397261215],\"yaxis\":\"y\",\"type\":\"scatter\"},{\"hovertemplate\":\"finalName=Romesh<br>birthYear=%{x}<br>pctYB=%{y}<extra></extra>\",\"legendgroup\":\"Romesh\",\"marker\":{\"color\":\"#636efa\",\"symbol\":\"circle\"},\"mode\":\"markers\",\"name\":\"Romesh\",\"orientation\":\"v\",\"showlegend\":true,\"x\":[\"1947\"],\"xaxis\":\"x\",\"y\":[null],\"yaxis\":\"y\",\"type\":\"scatter\"},{\"hovertemplate\":\"finalName=Denise<br>birthYear=%{x}<br>pctYB=%{y}<extra></extra>\",\"legendgroup\":\"Denise\",\"marker\":{\"color\":\"#EF553B\",\"symbol\":\"circle\"},\"mode\":\"markers\",\"name\":\"Denise\",\"orientation\":\"v\",\"showlegend\":true,\"x\":[\"1950\"],\"xaxis\":\"x\",\"y\":[0.0025669312831244455],\"yaxis\":\"y\",\"type\":\"scatter\"},{\"hovertemplate\":\"finalName=Bert<br>birthYear=%{x}<br>pctYB=%{y}<extra></extra>\",\"legendgroup\":\"Bert\",\"marker\":{\"color\":\"#00cc96\",\"symbol\":\"circle\"},\"mode\":\"markers\",\"name\":\"Bert\",\"orientation\":\"v\",\"showlegend\":true,\"x\":[\"1962\"],\"xaxis\":\"x\",\"y\":[0.00017173825757503677],\"yaxis\":\"y\",\"type\":\"scatter\"},{\"hovertemplate\":\"finalName=Joseph<br>birthYear=%{x}<br>pctYB=%{y}<extra></extra>\",\"legendgroup\":\"Joseph\",\"marker\":{\"color\":\"#ab63fa\",\"symbol\":\"circle\"},\"mode\":\"markers\",\"name\":\"Joseph\",\"orientation\":\"v\",\"showlegend\":true,\"x\":[\"1956\",\"1968\",\"1961\",\"1949\",\"1941\"],\"xaxis\":\"x\",\"y\":[0.01526121892225299,0.014303492392418321,0.013658681826593038,0.01465299039431106,0.01578356787531898],\"yaxis\":\"y\",\"type\":\"scatter\"},{\"hovertemplate\":\"finalName=Janice<br>birthYear=%{x}<br>pctYB=%{y}<extra></extra>\",\"legendgroup\":\"Janice\",\"marker\":{\"color\":\"#FFA15A\",\"symbol\":\"circle\"},\"mode\":\"markers\",\"name\":\"Janice\",\"orientation\":\"v\",\"showlegend\":true,\"x\":[\"1936\"],\"xaxis\":\"x\",\"y\":[0.005706543174931673],\"yaxis\":\"y\",\"type\":\"scatter\"},{\"hovertemplate\":\"finalName=Hendrik<br>birthYear=%{x}<br>pctYB=%{y}<extra></extra>\",\"legendgroup\":\"Hendrik\",\"marker\":{\"color\":\"#19d3f3\",\"symbol\":\"circle\"},\"mode\":\"markers\",\"name\":\"Hendrik\",\"orientation\":\"v\",\"showlegend\":true,\"x\":[\"1952\"],\"xaxis\":\"x\",\"y\":[0.0],\"yaxis\":\"y\",\"type\":\"scatter\"},{\"hovertemplate\":\"finalName=Ronald<br>birthYear=%{x}<br>pctYB=%{y}<extra></extra>\",\"legendgroup\":\"Ronald\",\"marker\":{\"color\":\"#FF6692\",\"symbol\":\"circle\"},\"mode\":\"markers\",\"name\":\"Ronald\",\"orientation\":\"v\",\"showlegend\":true,\"x\":[\"1943\",\"1941\",\"1944\",\"1952\"],\"xaxis\":\"x\",\"y\":[0.020100360867374194,0.01944873468463945,0.018366356733346963,0.014088325556316816],\"yaxis\":\"y\",\"type\":\"scatter\"},{\"hovertemplate\":\"finalName=Fisk<br>birthYear=%{x}<br>pctYB=%{y}<extra></extra>\",\"legendgroup\":\"Fisk\",\"marker\":{\"color\":\"#B6E880\",\"symbol\":\"circle\"},\"mode\":\"markers\",\"name\":\"Fisk\",\"orientation\":\"v\",\"showlegend\":true,\"x\":[\"1958\"],\"xaxis\":\"x\",\"y\":[null],\"yaxis\":\"y\",\"type\":\"scatter\"},{\"hovertemplate\":\"finalName=Curtis<br>birthYear=%{x}<br>pctYB=%{y}<extra></extra>\",\"legendgroup\":\"Curtis\",\"marker\":{\"color\":\"#FF97FF\",\"symbol\":\"circle\"},\"mode\":\"markers\",\"name\":\"Curtis\",\"orientation\":\"v\",\"showlegend\":true,\"x\":[\"1955\"],\"xaxis\":\"x\",\"y\":[0.002381874979070691],\"yaxis\":\"y\",\"type\":\"scatter\"},{\"hovertemplate\":\"finalName=Helen<br>birthYear=%{x}<br>pctYB=%{y}<extra></extra>\",\"legendgroup\":\"Helen\",\"marker\":{\"color\":\"#FECB52\",\"symbol\":\"circle\"},\"mode\":\"markers\",\"name\":\"Helen\",\"orientation\":\"v\",\"showlegend\":true,\"x\":[\"1956\"],\"xaxis\":\"x\",\"y\":[0.0025634216241120877],\"yaxis\":\"y\",\"type\":\"scatter\"},{\"hovertemplate\":\"finalName=Winifred<br>birthYear=%{x}<br>pctYB=%{y}<extra></extra>\",\"legendgroup\":\"Winifred\",\"marker\":{\"color\":\"#636efa\",\"symbol\":\"circle\"},\"mode\":\"markers\",\"name\":\"Winifred\",\"orientation\":\"v\",\"showlegend\":true,\"x\":[\"1959\"],\"xaxis\":\"x\",\"y\":[9.333487929250237e-05],\"yaxis\":\"y\",\"type\":\"scatter\"},{\"hovertemplate\":\"finalName=Barry<br>birthYear=%{x}<br>pctYB=%{y}<extra></extra>\",\"legendgroup\":\"Barry\",\"marker\":{\"color\":\"#EF553B\",\"symbol\":\"circle\"},\"mode\":\"markers\",\"name\":\"Barry\",\"orientation\":\"v\",\"showlegend\":true,\"x\":[\"1960\",\"1942\"],\"xaxis\":\"x\",\"y\":[0.0026476639549624648,0.0022772945144683117],\"yaxis\":\"y\",\"type\":\"scatter\"},{\"hovertemplate\":\"finalName=Gayle<br>birthYear=%{x}<br>pctYB=%{y}<extra></extra>\",\"legendgroup\":\"Gayle\",\"marker\":{\"color\":\"#00cc96\",\"symbol\":\"circle\"},\"mode\":\"markers\",\"name\":\"Gayle\",\"orientation\":\"v\",\"showlegend\":true,\"x\":[\"1947\"],\"xaxis\":\"x\",\"y\":[0.0013669972214474988],\"yaxis\":\"y\",\"type\":\"scatter\"},{\"hovertemplate\":\"finalName=Fred<br>birthYear=%{x}<br>pctYB=%{y}<extra></extra>\",\"legendgroup\":\"Fred\",\"marker\":{\"color\":\"#ab63fa\",\"symbol\":\"circle\"},\"mode\":\"markers\",\"name\":\"Fred\",\"orientation\":\"v\",\"showlegend\":true,\"x\":[\"1944\"],\"xaxis\":\"x\",\"y\":[0.004016223267171352],\"yaxis\":\"y\",\"type\":\"scatter\"},{\"hovertemplate\":\"finalName=Dagmar<br>birthYear=%{x}<br>pctYB=%{y}<extra></extra>\",\"legendgroup\":\"Dagmar\",\"marker\":{\"color\":\"#FFA15A\",\"symbol\":\"circle\"},\"mode\":\"markers\",\"name\":\"Dagmar\",\"orientation\":\"v\",\"showlegend\":true,\"x\":[\"1941\"],\"xaxis\":\"x\",\"y\":[0.0],\"yaxis\":\"y\",\"type\":\"scatter\"},{\"hovertemplate\":\"finalName=Gwendolyn<br>birthYear=%{x}<br>pctYB=%{y}<extra></extra>\",\"legendgroup\":\"Gwendolyn\",\"marker\":{\"color\":\"#19d3f3\",\"symbol\":\"circle\"},\"mode\":\"markers\",\"name\":\"Gwendolyn\",\"orientation\":\"v\",\"showlegend\":true,\"x\":[\"1961\"],\"xaxis\":\"x\",\"y\":[0.001219739458258474],\"yaxis\":\"y\",\"type\":\"scatter\"},{\"hovertemplate\":\"finalName=Kelcy<br>birthYear=%{x}<br>pctYB=%{y}<extra></extra>\",\"legendgroup\":\"Kelcy\",\"marker\":{\"color\":\"#FF6692\",\"symbol\":\"circle\"},\"mode\":\"markers\",\"name\":\"Kelcy\",\"orientation\":\"v\",\"showlegend\":true,\"x\":[\"1955\"],\"xaxis\":\"x\",\"y\":[0.0],\"yaxis\":\"y\",\"type\":\"scatter\"},{\"hovertemplate\":\"finalName=Russ<br>birthYear=%{x}<br>pctYB=%{y}<extra></extra>\",\"legendgroup\":\"Russ\",\"marker\":{\"color\":\"#B6E880\",\"symbol\":\"circle\"},\"mode\":\"markers\",\"name\":\"Russ\",\"orientation\":\"v\",\"showlegend\":true,\"x\":[\"1970\"],\"xaxis\":\"x\",\"y\":[6.665368581761768e-05],\"yaxis\":\"y\",\"type\":\"scatter\"},{\"hovertemplate\":\"finalName=Margot<br>birthYear=%{x}<br>pctYB=%{y}<extra></extra>\",\"legendgroup\":\"Margot\",\"marker\":{\"color\":\"#FF97FF\",\"symbol\":\"circle\"},\"mode\":\"markers\",\"name\":\"Margot\",\"orientation\":\"v\",\"showlegend\":true,\"x\":[\"1933\"],\"xaxis\":\"x\",\"y\":[0.00010229308594340038],\"yaxis\":\"y\",\"type\":\"scatter\"},{\"hovertemplate\":\"finalName=Nick<br>birthYear=%{x}<br>pctYB=%{y}<extra></extra>\",\"legendgroup\":\"Nick\",\"marker\":{\"color\":\"#FECB52\",\"symbol\":\"circle\"},\"mode\":\"markers\",\"name\":\"Nick\",\"orientation\":\"v\",\"showlegend\":true,\"x\":[\"1936\"],\"xaxis\":\"x\",\"y\":[0.0003955722219977619],\"yaxis\":\"y\",\"type\":\"scatter\"},{\"hovertemplate\":\"finalName=Mathew<br>birthYear=%{x}<br>pctYB=%{y}<extra></extra>\",\"legendgroup\":\"Mathew\",\"marker\":{\"color\":\"#636efa\",\"symbol\":\"circle\"},\"mode\":\"markers\",\"name\":\"Mathew\",\"orientation\":\"v\",\"showlegend\":true,\"x\":[\"1980\"],\"xaxis\":\"x\",\"y\":[0.0007190052933665563],\"yaxis\":\"y\",\"type\":\"scatter\"},{\"hovertemplate\":\"finalName=Neal<br>birthYear=%{x}<br>pctYB=%{y}<extra></extra>\",\"legendgroup\":\"Neal\",\"marker\":{\"color\":\"#EF553B\",\"symbol\":\"circle\"},\"mode\":\"markers\",\"name\":\"Neal\",\"orientation\":\"v\",\"showlegend\":true,\"x\":[\"1935\"],\"xaxis\":\"x\",\"y\":[0.00038801619009240393],\"yaxis\":\"y\",\"type\":\"scatter\"},{\"hovertemplate\":\"finalName=Behdad<br>birthYear=%{x}<br>pctYB=%{y}<extra></extra>\",\"legendgroup\":\"Behdad\",\"marker\":{\"color\":\"#00cc96\",\"symbol\":\"circle\"},\"mode\":\"markers\",\"name\":\"Behdad\",\"orientation\":\"v\",\"showlegend\":true,\"x\":[\"1976\"],\"xaxis\":\"x\",\"y\":[null],\"yaxis\":\"y\",\"type\":\"scatter\"},{\"hovertemplate\":\"finalName=Jose<br>birthYear=%{x}<br>pctYB=%{y}<extra></extra>\",\"legendgroup\":\"Jose\",\"marker\":{\"color\":\"#ab63fa\",\"symbol\":\"circle\"},\"mode\":\"markers\",\"name\":\"Jose\",\"orientation\":\"v\",\"showlegend\":true,\"x\":[\"1973\"],\"xaxis\":\"x\",\"y\":[0.0037766030273537325],\"yaxis\":\"y\",\"type\":\"scatter\"},{\"hovertemplate\":\"finalName=Ernest<br>birthYear=%{x}<br>pctYB=%{y}<extra></extra>\",\"legendgroup\":\"Ernest\",\"marker\":{\"color\":\"#FFA15A\",\"symbol\":\"circle\"},\"mode\":\"markers\",\"name\":\"Ernest\",\"orientation\":\"v\",\"showlegend\":true,\"x\":[\"1957\"],\"xaxis\":\"x\",\"y\":[0.0017280550491337102],\"yaxis\":\"y\",\"type\":\"scatter\"},{\"hovertemplate\":\"finalName=Marian<br>birthYear=%{x}<br>pctYB=%{y}<extra></extra>\",\"legendgroup\":\"Marian\",\"marker\":{\"color\":\"#19d3f3\",\"symbol\":\"circle\"},\"mode\":\"markers\",\"name\":\"Marian\",\"orientation\":\"v\",\"showlegend\":true,\"x\":[\"1933\"],\"xaxis\":\"x\",\"y\":[0.002521954773071871],\"yaxis\":\"y\",\"type\":\"scatter\"},{\"hovertemplate\":\"finalName=Isaac<br>birthYear=%{x}<br>pctYB=%{y}<extra></extra>\",\"legendgroup\":\"Isaac\",\"marker\":{\"color\":\"#FF6692\",\"symbol\":\"circle\"},\"mode\":\"markers\",\"name\":\"Isaac\",\"orientation\":\"v\",\"showlegend\":true,\"x\":[\"1942\"],\"xaxis\":\"x\",\"y\":[0.000318835434049352],\"yaxis\":\"y\",\"type\":\"scatter\"},{\"hovertemplate\":\"finalName=Benjamin<br>birthYear=%{x}<br>pctYB=%{y}<extra></extra>\",\"legendgroup\":\"Benjamin\",\"marker\":{\"color\":\"#B6E880\",\"symbol\":\"circle\"},\"mode\":\"markers\",\"name\":\"Benjamin\",\"orientation\":\"v\",\"showlegend\":true,\"x\":[\"1974\"],\"xaxis\":\"x\",\"y\":[0.004406677594442165],\"yaxis\":\"y\",\"type\":\"scatter\"},{\"hovertemplate\":\"finalName=Johnelle<br>birthYear=%{x}<br>pctYB=%{y}<extra></extra>\",\"legendgroup\":\"Johnelle\",\"marker\":{\"color\":\"#FF97FF\",\"symbol\":\"circle\"},\"mode\":\"markers\",\"name\":\"Johnelle\",\"orientation\":\"v\",\"showlegend\":true,\"x\":[\"1932\"],\"xaxis\":\"x\",\"y\":[0.0],\"yaxis\":\"y\",\"type\":\"scatter\"},{\"hovertemplate\":\"finalName=Dan<br>birthYear=%{x}<br>pctYB=%{y}<extra></extra>\",\"legendgroup\":\"Dan\",\"marker\":{\"color\":\"#FECB52\",\"symbol\":\"circle\"},\"mode\":\"markers\",\"name\":\"Dan\",\"orientation\":\"v\",\"showlegend\":true,\"x\":[\"1971\"],\"xaxis\":\"x\",\"y\":[0.0004960571158623337],\"yaxis\":\"y\",\"type\":\"scatter\"},{\"hovertemplate\":\"finalName=Thai<br>birthYear=%{x}<br>pctYB=%{y}<extra></extra>\",\"legendgroup\":\"Thai\",\"marker\":{\"color\":\"#636efa\",\"symbol\":\"circle\"},\"mode\":\"markers\",\"name\":\"Thai\",\"orientation\":\"v\",\"showlegend\":true,\"x\":[\"1958\"],\"xaxis\":\"x\",\"y\":[0.0],\"yaxis\":\"y\",\"type\":\"scatter\"},{\"hovertemplate\":\"finalName=Bin<br>birthYear=%{x}<br>pctYB=%{y}<extra></extra>\",\"legendgroup\":\"Bin\",\"marker\":{\"color\":\"#EF553B\",\"symbol\":\"circle\"},\"mode\":\"markers\",\"name\":\"Bin\",\"orientation\":\"v\",\"showlegend\":true,\"x\":[\"1968\"],\"xaxis\":\"x\",\"y\":[0.0],\"yaxis\":\"y\",\"type\":\"scatter\"},{\"hovertemplate\":\"finalName=Lynsi<br>birthYear=%{x}<br>pctYB=%{y}<extra></extra>\",\"legendgroup\":\"Lynsi\",\"marker\":{\"color\":\"#00cc96\",\"symbol\":\"circle\"},\"mode\":\"markers\",\"name\":\"Lynsi\",\"orientation\":\"v\",\"showlegend\":true,\"x\":[\"1982\"],\"xaxis\":\"x\",\"y\":[9.920984867191083e-06],\"yaxis\":\"y\",\"type\":\"scatter\"},{\"hovertemplate\":\"finalName=Peter<br>birthYear=%{x}<br>pctYB=%{y}<extra></extra>\",\"legendgroup\":\"Peter\",\"marker\":{\"color\":\"#ab63fa\",\"symbol\":\"circle\"},\"mode\":\"markers\",\"name\":\"Peter\",\"orientation\":\"v\",\"showlegend\":true,\"x\":[\"1967\",\"1965\",\"1942\"],\"xaxis\":\"x\",\"y\":[0.004675559651173245,0.004957948470054678,0.004677436534706195],\"yaxis\":\"y\",\"type\":\"scatter\"},{\"hovertemplate\":\"finalName=Herbert<br>birthYear=%{x}<br>pctYB=%{y}<extra></extra>\",\"legendgroup\":\"Herbert\",\"marker\":{\"color\":\"#FFA15A\",\"symbol\":\"circle\"},\"mode\":\"markers\",\"name\":\"Herbert\",\"orientation\":\"v\",\"showlegend\":true,\"x\":[\"1939\",\"1929\"],\"xaxis\":\"x\",\"y\":[0.0027336532301757196,0.007113289907867593],\"yaxis\":\"y\",\"type\":\"scatter\"},{\"hovertemplate\":\"finalName=Austen<br>birthYear=%{x}<br>pctYB=%{y}<extra></extra>\",\"legendgroup\":\"Austen\",\"marker\":{\"color\":\"#19d3f3\",\"symbol\":\"circle\"},\"mode\":\"markers\",\"name\":\"Austen\",\"orientation\":\"v\",\"showlegend\":true,\"x\":[\"1951\"],\"xaxis\":\"x\",\"y\":[0.0],\"yaxis\":\"y\",\"type\":\"scatter\"},{\"hovertemplate\":\"finalName=Rakesh<br>birthYear=%{x}<br>pctYB=%{y}<extra></extra>\",\"legendgroup\":\"Rakesh\",\"marker\":{\"color\":\"#FF6692\",\"symbol\":\"circle\"},\"mode\":\"markers\",\"name\":\"Rakesh\",\"orientation\":\"v\",\"showlegend\":true,\"x\":[\"1953\"],\"xaxis\":\"x\",\"y\":[0.0],\"yaxis\":\"y\",\"type\":\"scatter\"},{\"hovertemplate\":\"finalName=Marianne<br>birthYear=%{x}<br>pctYB=%{y}<extra></extra>\",\"legendgroup\":\"Marianne\",\"marker\":{\"color\":\"#B6E880\",\"symbol\":\"circle\"},\"mode\":\"markers\",\"name\":\"Marianne\",\"orientation\":\"v\",\"showlegend\":true,\"x\":[\"1953\"],\"xaxis\":\"x\",\"y\":[0.0008551447060323463],\"yaxis\":\"y\",\"type\":\"scatter\"},{\"hovertemplate\":\"finalName=Arturo<br>birthYear=%{x}<br>pctYB=%{y}<extra></extra>\",\"legendgroup\":\"Arturo\",\"marker\":{\"color\":\"#FF97FF\",\"symbol\":\"circle\"},\"mode\":\"markers\",\"name\":\"Arturo\",\"orientation\":\"v\",\"showlegend\":true,\"x\":[\"1946\"],\"xaxis\":\"x\",\"y\":[0.00017087574424869814],\"yaxis\":\"y\",\"type\":\"scatter\"},{\"hovertemplate\":\"finalName=Ty<br>birthYear=%{x}<br>pctYB=%{y}<extra></extra>\",\"legendgroup\":\"Ty\",\"marker\":{\"color\":\"#FECB52\",\"symbol\":\"circle\"},\"mode\":\"markers\",\"name\":\"Ty\",\"orientation\":\"v\",\"showlegend\":true,\"x\":[\"1944\"],\"xaxis\":\"x\",\"y\":[1.0798234272731723e-05],\"yaxis\":\"y\",\"type\":\"scatter\"},{\"hovertemplate\":\"finalName=Hayes<br>birthYear=%{x}<br>pctYB=%{y}<extra></extra>\",\"legendgroup\":\"Hayes\",\"marker\":{\"color\":\"#636efa\",\"symbol\":\"circle\"},\"mode\":\"markers\",\"name\":\"Hayes\",\"orientation\":\"v\",\"showlegend\":true,\"x\":[\"1972\"],\"xaxis\":\"x\",\"y\":[1.7915260816338718e-05],\"yaxis\":\"y\",\"type\":\"scatter\"},{\"hovertemplate\":\"finalName=Jeremy<br>birthYear=%{x}<br>pctYB=%{y}<extra></extra>\",\"legendgroup\":\"Jeremy\",\"marker\":{\"color\":\"#EF553B\",\"symbol\":\"circle\"},\"mode\":\"markers\",\"name\":\"Jeremy\",\"orientation\":\"v\",\"showlegend\":true,\"x\":[\"1940\"],\"xaxis\":\"x\",\"y\":[3.20370685745022e-05],\"yaxis\":\"y\",\"type\":\"scatter\"},{\"hovertemplate\":\"finalName=Travis<br>birthYear=%{x}<br>pctYB=%{y}<extra></extra>\",\"legendgroup\":\"Travis\",\"marker\":{\"color\":\"#00cc96\",\"symbol\":\"circle\"},\"mode\":\"markers\",\"name\":\"Travis\",\"orientation\":\"v\",\"showlegend\":true,\"x\":[\"1976\"],\"xaxis\":\"x\",\"y\":[0.004185763139444817],\"yaxis\":\"y\",\"type\":\"scatter\"},{\"hovertemplate\":\"finalName=Min<br>birthYear=%{x}<br>pctYB=%{y}<extra></extra>\",\"legendgroup\":\"Min\",\"marker\":{\"color\":\"#ab63fa\",\"symbol\":\"circle\"},\"mode\":\"markers\",\"name\":\"Min\",\"orientation\":\"v\",\"showlegend\":true,\"x\":[\"1949\"],\"xaxis\":\"x\",\"y\":[0.0],\"yaxis\":\"y\",\"type\":\"scatter\"},{\"hovertemplate\":\"finalName=Gail<br>birthYear=%{x}<br>pctYB=%{y}<extra></extra>\",\"legendgroup\":\"Gail\",\"marker\":{\"color\":\"#FFA15A\",\"symbol\":\"circle\"},\"mode\":\"markers\",\"name\":\"Gail\",\"orientation\":\"v\",\"showlegend\":true,\"x\":[\"1943\"],\"xaxis\":\"x\",\"y\":[0.0033503696623295555],\"yaxis\":\"y\",\"type\":\"scatter\"},{\"hovertemplate\":\"finalName=Trevor<br>birthYear=%{x}<br>pctYB=%{y}<extra></extra>\",\"legendgroup\":\"Trevor\",\"marker\":{\"color\":\"#19d3f3\",\"symbol\":\"circle\"},\"mode\":\"markers\",\"name\":\"Trevor\",\"orientation\":\"v\",\"showlegend\":true,\"x\":[\"1951\"],\"xaxis\":\"x\",\"y\":[2.2492810147082053e-05],\"yaxis\":\"y\",\"type\":\"scatter\"},{\"hovertemplate\":\"finalName=Mary Alice<br>birthYear=%{x}<br>pctYB=%{y}<extra></extra>\",\"legendgroup\":\"Mary Alice\",\"marker\":{\"color\":\"#FF6692\",\"symbol\":\"circle\"},\"mode\":\"markers\",\"name\":\"Mary Alice\",\"orientation\":\"v\",\"showlegend\":true,\"x\":[\"1950\"],\"xaxis\":\"x\",\"y\":[null],\"yaxis\":\"y\",\"type\":\"scatter\"},{\"hovertemplate\":\"finalName=Gabriel<br>birthYear=%{x}<br>pctYB=%{y}<extra></extra>\",\"legendgroup\":\"Gabriel\",\"marker\":{\"color\":\"#B6E880\",\"symbol\":\"circle\"},\"mode\":\"markers\",\"name\":\"Gabriel\",\"orientation\":\"v\",\"showlegend\":true,\"x\":[\"1962\"],\"xaxis\":\"x\",\"y\":[0.00027211712834604164],\"yaxis\":\"y\",\"type\":\"scatter\"},{\"hovertemplate\":\"finalName=Martha<br>birthYear=%{x}<br>pctYB=%{y}<extra></extra>\",\"legendgroup\":\"Martha\",\"marker\":{\"color\":\"#FF97FF\",\"symbol\":\"circle\"},\"mode\":\"markers\",\"name\":\"Martha\",\"orientation\":\"v\",\"showlegend\":true,\"x\":[\"1935\"],\"xaxis\":\"x\",\"y\":[0.007011758037296664],\"yaxis\":\"y\",\"type\":\"scatter\"},{\"hovertemplate\":\"finalName=Bradley<br>birthYear=%{x}<br>pctYB=%{y}<extra></extra>\",\"legendgroup\":\"Bradley\",\"marker\":{\"color\":\"#FECB52\",\"symbol\":\"circle\"},\"mode\":\"markers\",\"name\":\"Bradley\",\"orientation\":\"v\",\"showlegend\":true,\"x\":[\"1956\"],\"xaxis\":\"x\",\"y\":[0.001638907419899448],\"yaxis\":\"y\",\"type\":\"scatter\"},{\"hovertemplate\":\"finalName=Ross<br>birthYear=%{x}<br>pctYB=%{y}<extra></extra>\",\"legendgroup\":\"Ross\",\"marker\":{\"color\":\"#636efa\",\"symbol\":\"circle\"},\"mode\":\"markers\",\"name\":\"Ross\",\"orientation\":\"v\",\"showlegend\":true,\"x\":[\"1958\"],\"xaxis\":\"x\",\"y\":[0.00047964882091361725],\"yaxis\":\"y\",\"type\":\"scatter\"},{\"hovertemplate\":\"finalName=Jean<br>birthYear=%{x}<br>pctYB=%{y}<extra></extra>\",\"legendgroup\":\"Jean\",\"marker\":{\"color\":\"#EF553B\",\"symbol\":\"circle\"},\"mode\":\"markers\",\"name\":\"Jean\",\"orientation\":\"v\",\"showlegend\":true,\"x\":[\"1962\"],\"xaxis\":\"x\",\"y\":[0.0024080134900063247],\"yaxis\":\"y\",\"type\":\"scatter\"},{\"hovertemplate\":\"finalName=Sid<br>birthYear=%{x}<br>pctYB=%{y}<extra></extra>\",\"legendgroup\":\"Sid\",\"marker\":{\"color\":\"#00cc96\",\"symbol\":\"circle\"},\"mode\":\"markers\",\"name\":\"Sid\",\"orientation\":\"v\",\"showlegend\":true,\"x\":[\"1942\"],\"xaxis\":\"x\",\"y\":[2.6273744008521215e-05],\"yaxis\":\"y\",\"type\":\"scatter\"},{\"hovertemplate\":\"finalName=Jim<br>birthYear=%{x}<br>pctYB=%{y}<extra></extra>\",\"legendgroup\":\"Jim\",\"marker\":{\"color\":\"#ab63fa\",\"symbol\":\"circle\"},\"mode\":\"markers\",\"name\":\"Jim\",\"orientation\":\"v\",\"showlegend\":true,\"x\":[\"1962\"],\"xaxis\":\"x\",\"y\":[0.0022402090164012414],\"yaxis\":\"y\",\"type\":\"scatter\"},{\"hovertemplate\":\"finalName=Pablo<br>birthYear=%{x}<br>pctYB=%{y}<extra></extra>\",\"legendgroup\":\"Pablo\",\"marker\":{\"color\":\"#FFA15A\",\"symbol\":\"circle\"},\"mode\":\"markers\",\"name\":\"Pablo\",\"orientation\":\"v\",\"showlegend\":true,\"x\":[\"1963\"],\"xaxis\":\"x\",\"y\":[0.00011961143233479579],\"yaxis\":\"y\",\"type\":\"scatter\"},{\"hovertemplate\":\"finalName=Jerry<br>birthYear=%{x}<br>pctYB=%{y}<extra></extra>\",\"legendgroup\":\"Jerry\",\"marker\":{\"color\":\"#19d3f3\",\"symbol\":\"circle\"},\"mode\":\"markers\",\"name\":\"Jerry\",\"orientation\":\"v\",\"showlegend\":true,\"x\":[\"1940\"],\"xaxis\":\"x\",\"y\":[0.012822415156568526],\"yaxis\":\"y\",\"type\":\"scatter\"},{\"hovertemplate\":\"finalName=Vincent<br>birthYear=%{x}<br>pctYB=%{y}<extra></extra>\",\"legendgroup\":\"Vincent\",\"marker\":{\"color\":\"#FF6692\",\"symbol\":\"circle\"},\"mode\":\"markers\",\"name\":\"Vincent\",\"orientation\":\"v\",\"showlegend\":true,\"x\":[\"1956\"],\"xaxis\":\"x\",\"y\":[0.0017511804978402573],\"yaxis\":\"y\",\"type\":\"scatter\"},{\"hovertemplate\":\"finalName=Hamilton<br>birthYear=%{x}<br>pctYB=%{y}<extra></extra>\",\"legendgroup\":\"Hamilton\",\"marker\":{\"color\":\"#B6E880\",\"symbol\":\"circle\"},\"mode\":\"markers\",\"name\":\"Hamilton\",\"orientation\":\"v\",\"showlegend\":true,\"x\":[\"1951\"],\"xaxis\":\"x\",\"y\":[1.830810128250865e-05],\"yaxis\":\"y\",\"type\":\"scatter\"},{\"hovertemplate\":\"finalName=Ira<br>birthYear=%{x}<br>pctYB=%{y}<extra></extra>\",\"legendgroup\":\"Ira\",\"marker\":{\"color\":\"#FF97FF\",\"symbol\":\"circle\"},\"mode\":\"markers\",\"name\":\"Ira\",\"orientation\":\"v\",\"showlegend\":true,\"x\":[\"1934\"],\"xaxis\":\"x\",\"y\":[0.0005367863449087699],\"yaxis\":\"y\",\"type\":\"scatter\"},{\"hovertemplate\":\"finalName=Jon<br>birthYear=%{x}<br>pctYB=%{y}<extra></extra>\",\"legendgroup\":\"Jon\",\"marker\":{\"color\":\"#FECB52\",\"symbol\":\"circle\"},\"mode\":\"markers\",\"name\":\"Jon\",\"orientation\":\"v\",\"showlegend\":true,\"x\":[\"1958\",\"1957\"],\"xaxis\":\"x\",\"y\":[0.0015963529973872374,0.0015845455845931165],\"yaxis\":\"y\",\"type\":\"scatter\"},{\"hovertemplate\":\"finalName=Amos<br>birthYear=%{x}<br>pctYB=%{y}<extra></extra>\",\"legendgroup\":\"Amos\",\"marker\":{\"color\":\"#636efa\",\"symbol\":\"circle\"},\"mode\":\"markers\",\"name\":\"Amos\",\"orientation\":\"v\",\"showlegend\":true,\"x\":[\"1937\"],\"xaxis\":\"x\",\"y\":[0.0002633463086254146],\"yaxis\":\"y\",\"type\":\"scatter\"},{\"hovertemplate\":\"finalName=Robert <br>birthYear=%{x}<br>pctYB=%{y}<extra></extra>\",\"legendgroup\":\"Robert \",\"marker\":{\"color\":\"#EF553B\",\"symbol\":\"circle\"},\"mode\":\"markers\",\"name\":\"Robert \",\"orientation\":\"v\",\"showlegend\":true,\"x\":[\"1947\"],\"xaxis\":\"x\",\"y\":[null],\"yaxis\":\"y\",\"type\":\"scatter\"},{\"hovertemplate\":\"finalName=Aerin<br>birthYear=%{x}<br>pctYB=%{y}<extra></extra>\",\"legendgroup\":\"Aerin\",\"marker\":{\"color\":\"#00cc96\",\"symbol\":\"circle\"},\"mode\":\"markers\",\"name\":\"Aerin\",\"orientation\":\"v\",\"showlegend\":true,\"x\":[\"1970\"],\"xaxis\":\"x\",\"y\":[0.0],\"yaxis\":\"y\",\"type\":\"scatter\"},{\"hovertemplate\":\"finalName=Rodger<br>birthYear=%{x}<br>pctYB=%{y}<extra></extra>\",\"legendgroup\":\"Rodger\",\"marker\":{\"color\":\"#ab63fa\",\"symbol\":\"circle\"},\"mode\":\"markers\",\"name\":\"Rodger\",\"orientation\":\"v\",\"showlegend\":true,\"x\":[\"1946\"],\"xaxis\":\"x\",\"y\":[0.0003908328192922351],\"yaxis\":\"y\",\"type\":\"scatter\"},{\"hovertemplate\":\"finalName=Rodney<br>birthYear=%{x}<br>pctYB=%{y}<extra></extra>\",\"legendgroup\":\"Rodney\",\"marker\":{\"color\":\"#FFA15A\",\"symbol\":\"circle\"},\"mode\":\"markers\",\"name\":\"Rodney\",\"orientation\":\"v\",\"showlegend\":true,\"x\":[\"1949\"],\"xaxis\":\"x\",\"y\":[0.002123806780753993],\"yaxis\":\"y\",\"type\":\"scatter\"},{\"hovertemplate\":\"finalName=Howard<br>birthYear=%{x}<br>pctYB=%{y}<extra></extra>\",\"legendgroup\":\"Howard\",\"marker\":{\"color\":\"#19d3f3\",\"symbol\":\"circle\"},\"mode\":\"markers\",\"name\":\"Howard\",\"orientation\":\"v\",\"showlegend\":true,\"x\":[\"1953\"],\"xaxis\":\"x\",\"y\":[0.0024906905011147424],\"yaxis\":\"y\",\"type\":\"scatter\"},{\"hovertemplate\":\"finalName=Bennett<br>birthYear=%{x}<br>pctYB=%{y}<extra></extra>\",\"legendgroup\":\"Bennett\",\"marker\":{\"color\":\"#FF6692\",\"symbol\":\"circle\"},\"mode\":\"markers\",\"name\":\"Bennett\",\"orientation\":\"v\",\"showlegend\":true,\"x\":[\"1946\"],\"xaxis\":\"x\",\"y\":[7.937844856943069e-05],\"yaxis\":\"y\",\"type\":\"scatter\"},{\"hovertemplate\":\"finalName=Lynn<br>birthYear=%{x}<br>pctYB=%{y}<extra></extra>\",\"legendgroup\":\"Lynn\",\"marker\":{\"color\":\"#B6E880\",\"symbol\":\"circle\"},\"mode\":\"markers\",\"name\":\"Lynn\",\"orientation\":\"v\",\"showlegend\":true,\"x\":[\"1939\"],\"xaxis\":\"x\",\"y\":[0.0007680247743100562],\"yaxis\":\"y\",\"type\":\"scatter\"},{\"hovertemplate\":\"finalName=Herb<br>birthYear=%{x}<br>pctYB=%{y}<extra></extra>\",\"legendgroup\":\"Herb\",\"marker\":{\"color\":\"#FF97FF\",\"symbol\":\"circle\"},\"mode\":\"markers\",\"name\":\"Herb\",\"orientation\":\"v\",\"showlegend\":true,\"x\":[\"1934\"],\"xaxis\":\"x\",\"y\":[3.201883460859329e-05],\"yaxis\":\"y\",\"type\":\"scatter\"},{\"hovertemplate\":\"finalName=Steve<br>birthYear=%{x}<br>pctYB=%{y}<extra></extra>\",\"legendgroup\":\"Steve\",\"marker\":{\"color\":\"#FECB52\",\"symbol\":\"circle\"},\"mode\":\"markers\",\"name\":\"Steve\",\"orientation\":\"v\",\"showlegend\":true,\"x\":[\"1942\"],\"xaxis\":\"x\",\"y\":[0.0016872004260607136],\"yaxis\":\"y\",\"type\":\"scatter\"},{\"hovertemplate\":\"finalName=Bill<br>birthYear=%{x}<br>pctYB=%{y}<extra></extra>\",\"legendgroup\":\"Bill\",\"marker\":{\"color\":\"#636efa\",\"symbol\":\"circle\"},\"mode\":\"markers\",\"name\":\"Bill\",\"orientation\":\"v\",\"showlegend\":true,\"x\":[\"1942\"],\"xaxis\":\"x\",\"y\":[0.002694834013846973],\"yaxis\":\"y\",\"type\":\"scatter\"},{\"hovertemplate\":\"finalName=Nicolas<br>birthYear=%{x}<br>pctYB=%{y}<extra></extra>\",\"legendgroup\":\"Nicolas\",\"marker\":{\"color\":\"#EF553B\",\"symbol\":\"circle\"},\"mode\":\"markers\",\"name\":\"Nicolas\",\"orientation\":\"v\",\"showlegend\":true,\"x\":[\"1961\"],\"xaxis\":\"x\",\"y\":[4.962408595448219e-05],\"yaxis\":\"y\",\"type\":\"scatter\"},{\"hovertemplate\":\"finalName=Sheldon<br>birthYear=%{x}<br>pctYB=%{y}<extra></extra>\",\"legendgroup\":\"Sheldon\",\"marker\":{\"color\":\"#00cc96\",\"symbol\":\"circle\"},\"mode\":\"markers\",\"name\":\"Sheldon\",\"orientation\":\"v\",\"showlegend\":true,\"x\":[\"1932\"],\"xaxis\":\"x\",\"y\":[0.00039370261956506565],\"yaxis\":\"y\",\"type\":\"scatter\"},{\"hovertemplate\":\"finalName=Frank<br>birthYear=%{x}<br>pctYB=%{y}<extra></extra>\",\"legendgroup\":\"Frank\",\"marker\":{\"color\":\"#ab63fa\",\"symbol\":\"circle\"},\"mode\":\"markers\",\"name\":\"Frank\",\"orientation\":\"v\",\"showlegend\":true,\"x\":[\"1948\"],\"xaxis\":\"x\",\"y\":[0.007122887478796256],\"yaxis\":\"y\",\"type\":\"scatter\"},{\"hovertemplate\":\"finalName=Margaret<br>birthYear=%{x}<br>pctYB=%{y}<extra></extra>\",\"legendgroup\":\"Margaret\",\"marker\":{\"color\":\"#FFA15A\",\"symbol\":\"circle\"},\"mode\":\"markers\",\"name\":\"Margaret\",\"orientation\":\"v\",\"showlegend\":true,\"x\":[\"1956\"],\"xaxis\":\"x\",\"y\":[0.00675859705099704],\"yaxis\":\"y\",\"type\":\"scatter\"},{\"hovertemplate\":\"finalName=Penny<br>birthYear=%{x}<br>pctYB=%{y}<extra></extra>\",\"legendgroup\":\"Penny\",\"marker\":{\"color\":\"#19d3f3\",\"symbol\":\"circle\"},\"mode\":\"markers\",\"name\":\"Penny\",\"orientation\":\"v\",\"showlegend\":true,\"x\":[\"1959\"],\"xaxis\":\"x\",\"y\":[0.001807040240322881],\"yaxis\":\"y\",\"type\":\"scatter\"},{\"hovertemplate\":\"finalName=Phillip<br>birthYear=%{x}<br>pctYB=%{y}<extra></extra>\",\"legendgroup\":\"Phillip\",\"marker\":{\"color\":\"#FF6692\",\"symbol\":\"circle\"},\"mode\":\"markers\",\"name\":\"Phillip\",\"orientation\":\"v\",\"showlegend\":true,\"x\":[\"1935\"],\"xaxis\":\"x\",\"y\":[0.0016661321704690695],\"yaxis\":\"y\",\"type\":\"scatter\"},{\"hovertemplate\":\"finalName=Barbara<br>birthYear=%{x}<br>pctYB=%{y}<extra></extra>\",\"legendgroup\":\"Barbara\",\"marker\":{\"color\":\"#B6E880\",\"symbol\":\"circle\"},\"mode\":\"markers\",\"name\":\"Barbara\",\"orientation\":\"v\",\"showlegend\":true,\"x\":[\"1949\"],\"xaxis\":\"x\",\"y\":[0.024266245140342632],\"yaxis\":\"y\",\"type\":\"scatter\"},{\"hovertemplate\":\"finalName=Norman<br>birthYear=%{x}<br>pctYB=%{y}<extra></extra>\",\"legendgroup\":\"Norman\",\"marker\":{\"color\":\"#FF97FF\",\"symbol\":\"circle\"},\"mode\":\"markers\",\"name\":\"Norman\",\"orientation\":\"v\",\"showlegend\":true,\"x\":[\"1932\"],\"xaxis\":\"x\",\"y\":[0.004904064072076432],\"yaxis\":\"y\",\"type\":\"scatter\"},{\"hovertemplate\":\"finalName=John Paul<br>birthYear=%{x}<br>pctYB=%{y}<extra></extra>\",\"legendgroup\":\"John Paul\",\"marker\":{\"color\":\"#FECB52\",\"symbol\":\"circle\"},\"mode\":\"markers\",\"name\":\"John Paul\",\"orientation\":\"v\",\"showlegend\":true,\"x\":[\"1944\"],\"xaxis\":\"x\",\"y\":[null],\"yaxis\":\"y\",\"type\":\"scatter\"},{\"hovertemplate\":\"finalName=Bom<br>birthYear=%{x}<br>pctYB=%{y}<extra></extra>\",\"legendgroup\":\"Bom\",\"marker\":{\"color\":\"#636efa\",\"symbol\":\"circle\"},\"mode\":\"markers\",\"name\":\"Bom\",\"orientation\":\"v\",\"showlegend\":true,\"x\":[\"1978\"],\"xaxis\":\"x\",\"y\":[null],\"yaxis\":\"y\",\"type\":\"scatter\"},{\"hovertemplate\":\"finalName=Haim<br>birthYear=%{x}<br>pctYB=%{y}<extra></extra>\",\"legendgroup\":\"Haim\",\"marker\":{\"color\":\"#EF553B\",\"symbol\":\"circle\"},\"mode\":\"markers\",\"name\":\"Haim\",\"orientation\":\"v\",\"showlegend\":true,\"x\":[\"1944\"],\"xaxis\":\"x\",\"y\":[0.0],\"yaxis\":\"y\",\"type\":\"scatter\"},{\"hovertemplate\":\"finalName=Eleanor<br>birthYear=%{x}<br>pctYB=%{y}<extra></extra>\",\"legendgroup\":\"Eleanor\",\"marker\":{\"color\":\"#00cc96\",\"symbol\":\"circle\"},\"mode\":\"markers\",\"name\":\"Eleanor\",\"orientation\":\"v\",\"showlegend\":true,\"x\":[\"1932\"],\"xaxis\":\"x\",\"y\":[0.004370471342001359],\"yaxis\":\"y\",\"type\":\"scatter\"},{\"hovertemplate\":\"finalName=Chris<br>birthYear=%{x}<br>pctYB=%{y}<extra></extra>\",\"legendgroup\":\"Chris\",\"marker\":{\"color\":\"#ab63fa\",\"symbol\":\"circle\"},\"mode\":\"markers\",\"name\":\"Chris\",\"orientation\":\"v\",\"showlegend\":true,\"x\":[\"1960\"],\"xaxis\":\"x\",\"y\":[0.003001886570252228],\"yaxis\":\"y\",\"type\":\"scatter\"},{\"hovertemplate\":\"finalName=Sean<br>birthYear=%{x}<br>pctYB=%{y}<extra></extra>\",\"legendgroup\":\"Sean\",\"marker\":{\"color\":\"#FFA15A\",\"symbol\":\"circle\"},\"mode\":\"markers\",\"name\":\"Sean\",\"orientation\":\"v\",\"showlegend\":true,\"x\":[\"1979\"],\"xaxis\":\"x\",\"y\":[0.0038277613427914027],\"yaxis\":\"y\",\"type\":\"scatter\"},{\"hovertemplate\":\"finalName=Hua<br>birthYear=%{x}<br>pctYB=%{y}<extra></extra>\",\"legendgroup\":\"Hua\",\"marker\":{\"color\":\"#19d3f3\",\"symbol\":\"circle\"},\"mode\":\"markers\",\"name\":\"Hua\",\"orientation\":\"v\",\"showlegend\":true,\"x\":[\"1963\"],\"xaxis\":\"x\",\"y\":[null],\"yaxis\":\"y\",\"type\":\"scatter\"},{\"hovertemplate\":\"finalName=Evan<br>birthYear=%{x}<br>pctYB=%{y}<extra></extra>\",\"legendgroup\":\"Evan\",\"marker\":{\"color\":\"#FF6692\",\"symbol\":\"circle\"},\"mode\":\"markers\",\"name\":\"Evan\",\"orientation\":\"v\",\"showlegend\":true,\"x\":[\"1990\"],\"xaxis\":\"x\",\"y\":[0.0024671576197249924],\"yaxis\":\"y\",\"type\":\"scatter\"},{\"hovertemplate\":\"finalName=Reed<br>birthYear=%{x}<br>pctYB=%{y}<extra></extra>\",\"legendgroup\":\"Reed\",\"marker\":{\"color\":\"#B6E880\",\"symbol\":\"circle\"},\"mode\":\"markers\",\"name\":\"Reed\",\"orientation\":\"v\",\"showlegend\":true,\"x\":[\"1960\"],\"xaxis\":\"x\",\"y\":[9.883134246676566e-05],\"yaxis\":\"y\",\"type\":\"scatter\"},{\"hovertemplate\":\"finalName=Tomilson<br>birthYear=%{x}<br>pctYB=%{y}<extra></extra>\",\"legendgroup\":\"Tomilson\",\"marker\":{\"color\":\"#FF97FF\",\"symbol\":\"circle\"},\"mode\":\"markers\",\"name\":\"Tomilson\",\"orientation\":\"v\",\"showlegend\":true,\"x\":[\"1948\"],\"xaxis\":\"x\",\"y\":[null],\"yaxis\":\"y\",\"type\":\"scatter\"},{\"hovertemplate\":\"finalName=Drayton<br>birthYear=%{x}<br>pctYB=%{y}<extra></extra>\",\"legendgroup\":\"Drayton\",\"marker\":{\"color\":\"#FECB52\",\"symbol\":\"circle\"},\"mode\":\"markers\",\"name\":\"Drayton\",\"orientation\":\"v\",\"showlegend\":true,\"x\":[\"1936\"],\"xaxis\":\"x\",\"y\":[5.637608864576179e-06],\"yaxis\":\"y\",\"type\":\"scatter\"},{\"hovertemplate\":\"finalName=Dean<br>birthYear=%{x}<br>pctYB=%{y}<extra></extra>\",\"legendgroup\":\"Dean\",\"marker\":{\"color\":\"#636efa\",\"symbol\":\"circle\"},\"mode\":\"markers\",\"name\":\"Dean\",\"orientation\":\"v\",\"showlegend\":true,\"x\":[\"1946\"],\"xaxis\":\"x\",\"y\":[0.0011428072824576053],\"yaxis\":\"y\",\"type\":\"scatter\"},{\"hovertemplate\":\"finalName=Roger<br>birthYear=%{x}<br>pctYB=%{y}<extra></extra>\",\"legendgroup\":\"Roger\",\"marker\":{\"color\":\"#EF553B\",\"symbol\":\"circle\"},\"mode\":\"markers\",\"name\":\"Roger\",\"orientation\":\"v\",\"showlegend\":true,\"x\":[\"1937\",\"1949\"],\"xaxis\":\"x\",\"y\":[0.005222120724165773,0.0071161678467751375],\"yaxis\":\"y\",\"type\":\"scatter\"},{\"hovertemplate\":\"finalName=Chad<br>birthYear=%{x}<br>pctYB=%{y}<extra></extra>\",\"legendgroup\":\"Chad\",\"marker\":{\"color\":\"#00cc96\",\"symbol\":\"circle\"},\"mode\":\"markers\",\"name\":\"Chad\",\"orientation\":\"v\",\"showlegend\":true,\"x\":[\"1970\"],\"xaxis\":\"x\",\"y\":[0.003480686963326302],\"yaxis\":\"y\",\"type\":\"scatter\"},{\"hovertemplate\":\"finalName=Patricia<br>birthYear=%{x}<br>pctYB=%{y}<extra></extra>\",\"legendgroup\":\"Patricia\",\"marker\":{\"color\":\"#ab63fa\",\"symbol\":\"circle\"},\"mode\":\"markers\",\"name\":\"Patricia\",\"orientation\":\"v\",\"showlegend\":true,\"x\":[\"1956\"],\"xaxis\":\"x\",\"y\":[0.021040448171547283],\"yaxis\":\"y\",\"type\":\"scatter\"}],                        {\"template\":{\"data\":{\"bar\":[{\"error_x\":{\"color\":\"#2a3f5f\"},\"error_y\":{\"color\":\"#2a3f5f\"},\"marker\":{\"line\":{\"color\":\"#E5ECF6\",\"width\":0.5},\"pattern\":{\"fillmode\":\"overlay\",\"size\":10,\"solidity\":0.2}},\"type\":\"bar\"}],\"barpolar\":[{\"marker\":{\"line\":{\"color\":\"#E5ECF6\",\"width\":0.5},\"pattern\":{\"fillmode\":\"overlay\",\"size\":10,\"solidity\":0.2}},\"type\":\"barpolar\"}],\"carpet\":[{\"aaxis\":{\"endlinecolor\":\"#2a3f5f\",\"gridcolor\":\"white\",\"linecolor\":\"white\",\"minorgridcolor\":\"white\",\"startlinecolor\":\"#2a3f5f\"},\"baxis\":{\"endlinecolor\":\"#2a3f5f\",\"gridcolor\":\"white\",\"linecolor\":\"white\",\"minorgridcolor\":\"white\",\"startlinecolor\":\"#2a3f5f\"},\"type\":\"carpet\"}],\"choropleth\":[{\"colorbar\":{\"outlinewidth\":0,\"ticks\":\"\"},\"type\":\"choropleth\"}],\"contour\":[{\"colorbar\":{\"outlinewidth\":0,\"ticks\":\"\"},\"colorscale\":[[0.0,\"#0d0887\"],[0.1111111111111111,\"#46039f\"],[0.2222222222222222,\"#7201a8\"],[0.3333333333333333,\"#9c179e\"],[0.4444444444444444,\"#bd3786\"],[0.5555555555555556,\"#d8576b\"],[0.6666666666666666,\"#ed7953\"],[0.7777777777777778,\"#fb9f3a\"],[0.8888888888888888,\"#fdca26\"],[1.0,\"#f0f921\"]],\"type\":\"contour\"}],\"contourcarpet\":[{\"colorbar\":{\"outlinewidth\":0,\"ticks\":\"\"},\"type\":\"contourcarpet\"}],\"heatmap\":[{\"colorbar\":{\"outlinewidth\":0,\"ticks\":\"\"},\"colorscale\":[[0.0,\"#0d0887\"],[0.1111111111111111,\"#46039f\"],[0.2222222222222222,\"#7201a8\"],[0.3333333333333333,\"#9c179e\"],[0.4444444444444444,\"#bd3786\"],[0.5555555555555556,\"#d8576b\"],[0.6666666666666666,\"#ed7953\"],[0.7777777777777778,\"#fb9f3a\"],[0.8888888888888888,\"#fdca26\"],[1.0,\"#f0f921\"]],\"type\":\"heatmap\"}],\"heatmapgl\":[{\"colorbar\":{\"outlinewidth\":0,\"ticks\":\"\"},\"colorscale\":[[0.0,\"#0d0887\"],[0.1111111111111111,\"#46039f\"],[0.2222222222222222,\"#7201a8\"],[0.3333333333333333,\"#9c179e\"],[0.4444444444444444,\"#bd3786\"],[0.5555555555555556,\"#d8576b\"],[0.6666666666666666,\"#ed7953\"],[0.7777777777777778,\"#fb9f3a\"],[0.8888888888888888,\"#fdca26\"],[1.0,\"#f0f921\"]],\"type\":\"heatmapgl\"}],\"histogram\":[{\"marker\":{\"pattern\":{\"fillmode\":\"overlay\",\"size\":10,\"solidity\":0.2}},\"type\":\"histogram\"}],\"histogram2d\":[{\"colorbar\":{\"outlinewidth\":0,\"ticks\":\"\"},\"colorscale\":[[0.0,\"#0d0887\"],[0.1111111111111111,\"#46039f\"],[0.2222222222222222,\"#7201a8\"],[0.3333333333333333,\"#9c179e\"],[0.4444444444444444,\"#bd3786\"],[0.5555555555555556,\"#d8576b\"],[0.6666666666666666,\"#ed7953\"],[0.7777777777777778,\"#fb9f3a\"],[0.8888888888888888,\"#fdca26\"],[1.0,\"#f0f921\"]],\"type\":\"histogram2d\"}],\"histogram2dcontour\":[{\"colorbar\":{\"outlinewidth\":0,\"ticks\":\"\"},\"colorscale\":[[0.0,\"#0d0887\"],[0.1111111111111111,\"#46039f\"],[0.2222222222222222,\"#7201a8\"],[0.3333333333333333,\"#9c179e\"],[0.4444444444444444,\"#bd3786\"],[0.5555555555555556,\"#d8576b\"],[0.6666666666666666,\"#ed7953\"],[0.7777777777777778,\"#fb9f3a\"],[0.8888888888888888,\"#fdca26\"],[1.0,\"#f0f921\"]],\"type\":\"histogram2dcontour\"}],\"mesh3d\":[{\"colorbar\":{\"outlinewidth\":0,\"ticks\":\"\"},\"type\":\"mesh3d\"}],\"parcoords\":[{\"line\":{\"colorbar\":{\"outlinewidth\":0,\"ticks\":\"\"}},\"type\":\"parcoords\"}],\"pie\":[{\"automargin\":true,\"type\":\"pie\"}],\"scatter\":[{\"marker\":{\"colorbar\":{\"outlinewidth\":0,\"ticks\":\"\"}},\"type\":\"scatter\"}],\"scatter3d\":[{\"line\":{\"colorbar\":{\"outlinewidth\":0,\"ticks\":\"\"}},\"marker\":{\"colorbar\":{\"outlinewidth\":0,\"ticks\":\"\"}},\"type\":\"scatter3d\"}],\"scattercarpet\":[{\"marker\":{\"colorbar\":{\"outlinewidth\":0,\"ticks\":\"\"}},\"type\":\"scattercarpet\"}],\"scattergeo\":[{\"marker\":{\"colorbar\":{\"outlinewidth\":0,\"ticks\":\"\"}},\"type\":\"scattergeo\"}],\"scattergl\":[{\"marker\":{\"colorbar\":{\"outlinewidth\":0,\"ticks\":\"\"}},\"type\":\"scattergl\"}],\"scattermapbox\":[{\"marker\":{\"colorbar\":{\"outlinewidth\":0,\"ticks\":\"\"}},\"type\":\"scattermapbox\"}],\"scatterpolar\":[{\"marker\":{\"colorbar\":{\"outlinewidth\":0,\"ticks\":\"\"}},\"type\":\"scatterpolar\"}],\"scatterpolargl\":[{\"marker\":{\"colorbar\":{\"outlinewidth\":0,\"ticks\":\"\"}},\"type\":\"scatterpolargl\"}],\"scatterternary\":[{\"marker\":{\"colorbar\":{\"outlinewidth\":0,\"ticks\":\"\"}},\"type\":\"scatterternary\"}],\"surface\":[{\"colorbar\":{\"outlinewidth\":0,\"ticks\":\"\"},\"colorscale\":[[0.0,\"#0d0887\"],[0.1111111111111111,\"#46039f\"],[0.2222222222222222,\"#7201a8\"],[0.3333333333333333,\"#9c179e\"],[0.4444444444444444,\"#bd3786\"],[0.5555555555555556,\"#d8576b\"],[0.6666666666666666,\"#ed7953\"],[0.7777777777777778,\"#fb9f3a\"],[0.8888888888888888,\"#fdca26\"],[1.0,\"#f0f921\"]],\"type\":\"surface\"}],\"table\":[{\"cells\":{\"fill\":{\"color\":\"#EBF0F8\"},\"line\":{\"color\":\"white\"}},\"header\":{\"fill\":{\"color\":\"#C8D4E3\"},\"line\":{\"color\":\"white\"}},\"type\":\"table\"}]},\"layout\":{\"annotationdefaults\":{\"arrowcolor\":\"#2a3f5f\",\"arrowhead\":0,\"arrowwidth\":1},\"autotypenumbers\":\"strict\",\"coloraxis\":{\"colorbar\":{\"outlinewidth\":0,\"ticks\":\"\"}},\"colorscale\":{\"diverging\":[[0,\"#8e0152\"],[0.1,\"#c51b7d\"],[0.2,\"#de77ae\"],[0.3,\"#f1b6da\"],[0.4,\"#fde0ef\"],[0.5,\"#f7f7f7\"],[0.6,\"#e6f5d0\"],[0.7,\"#b8e186\"],[0.8,\"#7fbc41\"],[0.9,\"#4d9221\"],[1,\"#276419\"]],\"sequential\":[[0.0,\"#0d0887\"],[0.1111111111111111,\"#46039f\"],[0.2222222222222222,\"#7201a8\"],[0.3333333333333333,\"#9c179e\"],[0.4444444444444444,\"#bd3786\"],[0.5555555555555556,\"#d8576b\"],[0.6666666666666666,\"#ed7953\"],[0.7777777777777778,\"#fb9f3a\"],[0.8888888888888888,\"#fdca26\"],[1.0,\"#f0f921\"]],\"sequentialminus\":[[0.0,\"#0d0887\"],[0.1111111111111111,\"#46039f\"],[0.2222222222222222,\"#7201a8\"],[0.3333333333333333,\"#9c179e\"],[0.4444444444444444,\"#bd3786\"],[0.5555555555555556,\"#d8576b\"],[0.6666666666666666,\"#ed7953\"],[0.7777777777777778,\"#fb9f3a\"],[0.8888888888888888,\"#fdca26\"],[1.0,\"#f0f921\"]]},\"colorway\":[\"#636efa\",\"#EF553B\",\"#00cc96\",\"#ab63fa\",\"#FFA15A\",\"#19d3f3\",\"#FF6692\",\"#B6E880\",\"#FF97FF\",\"#FECB52\"],\"font\":{\"color\":\"#2a3f5f\"},\"geo\":{\"bgcolor\":\"white\",\"lakecolor\":\"white\",\"landcolor\":\"#E5ECF6\",\"showlakes\":true,\"showland\":true,\"subunitcolor\":\"white\"},\"hoverlabel\":{\"align\":\"left\"},\"hovermode\":\"closest\",\"mapbox\":{\"style\":\"light\"},\"paper_bgcolor\":\"white\",\"plot_bgcolor\":\"#E5ECF6\",\"polar\":{\"angularaxis\":{\"gridcolor\":\"white\",\"linecolor\":\"white\",\"ticks\":\"\"},\"bgcolor\":\"#E5ECF6\",\"radialaxis\":{\"gridcolor\":\"white\",\"linecolor\":\"white\",\"ticks\":\"\"}},\"scene\":{\"xaxis\":{\"backgroundcolor\":\"#E5ECF6\",\"gridcolor\":\"white\",\"gridwidth\":2,\"linecolor\":\"white\",\"showbackground\":true,\"ticks\":\"\",\"zerolinecolor\":\"white\"},\"yaxis\":{\"backgroundcolor\":\"#E5ECF6\",\"gridcolor\":\"white\",\"gridwidth\":2,\"linecolor\":\"white\",\"showbackground\":true,\"ticks\":\"\",\"zerolinecolor\":\"white\"},\"zaxis\":{\"backgroundcolor\":\"#E5ECF6\",\"gridcolor\":\"white\",\"gridwidth\":2,\"linecolor\":\"white\",\"showbackground\":true,\"ticks\":\"\",\"zerolinecolor\":\"white\"}},\"shapedefaults\":{\"line\":{\"color\":\"#2a3f5f\"}},\"ternary\":{\"aaxis\":{\"gridcolor\":\"white\",\"linecolor\":\"white\",\"ticks\":\"\"},\"baxis\":{\"gridcolor\":\"white\",\"linecolor\":\"white\",\"ticks\":\"\"},\"bgcolor\":\"#E5ECF6\",\"caxis\":{\"gridcolor\":\"white\",\"linecolor\":\"white\",\"ticks\":\"\"}},\"title\":{\"x\":0.05},\"xaxis\":{\"automargin\":true,\"gridcolor\":\"white\",\"linecolor\":\"white\",\"ticks\":\"\",\"title\":{\"standoff\":15},\"zerolinecolor\":\"white\",\"zerolinewidth\":2},\"yaxis\":{\"automargin\":true,\"gridcolor\":\"white\",\"linecolor\":\"white\",\"ticks\":\"\",\"title\":{\"standoff\":15},\"zerolinecolor\":\"white\",\"zerolinewidth\":2}}},\"xaxis\":{\"anchor\":\"y\",\"domain\":[0.0,1.0],\"title\":{\"text\":\"birthYear\"},\"categoryorder\":\"category ascending\"},\"yaxis\":{\"anchor\":\"x\",\"domain\":[0.0,1.0],\"title\":{\"text\":\"pctYB\"}},\"legend\":{\"title\":{\"text\":\"finalName\"},\"tracegroupgap\":0},\"title\":{\"text\":\"Name Popularity Distribution of Forbes 400 Over Time\"},\"hovermode\":\"x\"},                        {\"responsive\": true}                    ).then(function(){\n",
       "                            \n",
       "var gd = document.getElementById('1d908aae-afc5-4a6c-8865-e5aa046c1ab4');\n",
       "var x = new MutationObserver(function (mutations, observer) {{\n",
       "        var display = window.getComputedStyle(gd).display;\n",
       "        if (!display || display === 'none') {{\n",
       "            console.log([gd, 'removed!']);\n",
       "            Plotly.purge(gd);\n",
       "            observer.disconnect();\n",
       "        }}\n",
       "}});\n",
       "\n",
       "// Listen for the removal of the full notebook cells\n",
       "var notebookContainer = gd.closest('#notebook-container');\n",
       "if (notebookContainer) {{\n",
       "    x.observe(notebookContainer, {childList: true});\n",
       "}}\n",
       "\n",
       "// Listen for the clearing of the current output cell\n",
       "var outputEl = gd.closest('.output');\n",
       "if (outputEl) {{\n",
       "    x.observe(outputEl, {childList: true});\n",
       "}}\n",
       "\n",
       "                        })                };                });            </script>        </div>"
      ]
     },
     "metadata": {},
     "output_type": "display_data"
    }
   ],
   "source": [
    "fig2 = px.scatter(df, x='birthYear', y='pctYB', color=\"finalName\",\n",
    "              title='Name Popularity Distribution of Forbes 400 Over Time',\n",
    "                  labels={'x':\"Birth Year\",\n",
    "                          'y':'Percent of Babies Born With Name of Billionaire'})\n",
    "fig2.update_xaxes(categoryorder='category ascending')\n",
    "fig2.update_layout(hovermode=\"x\")\n",
    "\n",
    "fig2.show()"
   ]
  },
  {
   "cell_type": "code",
   "execution_count": 32,
   "id": "3fa64d2d",
   "metadata": {},
   "outputs": [
    {
     "data": {
      "text/html": [
       "<div>\n",
       "<style scoped>\n",
       "    .dataframe tbody tr th:only-of-type {\n",
       "        vertical-align: middle;\n",
       "    }\n",
       "\n",
       "    .dataframe tbody tr th {\n",
       "        vertical-align: top;\n",
       "    }\n",
       "\n",
       "    .dataframe thead th {\n",
       "        text-align: right;\n",
       "    }\n",
       "</style>\n",
       "<table border=\"1\" class=\"dataframe\">\n",
       "  <thead>\n",
       "    <tr style=\"text-align: right;\">\n",
       "      <th></th>\n",
       "      <th>firstName</th>\n",
       "      <th>lastName</th>\n",
       "      <th>gender</th>\n",
       "      <th>birthYear</th>\n",
       "      <th>selfMadeRank</th>\n",
       "      <th>finalName</th>\n",
       "      <th>nickName</th>\n",
       "      <th>nameGender</th>\n",
       "      <th>nameUsage</th>\n",
       "      <th>freqYB</th>\n",
       "      <th>pctYB</th>\n",
       "      <th>male</th>\n",
       "      <th>french</th>\n",
       "    </tr>\n",
       "  </thead>\n",
       "  <tbody>\n",
       "    <tr>\n",
       "      <th>0</th>\n",
       "      <td>Elon</td>\n",
       "      <td>Musk</td>\n",
       "      <td>M</td>\n",
       "      <td>1971</td>\n",
       "      <td>8</td>\n",
       "      <td>Elon</td>\n",
       "      <td>0</td>\n",
       "      <td>[Masculine]</td>\n",
       "      <td>[Biblical, Hebrew, Biblical Hebrew]</td>\n",
       "      <td>10.0</td>\n",
       "      <td>0.000005</td>\n",
       "      <td>1</td>\n",
       "      <td>No</td>\n",
       "    </tr>\n",
       "    <tr>\n",
       "      <th>1</th>\n",
       "      <td>Jeff</td>\n",
       "      <td>Bezos</td>\n",
       "      <td>M</td>\n",
       "      <td>1964</td>\n",
       "      <td>8</td>\n",
       "      <td>Jeffrey</td>\n",
       "      <td>1</td>\n",
       "      <td>[Masculine]</td>\n",
       "      <td>[English]</td>\n",
       "      <td>30730.0</td>\n",
       "      <td>0.015159</td>\n",
       "      <td>1</td>\n",
       "      <td>No</td>\n",
       "    </tr>\n",
       "    <tr>\n",
       "      <th>2</th>\n",
       "      <td>Bill</td>\n",
       "      <td>Gates</td>\n",
       "      <td>M</td>\n",
       "      <td>1955</td>\n",
       "      <td>8</td>\n",
       "      <td>William</td>\n",
       "      <td>1</td>\n",
       "      <td>[Masculine]</td>\n",
       "      <td>[English]</td>\n",
       "      <td>59986.0</td>\n",
       "      <td>0.028696</td>\n",
       "      <td>1</td>\n",
       "      <td>No</td>\n",
       "    </tr>\n",
       "    <tr>\n",
       "      <th>3</th>\n",
       "      <td>Larry</td>\n",
       "      <td>Ellison</td>\n",
       "      <td>M</td>\n",
       "      <td>1944</td>\n",
       "      <td>9</td>\n",
       "      <td>Lawrence</td>\n",
       "      <td>1</td>\n",
       "      <td>[Masculine]</td>\n",
       "      <td>[English]</td>\n",
       "      <td>7128.0</td>\n",
       "      <td>0.005131</td>\n",
       "      <td>1</td>\n",
       "      <td>No</td>\n",
       "    </tr>\n",
       "    <tr>\n",
       "      <th>4</th>\n",
       "      <td>Warren</td>\n",
       "      <td>Buffett</td>\n",
       "      <td>M</td>\n",
       "      <td>1930</td>\n",
       "      <td>8</td>\n",
       "      <td>Warren</td>\n",
       "      <td>0</td>\n",
       "      <td>[Masculine]</td>\n",
       "      <td>[English]</td>\n",
       "      <td>2012.0</td>\n",
       "      <td>0.001781</td>\n",
       "      <td>1</td>\n",
       "      <td>No</td>\n",
       "    </tr>\n",
       "  </tbody>\n",
       "</table>\n",
       "</div>"
      ],
      "text/plain": [
       "  firstName lastName gender birthYear  selfMadeRank finalName  nickName  \\\n",
       "0      Elon     Musk      M      1971             8      Elon         0   \n",
       "1      Jeff    Bezos      M      1964             8   Jeffrey         1   \n",
       "2      Bill    Gates      M      1955             8   William         1   \n",
       "3     Larry  Ellison      M      1944             9  Lawrence         1   \n",
       "4    Warren  Buffett      M      1930             8    Warren         0   \n",
       "\n",
       "    nameGender                            nameUsage   freqYB     pctYB  male  \\\n",
       "0  [Masculine]  [Biblical, Hebrew, Biblical Hebrew]     10.0  0.000005     1   \n",
       "1  [Masculine]                            [English]  30730.0  0.015159     1   \n",
       "2  [Masculine]                            [English]  59986.0  0.028696     1   \n",
       "3  [Masculine]                            [English]   7128.0  0.005131     1   \n",
       "4  [Masculine]                            [English]   2012.0  0.001781     1   \n",
       "\n",
       "  french  \n",
       "0     No  \n",
       "1     No  \n",
       "2     No  \n",
       "3     No  \n",
       "4     No  "
      ]
     },
     "execution_count": 32,
     "metadata": {},
     "output_type": "execute_result"
    }
   ],
   "source": [
    "m = []\n",
    "for l in df['nameUsage']:\n",
    "    if 'French' in l:\n",
    "        m.append('Yes')\n",
    "    else:\n",
    "        m.append('No')\n",
    "\n",
    "df['french'] = m\n",
    "df.head()"
   ]
  },
  {
   "cell_type": "code",
   "execution_count": 33,
   "id": "c79b320e",
   "metadata": {},
   "outputs": [
    {
     "data": {
      "application/vnd.plotly.v1+json": {
       "config": {
        "plotlyServerURL": "https://plot.ly"
       },
       "data": [
        {
         "alignmentgroup": "True",
         "hovertemplate": "French Usage=%{x}<br>count=%{y}<extra></extra>",
         "legendgroup": "",
         "marker": {
          "color": "#636efa",
          "pattern": {
           "shape": ""
          }
         },
         "name": "",
         "offsetgroup": "",
         "orientation": "v",
         "showlegend": false,
         "textposition": "auto",
         "type": "bar",
         "x": [
          "No",
          "No",
          "No",
          "No",
          "No",
          "No",
          "No",
          "No",
          "No",
          "No",
          "No",
          "Yes",
          "Yes",
          "No",
          "Yes",
          "No",
          "No",
          "No",
          "Yes",
          "No",
          "No",
          "No",
          "No",
          "No",
          "No",
          "No",
          "No",
          "No",
          "No",
          "No",
          "Yes",
          "Yes",
          "Yes",
          "No",
          "No",
          "No",
          "Yes",
          "No",
          "No",
          "Yes",
          "Yes",
          "Yes",
          "No",
          "No",
          "Yes",
          "No",
          "No",
          "No",
          "No",
          "No",
          "Yes",
          "No",
          "No",
          "No",
          "No",
          "No",
          "No",
          "No",
          "Yes",
          "Yes",
          "No",
          "No",
          "No",
          "No",
          "Yes",
          "No",
          "No",
          "Yes",
          "No",
          "No",
          "No",
          "No",
          "No",
          "No",
          "No",
          "Yes",
          "No",
          "No",
          "No",
          "No",
          "No",
          "Yes",
          "No",
          "No",
          "No",
          "Yes",
          "No",
          "No",
          "No",
          "No",
          "Yes",
          "No",
          "Yes",
          "No",
          "No",
          "Yes",
          "No",
          "No",
          "Yes",
          "No",
          "No",
          "No",
          "No",
          "Yes",
          "Yes",
          "No",
          "Yes",
          "No",
          "No",
          "Yes",
          "Yes",
          "No",
          "No",
          "No",
          "No",
          "No",
          "No",
          "No",
          "No",
          "No",
          "No",
          "No",
          "Yes",
          "No",
          "No",
          "No",
          "Yes",
          "Yes",
          "Yes",
          "No",
          "No",
          "No",
          "No",
          "Yes",
          "No",
          "No",
          "No",
          "Yes",
          "No",
          "No",
          "No",
          "No",
          "Yes",
          "No",
          "No",
          "No",
          "No",
          "No",
          "Yes",
          "No",
          "No",
          "No",
          "Yes",
          "No",
          "No",
          "Yes",
          "No",
          "No",
          "No",
          "No",
          "No",
          "No",
          "No",
          "No",
          "Yes",
          "Yes",
          "No",
          "Yes",
          "No",
          "No",
          "No",
          "No",
          "No",
          "No",
          "Yes",
          "No",
          "Yes",
          "No",
          "Yes",
          "No",
          "Yes",
          "No",
          "No",
          "No",
          "Yes",
          "No",
          "No",
          "Yes",
          "Yes",
          "Yes",
          "Yes",
          "No",
          "Yes",
          "No",
          "No",
          "No",
          "No",
          "No",
          "No",
          "No",
          "Yes",
          "No",
          "Yes",
          "No",
          "Yes",
          "Yes",
          "No",
          "No",
          "No",
          "No",
          "No",
          "Yes",
          "Yes",
          "Yes",
          "Yes",
          "No",
          "No",
          "No",
          "No",
          "Yes",
          "No",
          "No",
          "No",
          "No",
          "Yes",
          "Yes",
          "No",
          "No",
          "No",
          "No",
          "No",
          "No",
          "No",
          "Yes",
          "No",
          "No",
          "No",
          "No",
          "Yes",
          "No",
          "No",
          "No",
          "No",
          "No",
          "No",
          "No",
          "No",
          "Yes",
          "No",
          "Yes",
          "Yes",
          "Yes",
          "Yes",
          "No",
          "Yes",
          "No",
          "No",
          "No",
          "No",
          "Yes",
          "No",
          "No",
          "No",
          "No",
          "No",
          "Yes",
          "No",
          "No",
          "No",
          "No",
          "No",
          "No",
          "No",
          "Yes",
          "No",
          "Yes",
          "No",
          "No",
          "No",
          "Yes",
          "No",
          "No",
          "Yes",
          "No",
          "No",
          "No",
          "Yes",
          "Yes",
          "Yes",
          "Yes",
          "Yes",
          "Yes",
          "No",
          "Yes",
          "No",
          "No",
          "No",
          "No",
          "No",
          "Yes",
          "No",
          "No",
          "No",
          "Yes",
          "No",
          "No",
          "Yes",
          "No",
          "No",
          "No",
          "No",
          "No",
          "No",
          "No",
          "No",
          "Yes",
          "Yes",
          "No",
          "No",
          "No",
          "No",
          "Yes",
          "No",
          "Yes",
          "No",
          "No",
          "No",
          "No",
          "Yes",
          "No",
          "Yes",
          "No",
          "No",
          "No",
          "No",
          "Yes",
          "No",
          "No",
          "No",
          "Yes",
          "No",
          "No",
          "No",
          "Yes",
          "No",
          "No",
          "No",
          "No",
          "No",
          "No",
          "No",
          "Yes",
          "No",
          "No",
          "No",
          "Yes",
          "Yes",
          "No",
          "No",
          "No",
          "No",
          "No",
          "Yes",
          "No",
          "No",
          "No",
          "Yes",
          "No",
          "No",
          "No",
          "No",
          "No",
          "No",
          "No",
          "No",
          "Yes",
          "Yes",
          "No",
          "No",
          "No",
          "No",
          "No",
          "No",
          "No",
          "No",
          "No",
          "Yes",
          "No",
          "Yes",
          "No",
          "No",
          "No",
          "No",
          "No",
          "Yes",
          "Yes",
          "Yes",
          "No",
          "No",
          "Yes"
         ],
         "xaxis": "x",
         "y": [
          1,
          1,
          1,
          1,
          1,
          1,
          1,
          1,
          1,
          1,
          1,
          1,
          1,
          1,
          1,
          1,
          1,
          1,
          1,
          1,
          1,
          1,
          1,
          1,
          1,
          1,
          1,
          1,
          1,
          1,
          1,
          1,
          1,
          1,
          1,
          1,
          1,
          1,
          1,
          1,
          1,
          1,
          1,
          1,
          1,
          1,
          1,
          1,
          1,
          1,
          1,
          1,
          1,
          1,
          1,
          1,
          1,
          1,
          1,
          1,
          1,
          1,
          1,
          1,
          1,
          1,
          1,
          1,
          1,
          1,
          1,
          1,
          1,
          1,
          1,
          1,
          1,
          1,
          1,
          1,
          1,
          1,
          1,
          1,
          1,
          1,
          1,
          1,
          1,
          1,
          1,
          1,
          1,
          1,
          1,
          1,
          1,
          1,
          1,
          1,
          1,
          1,
          1,
          1,
          1,
          1,
          1,
          1,
          1,
          1,
          1,
          1,
          1,
          1,
          1,
          1,
          1,
          1,
          1,
          1,
          1,
          1,
          1,
          1,
          1,
          1,
          1,
          1,
          1,
          1,
          1,
          1,
          1,
          1,
          1,
          1,
          1,
          1,
          1,
          1,
          1,
          1,
          1,
          1,
          1,
          1,
          1,
          1,
          1,
          1,
          1,
          1,
          1,
          1,
          1,
          1,
          1,
          1,
          1,
          1,
          1,
          1,
          1,
          1,
          1,
          1,
          1,
          1,
          1,
          1,
          1,
          1,
          1,
          1,
          1,
          1,
          1,
          1,
          1,
          1,
          1,
          1,
          1,
          1,
          1,
          1,
          1,
          1,
          1,
          1,
          1,
          1,
          1,
          1,
          1,
          1,
          1,
          1,
          1,
          1,
          1,
          1,
          1,
          1,
          1,
          1,
          1,
          1,
          1,
          1,
          1,
          1,
          1,
          1,
          1,
          1,
          1,
          1,
          1,
          1,
          1,
          1,
          1,
          1,
          1,
          1,
          1,
          1,
          1,
          1,
          1,
          1,
          1,
          1,
          1,
          1,
          1,
          1,
          1,
          1,
          1,
          1,
          1,
          1,
          1,
          1,
          1,
          1,
          1,
          1,
          1,
          1,
          1,
          1,
          1,
          1,
          1,
          1,
          1,
          1,
          1,
          1,
          1,
          1,
          1,
          1,
          1,
          1,
          1,
          1,
          1,
          1,
          1,
          1,
          1,
          1,
          1,
          1,
          1,
          1,
          1,
          1,
          1,
          1,
          1,
          1,
          1,
          1,
          1,
          1,
          1,
          1,
          1,
          1,
          1,
          1,
          1,
          1,
          1,
          1,
          1,
          1,
          1,
          1,
          1,
          1,
          1,
          1,
          1,
          1,
          1,
          1,
          1,
          1,
          1,
          1,
          1,
          1,
          1,
          1,
          1,
          1,
          1,
          1,
          1,
          1,
          1,
          1,
          1,
          1,
          1,
          1,
          1,
          1,
          1,
          1,
          1,
          1,
          1,
          1,
          1,
          1,
          1,
          1,
          1,
          1,
          1,
          1,
          1,
          1,
          1,
          1,
          1,
          1,
          1,
          1,
          1,
          1,
          1,
          1,
          1,
          1,
          1,
          1,
          1,
          1,
          1,
          1,
          1,
          1,
          1,
          1,
          1,
          1,
          1,
          1,
          1,
          1,
          1,
          1,
          1,
          1,
          1,
          1,
          1,
          1,
          1,
          1,
          1,
          1,
          1,
          1,
          1,
          1,
          1,
          1,
          1,
          1,
          1,
          1
         ],
         "yaxis": "y"
        }
       ],
       "layout": {
        "barmode": "relative",
        "legend": {
         "tracegroupgap": 0
        },
        "template": {
         "data": {
          "bar": [
           {
            "error_x": {
             "color": "#2a3f5f"
            },
            "error_y": {
             "color": "#2a3f5f"
            },
            "marker": {
             "line": {
              "color": "#E5ECF6",
              "width": 0.5
             },
             "pattern": {
              "fillmode": "overlay",
              "size": 10,
              "solidity": 0.2
             }
            },
            "type": "bar"
           }
          ],
          "barpolar": [
           {
            "marker": {
             "line": {
              "color": "#E5ECF6",
              "width": 0.5
             },
             "pattern": {
              "fillmode": "overlay",
              "size": 10,
              "solidity": 0.2
             }
            },
            "type": "barpolar"
           }
          ],
          "carpet": [
           {
            "aaxis": {
             "endlinecolor": "#2a3f5f",
             "gridcolor": "white",
             "linecolor": "white",
             "minorgridcolor": "white",
             "startlinecolor": "#2a3f5f"
            },
            "baxis": {
             "endlinecolor": "#2a3f5f",
             "gridcolor": "white",
             "linecolor": "white",
             "minorgridcolor": "white",
             "startlinecolor": "#2a3f5f"
            },
            "type": "carpet"
           }
          ],
          "choropleth": [
           {
            "colorbar": {
             "outlinewidth": 0,
             "ticks": ""
            },
            "type": "choropleth"
           }
          ],
          "contour": [
           {
            "colorbar": {
             "outlinewidth": 0,
             "ticks": ""
            },
            "colorscale": [
             [
              0,
              "#0d0887"
             ],
             [
              0.1111111111111111,
              "#46039f"
             ],
             [
              0.2222222222222222,
              "#7201a8"
             ],
             [
              0.3333333333333333,
              "#9c179e"
             ],
             [
              0.4444444444444444,
              "#bd3786"
             ],
             [
              0.5555555555555556,
              "#d8576b"
             ],
             [
              0.6666666666666666,
              "#ed7953"
             ],
             [
              0.7777777777777778,
              "#fb9f3a"
             ],
             [
              0.8888888888888888,
              "#fdca26"
             ],
             [
              1,
              "#f0f921"
             ]
            ],
            "type": "contour"
           }
          ],
          "contourcarpet": [
           {
            "colorbar": {
             "outlinewidth": 0,
             "ticks": ""
            },
            "type": "contourcarpet"
           }
          ],
          "heatmap": [
           {
            "colorbar": {
             "outlinewidth": 0,
             "ticks": ""
            },
            "colorscale": [
             [
              0,
              "#0d0887"
             ],
             [
              0.1111111111111111,
              "#46039f"
             ],
             [
              0.2222222222222222,
              "#7201a8"
             ],
             [
              0.3333333333333333,
              "#9c179e"
             ],
             [
              0.4444444444444444,
              "#bd3786"
             ],
             [
              0.5555555555555556,
              "#d8576b"
             ],
             [
              0.6666666666666666,
              "#ed7953"
             ],
             [
              0.7777777777777778,
              "#fb9f3a"
             ],
             [
              0.8888888888888888,
              "#fdca26"
             ],
             [
              1,
              "#f0f921"
             ]
            ],
            "type": "heatmap"
           }
          ],
          "heatmapgl": [
           {
            "colorbar": {
             "outlinewidth": 0,
             "ticks": ""
            },
            "colorscale": [
             [
              0,
              "#0d0887"
             ],
             [
              0.1111111111111111,
              "#46039f"
             ],
             [
              0.2222222222222222,
              "#7201a8"
             ],
             [
              0.3333333333333333,
              "#9c179e"
             ],
             [
              0.4444444444444444,
              "#bd3786"
             ],
             [
              0.5555555555555556,
              "#d8576b"
             ],
             [
              0.6666666666666666,
              "#ed7953"
             ],
             [
              0.7777777777777778,
              "#fb9f3a"
             ],
             [
              0.8888888888888888,
              "#fdca26"
             ],
             [
              1,
              "#f0f921"
             ]
            ],
            "type": "heatmapgl"
           }
          ],
          "histogram": [
           {
            "marker": {
             "pattern": {
              "fillmode": "overlay",
              "size": 10,
              "solidity": 0.2
             }
            },
            "type": "histogram"
           }
          ],
          "histogram2d": [
           {
            "colorbar": {
             "outlinewidth": 0,
             "ticks": ""
            },
            "colorscale": [
             [
              0,
              "#0d0887"
             ],
             [
              0.1111111111111111,
              "#46039f"
             ],
             [
              0.2222222222222222,
              "#7201a8"
             ],
             [
              0.3333333333333333,
              "#9c179e"
             ],
             [
              0.4444444444444444,
              "#bd3786"
             ],
             [
              0.5555555555555556,
              "#d8576b"
             ],
             [
              0.6666666666666666,
              "#ed7953"
             ],
             [
              0.7777777777777778,
              "#fb9f3a"
             ],
             [
              0.8888888888888888,
              "#fdca26"
             ],
             [
              1,
              "#f0f921"
             ]
            ],
            "type": "histogram2d"
           }
          ],
          "histogram2dcontour": [
           {
            "colorbar": {
             "outlinewidth": 0,
             "ticks": ""
            },
            "colorscale": [
             [
              0,
              "#0d0887"
             ],
             [
              0.1111111111111111,
              "#46039f"
             ],
             [
              0.2222222222222222,
              "#7201a8"
             ],
             [
              0.3333333333333333,
              "#9c179e"
             ],
             [
              0.4444444444444444,
              "#bd3786"
             ],
             [
              0.5555555555555556,
              "#d8576b"
             ],
             [
              0.6666666666666666,
              "#ed7953"
             ],
             [
              0.7777777777777778,
              "#fb9f3a"
             ],
             [
              0.8888888888888888,
              "#fdca26"
             ],
             [
              1,
              "#f0f921"
             ]
            ],
            "type": "histogram2dcontour"
           }
          ],
          "mesh3d": [
           {
            "colorbar": {
             "outlinewidth": 0,
             "ticks": ""
            },
            "type": "mesh3d"
           }
          ],
          "parcoords": [
           {
            "line": {
             "colorbar": {
              "outlinewidth": 0,
              "ticks": ""
             }
            },
            "type": "parcoords"
           }
          ],
          "pie": [
           {
            "automargin": true,
            "type": "pie"
           }
          ],
          "scatter": [
           {
            "marker": {
             "colorbar": {
              "outlinewidth": 0,
              "ticks": ""
             }
            },
            "type": "scatter"
           }
          ],
          "scatter3d": [
           {
            "line": {
             "colorbar": {
              "outlinewidth": 0,
              "ticks": ""
             }
            },
            "marker": {
             "colorbar": {
              "outlinewidth": 0,
              "ticks": ""
             }
            },
            "type": "scatter3d"
           }
          ],
          "scattercarpet": [
           {
            "marker": {
             "colorbar": {
              "outlinewidth": 0,
              "ticks": ""
             }
            },
            "type": "scattercarpet"
           }
          ],
          "scattergeo": [
           {
            "marker": {
             "colorbar": {
              "outlinewidth": 0,
              "ticks": ""
             }
            },
            "type": "scattergeo"
           }
          ],
          "scattergl": [
           {
            "marker": {
             "colorbar": {
              "outlinewidth": 0,
              "ticks": ""
             }
            },
            "type": "scattergl"
           }
          ],
          "scattermapbox": [
           {
            "marker": {
             "colorbar": {
              "outlinewidth": 0,
              "ticks": ""
             }
            },
            "type": "scattermapbox"
           }
          ],
          "scatterpolar": [
           {
            "marker": {
             "colorbar": {
              "outlinewidth": 0,
              "ticks": ""
             }
            },
            "type": "scatterpolar"
           }
          ],
          "scatterpolargl": [
           {
            "marker": {
             "colorbar": {
              "outlinewidth": 0,
              "ticks": ""
             }
            },
            "type": "scatterpolargl"
           }
          ],
          "scatterternary": [
           {
            "marker": {
             "colorbar": {
              "outlinewidth": 0,
              "ticks": ""
             }
            },
            "type": "scatterternary"
           }
          ],
          "surface": [
           {
            "colorbar": {
             "outlinewidth": 0,
             "ticks": ""
            },
            "colorscale": [
             [
              0,
              "#0d0887"
             ],
             [
              0.1111111111111111,
              "#46039f"
             ],
             [
              0.2222222222222222,
              "#7201a8"
             ],
             [
              0.3333333333333333,
              "#9c179e"
             ],
             [
              0.4444444444444444,
              "#bd3786"
             ],
             [
              0.5555555555555556,
              "#d8576b"
             ],
             [
              0.6666666666666666,
              "#ed7953"
             ],
             [
              0.7777777777777778,
              "#fb9f3a"
             ],
             [
              0.8888888888888888,
              "#fdca26"
             ],
             [
              1,
              "#f0f921"
             ]
            ],
            "type": "surface"
           }
          ],
          "table": [
           {
            "cells": {
             "fill": {
              "color": "#EBF0F8"
             },
             "line": {
              "color": "white"
             }
            },
            "header": {
             "fill": {
              "color": "#C8D4E3"
             },
             "line": {
              "color": "white"
             }
            },
            "type": "table"
           }
          ]
         },
         "layout": {
          "annotationdefaults": {
           "arrowcolor": "#2a3f5f",
           "arrowhead": 0,
           "arrowwidth": 1
          },
          "autotypenumbers": "strict",
          "coloraxis": {
           "colorbar": {
            "outlinewidth": 0,
            "ticks": ""
           }
          },
          "colorscale": {
           "diverging": [
            [
             0,
             "#8e0152"
            ],
            [
             0.1,
             "#c51b7d"
            ],
            [
             0.2,
             "#de77ae"
            ],
            [
             0.3,
             "#f1b6da"
            ],
            [
             0.4,
             "#fde0ef"
            ],
            [
             0.5,
             "#f7f7f7"
            ],
            [
             0.6,
             "#e6f5d0"
            ],
            [
             0.7,
             "#b8e186"
            ],
            [
             0.8,
             "#7fbc41"
            ],
            [
             0.9,
             "#4d9221"
            ],
            [
             1,
             "#276419"
            ]
           ],
           "sequential": [
            [
             0,
             "#0d0887"
            ],
            [
             0.1111111111111111,
             "#46039f"
            ],
            [
             0.2222222222222222,
             "#7201a8"
            ],
            [
             0.3333333333333333,
             "#9c179e"
            ],
            [
             0.4444444444444444,
             "#bd3786"
            ],
            [
             0.5555555555555556,
             "#d8576b"
            ],
            [
             0.6666666666666666,
             "#ed7953"
            ],
            [
             0.7777777777777778,
             "#fb9f3a"
            ],
            [
             0.8888888888888888,
             "#fdca26"
            ],
            [
             1,
             "#f0f921"
            ]
           ],
           "sequentialminus": [
            [
             0,
             "#0d0887"
            ],
            [
             0.1111111111111111,
             "#46039f"
            ],
            [
             0.2222222222222222,
             "#7201a8"
            ],
            [
             0.3333333333333333,
             "#9c179e"
            ],
            [
             0.4444444444444444,
             "#bd3786"
            ],
            [
             0.5555555555555556,
             "#d8576b"
            ],
            [
             0.6666666666666666,
             "#ed7953"
            ],
            [
             0.7777777777777778,
             "#fb9f3a"
            ],
            [
             0.8888888888888888,
             "#fdca26"
            ],
            [
             1,
             "#f0f921"
            ]
           ]
          },
          "colorway": [
           "#636efa",
           "#EF553B",
           "#00cc96",
           "#ab63fa",
           "#FFA15A",
           "#19d3f3",
           "#FF6692",
           "#B6E880",
           "#FF97FF",
           "#FECB52"
          ],
          "font": {
           "color": "#2a3f5f"
          },
          "geo": {
           "bgcolor": "white",
           "lakecolor": "white",
           "landcolor": "#E5ECF6",
           "showlakes": true,
           "showland": true,
           "subunitcolor": "white"
          },
          "hoverlabel": {
           "align": "left"
          },
          "hovermode": "closest",
          "mapbox": {
           "style": "light"
          },
          "paper_bgcolor": "white",
          "plot_bgcolor": "#E5ECF6",
          "polar": {
           "angularaxis": {
            "gridcolor": "white",
            "linecolor": "white",
            "ticks": ""
           },
           "bgcolor": "#E5ECF6",
           "radialaxis": {
            "gridcolor": "white",
            "linecolor": "white",
            "ticks": ""
           }
          },
          "scene": {
           "xaxis": {
            "backgroundcolor": "#E5ECF6",
            "gridcolor": "white",
            "gridwidth": 2,
            "linecolor": "white",
            "showbackground": true,
            "ticks": "",
            "zerolinecolor": "white"
           },
           "yaxis": {
            "backgroundcolor": "#E5ECF6",
            "gridcolor": "white",
            "gridwidth": 2,
            "linecolor": "white",
            "showbackground": true,
            "ticks": "",
            "zerolinecolor": "white"
           },
           "zaxis": {
            "backgroundcolor": "#E5ECF6",
            "gridcolor": "white",
            "gridwidth": 2,
            "linecolor": "white",
            "showbackground": true,
            "ticks": "",
            "zerolinecolor": "white"
           }
          },
          "shapedefaults": {
           "line": {
            "color": "#2a3f5f"
           }
          },
          "ternary": {
           "aaxis": {
            "gridcolor": "white",
            "linecolor": "white",
            "ticks": ""
           },
           "baxis": {
            "gridcolor": "white",
            "linecolor": "white",
            "ticks": ""
           },
           "bgcolor": "#E5ECF6",
           "caxis": {
            "gridcolor": "white",
            "linecolor": "white",
            "ticks": ""
           }
          },
          "title": {
           "x": 0.05
          },
          "xaxis": {
           "automargin": true,
           "gridcolor": "white",
           "linecolor": "white",
           "ticks": "",
           "title": {
            "standoff": 15
           },
           "zerolinecolor": "white",
           "zerolinewidth": 2
          },
          "yaxis": {
           "automargin": true,
           "gridcolor": "white",
           "linecolor": "white",
           "ticks": "",
           "title": {
            "standoff": 15
           },
           "zerolinecolor": "white",
           "zerolinewidth": 2
          }
         }
        },
        "title": {
         "text": "French Usage Distribution of Forbes 400"
        },
        "xaxis": {
         "anchor": "y",
         "domain": [
          0,
          1
         ],
         "title": {
          "text": "French Usage"
         }
        },
        "yaxis": {
         "anchor": "x",
         "domain": [
          0,
          1
         ],
         "title": {
          "text": "count"
         }
        }
       }
      },
      "text/html": [
       "<div>                            <div id=\"e9f3af74-10e2-4917-a0fb-af3160257558\" class=\"plotly-graph-div\" style=\"height:525px; width:100%;\"></div>            <script type=\"text/javascript\">                require([\"plotly\"], function(Plotly) {                    window.PLOTLYENV=window.PLOTLYENV || {};                                    if (document.getElementById(\"e9f3af74-10e2-4917-a0fb-af3160257558\")) {                    Plotly.newPlot(                        \"e9f3af74-10e2-4917-a0fb-af3160257558\",                        [{\"alignmentgroup\":\"True\",\"hovertemplate\":\"French Usage=%{x}<br>count=%{y}<extra></extra>\",\"legendgroup\":\"\",\"marker\":{\"color\":\"#636efa\",\"pattern\":{\"shape\":\"\"}},\"name\":\"\",\"offsetgroup\":\"\",\"orientation\":\"v\",\"showlegend\":false,\"textposition\":\"auto\",\"x\":[\"No\",\"No\",\"No\",\"No\",\"No\",\"No\",\"No\",\"No\",\"No\",\"No\",\"No\",\"Yes\",\"Yes\",\"No\",\"Yes\",\"No\",\"No\",\"No\",\"Yes\",\"No\",\"No\",\"No\",\"No\",\"No\",\"No\",\"No\",\"No\",\"No\",\"No\",\"No\",\"Yes\",\"Yes\",\"Yes\",\"No\",\"No\",\"No\",\"Yes\",\"No\",\"No\",\"Yes\",\"Yes\",\"Yes\",\"No\",\"No\",\"Yes\",\"No\",\"No\",\"No\",\"No\",\"No\",\"Yes\",\"No\",\"No\",\"No\",\"No\",\"No\",\"No\",\"No\",\"Yes\",\"Yes\",\"No\",\"No\",\"No\",\"No\",\"Yes\",\"No\",\"No\",\"Yes\",\"No\",\"No\",\"No\",\"No\",\"No\",\"No\",\"No\",\"Yes\",\"No\",\"No\",\"No\",\"No\",\"No\",\"Yes\",\"No\",\"No\",\"No\",\"Yes\",\"No\",\"No\",\"No\",\"No\",\"Yes\",\"No\",\"Yes\",\"No\",\"No\",\"Yes\",\"No\",\"No\",\"Yes\",\"No\",\"No\",\"No\",\"No\",\"Yes\",\"Yes\",\"No\",\"Yes\",\"No\",\"No\",\"Yes\",\"Yes\",\"No\",\"No\",\"No\",\"No\",\"No\",\"No\",\"No\",\"No\",\"No\",\"No\",\"No\",\"Yes\",\"No\",\"No\",\"No\",\"Yes\",\"Yes\",\"Yes\",\"No\",\"No\",\"No\",\"No\",\"Yes\",\"No\",\"No\",\"No\",\"Yes\",\"No\",\"No\",\"No\",\"No\",\"Yes\",\"No\",\"No\",\"No\",\"No\",\"No\",\"Yes\",\"No\",\"No\",\"No\",\"Yes\",\"No\",\"No\",\"Yes\",\"No\",\"No\",\"No\",\"No\",\"No\",\"No\",\"No\",\"No\",\"Yes\",\"Yes\",\"No\",\"Yes\",\"No\",\"No\",\"No\",\"No\",\"No\",\"No\",\"Yes\",\"No\",\"Yes\",\"No\",\"Yes\",\"No\",\"Yes\",\"No\",\"No\",\"No\",\"Yes\",\"No\",\"No\",\"Yes\",\"Yes\",\"Yes\",\"Yes\",\"No\",\"Yes\",\"No\",\"No\",\"No\",\"No\",\"No\",\"No\",\"No\",\"Yes\",\"No\",\"Yes\",\"No\",\"Yes\",\"Yes\",\"No\",\"No\",\"No\",\"No\",\"No\",\"Yes\",\"Yes\",\"Yes\",\"Yes\",\"No\",\"No\",\"No\",\"No\",\"Yes\",\"No\",\"No\",\"No\",\"No\",\"Yes\",\"Yes\",\"No\",\"No\",\"No\",\"No\",\"No\",\"No\",\"No\",\"Yes\",\"No\",\"No\",\"No\",\"No\",\"Yes\",\"No\",\"No\",\"No\",\"No\",\"No\",\"No\",\"No\",\"No\",\"Yes\",\"No\",\"Yes\",\"Yes\",\"Yes\",\"Yes\",\"No\",\"Yes\",\"No\",\"No\",\"No\",\"No\",\"Yes\",\"No\",\"No\",\"No\",\"No\",\"No\",\"Yes\",\"No\",\"No\",\"No\",\"No\",\"No\",\"No\",\"No\",\"Yes\",\"No\",\"Yes\",\"No\",\"No\",\"No\",\"Yes\",\"No\",\"No\",\"Yes\",\"No\",\"No\",\"No\",\"Yes\",\"Yes\",\"Yes\",\"Yes\",\"Yes\",\"Yes\",\"No\",\"Yes\",\"No\",\"No\",\"No\",\"No\",\"No\",\"Yes\",\"No\",\"No\",\"No\",\"Yes\",\"No\",\"No\",\"Yes\",\"No\",\"No\",\"No\",\"No\",\"No\",\"No\",\"No\",\"No\",\"Yes\",\"Yes\",\"No\",\"No\",\"No\",\"No\",\"Yes\",\"No\",\"Yes\",\"No\",\"No\",\"No\",\"No\",\"Yes\",\"No\",\"Yes\",\"No\",\"No\",\"No\",\"No\",\"Yes\",\"No\",\"No\",\"No\",\"Yes\",\"No\",\"No\",\"No\",\"Yes\",\"No\",\"No\",\"No\",\"No\",\"No\",\"No\",\"No\",\"Yes\",\"No\",\"No\",\"No\",\"Yes\",\"Yes\",\"No\",\"No\",\"No\",\"No\",\"No\",\"Yes\",\"No\",\"No\",\"No\",\"Yes\",\"No\",\"No\",\"No\",\"No\",\"No\",\"No\",\"No\",\"No\",\"Yes\",\"Yes\",\"No\",\"No\",\"No\",\"No\",\"No\",\"No\",\"No\",\"No\",\"No\",\"Yes\",\"No\",\"Yes\",\"No\",\"No\",\"No\",\"No\",\"No\",\"Yes\",\"Yes\",\"Yes\",\"No\",\"No\",\"Yes\"],\"xaxis\":\"x\",\"y\":[1,1,1,1,1,1,1,1,1,1,1,1,1,1,1,1,1,1,1,1,1,1,1,1,1,1,1,1,1,1,1,1,1,1,1,1,1,1,1,1,1,1,1,1,1,1,1,1,1,1,1,1,1,1,1,1,1,1,1,1,1,1,1,1,1,1,1,1,1,1,1,1,1,1,1,1,1,1,1,1,1,1,1,1,1,1,1,1,1,1,1,1,1,1,1,1,1,1,1,1,1,1,1,1,1,1,1,1,1,1,1,1,1,1,1,1,1,1,1,1,1,1,1,1,1,1,1,1,1,1,1,1,1,1,1,1,1,1,1,1,1,1,1,1,1,1,1,1,1,1,1,1,1,1,1,1,1,1,1,1,1,1,1,1,1,1,1,1,1,1,1,1,1,1,1,1,1,1,1,1,1,1,1,1,1,1,1,1,1,1,1,1,1,1,1,1,1,1,1,1,1,1,1,1,1,1,1,1,1,1,1,1,1,1,1,1,1,1,1,1,1,1,1,1,1,1,1,1,1,1,1,1,1,1,1,1,1,1,1,1,1,1,1,1,1,1,1,1,1,1,1,1,1,1,1,1,1,1,1,1,1,1,1,1,1,1,1,1,1,1,1,1,1,1,1,1,1,1,1,1,1,1,1,1,1,1,1,1,1,1,1,1,1,1,1,1,1,1,1,1,1,1,1,1,1,1,1,1,1,1,1,1,1,1,1,1,1,1,1,1,1,1,1,1,1,1,1,1,1,1,1,1,1,1,1,1,1,1,1,1,1,1,1,1,1,1,1,1,1,1,1,1,1,1,1,1,1,1,1,1,1,1,1,1,1,1,1,1,1,1,1,1,1,1,1,1,1,1,1,1,1,1,1,1,1,1,1,1,1,1,1,1,1,1,1,1,1,1,1,1],\"yaxis\":\"y\",\"type\":\"bar\"}],                        {\"template\":{\"data\":{\"bar\":[{\"error_x\":{\"color\":\"#2a3f5f\"},\"error_y\":{\"color\":\"#2a3f5f\"},\"marker\":{\"line\":{\"color\":\"#E5ECF6\",\"width\":0.5},\"pattern\":{\"fillmode\":\"overlay\",\"size\":10,\"solidity\":0.2}},\"type\":\"bar\"}],\"barpolar\":[{\"marker\":{\"line\":{\"color\":\"#E5ECF6\",\"width\":0.5},\"pattern\":{\"fillmode\":\"overlay\",\"size\":10,\"solidity\":0.2}},\"type\":\"barpolar\"}],\"carpet\":[{\"aaxis\":{\"endlinecolor\":\"#2a3f5f\",\"gridcolor\":\"white\",\"linecolor\":\"white\",\"minorgridcolor\":\"white\",\"startlinecolor\":\"#2a3f5f\"},\"baxis\":{\"endlinecolor\":\"#2a3f5f\",\"gridcolor\":\"white\",\"linecolor\":\"white\",\"minorgridcolor\":\"white\",\"startlinecolor\":\"#2a3f5f\"},\"type\":\"carpet\"}],\"choropleth\":[{\"colorbar\":{\"outlinewidth\":0,\"ticks\":\"\"},\"type\":\"choropleth\"}],\"contour\":[{\"colorbar\":{\"outlinewidth\":0,\"ticks\":\"\"},\"colorscale\":[[0.0,\"#0d0887\"],[0.1111111111111111,\"#46039f\"],[0.2222222222222222,\"#7201a8\"],[0.3333333333333333,\"#9c179e\"],[0.4444444444444444,\"#bd3786\"],[0.5555555555555556,\"#d8576b\"],[0.6666666666666666,\"#ed7953\"],[0.7777777777777778,\"#fb9f3a\"],[0.8888888888888888,\"#fdca26\"],[1.0,\"#f0f921\"]],\"type\":\"contour\"}],\"contourcarpet\":[{\"colorbar\":{\"outlinewidth\":0,\"ticks\":\"\"},\"type\":\"contourcarpet\"}],\"heatmap\":[{\"colorbar\":{\"outlinewidth\":0,\"ticks\":\"\"},\"colorscale\":[[0.0,\"#0d0887\"],[0.1111111111111111,\"#46039f\"],[0.2222222222222222,\"#7201a8\"],[0.3333333333333333,\"#9c179e\"],[0.4444444444444444,\"#bd3786\"],[0.5555555555555556,\"#d8576b\"],[0.6666666666666666,\"#ed7953\"],[0.7777777777777778,\"#fb9f3a\"],[0.8888888888888888,\"#fdca26\"],[1.0,\"#f0f921\"]],\"type\":\"heatmap\"}],\"heatmapgl\":[{\"colorbar\":{\"outlinewidth\":0,\"ticks\":\"\"},\"colorscale\":[[0.0,\"#0d0887\"],[0.1111111111111111,\"#46039f\"],[0.2222222222222222,\"#7201a8\"],[0.3333333333333333,\"#9c179e\"],[0.4444444444444444,\"#bd3786\"],[0.5555555555555556,\"#d8576b\"],[0.6666666666666666,\"#ed7953\"],[0.7777777777777778,\"#fb9f3a\"],[0.8888888888888888,\"#fdca26\"],[1.0,\"#f0f921\"]],\"type\":\"heatmapgl\"}],\"histogram\":[{\"marker\":{\"pattern\":{\"fillmode\":\"overlay\",\"size\":10,\"solidity\":0.2}},\"type\":\"histogram\"}],\"histogram2d\":[{\"colorbar\":{\"outlinewidth\":0,\"ticks\":\"\"},\"colorscale\":[[0.0,\"#0d0887\"],[0.1111111111111111,\"#46039f\"],[0.2222222222222222,\"#7201a8\"],[0.3333333333333333,\"#9c179e\"],[0.4444444444444444,\"#bd3786\"],[0.5555555555555556,\"#d8576b\"],[0.6666666666666666,\"#ed7953\"],[0.7777777777777778,\"#fb9f3a\"],[0.8888888888888888,\"#fdca26\"],[1.0,\"#f0f921\"]],\"type\":\"histogram2d\"}],\"histogram2dcontour\":[{\"colorbar\":{\"outlinewidth\":0,\"ticks\":\"\"},\"colorscale\":[[0.0,\"#0d0887\"],[0.1111111111111111,\"#46039f\"],[0.2222222222222222,\"#7201a8\"],[0.3333333333333333,\"#9c179e\"],[0.4444444444444444,\"#bd3786\"],[0.5555555555555556,\"#d8576b\"],[0.6666666666666666,\"#ed7953\"],[0.7777777777777778,\"#fb9f3a\"],[0.8888888888888888,\"#fdca26\"],[1.0,\"#f0f921\"]],\"type\":\"histogram2dcontour\"}],\"mesh3d\":[{\"colorbar\":{\"outlinewidth\":0,\"ticks\":\"\"},\"type\":\"mesh3d\"}],\"parcoords\":[{\"line\":{\"colorbar\":{\"outlinewidth\":0,\"ticks\":\"\"}},\"type\":\"parcoords\"}],\"pie\":[{\"automargin\":true,\"type\":\"pie\"}],\"scatter\":[{\"marker\":{\"colorbar\":{\"outlinewidth\":0,\"ticks\":\"\"}},\"type\":\"scatter\"}],\"scatter3d\":[{\"line\":{\"colorbar\":{\"outlinewidth\":0,\"ticks\":\"\"}},\"marker\":{\"colorbar\":{\"outlinewidth\":0,\"ticks\":\"\"}},\"type\":\"scatter3d\"}],\"scattercarpet\":[{\"marker\":{\"colorbar\":{\"outlinewidth\":0,\"ticks\":\"\"}},\"type\":\"scattercarpet\"}],\"scattergeo\":[{\"marker\":{\"colorbar\":{\"outlinewidth\":0,\"ticks\":\"\"}},\"type\":\"scattergeo\"}],\"scattergl\":[{\"marker\":{\"colorbar\":{\"outlinewidth\":0,\"ticks\":\"\"}},\"type\":\"scattergl\"}],\"scattermapbox\":[{\"marker\":{\"colorbar\":{\"outlinewidth\":0,\"ticks\":\"\"}},\"type\":\"scattermapbox\"}],\"scatterpolar\":[{\"marker\":{\"colorbar\":{\"outlinewidth\":0,\"ticks\":\"\"}},\"type\":\"scatterpolar\"}],\"scatterpolargl\":[{\"marker\":{\"colorbar\":{\"outlinewidth\":0,\"ticks\":\"\"}},\"type\":\"scatterpolargl\"}],\"scatterternary\":[{\"marker\":{\"colorbar\":{\"outlinewidth\":0,\"ticks\":\"\"}},\"type\":\"scatterternary\"}],\"surface\":[{\"colorbar\":{\"outlinewidth\":0,\"ticks\":\"\"},\"colorscale\":[[0.0,\"#0d0887\"],[0.1111111111111111,\"#46039f\"],[0.2222222222222222,\"#7201a8\"],[0.3333333333333333,\"#9c179e\"],[0.4444444444444444,\"#bd3786\"],[0.5555555555555556,\"#d8576b\"],[0.6666666666666666,\"#ed7953\"],[0.7777777777777778,\"#fb9f3a\"],[0.8888888888888888,\"#fdca26\"],[1.0,\"#f0f921\"]],\"type\":\"surface\"}],\"table\":[{\"cells\":{\"fill\":{\"color\":\"#EBF0F8\"},\"line\":{\"color\":\"white\"}},\"header\":{\"fill\":{\"color\":\"#C8D4E3\"},\"line\":{\"color\":\"white\"}},\"type\":\"table\"}]},\"layout\":{\"annotationdefaults\":{\"arrowcolor\":\"#2a3f5f\",\"arrowhead\":0,\"arrowwidth\":1},\"autotypenumbers\":\"strict\",\"coloraxis\":{\"colorbar\":{\"outlinewidth\":0,\"ticks\":\"\"}},\"colorscale\":{\"diverging\":[[0,\"#8e0152\"],[0.1,\"#c51b7d\"],[0.2,\"#de77ae\"],[0.3,\"#f1b6da\"],[0.4,\"#fde0ef\"],[0.5,\"#f7f7f7\"],[0.6,\"#e6f5d0\"],[0.7,\"#b8e186\"],[0.8,\"#7fbc41\"],[0.9,\"#4d9221\"],[1,\"#276419\"]],\"sequential\":[[0.0,\"#0d0887\"],[0.1111111111111111,\"#46039f\"],[0.2222222222222222,\"#7201a8\"],[0.3333333333333333,\"#9c179e\"],[0.4444444444444444,\"#bd3786\"],[0.5555555555555556,\"#d8576b\"],[0.6666666666666666,\"#ed7953\"],[0.7777777777777778,\"#fb9f3a\"],[0.8888888888888888,\"#fdca26\"],[1.0,\"#f0f921\"]],\"sequentialminus\":[[0.0,\"#0d0887\"],[0.1111111111111111,\"#46039f\"],[0.2222222222222222,\"#7201a8\"],[0.3333333333333333,\"#9c179e\"],[0.4444444444444444,\"#bd3786\"],[0.5555555555555556,\"#d8576b\"],[0.6666666666666666,\"#ed7953\"],[0.7777777777777778,\"#fb9f3a\"],[0.8888888888888888,\"#fdca26\"],[1.0,\"#f0f921\"]]},\"colorway\":[\"#636efa\",\"#EF553B\",\"#00cc96\",\"#ab63fa\",\"#FFA15A\",\"#19d3f3\",\"#FF6692\",\"#B6E880\",\"#FF97FF\",\"#FECB52\"],\"font\":{\"color\":\"#2a3f5f\"},\"geo\":{\"bgcolor\":\"white\",\"lakecolor\":\"white\",\"landcolor\":\"#E5ECF6\",\"showlakes\":true,\"showland\":true,\"subunitcolor\":\"white\"},\"hoverlabel\":{\"align\":\"left\"},\"hovermode\":\"closest\",\"mapbox\":{\"style\":\"light\"},\"paper_bgcolor\":\"white\",\"plot_bgcolor\":\"#E5ECF6\",\"polar\":{\"angularaxis\":{\"gridcolor\":\"white\",\"linecolor\":\"white\",\"ticks\":\"\"},\"bgcolor\":\"#E5ECF6\",\"radialaxis\":{\"gridcolor\":\"white\",\"linecolor\":\"white\",\"ticks\":\"\"}},\"scene\":{\"xaxis\":{\"backgroundcolor\":\"#E5ECF6\",\"gridcolor\":\"white\",\"gridwidth\":2,\"linecolor\":\"white\",\"showbackground\":true,\"ticks\":\"\",\"zerolinecolor\":\"white\"},\"yaxis\":{\"backgroundcolor\":\"#E5ECF6\",\"gridcolor\":\"white\",\"gridwidth\":2,\"linecolor\":\"white\",\"showbackground\":true,\"ticks\":\"\",\"zerolinecolor\":\"white\"},\"zaxis\":{\"backgroundcolor\":\"#E5ECF6\",\"gridcolor\":\"white\",\"gridwidth\":2,\"linecolor\":\"white\",\"showbackground\":true,\"ticks\":\"\",\"zerolinecolor\":\"white\"}},\"shapedefaults\":{\"line\":{\"color\":\"#2a3f5f\"}},\"ternary\":{\"aaxis\":{\"gridcolor\":\"white\",\"linecolor\":\"white\",\"ticks\":\"\"},\"baxis\":{\"gridcolor\":\"white\",\"linecolor\":\"white\",\"ticks\":\"\"},\"bgcolor\":\"#E5ECF6\",\"caxis\":{\"gridcolor\":\"white\",\"linecolor\":\"white\",\"ticks\":\"\"}},\"title\":{\"x\":0.05},\"xaxis\":{\"automargin\":true,\"gridcolor\":\"white\",\"linecolor\":\"white\",\"ticks\":\"\",\"title\":{\"standoff\":15},\"zerolinecolor\":\"white\",\"zerolinewidth\":2},\"yaxis\":{\"automargin\":true,\"gridcolor\":\"white\",\"linecolor\":\"white\",\"ticks\":\"\",\"title\":{\"standoff\":15},\"zerolinecolor\":\"white\",\"zerolinewidth\":2}}},\"xaxis\":{\"anchor\":\"y\",\"domain\":[0.0,1.0],\"title\":{\"text\":\"French Usage\"}},\"yaxis\":{\"anchor\":\"x\",\"domain\":[0.0,1.0],\"title\":{\"text\":\"count\"}},\"legend\":{\"tracegroupgap\":0},\"title\":{\"text\":\"French Usage Distribution of Forbes 400\"},\"barmode\":\"relative\"},                        {\"responsive\": true}                    ).then(function(){\n",
       "                            \n",
       "var gd = document.getElementById('e9f3af74-10e2-4917-a0fb-af3160257558');\n",
       "var x = new MutationObserver(function (mutations, observer) {{\n",
       "        var display = window.getComputedStyle(gd).display;\n",
       "        if (!display || display === 'none') {{\n",
       "            console.log([gd, 'removed!']);\n",
       "            Plotly.purge(gd);\n",
       "            observer.disconnect();\n",
       "        }}\n",
       "}});\n",
       "\n",
       "// Listen for the removal of the full notebook cells\n",
       "var notebookContainer = gd.closest('#notebook-container');\n",
       "if (notebookContainer) {{\n",
       "    x.observe(notebookContainer, {childList: true});\n",
       "}}\n",
       "\n",
       "// Listen for the clearing of the current output cell\n",
       "var outputEl = gd.closest('.output');\n",
       "if (outputEl) {{\n",
       "    x.observe(outputEl, {childList: true});\n",
       "}}\n",
       "\n",
       "                        })                };                });            </script>        </div>"
      ]
     },
     "metadata": {},
     "output_type": "display_data"
    }
   ],
   "source": [
    "fig4 = px.bar(x=df['french'],\n",
    "              title='French Usage Distribution of Forbes 400',\n",
    "             labels={'x':\"French Usage\"})\n",
    "\n",
    "fig4.show()"
   ]
  },
  {
   "cell_type": "code",
   "execution_count": 34,
   "id": "96163421",
   "metadata": {},
   "outputs": [
    {
     "data": {
      "text/html": [
       "<div>\n",
       "<style scoped>\n",
       "    .dataframe tbody tr th:only-of-type {\n",
       "        vertical-align: middle;\n",
       "    }\n",
       "\n",
       "    .dataframe tbody tr th {\n",
       "        vertical-align: top;\n",
       "    }\n",
       "\n",
       "    .dataframe thead th {\n",
       "        text-align: right;\n",
       "    }\n",
       "</style>\n",
       "<table border=\"1\" class=\"dataframe\">\n",
       "  <thead>\n",
       "    <tr style=\"text-align: right;\">\n",
       "      <th></th>\n",
       "      <th>firstName</th>\n",
       "      <th>lastName</th>\n",
       "      <th>gender</th>\n",
       "      <th>birthYear</th>\n",
       "      <th>selfMadeRank</th>\n",
       "      <th>finalName</th>\n",
       "      <th>nickName</th>\n",
       "      <th>nameGender</th>\n",
       "      <th>nameUsage</th>\n",
       "      <th>freqYB</th>\n",
       "      <th>pctYB</th>\n",
       "      <th>male</th>\n",
       "      <th>french</th>\n",
       "      <th>english</th>\n",
       "    </tr>\n",
       "  </thead>\n",
       "  <tbody>\n",
       "    <tr>\n",
       "      <th>0</th>\n",
       "      <td>Elon</td>\n",
       "      <td>Musk</td>\n",
       "      <td>M</td>\n",
       "      <td>1971</td>\n",
       "      <td>8</td>\n",
       "      <td>Elon</td>\n",
       "      <td>0</td>\n",
       "      <td>[Masculine]</td>\n",
       "      <td>[Biblical, Hebrew, Biblical Hebrew]</td>\n",
       "      <td>10.0</td>\n",
       "      <td>0.000005</td>\n",
       "      <td>1</td>\n",
       "      <td>No</td>\n",
       "      <td>No</td>\n",
       "    </tr>\n",
       "    <tr>\n",
       "      <th>1</th>\n",
       "      <td>Jeff</td>\n",
       "      <td>Bezos</td>\n",
       "      <td>M</td>\n",
       "      <td>1964</td>\n",
       "      <td>8</td>\n",
       "      <td>Jeffrey</td>\n",
       "      <td>1</td>\n",
       "      <td>[Masculine]</td>\n",
       "      <td>[English]</td>\n",
       "      <td>30730.0</td>\n",
       "      <td>0.015159</td>\n",
       "      <td>1</td>\n",
       "      <td>No</td>\n",
       "      <td>Yes</td>\n",
       "    </tr>\n",
       "    <tr>\n",
       "      <th>2</th>\n",
       "      <td>Bill</td>\n",
       "      <td>Gates</td>\n",
       "      <td>M</td>\n",
       "      <td>1955</td>\n",
       "      <td>8</td>\n",
       "      <td>William</td>\n",
       "      <td>1</td>\n",
       "      <td>[Masculine]</td>\n",
       "      <td>[English]</td>\n",
       "      <td>59986.0</td>\n",
       "      <td>0.028696</td>\n",
       "      <td>1</td>\n",
       "      <td>No</td>\n",
       "      <td>Yes</td>\n",
       "    </tr>\n",
       "    <tr>\n",
       "      <th>3</th>\n",
       "      <td>Larry</td>\n",
       "      <td>Ellison</td>\n",
       "      <td>M</td>\n",
       "      <td>1944</td>\n",
       "      <td>9</td>\n",
       "      <td>Lawrence</td>\n",
       "      <td>1</td>\n",
       "      <td>[Masculine]</td>\n",
       "      <td>[English]</td>\n",
       "      <td>7128.0</td>\n",
       "      <td>0.005131</td>\n",
       "      <td>1</td>\n",
       "      <td>No</td>\n",
       "      <td>Yes</td>\n",
       "    </tr>\n",
       "    <tr>\n",
       "      <th>4</th>\n",
       "      <td>Warren</td>\n",
       "      <td>Buffett</td>\n",
       "      <td>M</td>\n",
       "      <td>1930</td>\n",
       "      <td>8</td>\n",
       "      <td>Warren</td>\n",
       "      <td>0</td>\n",
       "      <td>[Masculine]</td>\n",
       "      <td>[English]</td>\n",
       "      <td>2012.0</td>\n",
       "      <td>0.001781</td>\n",
       "      <td>1</td>\n",
       "      <td>No</td>\n",
       "      <td>Yes</td>\n",
       "    </tr>\n",
       "  </tbody>\n",
       "</table>\n",
       "</div>"
      ],
      "text/plain": [
       "  firstName lastName gender birthYear  selfMadeRank finalName  nickName  \\\n",
       "0      Elon     Musk      M      1971             8      Elon         0   \n",
       "1      Jeff    Bezos      M      1964             8   Jeffrey         1   \n",
       "2      Bill    Gates      M      1955             8   William         1   \n",
       "3     Larry  Ellison      M      1944             9  Lawrence         1   \n",
       "4    Warren  Buffett      M      1930             8    Warren         0   \n",
       "\n",
       "    nameGender                            nameUsage   freqYB     pctYB  male  \\\n",
       "0  [Masculine]  [Biblical, Hebrew, Biblical Hebrew]     10.0  0.000005     1   \n",
       "1  [Masculine]                            [English]  30730.0  0.015159     1   \n",
       "2  [Masculine]                            [English]  59986.0  0.028696     1   \n",
       "3  [Masculine]                            [English]   7128.0  0.005131     1   \n",
       "4  [Masculine]                            [English]   2012.0  0.001781     1   \n",
       "\n",
       "  french english  \n",
       "0     No      No  \n",
       "1     No     Yes  \n",
       "2     No     Yes  \n",
       "3     No     Yes  \n",
       "4     No     Yes  "
      ]
     },
     "execution_count": 34,
     "metadata": {},
     "output_type": "execute_result"
    }
   ],
   "source": [
    "m = []\n",
    "for l in df['nameUsage']:\n",
    "    if 'English' in l:\n",
    "        m.append('Yes')\n",
    "    else:\n",
    "        m.append('No')\n",
    "\n",
    "df['english'] = m\n",
    "df.head()"
   ]
  },
  {
   "cell_type": "code",
   "execution_count": 35,
   "id": "1e265a43",
   "metadata": {},
   "outputs": [
    {
     "data": {
      "application/vnd.plotly.v1+json": {
       "config": {
        "plotlyServerURL": "https://plot.ly"
       },
       "data": [
        {
         "alignmentgroup": "True",
         "hovertemplate": "English Usage=%{x}<br>count=%{y}<extra></extra>",
         "legendgroup": "",
         "marker": {
          "color": "#636efa",
          "pattern": {
           "shape": ""
          }
         },
         "name": "",
         "offsetgroup": "",
         "orientation": "v",
         "showlegend": false,
         "textposition": "auto",
         "type": "bar",
         "x": [
          "No",
          "Yes",
          "Yes",
          "Yes",
          "Yes",
          "Yes",
          "No",
          "Yes",
          "Yes",
          "Yes",
          "Yes",
          "Yes",
          "Yes",
          "Yes",
          "Yes",
          "Yes",
          "Yes",
          "Yes",
          "Yes",
          "Yes",
          "Yes",
          "Yes",
          "Yes",
          "Yes",
          "Yes",
          "Yes",
          "Yes",
          "Yes",
          "Yes",
          "No",
          "Yes",
          "Yes",
          "Yes",
          "Yes",
          "Yes",
          "Yes",
          "Yes",
          "Yes",
          "Yes",
          "Yes",
          "Yes",
          "Yes",
          "Yes",
          "No",
          "Yes",
          "Yes",
          "Yes",
          "No",
          "Yes",
          "Yes",
          "Yes",
          "Yes",
          "Yes",
          "Yes",
          "No",
          "Yes",
          "Yes",
          "Yes",
          "Yes",
          "Yes",
          "Yes",
          "Yes",
          "Yes",
          "Yes",
          "No",
          "Yes",
          "Yes",
          "Yes",
          "No",
          "Yes",
          "Yes",
          "Yes",
          "Yes",
          "Yes",
          "Yes",
          "Yes",
          "Yes",
          "Yes",
          "Yes",
          "Yes",
          "Yes",
          "Yes",
          "Yes",
          "Yes",
          "Yes",
          "Yes",
          "No",
          "Yes",
          "No",
          "Yes",
          "Yes",
          "Yes",
          "Yes",
          "No",
          "No",
          "Yes",
          "Yes",
          "Yes",
          "Yes",
          "Yes",
          "Yes",
          "Yes",
          "Yes",
          "Yes",
          "Yes",
          "Yes",
          "Yes",
          "Yes",
          "Yes",
          "Yes",
          "Yes",
          "Yes",
          "Yes",
          "Yes",
          "Yes",
          "Yes",
          "Yes",
          "Yes",
          "No",
          "Yes",
          "Yes",
          "No",
          "No",
          "No",
          "No",
          "Yes",
          "Yes",
          "Yes",
          "Yes",
          "Yes",
          "Yes",
          "Yes",
          "Yes",
          "Yes",
          "Yes",
          "Yes",
          "Yes",
          "Yes",
          "Yes",
          "No",
          "Yes",
          "Yes",
          "No",
          "Yes",
          "Yes",
          "Yes",
          "Yes",
          "Yes",
          "Yes",
          "Yes",
          "Yes",
          "Yes",
          "Yes",
          "No",
          "Yes",
          "Yes",
          "Yes",
          "Yes",
          "Yes",
          "Yes",
          "Yes",
          "Yes",
          "Yes",
          "Yes",
          "Yes",
          "Yes",
          "Yes",
          "Yes",
          "Yes",
          "Yes",
          "Yes",
          "Yes",
          "Yes",
          "Yes",
          "Yes",
          "Yes",
          "Yes",
          "Yes",
          "Yes",
          "Yes",
          "Yes",
          "No",
          "Yes",
          "Yes",
          "Yes",
          "Yes",
          "Yes",
          "Yes",
          "Yes",
          "Yes",
          "Yes",
          "Yes",
          "Yes",
          "Yes",
          "Yes",
          "Yes",
          "No",
          "Yes",
          "No",
          "Yes",
          "Yes",
          "Yes",
          "Yes",
          "Yes",
          "Yes",
          "Yes",
          "Yes",
          "Yes",
          "No",
          "Yes",
          "Yes",
          "Yes",
          "Yes",
          "Yes",
          "Yes",
          "Yes",
          "Yes",
          "Yes",
          "Yes",
          "Yes",
          "Yes",
          "Yes",
          "Yes",
          "Yes",
          "Yes",
          "Yes",
          "Yes",
          "No",
          "Yes",
          "Yes",
          "Yes",
          "No",
          "Yes",
          "No",
          "Yes",
          "Yes",
          "Yes",
          "Yes",
          "Yes",
          "Yes",
          "Yes",
          "Yes",
          "Yes",
          "Yes",
          "Yes",
          "No",
          "No",
          "Yes",
          "Yes",
          "Yes",
          "No",
          "No",
          "Yes",
          "No",
          "Yes",
          "No",
          "No",
          "No",
          "Yes",
          "Yes",
          "No",
          "Yes",
          "Yes",
          "No",
          "Yes",
          "Yes",
          "No",
          "Yes",
          "Yes",
          "Yes",
          "Yes",
          "Yes",
          "Yes",
          "Yes",
          "Yes",
          "Yes",
          "Yes",
          "Yes",
          "No",
          "Yes",
          "Yes",
          "Yes",
          "Yes",
          "Yes",
          "Yes",
          "No",
          "Yes",
          "Yes",
          "Yes",
          "Yes",
          "Yes",
          "Yes",
          "Yes",
          "Yes",
          "Yes",
          "Yes",
          "Yes",
          "Yes",
          "Yes",
          "Yes",
          "Yes",
          "Yes",
          "Yes",
          "Yes",
          "Yes",
          "No",
          "Yes",
          "Yes",
          "Yes",
          "Yes",
          "Yes",
          "Yes",
          "Yes",
          "Yes",
          "Yes",
          "Yes",
          "Yes",
          "Yes",
          "Yes",
          "Yes",
          "Yes",
          "Yes",
          "Yes",
          "Yes",
          "Yes",
          "Yes",
          "Yes",
          "Yes",
          "Yes",
          "Yes",
          "Yes",
          "Yes",
          "Yes",
          "Yes",
          "Yes",
          "Yes",
          "Yes",
          "Yes",
          "Yes",
          "Yes",
          "Yes",
          "Yes",
          "Yes",
          "Yes",
          "Yes",
          "Yes",
          "Yes",
          "Yes",
          "Yes",
          "Yes",
          "Yes",
          "No",
          "Yes",
          "Yes",
          "Yes",
          "Yes",
          "Yes",
          "Yes",
          "Yes",
          "Yes",
          "Yes",
          "Yes",
          "Yes",
          "Yes",
          "Yes",
          "Yes",
          "Yes",
          "Yes",
          "Yes",
          "Yes",
          "No",
          "Yes",
          "No",
          "Yes",
          "No",
          "Yes",
          "Yes",
          "Yes",
          "Yes",
          "Yes",
          "Yes",
          "Yes",
          "Yes",
          "Yes",
          "No",
          "Yes",
          "Yes",
          "Yes",
          "Yes",
          "Yes",
          "Yes",
          "No",
          "No",
          "Yes",
          "Yes",
          "Yes",
          "Yes",
          "Yes",
          "Yes",
          "Yes"
         ],
         "xaxis": "x",
         "y": [
          1,
          1,
          1,
          1,
          1,
          1,
          1,
          1,
          1,
          1,
          1,
          1,
          1,
          1,
          1,
          1,
          1,
          1,
          1,
          1,
          1,
          1,
          1,
          1,
          1,
          1,
          1,
          1,
          1,
          1,
          1,
          1,
          1,
          1,
          1,
          1,
          1,
          1,
          1,
          1,
          1,
          1,
          1,
          1,
          1,
          1,
          1,
          1,
          1,
          1,
          1,
          1,
          1,
          1,
          1,
          1,
          1,
          1,
          1,
          1,
          1,
          1,
          1,
          1,
          1,
          1,
          1,
          1,
          1,
          1,
          1,
          1,
          1,
          1,
          1,
          1,
          1,
          1,
          1,
          1,
          1,
          1,
          1,
          1,
          1,
          1,
          1,
          1,
          1,
          1,
          1,
          1,
          1,
          1,
          1,
          1,
          1,
          1,
          1,
          1,
          1,
          1,
          1,
          1,
          1,
          1,
          1,
          1,
          1,
          1,
          1,
          1,
          1,
          1,
          1,
          1,
          1,
          1,
          1,
          1,
          1,
          1,
          1,
          1,
          1,
          1,
          1,
          1,
          1,
          1,
          1,
          1,
          1,
          1,
          1,
          1,
          1,
          1,
          1,
          1,
          1,
          1,
          1,
          1,
          1,
          1,
          1,
          1,
          1,
          1,
          1,
          1,
          1,
          1,
          1,
          1,
          1,
          1,
          1,
          1,
          1,
          1,
          1,
          1,
          1,
          1,
          1,
          1,
          1,
          1,
          1,
          1,
          1,
          1,
          1,
          1,
          1,
          1,
          1,
          1,
          1,
          1,
          1,
          1,
          1,
          1,
          1,
          1,
          1,
          1,
          1,
          1,
          1,
          1,
          1,
          1,
          1,
          1,
          1,
          1,
          1,
          1,
          1,
          1,
          1,
          1,
          1,
          1,
          1,
          1,
          1,
          1,
          1,
          1,
          1,
          1,
          1,
          1,
          1,
          1,
          1,
          1,
          1,
          1,
          1,
          1,
          1,
          1,
          1,
          1,
          1,
          1,
          1,
          1,
          1,
          1,
          1,
          1,
          1,
          1,
          1,
          1,
          1,
          1,
          1,
          1,
          1,
          1,
          1,
          1,
          1,
          1,
          1,
          1,
          1,
          1,
          1,
          1,
          1,
          1,
          1,
          1,
          1,
          1,
          1,
          1,
          1,
          1,
          1,
          1,
          1,
          1,
          1,
          1,
          1,
          1,
          1,
          1,
          1,
          1,
          1,
          1,
          1,
          1,
          1,
          1,
          1,
          1,
          1,
          1,
          1,
          1,
          1,
          1,
          1,
          1,
          1,
          1,
          1,
          1,
          1,
          1,
          1,
          1,
          1,
          1,
          1,
          1,
          1,
          1,
          1,
          1,
          1,
          1,
          1,
          1,
          1,
          1,
          1,
          1,
          1,
          1,
          1,
          1,
          1,
          1,
          1,
          1,
          1,
          1,
          1,
          1,
          1,
          1,
          1,
          1,
          1,
          1,
          1,
          1,
          1,
          1,
          1,
          1,
          1,
          1,
          1,
          1,
          1,
          1,
          1,
          1,
          1,
          1,
          1,
          1,
          1,
          1,
          1,
          1,
          1,
          1,
          1,
          1,
          1,
          1,
          1,
          1,
          1,
          1,
          1,
          1,
          1,
          1,
          1,
          1,
          1,
          1,
          1,
          1,
          1,
          1,
          1,
          1,
          1,
          1,
          1,
          1,
          1,
          1,
          1,
          1,
          1,
          1,
          1,
          1,
          1,
          1,
          1,
          1
         ],
         "yaxis": "y"
        }
       ],
       "layout": {
        "barmode": "relative",
        "legend": {
         "tracegroupgap": 0
        },
        "template": {
         "data": {
          "bar": [
           {
            "error_x": {
             "color": "#2a3f5f"
            },
            "error_y": {
             "color": "#2a3f5f"
            },
            "marker": {
             "line": {
              "color": "#E5ECF6",
              "width": 0.5
             },
             "pattern": {
              "fillmode": "overlay",
              "size": 10,
              "solidity": 0.2
             }
            },
            "type": "bar"
           }
          ],
          "barpolar": [
           {
            "marker": {
             "line": {
              "color": "#E5ECF6",
              "width": 0.5
             },
             "pattern": {
              "fillmode": "overlay",
              "size": 10,
              "solidity": 0.2
             }
            },
            "type": "barpolar"
           }
          ],
          "carpet": [
           {
            "aaxis": {
             "endlinecolor": "#2a3f5f",
             "gridcolor": "white",
             "linecolor": "white",
             "minorgridcolor": "white",
             "startlinecolor": "#2a3f5f"
            },
            "baxis": {
             "endlinecolor": "#2a3f5f",
             "gridcolor": "white",
             "linecolor": "white",
             "minorgridcolor": "white",
             "startlinecolor": "#2a3f5f"
            },
            "type": "carpet"
           }
          ],
          "choropleth": [
           {
            "colorbar": {
             "outlinewidth": 0,
             "ticks": ""
            },
            "type": "choropleth"
           }
          ],
          "contour": [
           {
            "colorbar": {
             "outlinewidth": 0,
             "ticks": ""
            },
            "colorscale": [
             [
              0,
              "#0d0887"
             ],
             [
              0.1111111111111111,
              "#46039f"
             ],
             [
              0.2222222222222222,
              "#7201a8"
             ],
             [
              0.3333333333333333,
              "#9c179e"
             ],
             [
              0.4444444444444444,
              "#bd3786"
             ],
             [
              0.5555555555555556,
              "#d8576b"
             ],
             [
              0.6666666666666666,
              "#ed7953"
             ],
             [
              0.7777777777777778,
              "#fb9f3a"
             ],
             [
              0.8888888888888888,
              "#fdca26"
             ],
             [
              1,
              "#f0f921"
             ]
            ],
            "type": "contour"
           }
          ],
          "contourcarpet": [
           {
            "colorbar": {
             "outlinewidth": 0,
             "ticks": ""
            },
            "type": "contourcarpet"
           }
          ],
          "heatmap": [
           {
            "colorbar": {
             "outlinewidth": 0,
             "ticks": ""
            },
            "colorscale": [
             [
              0,
              "#0d0887"
             ],
             [
              0.1111111111111111,
              "#46039f"
             ],
             [
              0.2222222222222222,
              "#7201a8"
             ],
             [
              0.3333333333333333,
              "#9c179e"
             ],
             [
              0.4444444444444444,
              "#bd3786"
             ],
             [
              0.5555555555555556,
              "#d8576b"
             ],
             [
              0.6666666666666666,
              "#ed7953"
             ],
             [
              0.7777777777777778,
              "#fb9f3a"
             ],
             [
              0.8888888888888888,
              "#fdca26"
             ],
             [
              1,
              "#f0f921"
             ]
            ],
            "type": "heatmap"
           }
          ],
          "heatmapgl": [
           {
            "colorbar": {
             "outlinewidth": 0,
             "ticks": ""
            },
            "colorscale": [
             [
              0,
              "#0d0887"
             ],
             [
              0.1111111111111111,
              "#46039f"
             ],
             [
              0.2222222222222222,
              "#7201a8"
             ],
             [
              0.3333333333333333,
              "#9c179e"
             ],
             [
              0.4444444444444444,
              "#bd3786"
             ],
             [
              0.5555555555555556,
              "#d8576b"
             ],
             [
              0.6666666666666666,
              "#ed7953"
             ],
             [
              0.7777777777777778,
              "#fb9f3a"
             ],
             [
              0.8888888888888888,
              "#fdca26"
             ],
             [
              1,
              "#f0f921"
             ]
            ],
            "type": "heatmapgl"
           }
          ],
          "histogram": [
           {
            "marker": {
             "pattern": {
              "fillmode": "overlay",
              "size": 10,
              "solidity": 0.2
             }
            },
            "type": "histogram"
           }
          ],
          "histogram2d": [
           {
            "colorbar": {
             "outlinewidth": 0,
             "ticks": ""
            },
            "colorscale": [
             [
              0,
              "#0d0887"
             ],
             [
              0.1111111111111111,
              "#46039f"
             ],
             [
              0.2222222222222222,
              "#7201a8"
             ],
             [
              0.3333333333333333,
              "#9c179e"
             ],
             [
              0.4444444444444444,
              "#bd3786"
             ],
             [
              0.5555555555555556,
              "#d8576b"
             ],
             [
              0.6666666666666666,
              "#ed7953"
             ],
             [
              0.7777777777777778,
              "#fb9f3a"
             ],
             [
              0.8888888888888888,
              "#fdca26"
             ],
             [
              1,
              "#f0f921"
             ]
            ],
            "type": "histogram2d"
           }
          ],
          "histogram2dcontour": [
           {
            "colorbar": {
             "outlinewidth": 0,
             "ticks": ""
            },
            "colorscale": [
             [
              0,
              "#0d0887"
             ],
             [
              0.1111111111111111,
              "#46039f"
             ],
             [
              0.2222222222222222,
              "#7201a8"
             ],
             [
              0.3333333333333333,
              "#9c179e"
             ],
             [
              0.4444444444444444,
              "#bd3786"
             ],
             [
              0.5555555555555556,
              "#d8576b"
             ],
             [
              0.6666666666666666,
              "#ed7953"
             ],
             [
              0.7777777777777778,
              "#fb9f3a"
             ],
             [
              0.8888888888888888,
              "#fdca26"
             ],
             [
              1,
              "#f0f921"
             ]
            ],
            "type": "histogram2dcontour"
           }
          ],
          "mesh3d": [
           {
            "colorbar": {
             "outlinewidth": 0,
             "ticks": ""
            },
            "type": "mesh3d"
           }
          ],
          "parcoords": [
           {
            "line": {
             "colorbar": {
              "outlinewidth": 0,
              "ticks": ""
             }
            },
            "type": "parcoords"
           }
          ],
          "pie": [
           {
            "automargin": true,
            "type": "pie"
           }
          ],
          "scatter": [
           {
            "marker": {
             "colorbar": {
              "outlinewidth": 0,
              "ticks": ""
             }
            },
            "type": "scatter"
           }
          ],
          "scatter3d": [
           {
            "line": {
             "colorbar": {
              "outlinewidth": 0,
              "ticks": ""
             }
            },
            "marker": {
             "colorbar": {
              "outlinewidth": 0,
              "ticks": ""
             }
            },
            "type": "scatter3d"
           }
          ],
          "scattercarpet": [
           {
            "marker": {
             "colorbar": {
              "outlinewidth": 0,
              "ticks": ""
             }
            },
            "type": "scattercarpet"
           }
          ],
          "scattergeo": [
           {
            "marker": {
             "colorbar": {
              "outlinewidth": 0,
              "ticks": ""
             }
            },
            "type": "scattergeo"
           }
          ],
          "scattergl": [
           {
            "marker": {
             "colorbar": {
              "outlinewidth": 0,
              "ticks": ""
             }
            },
            "type": "scattergl"
           }
          ],
          "scattermapbox": [
           {
            "marker": {
             "colorbar": {
              "outlinewidth": 0,
              "ticks": ""
             }
            },
            "type": "scattermapbox"
           }
          ],
          "scatterpolar": [
           {
            "marker": {
             "colorbar": {
              "outlinewidth": 0,
              "ticks": ""
             }
            },
            "type": "scatterpolar"
           }
          ],
          "scatterpolargl": [
           {
            "marker": {
             "colorbar": {
              "outlinewidth": 0,
              "ticks": ""
             }
            },
            "type": "scatterpolargl"
           }
          ],
          "scatterternary": [
           {
            "marker": {
             "colorbar": {
              "outlinewidth": 0,
              "ticks": ""
             }
            },
            "type": "scatterternary"
           }
          ],
          "surface": [
           {
            "colorbar": {
             "outlinewidth": 0,
             "ticks": ""
            },
            "colorscale": [
             [
              0,
              "#0d0887"
             ],
             [
              0.1111111111111111,
              "#46039f"
             ],
             [
              0.2222222222222222,
              "#7201a8"
             ],
             [
              0.3333333333333333,
              "#9c179e"
             ],
             [
              0.4444444444444444,
              "#bd3786"
             ],
             [
              0.5555555555555556,
              "#d8576b"
             ],
             [
              0.6666666666666666,
              "#ed7953"
             ],
             [
              0.7777777777777778,
              "#fb9f3a"
             ],
             [
              0.8888888888888888,
              "#fdca26"
             ],
             [
              1,
              "#f0f921"
             ]
            ],
            "type": "surface"
           }
          ],
          "table": [
           {
            "cells": {
             "fill": {
              "color": "#EBF0F8"
             },
             "line": {
              "color": "white"
             }
            },
            "header": {
             "fill": {
              "color": "#C8D4E3"
             },
             "line": {
              "color": "white"
             }
            },
            "type": "table"
           }
          ]
         },
         "layout": {
          "annotationdefaults": {
           "arrowcolor": "#2a3f5f",
           "arrowhead": 0,
           "arrowwidth": 1
          },
          "autotypenumbers": "strict",
          "coloraxis": {
           "colorbar": {
            "outlinewidth": 0,
            "ticks": ""
           }
          },
          "colorscale": {
           "diverging": [
            [
             0,
             "#8e0152"
            ],
            [
             0.1,
             "#c51b7d"
            ],
            [
             0.2,
             "#de77ae"
            ],
            [
             0.3,
             "#f1b6da"
            ],
            [
             0.4,
             "#fde0ef"
            ],
            [
             0.5,
             "#f7f7f7"
            ],
            [
             0.6,
             "#e6f5d0"
            ],
            [
             0.7,
             "#b8e186"
            ],
            [
             0.8,
             "#7fbc41"
            ],
            [
             0.9,
             "#4d9221"
            ],
            [
             1,
             "#276419"
            ]
           ],
           "sequential": [
            [
             0,
             "#0d0887"
            ],
            [
             0.1111111111111111,
             "#46039f"
            ],
            [
             0.2222222222222222,
             "#7201a8"
            ],
            [
             0.3333333333333333,
             "#9c179e"
            ],
            [
             0.4444444444444444,
             "#bd3786"
            ],
            [
             0.5555555555555556,
             "#d8576b"
            ],
            [
             0.6666666666666666,
             "#ed7953"
            ],
            [
             0.7777777777777778,
             "#fb9f3a"
            ],
            [
             0.8888888888888888,
             "#fdca26"
            ],
            [
             1,
             "#f0f921"
            ]
           ],
           "sequentialminus": [
            [
             0,
             "#0d0887"
            ],
            [
             0.1111111111111111,
             "#46039f"
            ],
            [
             0.2222222222222222,
             "#7201a8"
            ],
            [
             0.3333333333333333,
             "#9c179e"
            ],
            [
             0.4444444444444444,
             "#bd3786"
            ],
            [
             0.5555555555555556,
             "#d8576b"
            ],
            [
             0.6666666666666666,
             "#ed7953"
            ],
            [
             0.7777777777777778,
             "#fb9f3a"
            ],
            [
             0.8888888888888888,
             "#fdca26"
            ],
            [
             1,
             "#f0f921"
            ]
           ]
          },
          "colorway": [
           "#636efa",
           "#EF553B",
           "#00cc96",
           "#ab63fa",
           "#FFA15A",
           "#19d3f3",
           "#FF6692",
           "#B6E880",
           "#FF97FF",
           "#FECB52"
          ],
          "font": {
           "color": "#2a3f5f"
          },
          "geo": {
           "bgcolor": "white",
           "lakecolor": "white",
           "landcolor": "#E5ECF6",
           "showlakes": true,
           "showland": true,
           "subunitcolor": "white"
          },
          "hoverlabel": {
           "align": "left"
          },
          "hovermode": "closest",
          "mapbox": {
           "style": "light"
          },
          "paper_bgcolor": "white",
          "plot_bgcolor": "#E5ECF6",
          "polar": {
           "angularaxis": {
            "gridcolor": "white",
            "linecolor": "white",
            "ticks": ""
           },
           "bgcolor": "#E5ECF6",
           "radialaxis": {
            "gridcolor": "white",
            "linecolor": "white",
            "ticks": ""
           }
          },
          "scene": {
           "xaxis": {
            "backgroundcolor": "#E5ECF6",
            "gridcolor": "white",
            "gridwidth": 2,
            "linecolor": "white",
            "showbackground": true,
            "ticks": "",
            "zerolinecolor": "white"
           },
           "yaxis": {
            "backgroundcolor": "#E5ECF6",
            "gridcolor": "white",
            "gridwidth": 2,
            "linecolor": "white",
            "showbackground": true,
            "ticks": "",
            "zerolinecolor": "white"
           },
           "zaxis": {
            "backgroundcolor": "#E5ECF6",
            "gridcolor": "white",
            "gridwidth": 2,
            "linecolor": "white",
            "showbackground": true,
            "ticks": "",
            "zerolinecolor": "white"
           }
          },
          "shapedefaults": {
           "line": {
            "color": "#2a3f5f"
           }
          },
          "ternary": {
           "aaxis": {
            "gridcolor": "white",
            "linecolor": "white",
            "ticks": ""
           },
           "baxis": {
            "gridcolor": "white",
            "linecolor": "white",
            "ticks": ""
           },
           "bgcolor": "#E5ECF6",
           "caxis": {
            "gridcolor": "white",
            "linecolor": "white",
            "ticks": ""
           }
          },
          "title": {
           "x": 0.05
          },
          "xaxis": {
           "automargin": true,
           "gridcolor": "white",
           "linecolor": "white",
           "ticks": "",
           "title": {
            "standoff": 15
           },
           "zerolinecolor": "white",
           "zerolinewidth": 2
          },
          "yaxis": {
           "automargin": true,
           "gridcolor": "white",
           "linecolor": "white",
           "ticks": "",
           "title": {
            "standoff": 15
           },
           "zerolinecolor": "white",
           "zerolinewidth": 2
          }
         }
        },
        "title": {
         "text": "English Usage Distribution of Forbes 400"
        },
        "xaxis": {
         "anchor": "y",
         "domain": [
          0,
          1
         ],
         "title": {
          "text": "English Usage"
         }
        },
        "yaxis": {
         "anchor": "x",
         "domain": [
          0,
          1
         ],
         "title": {
          "text": "count"
         }
        }
       }
      },
      "text/html": [
       "<div>                            <div id=\"ffe21f61-5ccc-40fb-b2fe-85bb3e509425\" class=\"plotly-graph-div\" style=\"height:525px; width:100%;\"></div>            <script type=\"text/javascript\">                require([\"plotly\"], function(Plotly) {                    window.PLOTLYENV=window.PLOTLYENV || {};                                    if (document.getElementById(\"ffe21f61-5ccc-40fb-b2fe-85bb3e509425\")) {                    Plotly.newPlot(                        \"ffe21f61-5ccc-40fb-b2fe-85bb3e509425\",                        [{\"alignmentgroup\":\"True\",\"hovertemplate\":\"English Usage=%{x}<br>count=%{y}<extra></extra>\",\"legendgroup\":\"\",\"marker\":{\"color\":\"#636efa\",\"pattern\":{\"shape\":\"\"}},\"name\":\"\",\"offsetgroup\":\"\",\"orientation\":\"v\",\"showlegend\":false,\"textposition\":\"auto\",\"x\":[\"No\",\"Yes\",\"Yes\",\"Yes\",\"Yes\",\"Yes\",\"No\",\"Yes\",\"Yes\",\"Yes\",\"Yes\",\"Yes\",\"Yes\",\"Yes\",\"Yes\",\"Yes\",\"Yes\",\"Yes\",\"Yes\",\"Yes\",\"Yes\",\"Yes\",\"Yes\",\"Yes\",\"Yes\",\"Yes\",\"Yes\",\"Yes\",\"Yes\",\"No\",\"Yes\",\"Yes\",\"Yes\",\"Yes\",\"Yes\",\"Yes\",\"Yes\",\"Yes\",\"Yes\",\"Yes\",\"Yes\",\"Yes\",\"Yes\",\"No\",\"Yes\",\"Yes\",\"Yes\",\"No\",\"Yes\",\"Yes\",\"Yes\",\"Yes\",\"Yes\",\"Yes\",\"No\",\"Yes\",\"Yes\",\"Yes\",\"Yes\",\"Yes\",\"Yes\",\"Yes\",\"Yes\",\"Yes\",\"No\",\"Yes\",\"Yes\",\"Yes\",\"No\",\"Yes\",\"Yes\",\"Yes\",\"Yes\",\"Yes\",\"Yes\",\"Yes\",\"Yes\",\"Yes\",\"Yes\",\"Yes\",\"Yes\",\"Yes\",\"Yes\",\"Yes\",\"Yes\",\"Yes\",\"No\",\"Yes\",\"No\",\"Yes\",\"Yes\",\"Yes\",\"Yes\",\"No\",\"No\",\"Yes\",\"Yes\",\"Yes\",\"Yes\",\"Yes\",\"Yes\",\"Yes\",\"Yes\",\"Yes\",\"Yes\",\"Yes\",\"Yes\",\"Yes\",\"Yes\",\"Yes\",\"Yes\",\"Yes\",\"Yes\",\"Yes\",\"Yes\",\"Yes\",\"Yes\",\"Yes\",\"No\",\"Yes\",\"Yes\",\"No\",\"No\",\"No\",\"No\",\"Yes\",\"Yes\",\"Yes\",\"Yes\",\"Yes\",\"Yes\",\"Yes\",\"Yes\",\"Yes\",\"Yes\",\"Yes\",\"Yes\",\"Yes\",\"Yes\",\"No\",\"Yes\",\"Yes\",\"No\",\"Yes\",\"Yes\",\"Yes\",\"Yes\",\"Yes\",\"Yes\",\"Yes\",\"Yes\",\"Yes\",\"Yes\",\"No\",\"Yes\",\"Yes\",\"Yes\",\"Yes\",\"Yes\",\"Yes\",\"Yes\",\"Yes\",\"Yes\",\"Yes\",\"Yes\",\"Yes\",\"Yes\",\"Yes\",\"Yes\",\"Yes\",\"Yes\",\"Yes\",\"Yes\",\"Yes\",\"Yes\",\"Yes\",\"Yes\",\"Yes\",\"Yes\",\"Yes\",\"Yes\",\"No\",\"Yes\",\"Yes\",\"Yes\",\"Yes\",\"Yes\",\"Yes\",\"Yes\",\"Yes\",\"Yes\",\"Yes\",\"Yes\",\"Yes\",\"Yes\",\"Yes\",\"No\",\"Yes\",\"No\",\"Yes\",\"Yes\",\"Yes\",\"Yes\",\"Yes\",\"Yes\",\"Yes\",\"Yes\",\"Yes\",\"No\",\"Yes\",\"Yes\",\"Yes\",\"Yes\",\"Yes\",\"Yes\",\"Yes\",\"Yes\",\"Yes\",\"Yes\",\"Yes\",\"Yes\",\"Yes\",\"Yes\",\"Yes\",\"Yes\",\"Yes\",\"Yes\",\"No\",\"Yes\",\"Yes\",\"Yes\",\"No\",\"Yes\",\"No\",\"Yes\",\"Yes\",\"Yes\",\"Yes\",\"Yes\",\"Yes\",\"Yes\",\"Yes\",\"Yes\",\"Yes\",\"Yes\",\"No\",\"No\",\"Yes\",\"Yes\",\"Yes\",\"No\",\"No\",\"Yes\",\"No\",\"Yes\",\"No\",\"No\",\"No\",\"Yes\",\"Yes\",\"No\",\"Yes\",\"Yes\",\"No\",\"Yes\",\"Yes\",\"No\",\"Yes\",\"Yes\",\"Yes\",\"Yes\",\"Yes\",\"Yes\",\"Yes\",\"Yes\",\"Yes\",\"Yes\",\"Yes\",\"No\",\"Yes\",\"Yes\",\"Yes\",\"Yes\",\"Yes\",\"Yes\",\"No\",\"Yes\",\"Yes\",\"Yes\",\"Yes\",\"Yes\",\"Yes\",\"Yes\",\"Yes\",\"Yes\",\"Yes\",\"Yes\",\"Yes\",\"Yes\",\"Yes\",\"Yes\",\"Yes\",\"Yes\",\"Yes\",\"Yes\",\"No\",\"Yes\",\"Yes\",\"Yes\",\"Yes\",\"Yes\",\"Yes\",\"Yes\",\"Yes\",\"Yes\",\"Yes\",\"Yes\",\"Yes\",\"Yes\",\"Yes\",\"Yes\",\"Yes\",\"Yes\",\"Yes\",\"Yes\",\"Yes\",\"Yes\",\"Yes\",\"Yes\",\"Yes\",\"Yes\",\"Yes\",\"Yes\",\"Yes\",\"Yes\",\"Yes\",\"Yes\",\"Yes\",\"Yes\",\"Yes\",\"Yes\",\"Yes\",\"Yes\",\"Yes\",\"Yes\",\"Yes\",\"Yes\",\"Yes\",\"Yes\",\"Yes\",\"Yes\",\"No\",\"Yes\",\"Yes\",\"Yes\",\"Yes\",\"Yes\",\"Yes\",\"Yes\",\"Yes\",\"Yes\",\"Yes\",\"Yes\",\"Yes\",\"Yes\",\"Yes\",\"Yes\",\"Yes\",\"Yes\",\"Yes\",\"No\",\"Yes\",\"No\",\"Yes\",\"No\",\"Yes\",\"Yes\",\"Yes\",\"Yes\",\"Yes\",\"Yes\",\"Yes\",\"Yes\",\"Yes\",\"No\",\"Yes\",\"Yes\",\"Yes\",\"Yes\",\"Yes\",\"Yes\",\"No\",\"No\",\"Yes\",\"Yes\",\"Yes\",\"Yes\",\"Yes\",\"Yes\",\"Yes\"],\"xaxis\":\"x\",\"y\":[1,1,1,1,1,1,1,1,1,1,1,1,1,1,1,1,1,1,1,1,1,1,1,1,1,1,1,1,1,1,1,1,1,1,1,1,1,1,1,1,1,1,1,1,1,1,1,1,1,1,1,1,1,1,1,1,1,1,1,1,1,1,1,1,1,1,1,1,1,1,1,1,1,1,1,1,1,1,1,1,1,1,1,1,1,1,1,1,1,1,1,1,1,1,1,1,1,1,1,1,1,1,1,1,1,1,1,1,1,1,1,1,1,1,1,1,1,1,1,1,1,1,1,1,1,1,1,1,1,1,1,1,1,1,1,1,1,1,1,1,1,1,1,1,1,1,1,1,1,1,1,1,1,1,1,1,1,1,1,1,1,1,1,1,1,1,1,1,1,1,1,1,1,1,1,1,1,1,1,1,1,1,1,1,1,1,1,1,1,1,1,1,1,1,1,1,1,1,1,1,1,1,1,1,1,1,1,1,1,1,1,1,1,1,1,1,1,1,1,1,1,1,1,1,1,1,1,1,1,1,1,1,1,1,1,1,1,1,1,1,1,1,1,1,1,1,1,1,1,1,1,1,1,1,1,1,1,1,1,1,1,1,1,1,1,1,1,1,1,1,1,1,1,1,1,1,1,1,1,1,1,1,1,1,1,1,1,1,1,1,1,1,1,1,1,1,1,1,1,1,1,1,1,1,1,1,1,1,1,1,1,1,1,1,1,1,1,1,1,1,1,1,1,1,1,1,1,1,1,1,1,1,1,1,1,1,1,1,1,1,1,1,1,1,1,1,1,1,1,1,1,1,1,1,1,1,1,1,1,1,1,1,1,1,1,1,1,1,1,1,1,1,1,1,1,1,1,1,1,1,1,1,1,1,1,1,1,1,1,1,1,1,1,1,1,1,1,1,1,1],\"yaxis\":\"y\",\"type\":\"bar\"}],                        {\"template\":{\"data\":{\"bar\":[{\"error_x\":{\"color\":\"#2a3f5f\"},\"error_y\":{\"color\":\"#2a3f5f\"},\"marker\":{\"line\":{\"color\":\"#E5ECF6\",\"width\":0.5},\"pattern\":{\"fillmode\":\"overlay\",\"size\":10,\"solidity\":0.2}},\"type\":\"bar\"}],\"barpolar\":[{\"marker\":{\"line\":{\"color\":\"#E5ECF6\",\"width\":0.5},\"pattern\":{\"fillmode\":\"overlay\",\"size\":10,\"solidity\":0.2}},\"type\":\"barpolar\"}],\"carpet\":[{\"aaxis\":{\"endlinecolor\":\"#2a3f5f\",\"gridcolor\":\"white\",\"linecolor\":\"white\",\"minorgridcolor\":\"white\",\"startlinecolor\":\"#2a3f5f\"},\"baxis\":{\"endlinecolor\":\"#2a3f5f\",\"gridcolor\":\"white\",\"linecolor\":\"white\",\"minorgridcolor\":\"white\",\"startlinecolor\":\"#2a3f5f\"},\"type\":\"carpet\"}],\"choropleth\":[{\"colorbar\":{\"outlinewidth\":0,\"ticks\":\"\"},\"type\":\"choropleth\"}],\"contour\":[{\"colorbar\":{\"outlinewidth\":0,\"ticks\":\"\"},\"colorscale\":[[0.0,\"#0d0887\"],[0.1111111111111111,\"#46039f\"],[0.2222222222222222,\"#7201a8\"],[0.3333333333333333,\"#9c179e\"],[0.4444444444444444,\"#bd3786\"],[0.5555555555555556,\"#d8576b\"],[0.6666666666666666,\"#ed7953\"],[0.7777777777777778,\"#fb9f3a\"],[0.8888888888888888,\"#fdca26\"],[1.0,\"#f0f921\"]],\"type\":\"contour\"}],\"contourcarpet\":[{\"colorbar\":{\"outlinewidth\":0,\"ticks\":\"\"},\"type\":\"contourcarpet\"}],\"heatmap\":[{\"colorbar\":{\"outlinewidth\":0,\"ticks\":\"\"},\"colorscale\":[[0.0,\"#0d0887\"],[0.1111111111111111,\"#46039f\"],[0.2222222222222222,\"#7201a8\"],[0.3333333333333333,\"#9c179e\"],[0.4444444444444444,\"#bd3786\"],[0.5555555555555556,\"#d8576b\"],[0.6666666666666666,\"#ed7953\"],[0.7777777777777778,\"#fb9f3a\"],[0.8888888888888888,\"#fdca26\"],[1.0,\"#f0f921\"]],\"type\":\"heatmap\"}],\"heatmapgl\":[{\"colorbar\":{\"outlinewidth\":0,\"ticks\":\"\"},\"colorscale\":[[0.0,\"#0d0887\"],[0.1111111111111111,\"#46039f\"],[0.2222222222222222,\"#7201a8\"],[0.3333333333333333,\"#9c179e\"],[0.4444444444444444,\"#bd3786\"],[0.5555555555555556,\"#d8576b\"],[0.6666666666666666,\"#ed7953\"],[0.7777777777777778,\"#fb9f3a\"],[0.8888888888888888,\"#fdca26\"],[1.0,\"#f0f921\"]],\"type\":\"heatmapgl\"}],\"histogram\":[{\"marker\":{\"pattern\":{\"fillmode\":\"overlay\",\"size\":10,\"solidity\":0.2}},\"type\":\"histogram\"}],\"histogram2d\":[{\"colorbar\":{\"outlinewidth\":0,\"ticks\":\"\"},\"colorscale\":[[0.0,\"#0d0887\"],[0.1111111111111111,\"#46039f\"],[0.2222222222222222,\"#7201a8\"],[0.3333333333333333,\"#9c179e\"],[0.4444444444444444,\"#bd3786\"],[0.5555555555555556,\"#d8576b\"],[0.6666666666666666,\"#ed7953\"],[0.7777777777777778,\"#fb9f3a\"],[0.8888888888888888,\"#fdca26\"],[1.0,\"#f0f921\"]],\"type\":\"histogram2d\"}],\"histogram2dcontour\":[{\"colorbar\":{\"outlinewidth\":0,\"ticks\":\"\"},\"colorscale\":[[0.0,\"#0d0887\"],[0.1111111111111111,\"#46039f\"],[0.2222222222222222,\"#7201a8\"],[0.3333333333333333,\"#9c179e\"],[0.4444444444444444,\"#bd3786\"],[0.5555555555555556,\"#d8576b\"],[0.6666666666666666,\"#ed7953\"],[0.7777777777777778,\"#fb9f3a\"],[0.8888888888888888,\"#fdca26\"],[1.0,\"#f0f921\"]],\"type\":\"histogram2dcontour\"}],\"mesh3d\":[{\"colorbar\":{\"outlinewidth\":0,\"ticks\":\"\"},\"type\":\"mesh3d\"}],\"parcoords\":[{\"line\":{\"colorbar\":{\"outlinewidth\":0,\"ticks\":\"\"}},\"type\":\"parcoords\"}],\"pie\":[{\"automargin\":true,\"type\":\"pie\"}],\"scatter\":[{\"marker\":{\"colorbar\":{\"outlinewidth\":0,\"ticks\":\"\"}},\"type\":\"scatter\"}],\"scatter3d\":[{\"line\":{\"colorbar\":{\"outlinewidth\":0,\"ticks\":\"\"}},\"marker\":{\"colorbar\":{\"outlinewidth\":0,\"ticks\":\"\"}},\"type\":\"scatter3d\"}],\"scattercarpet\":[{\"marker\":{\"colorbar\":{\"outlinewidth\":0,\"ticks\":\"\"}},\"type\":\"scattercarpet\"}],\"scattergeo\":[{\"marker\":{\"colorbar\":{\"outlinewidth\":0,\"ticks\":\"\"}},\"type\":\"scattergeo\"}],\"scattergl\":[{\"marker\":{\"colorbar\":{\"outlinewidth\":0,\"ticks\":\"\"}},\"type\":\"scattergl\"}],\"scattermapbox\":[{\"marker\":{\"colorbar\":{\"outlinewidth\":0,\"ticks\":\"\"}},\"type\":\"scattermapbox\"}],\"scatterpolar\":[{\"marker\":{\"colorbar\":{\"outlinewidth\":0,\"ticks\":\"\"}},\"type\":\"scatterpolar\"}],\"scatterpolargl\":[{\"marker\":{\"colorbar\":{\"outlinewidth\":0,\"ticks\":\"\"}},\"type\":\"scatterpolargl\"}],\"scatterternary\":[{\"marker\":{\"colorbar\":{\"outlinewidth\":0,\"ticks\":\"\"}},\"type\":\"scatterternary\"}],\"surface\":[{\"colorbar\":{\"outlinewidth\":0,\"ticks\":\"\"},\"colorscale\":[[0.0,\"#0d0887\"],[0.1111111111111111,\"#46039f\"],[0.2222222222222222,\"#7201a8\"],[0.3333333333333333,\"#9c179e\"],[0.4444444444444444,\"#bd3786\"],[0.5555555555555556,\"#d8576b\"],[0.6666666666666666,\"#ed7953\"],[0.7777777777777778,\"#fb9f3a\"],[0.8888888888888888,\"#fdca26\"],[1.0,\"#f0f921\"]],\"type\":\"surface\"}],\"table\":[{\"cells\":{\"fill\":{\"color\":\"#EBF0F8\"},\"line\":{\"color\":\"white\"}},\"header\":{\"fill\":{\"color\":\"#C8D4E3\"},\"line\":{\"color\":\"white\"}},\"type\":\"table\"}]},\"layout\":{\"annotationdefaults\":{\"arrowcolor\":\"#2a3f5f\",\"arrowhead\":0,\"arrowwidth\":1},\"autotypenumbers\":\"strict\",\"coloraxis\":{\"colorbar\":{\"outlinewidth\":0,\"ticks\":\"\"}},\"colorscale\":{\"diverging\":[[0,\"#8e0152\"],[0.1,\"#c51b7d\"],[0.2,\"#de77ae\"],[0.3,\"#f1b6da\"],[0.4,\"#fde0ef\"],[0.5,\"#f7f7f7\"],[0.6,\"#e6f5d0\"],[0.7,\"#b8e186\"],[0.8,\"#7fbc41\"],[0.9,\"#4d9221\"],[1,\"#276419\"]],\"sequential\":[[0.0,\"#0d0887\"],[0.1111111111111111,\"#46039f\"],[0.2222222222222222,\"#7201a8\"],[0.3333333333333333,\"#9c179e\"],[0.4444444444444444,\"#bd3786\"],[0.5555555555555556,\"#d8576b\"],[0.6666666666666666,\"#ed7953\"],[0.7777777777777778,\"#fb9f3a\"],[0.8888888888888888,\"#fdca26\"],[1.0,\"#f0f921\"]],\"sequentialminus\":[[0.0,\"#0d0887\"],[0.1111111111111111,\"#46039f\"],[0.2222222222222222,\"#7201a8\"],[0.3333333333333333,\"#9c179e\"],[0.4444444444444444,\"#bd3786\"],[0.5555555555555556,\"#d8576b\"],[0.6666666666666666,\"#ed7953\"],[0.7777777777777778,\"#fb9f3a\"],[0.8888888888888888,\"#fdca26\"],[1.0,\"#f0f921\"]]},\"colorway\":[\"#636efa\",\"#EF553B\",\"#00cc96\",\"#ab63fa\",\"#FFA15A\",\"#19d3f3\",\"#FF6692\",\"#B6E880\",\"#FF97FF\",\"#FECB52\"],\"font\":{\"color\":\"#2a3f5f\"},\"geo\":{\"bgcolor\":\"white\",\"lakecolor\":\"white\",\"landcolor\":\"#E5ECF6\",\"showlakes\":true,\"showland\":true,\"subunitcolor\":\"white\"},\"hoverlabel\":{\"align\":\"left\"},\"hovermode\":\"closest\",\"mapbox\":{\"style\":\"light\"},\"paper_bgcolor\":\"white\",\"plot_bgcolor\":\"#E5ECF6\",\"polar\":{\"angularaxis\":{\"gridcolor\":\"white\",\"linecolor\":\"white\",\"ticks\":\"\"},\"bgcolor\":\"#E5ECF6\",\"radialaxis\":{\"gridcolor\":\"white\",\"linecolor\":\"white\",\"ticks\":\"\"}},\"scene\":{\"xaxis\":{\"backgroundcolor\":\"#E5ECF6\",\"gridcolor\":\"white\",\"gridwidth\":2,\"linecolor\":\"white\",\"showbackground\":true,\"ticks\":\"\",\"zerolinecolor\":\"white\"},\"yaxis\":{\"backgroundcolor\":\"#E5ECF6\",\"gridcolor\":\"white\",\"gridwidth\":2,\"linecolor\":\"white\",\"showbackground\":true,\"ticks\":\"\",\"zerolinecolor\":\"white\"},\"zaxis\":{\"backgroundcolor\":\"#E5ECF6\",\"gridcolor\":\"white\",\"gridwidth\":2,\"linecolor\":\"white\",\"showbackground\":true,\"ticks\":\"\",\"zerolinecolor\":\"white\"}},\"shapedefaults\":{\"line\":{\"color\":\"#2a3f5f\"}},\"ternary\":{\"aaxis\":{\"gridcolor\":\"white\",\"linecolor\":\"white\",\"ticks\":\"\"},\"baxis\":{\"gridcolor\":\"white\",\"linecolor\":\"white\",\"ticks\":\"\"},\"bgcolor\":\"#E5ECF6\",\"caxis\":{\"gridcolor\":\"white\",\"linecolor\":\"white\",\"ticks\":\"\"}},\"title\":{\"x\":0.05},\"xaxis\":{\"automargin\":true,\"gridcolor\":\"white\",\"linecolor\":\"white\",\"ticks\":\"\",\"title\":{\"standoff\":15},\"zerolinecolor\":\"white\",\"zerolinewidth\":2},\"yaxis\":{\"automargin\":true,\"gridcolor\":\"white\",\"linecolor\":\"white\",\"ticks\":\"\",\"title\":{\"standoff\":15},\"zerolinecolor\":\"white\",\"zerolinewidth\":2}}},\"xaxis\":{\"anchor\":\"y\",\"domain\":[0.0,1.0],\"title\":{\"text\":\"English Usage\"}},\"yaxis\":{\"anchor\":\"x\",\"domain\":[0.0,1.0],\"title\":{\"text\":\"count\"}},\"legend\":{\"tracegroupgap\":0},\"title\":{\"text\":\"English Usage Distribution of Forbes 400\"},\"barmode\":\"relative\"},                        {\"responsive\": true}                    ).then(function(){\n",
       "                            \n",
       "var gd = document.getElementById('ffe21f61-5ccc-40fb-b2fe-85bb3e509425');\n",
       "var x = new MutationObserver(function (mutations, observer) {{\n",
       "        var display = window.getComputedStyle(gd).display;\n",
       "        if (!display || display === 'none') {{\n",
       "            console.log([gd, 'removed!']);\n",
       "            Plotly.purge(gd);\n",
       "            observer.disconnect();\n",
       "        }}\n",
       "}});\n",
       "\n",
       "// Listen for the removal of the full notebook cells\n",
       "var notebookContainer = gd.closest('#notebook-container');\n",
       "if (notebookContainer) {{\n",
       "    x.observe(notebookContainer, {childList: true});\n",
       "}}\n",
       "\n",
       "// Listen for the clearing of the current output cell\n",
       "var outputEl = gd.closest('.output');\n",
       "if (outputEl) {{\n",
       "    x.observe(outputEl, {childList: true});\n",
       "}}\n",
       "\n",
       "                        })                };                });            </script>        </div>"
      ]
     },
     "metadata": {},
     "output_type": "display_data"
    }
   ],
   "source": [
    "fig5 = px.bar(x=df['english'],\n",
    "              title='English Usage Distribution of Forbes 400',\n",
    "             labels={'x':\"English Usage\"})\n",
    "\n",
    "fig5.show()"
   ]
  },
  {
   "cell_type": "code",
   "execution_count": 36,
   "id": "a52bd809",
   "metadata": {},
   "outputs": [
    {
     "data": {
      "text/html": [
       "<div>\n",
       "<style scoped>\n",
       "    .dataframe tbody tr th:only-of-type {\n",
       "        vertical-align: middle;\n",
       "    }\n",
       "\n",
       "    .dataframe tbody tr th {\n",
       "        vertical-align: top;\n",
       "    }\n",
       "\n",
       "    .dataframe thead th {\n",
       "        text-align: right;\n",
       "    }\n",
       "</style>\n",
       "<table border=\"1\" class=\"dataframe\">\n",
       "  <thead>\n",
       "    <tr style=\"text-align: right;\">\n",
       "      <th></th>\n",
       "      <th>firstName</th>\n",
       "      <th>lastName</th>\n",
       "      <th>gender</th>\n",
       "      <th>birthYear</th>\n",
       "      <th>selfMadeRank</th>\n",
       "      <th>finalName</th>\n",
       "      <th>nickName</th>\n",
       "      <th>nameGender</th>\n",
       "      <th>nameUsage</th>\n",
       "      <th>freqYB</th>\n",
       "      <th>pctYB</th>\n",
       "      <th>male</th>\n",
       "      <th>french</th>\n",
       "      <th>english</th>\n",
       "      <th>unisex</th>\n",
       "    </tr>\n",
       "  </thead>\n",
       "  <tbody>\n",
       "    <tr>\n",
       "      <th>0</th>\n",
       "      <td>Elon</td>\n",
       "      <td>Musk</td>\n",
       "      <td>M</td>\n",
       "      <td>1971</td>\n",
       "      <td>8</td>\n",
       "      <td>Elon</td>\n",
       "      <td>0</td>\n",
       "      <td>[Masculine]</td>\n",
       "      <td>[Biblical, Hebrew, Biblical Hebrew]</td>\n",
       "      <td>10.0</td>\n",
       "      <td>0.000005</td>\n",
       "      <td>1</td>\n",
       "      <td>No</td>\n",
       "      <td>No</td>\n",
       "      <td>No</td>\n",
       "    </tr>\n",
       "    <tr>\n",
       "      <th>1</th>\n",
       "      <td>Jeff</td>\n",
       "      <td>Bezos</td>\n",
       "      <td>M</td>\n",
       "      <td>1964</td>\n",
       "      <td>8</td>\n",
       "      <td>Jeffrey</td>\n",
       "      <td>1</td>\n",
       "      <td>[Masculine]</td>\n",
       "      <td>[English]</td>\n",
       "      <td>30730.0</td>\n",
       "      <td>0.015159</td>\n",
       "      <td>1</td>\n",
       "      <td>No</td>\n",
       "      <td>Yes</td>\n",
       "      <td>No</td>\n",
       "    </tr>\n",
       "    <tr>\n",
       "      <th>2</th>\n",
       "      <td>Bill</td>\n",
       "      <td>Gates</td>\n",
       "      <td>M</td>\n",
       "      <td>1955</td>\n",
       "      <td>8</td>\n",
       "      <td>William</td>\n",
       "      <td>1</td>\n",
       "      <td>[Masculine]</td>\n",
       "      <td>[English]</td>\n",
       "      <td>59986.0</td>\n",
       "      <td>0.028696</td>\n",
       "      <td>1</td>\n",
       "      <td>No</td>\n",
       "      <td>Yes</td>\n",
       "      <td>No</td>\n",
       "    </tr>\n",
       "    <tr>\n",
       "      <th>3</th>\n",
       "      <td>Larry</td>\n",
       "      <td>Ellison</td>\n",
       "      <td>M</td>\n",
       "      <td>1944</td>\n",
       "      <td>9</td>\n",
       "      <td>Lawrence</td>\n",
       "      <td>1</td>\n",
       "      <td>[Masculine]</td>\n",
       "      <td>[English]</td>\n",
       "      <td>7128.0</td>\n",
       "      <td>0.005131</td>\n",
       "      <td>1</td>\n",
       "      <td>No</td>\n",
       "      <td>Yes</td>\n",
       "      <td>No</td>\n",
       "    </tr>\n",
       "    <tr>\n",
       "      <th>4</th>\n",
       "      <td>Warren</td>\n",
       "      <td>Buffett</td>\n",
       "      <td>M</td>\n",
       "      <td>1930</td>\n",
       "      <td>8</td>\n",
       "      <td>Warren</td>\n",
       "      <td>0</td>\n",
       "      <td>[Masculine]</td>\n",
       "      <td>[English]</td>\n",
       "      <td>2012.0</td>\n",
       "      <td>0.001781</td>\n",
       "      <td>1</td>\n",
       "      <td>No</td>\n",
       "      <td>Yes</td>\n",
       "      <td>No</td>\n",
       "    </tr>\n",
       "  </tbody>\n",
       "</table>\n",
       "</div>"
      ],
      "text/plain": [
       "  firstName lastName gender birthYear  selfMadeRank finalName  nickName  \\\n",
       "0      Elon     Musk      M      1971             8      Elon         0   \n",
       "1      Jeff    Bezos      M      1964             8   Jeffrey         1   \n",
       "2      Bill    Gates      M      1955             8   William         1   \n",
       "3     Larry  Ellison      M      1944             9  Lawrence         1   \n",
       "4    Warren  Buffett      M      1930             8    Warren         0   \n",
       "\n",
       "    nameGender                            nameUsage   freqYB     pctYB  male  \\\n",
       "0  [Masculine]  [Biblical, Hebrew, Biblical Hebrew]     10.0  0.000005     1   \n",
       "1  [Masculine]                            [English]  30730.0  0.015159     1   \n",
       "2  [Masculine]                            [English]  59986.0  0.028696     1   \n",
       "3  [Masculine]                            [English]   7128.0  0.005131     1   \n",
       "4  [Masculine]                            [English]   2012.0  0.001781     1   \n",
       "\n",
       "  french english unisex  \n",
       "0     No      No     No  \n",
       "1     No     Yes     No  \n",
       "2     No     Yes     No  \n",
       "3     No     Yes     No  \n",
       "4     No     Yes     No  "
      ]
     },
     "execution_count": 36,
     "metadata": {},
     "output_type": "execute_result"
    }
   ],
   "source": [
    "m = []\n",
    "for l in df['nameGender']:\n",
    "    if len(l) > 1:\n",
    "        m.append('Yes')\n",
    "    else:\n",
    "        m.append('No')\n",
    "\n",
    "df['unisex'] = m\n",
    "df.head()"
   ]
  },
  {
   "cell_type": "code",
   "execution_count": 38,
   "id": "b7475491",
   "metadata": {},
   "outputs": [
    {
     "data": {
      "application/vnd.plotly.v1+json": {
       "config": {
        "plotlyServerURL": "https://plot.ly"
       },
       "data": [
        {
         "alignmentgroup": "True",
         "hovertemplate": "color=M<br>Unisex=%{x}<br>count=%{y}<extra></extra>",
         "legendgroup": "M",
         "marker": {
          "color": "#636efa",
          "pattern": {
           "shape": ""
          }
         },
         "name": "M",
         "offsetgroup": "M",
         "orientation": "v",
         "showlegend": true,
         "textposition": "auto",
         "type": "bar",
         "x": [
          "No",
          "No",
          "No",
          "No",
          "No",
          "No",
          "No",
          "No",
          "No",
          "No",
          "No",
          "No",
          "No",
          "No",
          "No",
          "No",
          "No",
          "No",
          "No",
          "No",
          "No",
          "No",
          "No",
          "No",
          "No",
          "No",
          "No",
          "No",
          "No",
          "No",
          "No",
          "No",
          "No",
          "No",
          "No",
          "No",
          "No",
          "No",
          "No",
          "No",
          "Yes",
          "No",
          "No",
          "No",
          "No",
          "No",
          "No",
          "No",
          "No",
          "No",
          "No",
          "No",
          "No",
          "No",
          "Yes",
          "No",
          "No",
          "No",
          "No",
          "No",
          "No",
          "No",
          "No",
          "No",
          "No",
          "No",
          "No",
          "No",
          "No",
          "No",
          "No",
          "No",
          "No",
          "No",
          "No",
          "No",
          "No",
          "No",
          "No",
          "No",
          "No",
          "No",
          "No",
          "No",
          "No",
          "No",
          "No",
          "No",
          "No",
          "No",
          "No",
          "No",
          "No",
          "No",
          "No",
          "No",
          "No",
          "No",
          "Yes",
          "No",
          "No",
          "No",
          "No",
          "No",
          "No",
          "No",
          "No",
          "No",
          "No",
          "No",
          "No",
          "No",
          "No",
          "No",
          "No",
          "No",
          "No",
          "No",
          "No",
          "No",
          "No",
          "No",
          "No",
          "No",
          "No",
          "No",
          "No",
          "No",
          "Yes",
          "No",
          "No",
          "Yes",
          "No",
          "No",
          "No",
          "No",
          "No",
          "No",
          "No",
          "No",
          "No",
          "No",
          "No",
          "No",
          "No",
          "No",
          "No",
          "No",
          "No",
          "No",
          "No",
          "No",
          "No",
          "No",
          "No",
          "No",
          "No",
          "No",
          "No",
          "No",
          "No",
          "No",
          "No",
          "No",
          "No",
          "No",
          "No",
          "No",
          "No",
          "No",
          "No",
          "No",
          "No",
          "No",
          "No",
          "No",
          "No",
          "No",
          "No",
          "No",
          "No",
          "No",
          "No",
          "No",
          "No",
          "No",
          "No",
          "No",
          "No",
          "No",
          "No",
          "Yes",
          "No",
          "No",
          "No",
          "No",
          "No",
          "No",
          "No",
          "No",
          "No",
          "No",
          "No",
          "No",
          "No",
          "No",
          "No",
          "No",
          "No",
          "No",
          "No",
          "No",
          "Yes",
          "No",
          "No",
          "No",
          "No",
          "No",
          "No",
          "No",
          "No",
          "No",
          "No",
          "No",
          "No",
          "No",
          "No",
          "No",
          "No",
          "No",
          "No",
          "No",
          "Yes",
          "No",
          "No",
          "No",
          "No",
          "No",
          "No",
          "No",
          "No",
          "No",
          "No",
          "No",
          "No",
          "No",
          "No",
          "No",
          "No",
          "No",
          "No",
          "No",
          "No",
          "No",
          "No",
          "No",
          "No",
          "No",
          "No",
          "No",
          "No",
          "No",
          "No",
          "Yes",
          "No",
          "No",
          "No",
          "No",
          "No",
          "No",
          "No",
          "Yes",
          "No",
          "No",
          "No",
          "No",
          "No",
          "No",
          "No",
          "No",
          "No",
          "No",
          "No",
          "No",
          "No",
          "No",
          "No",
          "No",
          "No",
          "No",
          "No",
          "No",
          "No",
          "No",
          "No",
          "No",
          "No",
          "No",
          "No",
          "No",
          "No",
          "No",
          "No",
          "No",
          "No",
          "No",
          "No",
          "No",
          "No",
          "No",
          "No",
          "No",
          "No",
          "No",
          "No",
          "No",
          "Yes",
          "No",
          "No",
          "No",
          "No",
          "No",
          "No",
          "Yes",
          "No",
          "No",
          "No",
          "Yes",
          "No",
          "No",
          "No",
          "No",
          "No",
          "No",
          "No",
          "No",
          "No",
          "No",
          "No",
          "No",
          "No",
          "No"
         ],
         "xaxis": "x",
         "y": [
          1,
          1,
          1,
          1,
          1,
          1,
          1,
          1,
          1,
          1,
          1,
          1,
          1,
          1,
          1,
          1,
          1,
          1,
          1,
          1,
          1,
          1,
          1,
          1,
          1,
          1,
          1,
          1,
          1,
          1,
          1,
          1,
          1,
          1,
          1,
          1,
          1,
          1,
          1,
          1,
          1,
          1,
          1,
          1,
          1,
          1,
          1,
          1,
          1,
          1,
          1,
          1,
          1,
          1,
          1,
          1,
          1,
          1,
          1,
          1,
          1,
          1,
          1,
          1,
          1,
          1,
          1,
          1,
          1,
          1,
          1,
          1,
          1,
          1,
          1,
          1,
          1,
          1,
          1,
          1,
          1,
          1,
          1,
          1,
          1,
          1,
          1,
          1,
          1,
          1,
          1,
          1,
          1,
          1,
          1,
          1,
          1,
          1,
          1,
          1,
          1,
          1,
          1,
          1,
          1,
          1,
          1,
          1,
          1,
          1,
          1,
          1,
          1,
          1,
          1,
          1,
          1,
          1,
          1,
          1,
          1,
          1,
          1,
          1,
          1,
          1,
          1,
          1,
          1,
          1,
          1,
          1,
          1,
          1,
          1,
          1,
          1,
          1,
          1,
          1,
          1,
          1,
          1,
          1,
          1,
          1,
          1,
          1,
          1,
          1,
          1,
          1,
          1,
          1,
          1,
          1,
          1,
          1,
          1,
          1,
          1,
          1,
          1,
          1,
          1,
          1,
          1,
          1,
          1,
          1,
          1,
          1,
          1,
          1,
          1,
          1,
          1,
          1,
          1,
          1,
          1,
          1,
          1,
          1,
          1,
          1,
          1,
          1,
          1,
          1,
          1,
          1,
          1,
          1,
          1,
          1,
          1,
          1,
          1,
          1,
          1,
          1,
          1,
          1,
          1,
          1,
          1,
          1,
          1,
          1,
          1,
          1,
          1,
          1,
          1,
          1,
          1,
          1,
          1,
          1,
          1,
          1,
          1,
          1,
          1,
          1,
          1,
          1,
          1,
          1,
          1,
          1,
          1,
          1,
          1,
          1,
          1,
          1,
          1,
          1,
          1,
          1,
          1,
          1,
          1,
          1,
          1,
          1,
          1,
          1,
          1,
          1,
          1,
          1,
          1,
          1,
          1,
          1,
          1,
          1,
          1,
          1,
          1,
          1,
          1,
          1,
          1,
          1,
          1,
          1,
          1,
          1,
          1,
          1,
          1,
          1,
          1,
          1,
          1,
          1,
          1,
          1,
          1,
          1,
          1,
          1,
          1,
          1,
          1,
          1,
          1,
          1,
          1,
          1,
          1,
          1,
          1,
          1,
          1,
          1,
          1,
          1,
          1,
          1,
          1,
          1,
          1,
          1,
          1,
          1,
          1,
          1,
          1,
          1,
          1,
          1,
          1,
          1,
          1,
          1,
          1,
          1,
          1,
          1,
          1,
          1,
          1,
          1,
          1,
          1,
          1,
          1,
          1,
          1,
          1,
          1,
          1,
          1,
          1,
          1,
          1,
          1
         ],
         "yaxis": "y"
        },
        {
         "alignmentgroup": "True",
         "hovertemplate": "color=F<br>Unisex=%{x}<br>count=%{y}<extra></extra>",
         "legendgroup": "F",
         "marker": {
          "color": "#EF553B",
          "pattern": {
           "shape": ""
          }
         },
         "name": "F",
         "offsetgroup": "F",
         "orientation": "v",
         "showlegend": true,
         "textposition": "auto",
         "type": "bar",
         "x": [
          "No",
          "No",
          "Yes",
          "No",
          "No",
          "No",
          "No",
          "No",
          "Yes",
          "No",
          "No",
          "No",
          "No",
          "Yes",
          "No",
          "No",
          "No",
          "No",
          "No",
          "No",
          "Yes",
          "No",
          "No",
          "No",
          "No",
          "Yes",
          "No",
          "No",
          "No",
          "No",
          "No",
          "No",
          "No",
          "No",
          "No",
          "No",
          "No",
          "Yes",
          "No",
          "No",
          "No",
          "Yes",
          "No",
          "Yes",
          "No",
          "No",
          "No",
          "No",
          "No",
          "No",
          "Yes",
          "Yes",
          "Yes",
          "No",
          "No",
          "No",
          "No",
          "No"
         ],
         "xaxis": "x",
         "y": [
          1,
          1,
          1,
          1,
          1,
          1,
          1,
          1,
          1,
          1,
          1,
          1,
          1,
          1,
          1,
          1,
          1,
          1,
          1,
          1,
          1,
          1,
          1,
          1,
          1,
          1,
          1,
          1,
          1,
          1,
          1,
          1,
          1,
          1,
          1,
          1,
          1,
          1,
          1,
          1,
          1,
          1,
          1,
          1,
          1,
          1,
          1,
          1,
          1,
          1,
          1,
          1,
          1,
          1,
          1,
          1,
          1,
          1
         ],
         "yaxis": "y"
        }
       ],
       "layout": {
        "barmode": "relative",
        "legend": {
         "title": {
          "text": "color"
         },
         "tracegroupgap": 0
        },
        "template": {
         "data": {
          "bar": [
           {
            "error_x": {
             "color": "#2a3f5f"
            },
            "error_y": {
             "color": "#2a3f5f"
            },
            "marker": {
             "line": {
              "color": "#E5ECF6",
              "width": 0.5
             },
             "pattern": {
              "fillmode": "overlay",
              "size": 10,
              "solidity": 0.2
             }
            },
            "type": "bar"
           }
          ],
          "barpolar": [
           {
            "marker": {
             "line": {
              "color": "#E5ECF6",
              "width": 0.5
             },
             "pattern": {
              "fillmode": "overlay",
              "size": 10,
              "solidity": 0.2
             }
            },
            "type": "barpolar"
           }
          ],
          "carpet": [
           {
            "aaxis": {
             "endlinecolor": "#2a3f5f",
             "gridcolor": "white",
             "linecolor": "white",
             "minorgridcolor": "white",
             "startlinecolor": "#2a3f5f"
            },
            "baxis": {
             "endlinecolor": "#2a3f5f",
             "gridcolor": "white",
             "linecolor": "white",
             "minorgridcolor": "white",
             "startlinecolor": "#2a3f5f"
            },
            "type": "carpet"
           }
          ],
          "choropleth": [
           {
            "colorbar": {
             "outlinewidth": 0,
             "ticks": ""
            },
            "type": "choropleth"
           }
          ],
          "contour": [
           {
            "colorbar": {
             "outlinewidth": 0,
             "ticks": ""
            },
            "colorscale": [
             [
              0,
              "#0d0887"
             ],
             [
              0.1111111111111111,
              "#46039f"
             ],
             [
              0.2222222222222222,
              "#7201a8"
             ],
             [
              0.3333333333333333,
              "#9c179e"
             ],
             [
              0.4444444444444444,
              "#bd3786"
             ],
             [
              0.5555555555555556,
              "#d8576b"
             ],
             [
              0.6666666666666666,
              "#ed7953"
             ],
             [
              0.7777777777777778,
              "#fb9f3a"
             ],
             [
              0.8888888888888888,
              "#fdca26"
             ],
             [
              1,
              "#f0f921"
             ]
            ],
            "type": "contour"
           }
          ],
          "contourcarpet": [
           {
            "colorbar": {
             "outlinewidth": 0,
             "ticks": ""
            },
            "type": "contourcarpet"
           }
          ],
          "heatmap": [
           {
            "colorbar": {
             "outlinewidth": 0,
             "ticks": ""
            },
            "colorscale": [
             [
              0,
              "#0d0887"
             ],
             [
              0.1111111111111111,
              "#46039f"
             ],
             [
              0.2222222222222222,
              "#7201a8"
             ],
             [
              0.3333333333333333,
              "#9c179e"
             ],
             [
              0.4444444444444444,
              "#bd3786"
             ],
             [
              0.5555555555555556,
              "#d8576b"
             ],
             [
              0.6666666666666666,
              "#ed7953"
             ],
             [
              0.7777777777777778,
              "#fb9f3a"
             ],
             [
              0.8888888888888888,
              "#fdca26"
             ],
             [
              1,
              "#f0f921"
             ]
            ],
            "type": "heatmap"
           }
          ],
          "heatmapgl": [
           {
            "colorbar": {
             "outlinewidth": 0,
             "ticks": ""
            },
            "colorscale": [
             [
              0,
              "#0d0887"
             ],
             [
              0.1111111111111111,
              "#46039f"
             ],
             [
              0.2222222222222222,
              "#7201a8"
             ],
             [
              0.3333333333333333,
              "#9c179e"
             ],
             [
              0.4444444444444444,
              "#bd3786"
             ],
             [
              0.5555555555555556,
              "#d8576b"
             ],
             [
              0.6666666666666666,
              "#ed7953"
             ],
             [
              0.7777777777777778,
              "#fb9f3a"
             ],
             [
              0.8888888888888888,
              "#fdca26"
             ],
             [
              1,
              "#f0f921"
             ]
            ],
            "type": "heatmapgl"
           }
          ],
          "histogram": [
           {
            "marker": {
             "pattern": {
              "fillmode": "overlay",
              "size": 10,
              "solidity": 0.2
             }
            },
            "type": "histogram"
           }
          ],
          "histogram2d": [
           {
            "colorbar": {
             "outlinewidth": 0,
             "ticks": ""
            },
            "colorscale": [
             [
              0,
              "#0d0887"
             ],
             [
              0.1111111111111111,
              "#46039f"
             ],
             [
              0.2222222222222222,
              "#7201a8"
             ],
             [
              0.3333333333333333,
              "#9c179e"
             ],
             [
              0.4444444444444444,
              "#bd3786"
             ],
             [
              0.5555555555555556,
              "#d8576b"
             ],
             [
              0.6666666666666666,
              "#ed7953"
             ],
             [
              0.7777777777777778,
              "#fb9f3a"
             ],
             [
              0.8888888888888888,
              "#fdca26"
             ],
             [
              1,
              "#f0f921"
             ]
            ],
            "type": "histogram2d"
           }
          ],
          "histogram2dcontour": [
           {
            "colorbar": {
             "outlinewidth": 0,
             "ticks": ""
            },
            "colorscale": [
             [
              0,
              "#0d0887"
             ],
             [
              0.1111111111111111,
              "#46039f"
             ],
             [
              0.2222222222222222,
              "#7201a8"
             ],
             [
              0.3333333333333333,
              "#9c179e"
             ],
             [
              0.4444444444444444,
              "#bd3786"
             ],
             [
              0.5555555555555556,
              "#d8576b"
             ],
             [
              0.6666666666666666,
              "#ed7953"
             ],
             [
              0.7777777777777778,
              "#fb9f3a"
             ],
             [
              0.8888888888888888,
              "#fdca26"
             ],
             [
              1,
              "#f0f921"
             ]
            ],
            "type": "histogram2dcontour"
           }
          ],
          "mesh3d": [
           {
            "colorbar": {
             "outlinewidth": 0,
             "ticks": ""
            },
            "type": "mesh3d"
           }
          ],
          "parcoords": [
           {
            "line": {
             "colorbar": {
              "outlinewidth": 0,
              "ticks": ""
             }
            },
            "type": "parcoords"
           }
          ],
          "pie": [
           {
            "automargin": true,
            "type": "pie"
           }
          ],
          "scatter": [
           {
            "marker": {
             "colorbar": {
              "outlinewidth": 0,
              "ticks": ""
             }
            },
            "type": "scatter"
           }
          ],
          "scatter3d": [
           {
            "line": {
             "colorbar": {
              "outlinewidth": 0,
              "ticks": ""
             }
            },
            "marker": {
             "colorbar": {
              "outlinewidth": 0,
              "ticks": ""
             }
            },
            "type": "scatter3d"
           }
          ],
          "scattercarpet": [
           {
            "marker": {
             "colorbar": {
              "outlinewidth": 0,
              "ticks": ""
             }
            },
            "type": "scattercarpet"
           }
          ],
          "scattergeo": [
           {
            "marker": {
             "colorbar": {
              "outlinewidth": 0,
              "ticks": ""
             }
            },
            "type": "scattergeo"
           }
          ],
          "scattergl": [
           {
            "marker": {
             "colorbar": {
              "outlinewidth": 0,
              "ticks": ""
             }
            },
            "type": "scattergl"
           }
          ],
          "scattermapbox": [
           {
            "marker": {
             "colorbar": {
              "outlinewidth": 0,
              "ticks": ""
             }
            },
            "type": "scattermapbox"
           }
          ],
          "scatterpolar": [
           {
            "marker": {
             "colorbar": {
              "outlinewidth": 0,
              "ticks": ""
             }
            },
            "type": "scatterpolar"
           }
          ],
          "scatterpolargl": [
           {
            "marker": {
             "colorbar": {
              "outlinewidth": 0,
              "ticks": ""
             }
            },
            "type": "scatterpolargl"
           }
          ],
          "scatterternary": [
           {
            "marker": {
             "colorbar": {
              "outlinewidth": 0,
              "ticks": ""
             }
            },
            "type": "scatterternary"
           }
          ],
          "surface": [
           {
            "colorbar": {
             "outlinewidth": 0,
             "ticks": ""
            },
            "colorscale": [
             [
              0,
              "#0d0887"
             ],
             [
              0.1111111111111111,
              "#46039f"
             ],
             [
              0.2222222222222222,
              "#7201a8"
             ],
             [
              0.3333333333333333,
              "#9c179e"
             ],
             [
              0.4444444444444444,
              "#bd3786"
             ],
             [
              0.5555555555555556,
              "#d8576b"
             ],
             [
              0.6666666666666666,
              "#ed7953"
             ],
             [
              0.7777777777777778,
              "#fb9f3a"
             ],
             [
              0.8888888888888888,
              "#fdca26"
             ],
             [
              1,
              "#f0f921"
             ]
            ],
            "type": "surface"
           }
          ],
          "table": [
           {
            "cells": {
             "fill": {
              "color": "#EBF0F8"
             },
             "line": {
              "color": "white"
             }
            },
            "header": {
             "fill": {
              "color": "#C8D4E3"
             },
             "line": {
              "color": "white"
             }
            },
            "type": "table"
           }
          ]
         },
         "layout": {
          "annotationdefaults": {
           "arrowcolor": "#2a3f5f",
           "arrowhead": 0,
           "arrowwidth": 1
          },
          "autotypenumbers": "strict",
          "coloraxis": {
           "colorbar": {
            "outlinewidth": 0,
            "ticks": ""
           }
          },
          "colorscale": {
           "diverging": [
            [
             0,
             "#8e0152"
            ],
            [
             0.1,
             "#c51b7d"
            ],
            [
             0.2,
             "#de77ae"
            ],
            [
             0.3,
             "#f1b6da"
            ],
            [
             0.4,
             "#fde0ef"
            ],
            [
             0.5,
             "#f7f7f7"
            ],
            [
             0.6,
             "#e6f5d0"
            ],
            [
             0.7,
             "#b8e186"
            ],
            [
             0.8,
             "#7fbc41"
            ],
            [
             0.9,
             "#4d9221"
            ],
            [
             1,
             "#276419"
            ]
           ],
           "sequential": [
            [
             0,
             "#0d0887"
            ],
            [
             0.1111111111111111,
             "#46039f"
            ],
            [
             0.2222222222222222,
             "#7201a8"
            ],
            [
             0.3333333333333333,
             "#9c179e"
            ],
            [
             0.4444444444444444,
             "#bd3786"
            ],
            [
             0.5555555555555556,
             "#d8576b"
            ],
            [
             0.6666666666666666,
             "#ed7953"
            ],
            [
             0.7777777777777778,
             "#fb9f3a"
            ],
            [
             0.8888888888888888,
             "#fdca26"
            ],
            [
             1,
             "#f0f921"
            ]
           ],
           "sequentialminus": [
            [
             0,
             "#0d0887"
            ],
            [
             0.1111111111111111,
             "#46039f"
            ],
            [
             0.2222222222222222,
             "#7201a8"
            ],
            [
             0.3333333333333333,
             "#9c179e"
            ],
            [
             0.4444444444444444,
             "#bd3786"
            ],
            [
             0.5555555555555556,
             "#d8576b"
            ],
            [
             0.6666666666666666,
             "#ed7953"
            ],
            [
             0.7777777777777778,
             "#fb9f3a"
            ],
            [
             0.8888888888888888,
             "#fdca26"
            ],
            [
             1,
             "#f0f921"
            ]
           ]
          },
          "colorway": [
           "#636efa",
           "#EF553B",
           "#00cc96",
           "#ab63fa",
           "#FFA15A",
           "#19d3f3",
           "#FF6692",
           "#B6E880",
           "#FF97FF",
           "#FECB52"
          ],
          "font": {
           "color": "#2a3f5f"
          },
          "geo": {
           "bgcolor": "white",
           "lakecolor": "white",
           "landcolor": "#E5ECF6",
           "showlakes": true,
           "showland": true,
           "subunitcolor": "white"
          },
          "hoverlabel": {
           "align": "left"
          },
          "hovermode": "closest",
          "mapbox": {
           "style": "light"
          },
          "paper_bgcolor": "white",
          "plot_bgcolor": "#E5ECF6",
          "polar": {
           "angularaxis": {
            "gridcolor": "white",
            "linecolor": "white",
            "ticks": ""
           },
           "bgcolor": "#E5ECF6",
           "radialaxis": {
            "gridcolor": "white",
            "linecolor": "white",
            "ticks": ""
           }
          },
          "scene": {
           "xaxis": {
            "backgroundcolor": "#E5ECF6",
            "gridcolor": "white",
            "gridwidth": 2,
            "linecolor": "white",
            "showbackground": true,
            "ticks": "",
            "zerolinecolor": "white"
           },
           "yaxis": {
            "backgroundcolor": "#E5ECF6",
            "gridcolor": "white",
            "gridwidth": 2,
            "linecolor": "white",
            "showbackground": true,
            "ticks": "",
            "zerolinecolor": "white"
           },
           "zaxis": {
            "backgroundcolor": "#E5ECF6",
            "gridcolor": "white",
            "gridwidth": 2,
            "linecolor": "white",
            "showbackground": true,
            "ticks": "",
            "zerolinecolor": "white"
           }
          },
          "shapedefaults": {
           "line": {
            "color": "#2a3f5f"
           }
          },
          "ternary": {
           "aaxis": {
            "gridcolor": "white",
            "linecolor": "white",
            "ticks": ""
           },
           "baxis": {
            "gridcolor": "white",
            "linecolor": "white",
            "ticks": ""
           },
           "bgcolor": "#E5ECF6",
           "caxis": {
            "gridcolor": "white",
            "linecolor": "white",
            "ticks": ""
           }
          },
          "title": {
           "x": 0.05
          },
          "xaxis": {
           "automargin": true,
           "gridcolor": "white",
           "linecolor": "white",
           "ticks": "",
           "title": {
            "standoff": 15
           },
           "zerolinecolor": "white",
           "zerolinewidth": 2
          },
          "yaxis": {
           "automargin": true,
           "gridcolor": "white",
           "linecolor": "white",
           "ticks": "",
           "title": {
            "standoff": 15
           },
           "zerolinecolor": "white",
           "zerolinewidth": 2
          }
         }
        },
        "title": {
         "text": "Unisex Distribution of Forbes 400"
        },
        "xaxis": {
         "anchor": "y",
         "domain": [
          0,
          1
         ],
         "title": {
          "text": "Unisex"
         }
        },
        "yaxis": {
         "anchor": "x",
         "domain": [
          0,
          1
         ],
         "title": {
          "text": "count"
         }
        }
       }
      },
      "text/html": [
       "<div>                            <div id=\"4255f1c5-718d-4391-afd3-93cfef648941\" class=\"plotly-graph-div\" style=\"height:525px; width:100%;\"></div>            <script type=\"text/javascript\">                require([\"plotly\"], function(Plotly) {                    window.PLOTLYENV=window.PLOTLYENV || {};                                    if (document.getElementById(\"4255f1c5-718d-4391-afd3-93cfef648941\")) {                    Plotly.newPlot(                        \"4255f1c5-718d-4391-afd3-93cfef648941\",                        [{\"alignmentgroup\":\"True\",\"hovertemplate\":\"color=M<br>Unisex=%{x}<br>count=%{y}<extra></extra>\",\"legendgroup\":\"M\",\"marker\":{\"color\":\"#636efa\",\"pattern\":{\"shape\":\"\"}},\"name\":\"M\",\"offsetgroup\":\"M\",\"orientation\":\"v\",\"showlegend\":true,\"textposition\":\"auto\",\"x\":[\"No\",\"No\",\"No\",\"No\",\"No\",\"No\",\"No\",\"No\",\"No\",\"No\",\"No\",\"No\",\"No\",\"No\",\"No\",\"No\",\"No\",\"No\",\"No\",\"No\",\"No\",\"No\",\"No\",\"No\",\"No\",\"No\",\"No\",\"No\",\"No\",\"No\",\"No\",\"No\",\"No\",\"No\",\"No\",\"No\",\"No\",\"No\",\"No\",\"No\",\"Yes\",\"No\",\"No\",\"No\",\"No\",\"No\",\"No\",\"No\",\"No\",\"No\",\"No\",\"No\",\"No\",\"No\",\"Yes\",\"No\",\"No\",\"No\",\"No\",\"No\",\"No\",\"No\",\"No\",\"No\",\"No\",\"No\",\"No\",\"No\",\"No\",\"No\",\"No\",\"No\",\"No\",\"No\",\"No\",\"No\",\"No\",\"No\",\"No\",\"No\",\"No\",\"No\",\"No\",\"No\",\"No\",\"No\",\"No\",\"No\",\"No\",\"No\",\"No\",\"No\",\"No\",\"No\",\"No\",\"No\",\"No\",\"No\",\"Yes\",\"No\",\"No\",\"No\",\"No\",\"No\",\"No\",\"No\",\"No\",\"No\",\"No\",\"No\",\"No\",\"No\",\"No\",\"No\",\"No\",\"No\",\"No\",\"No\",\"No\",\"No\",\"No\",\"No\",\"No\",\"No\",\"No\",\"No\",\"No\",\"No\",\"Yes\",\"No\",\"No\",\"Yes\",\"No\",\"No\",\"No\",\"No\",\"No\",\"No\",\"No\",\"No\",\"No\",\"No\",\"No\",\"No\",\"No\",\"No\",\"No\",\"No\",\"No\",\"No\",\"No\",\"No\",\"No\",\"No\",\"No\",\"No\",\"No\",\"No\",\"No\",\"No\",\"No\",\"No\",\"No\",\"No\",\"No\",\"No\",\"No\",\"No\",\"No\",\"No\",\"No\",\"No\",\"No\",\"No\",\"No\",\"No\",\"No\",\"No\",\"No\",\"No\",\"No\",\"No\",\"No\",\"No\",\"No\",\"No\",\"No\",\"No\",\"No\",\"No\",\"No\",\"Yes\",\"No\",\"No\",\"No\",\"No\",\"No\",\"No\",\"No\",\"No\",\"No\",\"No\",\"No\",\"No\",\"No\",\"No\",\"No\",\"No\",\"No\",\"No\",\"No\",\"No\",\"Yes\",\"No\",\"No\",\"No\",\"No\",\"No\",\"No\",\"No\",\"No\",\"No\",\"No\",\"No\",\"No\",\"No\",\"No\",\"No\",\"No\",\"No\",\"No\",\"No\",\"Yes\",\"No\",\"No\",\"No\",\"No\",\"No\",\"No\",\"No\",\"No\",\"No\",\"No\",\"No\",\"No\",\"No\",\"No\",\"No\",\"No\",\"No\",\"No\",\"No\",\"No\",\"No\",\"No\",\"No\",\"No\",\"No\",\"No\",\"No\",\"No\",\"No\",\"No\",\"Yes\",\"No\",\"No\",\"No\",\"No\",\"No\",\"No\",\"No\",\"Yes\",\"No\",\"No\",\"No\",\"No\",\"No\",\"No\",\"No\",\"No\",\"No\",\"No\",\"No\",\"No\",\"No\",\"No\",\"No\",\"No\",\"No\",\"No\",\"No\",\"No\",\"No\",\"No\",\"No\",\"No\",\"No\",\"No\",\"No\",\"No\",\"No\",\"No\",\"No\",\"No\",\"No\",\"No\",\"No\",\"No\",\"No\",\"No\",\"No\",\"No\",\"No\",\"No\",\"No\",\"No\",\"Yes\",\"No\",\"No\",\"No\",\"No\",\"No\",\"No\",\"Yes\",\"No\",\"No\",\"No\",\"Yes\",\"No\",\"No\",\"No\",\"No\",\"No\",\"No\",\"No\",\"No\",\"No\",\"No\",\"No\",\"No\",\"No\",\"No\"],\"xaxis\":\"x\",\"y\":[1,1,1,1,1,1,1,1,1,1,1,1,1,1,1,1,1,1,1,1,1,1,1,1,1,1,1,1,1,1,1,1,1,1,1,1,1,1,1,1,1,1,1,1,1,1,1,1,1,1,1,1,1,1,1,1,1,1,1,1,1,1,1,1,1,1,1,1,1,1,1,1,1,1,1,1,1,1,1,1,1,1,1,1,1,1,1,1,1,1,1,1,1,1,1,1,1,1,1,1,1,1,1,1,1,1,1,1,1,1,1,1,1,1,1,1,1,1,1,1,1,1,1,1,1,1,1,1,1,1,1,1,1,1,1,1,1,1,1,1,1,1,1,1,1,1,1,1,1,1,1,1,1,1,1,1,1,1,1,1,1,1,1,1,1,1,1,1,1,1,1,1,1,1,1,1,1,1,1,1,1,1,1,1,1,1,1,1,1,1,1,1,1,1,1,1,1,1,1,1,1,1,1,1,1,1,1,1,1,1,1,1,1,1,1,1,1,1,1,1,1,1,1,1,1,1,1,1,1,1,1,1,1,1,1,1,1,1,1,1,1,1,1,1,1,1,1,1,1,1,1,1,1,1,1,1,1,1,1,1,1,1,1,1,1,1,1,1,1,1,1,1,1,1,1,1,1,1,1,1,1,1,1,1,1,1,1,1,1,1,1,1,1,1,1,1,1,1,1,1,1,1,1,1,1,1,1,1,1,1,1,1,1,1,1,1,1,1,1,1,1,1,1,1,1,1,1,1,1,1,1,1,1,1,1,1,1,1,1,1,1,1],\"yaxis\":\"y\",\"type\":\"bar\"},{\"alignmentgroup\":\"True\",\"hovertemplate\":\"color=F<br>Unisex=%{x}<br>count=%{y}<extra></extra>\",\"legendgroup\":\"F\",\"marker\":{\"color\":\"#EF553B\",\"pattern\":{\"shape\":\"\"}},\"name\":\"F\",\"offsetgroup\":\"F\",\"orientation\":\"v\",\"showlegend\":true,\"textposition\":\"auto\",\"x\":[\"No\",\"No\",\"Yes\",\"No\",\"No\",\"No\",\"No\",\"No\",\"Yes\",\"No\",\"No\",\"No\",\"No\",\"Yes\",\"No\",\"No\",\"No\",\"No\",\"No\",\"No\",\"Yes\",\"No\",\"No\",\"No\",\"No\",\"Yes\",\"No\",\"No\",\"No\",\"No\",\"No\",\"No\",\"No\",\"No\",\"No\",\"No\",\"No\",\"Yes\",\"No\",\"No\",\"No\",\"Yes\",\"No\",\"Yes\",\"No\",\"No\",\"No\",\"No\",\"No\",\"No\",\"Yes\",\"Yes\",\"Yes\",\"No\",\"No\",\"No\",\"No\",\"No\"],\"xaxis\":\"x\",\"y\":[1,1,1,1,1,1,1,1,1,1,1,1,1,1,1,1,1,1,1,1,1,1,1,1,1,1,1,1,1,1,1,1,1,1,1,1,1,1,1,1,1,1,1,1,1,1,1,1,1,1,1,1,1,1,1,1,1,1],\"yaxis\":\"y\",\"type\":\"bar\"}],                        {\"template\":{\"data\":{\"bar\":[{\"error_x\":{\"color\":\"#2a3f5f\"},\"error_y\":{\"color\":\"#2a3f5f\"},\"marker\":{\"line\":{\"color\":\"#E5ECF6\",\"width\":0.5},\"pattern\":{\"fillmode\":\"overlay\",\"size\":10,\"solidity\":0.2}},\"type\":\"bar\"}],\"barpolar\":[{\"marker\":{\"line\":{\"color\":\"#E5ECF6\",\"width\":0.5},\"pattern\":{\"fillmode\":\"overlay\",\"size\":10,\"solidity\":0.2}},\"type\":\"barpolar\"}],\"carpet\":[{\"aaxis\":{\"endlinecolor\":\"#2a3f5f\",\"gridcolor\":\"white\",\"linecolor\":\"white\",\"minorgridcolor\":\"white\",\"startlinecolor\":\"#2a3f5f\"},\"baxis\":{\"endlinecolor\":\"#2a3f5f\",\"gridcolor\":\"white\",\"linecolor\":\"white\",\"minorgridcolor\":\"white\",\"startlinecolor\":\"#2a3f5f\"},\"type\":\"carpet\"}],\"choropleth\":[{\"colorbar\":{\"outlinewidth\":0,\"ticks\":\"\"},\"type\":\"choropleth\"}],\"contour\":[{\"colorbar\":{\"outlinewidth\":0,\"ticks\":\"\"},\"colorscale\":[[0.0,\"#0d0887\"],[0.1111111111111111,\"#46039f\"],[0.2222222222222222,\"#7201a8\"],[0.3333333333333333,\"#9c179e\"],[0.4444444444444444,\"#bd3786\"],[0.5555555555555556,\"#d8576b\"],[0.6666666666666666,\"#ed7953\"],[0.7777777777777778,\"#fb9f3a\"],[0.8888888888888888,\"#fdca26\"],[1.0,\"#f0f921\"]],\"type\":\"contour\"}],\"contourcarpet\":[{\"colorbar\":{\"outlinewidth\":0,\"ticks\":\"\"},\"type\":\"contourcarpet\"}],\"heatmap\":[{\"colorbar\":{\"outlinewidth\":0,\"ticks\":\"\"},\"colorscale\":[[0.0,\"#0d0887\"],[0.1111111111111111,\"#46039f\"],[0.2222222222222222,\"#7201a8\"],[0.3333333333333333,\"#9c179e\"],[0.4444444444444444,\"#bd3786\"],[0.5555555555555556,\"#d8576b\"],[0.6666666666666666,\"#ed7953\"],[0.7777777777777778,\"#fb9f3a\"],[0.8888888888888888,\"#fdca26\"],[1.0,\"#f0f921\"]],\"type\":\"heatmap\"}],\"heatmapgl\":[{\"colorbar\":{\"outlinewidth\":0,\"ticks\":\"\"},\"colorscale\":[[0.0,\"#0d0887\"],[0.1111111111111111,\"#46039f\"],[0.2222222222222222,\"#7201a8\"],[0.3333333333333333,\"#9c179e\"],[0.4444444444444444,\"#bd3786\"],[0.5555555555555556,\"#d8576b\"],[0.6666666666666666,\"#ed7953\"],[0.7777777777777778,\"#fb9f3a\"],[0.8888888888888888,\"#fdca26\"],[1.0,\"#f0f921\"]],\"type\":\"heatmapgl\"}],\"histogram\":[{\"marker\":{\"pattern\":{\"fillmode\":\"overlay\",\"size\":10,\"solidity\":0.2}},\"type\":\"histogram\"}],\"histogram2d\":[{\"colorbar\":{\"outlinewidth\":0,\"ticks\":\"\"},\"colorscale\":[[0.0,\"#0d0887\"],[0.1111111111111111,\"#46039f\"],[0.2222222222222222,\"#7201a8\"],[0.3333333333333333,\"#9c179e\"],[0.4444444444444444,\"#bd3786\"],[0.5555555555555556,\"#d8576b\"],[0.6666666666666666,\"#ed7953\"],[0.7777777777777778,\"#fb9f3a\"],[0.8888888888888888,\"#fdca26\"],[1.0,\"#f0f921\"]],\"type\":\"histogram2d\"}],\"histogram2dcontour\":[{\"colorbar\":{\"outlinewidth\":0,\"ticks\":\"\"},\"colorscale\":[[0.0,\"#0d0887\"],[0.1111111111111111,\"#46039f\"],[0.2222222222222222,\"#7201a8\"],[0.3333333333333333,\"#9c179e\"],[0.4444444444444444,\"#bd3786\"],[0.5555555555555556,\"#d8576b\"],[0.6666666666666666,\"#ed7953\"],[0.7777777777777778,\"#fb9f3a\"],[0.8888888888888888,\"#fdca26\"],[1.0,\"#f0f921\"]],\"type\":\"histogram2dcontour\"}],\"mesh3d\":[{\"colorbar\":{\"outlinewidth\":0,\"ticks\":\"\"},\"type\":\"mesh3d\"}],\"parcoords\":[{\"line\":{\"colorbar\":{\"outlinewidth\":0,\"ticks\":\"\"}},\"type\":\"parcoords\"}],\"pie\":[{\"automargin\":true,\"type\":\"pie\"}],\"scatter\":[{\"marker\":{\"colorbar\":{\"outlinewidth\":0,\"ticks\":\"\"}},\"type\":\"scatter\"}],\"scatter3d\":[{\"line\":{\"colorbar\":{\"outlinewidth\":0,\"ticks\":\"\"}},\"marker\":{\"colorbar\":{\"outlinewidth\":0,\"ticks\":\"\"}},\"type\":\"scatter3d\"}],\"scattercarpet\":[{\"marker\":{\"colorbar\":{\"outlinewidth\":0,\"ticks\":\"\"}},\"type\":\"scattercarpet\"}],\"scattergeo\":[{\"marker\":{\"colorbar\":{\"outlinewidth\":0,\"ticks\":\"\"}},\"type\":\"scattergeo\"}],\"scattergl\":[{\"marker\":{\"colorbar\":{\"outlinewidth\":0,\"ticks\":\"\"}},\"type\":\"scattergl\"}],\"scattermapbox\":[{\"marker\":{\"colorbar\":{\"outlinewidth\":0,\"ticks\":\"\"}},\"type\":\"scattermapbox\"}],\"scatterpolar\":[{\"marker\":{\"colorbar\":{\"outlinewidth\":0,\"ticks\":\"\"}},\"type\":\"scatterpolar\"}],\"scatterpolargl\":[{\"marker\":{\"colorbar\":{\"outlinewidth\":0,\"ticks\":\"\"}},\"type\":\"scatterpolargl\"}],\"scatterternary\":[{\"marker\":{\"colorbar\":{\"outlinewidth\":0,\"ticks\":\"\"}},\"type\":\"scatterternary\"}],\"surface\":[{\"colorbar\":{\"outlinewidth\":0,\"ticks\":\"\"},\"colorscale\":[[0.0,\"#0d0887\"],[0.1111111111111111,\"#46039f\"],[0.2222222222222222,\"#7201a8\"],[0.3333333333333333,\"#9c179e\"],[0.4444444444444444,\"#bd3786\"],[0.5555555555555556,\"#d8576b\"],[0.6666666666666666,\"#ed7953\"],[0.7777777777777778,\"#fb9f3a\"],[0.8888888888888888,\"#fdca26\"],[1.0,\"#f0f921\"]],\"type\":\"surface\"}],\"table\":[{\"cells\":{\"fill\":{\"color\":\"#EBF0F8\"},\"line\":{\"color\":\"white\"}},\"header\":{\"fill\":{\"color\":\"#C8D4E3\"},\"line\":{\"color\":\"white\"}},\"type\":\"table\"}]},\"layout\":{\"annotationdefaults\":{\"arrowcolor\":\"#2a3f5f\",\"arrowhead\":0,\"arrowwidth\":1},\"autotypenumbers\":\"strict\",\"coloraxis\":{\"colorbar\":{\"outlinewidth\":0,\"ticks\":\"\"}},\"colorscale\":{\"diverging\":[[0,\"#8e0152\"],[0.1,\"#c51b7d\"],[0.2,\"#de77ae\"],[0.3,\"#f1b6da\"],[0.4,\"#fde0ef\"],[0.5,\"#f7f7f7\"],[0.6,\"#e6f5d0\"],[0.7,\"#b8e186\"],[0.8,\"#7fbc41\"],[0.9,\"#4d9221\"],[1,\"#276419\"]],\"sequential\":[[0.0,\"#0d0887\"],[0.1111111111111111,\"#46039f\"],[0.2222222222222222,\"#7201a8\"],[0.3333333333333333,\"#9c179e\"],[0.4444444444444444,\"#bd3786\"],[0.5555555555555556,\"#d8576b\"],[0.6666666666666666,\"#ed7953\"],[0.7777777777777778,\"#fb9f3a\"],[0.8888888888888888,\"#fdca26\"],[1.0,\"#f0f921\"]],\"sequentialminus\":[[0.0,\"#0d0887\"],[0.1111111111111111,\"#46039f\"],[0.2222222222222222,\"#7201a8\"],[0.3333333333333333,\"#9c179e\"],[0.4444444444444444,\"#bd3786\"],[0.5555555555555556,\"#d8576b\"],[0.6666666666666666,\"#ed7953\"],[0.7777777777777778,\"#fb9f3a\"],[0.8888888888888888,\"#fdca26\"],[1.0,\"#f0f921\"]]},\"colorway\":[\"#636efa\",\"#EF553B\",\"#00cc96\",\"#ab63fa\",\"#FFA15A\",\"#19d3f3\",\"#FF6692\",\"#B6E880\",\"#FF97FF\",\"#FECB52\"],\"font\":{\"color\":\"#2a3f5f\"},\"geo\":{\"bgcolor\":\"white\",\"lakecolor\":\"white\",\"landcolor\":\"#E5ECF6\",\"showlakes\":true,\"showland\":true,\"subunitcolor\":\"white\"},\"hoverlabel\":{\"align\":\"left\"},\"hovermode\":\"closest\",\"mapbox\":{\"style\":\"light\"},\"paper_bgcolor\":\"white\",\"plot_bgcolor\":\"#E5ECF6\",\"polar\":{\"angularaxis\":{\"gridcolor\":\"white\",\"linecolor\":\"white\",\"ticks\":\"\"},\"bgcolor\":\"#E5ECF6\",\"radialaxis\":{\"gridcolor\":\"white\",\"linecolor\":\"white\",\"ticks\":\"\"}},\"scene\":{\"xaxis\":{\"backgroundcolor\":\"#E5ECF6\",\"gridcolor\":\"white\",\"gridwidth\":2,\"linecolor\":\"white\",\"showbackground\":true,\"ticks\":\"\",\"zerolinecolor\":\"white\"},\"yaxis\":{\"backgroundcolor\":\"#E5ECF6\",\"gridcolor\":\"white\",\"gridwidth\":2,\"linecolor\":\"white\",\"showbackground\":true,\"ticks\":\"\",\"zerolinecolor\":\"white\"},\"zaxis\":{\"backgroundcolor\":\"#E5ECF6\",\"gridcolor\":\"white\",\"gridwidth\":2,\"linecolor\":\"white\",\"showbackground\":true,\"ticks\":\"\",\"zerolinecolor\":\"white\"}},\"shapedefaults\":{\"line\":{\"color\":\"#2a3f5f\"}},\"ternary\":{\"aaxis\":{\"gridcolor\":\"white\",\"linecolor\":\"white\",\"ticks\":\"\"},\"baxis\":{\"gridcolor\":\"white\",\"linecolor\":\"white\",\"ticks\":\"\"},\"bgcolor\":\"#E5ECF6\",\"caxis\":{\"gridcolor\":\"white\",\"linecolor\":\"white\",\"ticks\":\"\"}},\"title\":{\"x\":0.05},\"xaxis\":{\"automargin\":true,\"gridcolor\":\"white\",\"linecolor\":\"white\",\"ticks\":\"\",\"title\":{\"standoff\":15},\"zerolinecolor\":\"white\",\"zerolinewidth\":2},\"yaxis\":{\"automargin\":true,\"gridcolor\":\"white\",\"linecolor\":\"white\",\"ticks\":\"\",\"title\":{\"standoff\":15},\"zerolinecolor\":\"white\",\"zerolinewidth\":2}}},\"xaxis\":{\"anchor\":\"y\",\"domain\":[0.0,1.0],\"title\":{\"text\":\"Unisex\"}},\"yaxis\":{\"anchor\":\"x\",\"domain\":[0.0,1.0],\"title\":{\"text\":\"count\"}},\"legend\":{\"title\":{\"text\":\"color\"},\"tracegroupgap\":0},\"title\":{\"text\":\"Unisex Distribution of Forbes 400\"},\"barmode\":\"relative\"},                        {\"responsive\": true}                    ).then(function(){\n",
       "                            \n",
       "var gd = document.getElementById('4255f1c5-718d-4391-afd3-93cfef648941');\n",
       "var x = new MutationObserver(function (mutations, observer) {{\n",
       "        var display = window.getComputedStyle(gd).display;\n",
       "        if (!display || display === 'none') {{\n",
       "            console.log([gd, 'removed!']);\n",
       "            Plotly.purge(gd);\n",
       "            observer.disconnect();\n",
       "        }}\n",
       "}});\n",
       "\n",
       "// Listen for the removal of the full notebook cells\n",
       "var notebookContainer = gd.closest('#notebook-container');\n",
       "if (notebookContainer) {{\n",
       "    x.observe(notebookContainer, {childList: true});\n",
       "}}\n",
       "\n",
       "// Listen for the clearing of the current output cell\n",
       "var outputEl = gd.closest('.output');\n",
       "if (outputEl) {{\n",
       "    x.observe(outputEl, {childList: true});\n",
       "}}\n",
       "\n",
       "                        })                };                });            </script>        </div>"
      ]
     },
     "metadata": {},
     "output_type": "display_data"
    }
   ],
   "source": [
    "fig6 = px.bar(x=df['unisex'], color = df['gender'],\n",
    "              title='Unisex Distribution of Forbes 400',\n",
    "             labels={'x':\"Unisex\"})\n",
    "\n",
    "fig6.show()"
   ]
  },
  {
   "cell_type": "code",
   "execution_count": 41,
   "id": "17b6d49a",
   "metadata": {},
   "outputs": [],
   "source": [
    "usages = []\n",
    "for i in df['nameUsage']:\n",
    "    for l in i:\n",
    "        if l not in usages:\n",
    "            usages.append(l)\n",
    "            \n",
    "#usages"
   ]
  },
  {
   "cell_type": "code",
   "execution_count": 45,
   "id": "aa65a440",
   "metadata": {},
   "outputs": [],
   "source": [
    "dfU = pd.DataFrame(df['finalName'])"
   ]
  },
  {
   "cell_type": "code",
   "execution_count": 46,
   "id": "43556766",
   "metadata": {},
   "outputs": [],
   "source": [
    "for u in usages:\n",
    "    m = []\n",
    "    for l in df['nameUsage']:\n",
    "        if u in l:\n",
    "            m.append(1)\n",
    "        else:\n",
    "            m.append(0)\n",
    "\n",
    "    dfU[u] = m"
   ]
  },
  {
   "cell_type": "code",
   "execution_count": 47,
   "id": "9955541b",
   "metadata": {},
   "outputs": [
    {
     "data": {
      "text/html": [
       "<div>\n",
       "<style scoped>\n",
       "    .dataframe tbody tr th:only-of-type {\n",
       "        vertical-align: middle;\n",
       "    }\n",
       "\n",
       "    .dataframe tbody tr th {\n",
       "        vertical-align: top;\n",
       "    }\n",
       "\n",
       "    .dataframe thead th {\n",
       "        text-align: right;\n",
       "    }\n",
       "</style>\n",
       "<table border=\"1\" class=\"dataframe\">\n",
       "  <thead>\n",
       "    <tr style=\"text-align: right;\">\n",
       "      <th></th>\n",
       "      <th>finalName</th>\n",
       "      <th>Biblical</th>\n",
       "      <th>Hebrew</th>\n",
       "      <th>Biblical Hebrew</th>\n",
       "      <th>English</th>\n",
       "      <th>Russian</th>\n",
       "      <th>Bulgarian</th>\n",
       "      <th>Dutch</th>\n",
       "      <th>German</th>\n",
       "      <th>Danish</th>\n",
       "      <th>...</th>\n",
       "      <th>Thai</th>\n",
       "      <th>Khmer</th>\n",
       "      <th>Japanese (Archaic)</th>\n",
       "      <th>Korean</th>\n",
       "      <th>American</th>\n",
       "      <th>Tamil</th>\n",
       "      <th>Old Church Slavic</th>\n",
       "      <th>Basque</th>\n",
       "      <th>Korean (Modern)</th>\n",
       "      <th>Old Dutch</th>\n",
       "    </tr>\n",
       "  </thead>\n",
       "  <tbody>\n",
       "    <tr>\n",
       "      <th>0</th>\n",
       "      <td>Elon</td>\n",
       "      <td>1</td>\n",
       "      <td>1</td>\n",
       "      <td>1</td>\n",
       "      <td>0</td>\n",
       "      <td>0</td>\n",
       "      <td>0</td>\n",
       "      <td>0</td>\n",
       "      <td>0</td>\n",
       "      <td>0</td>\n",
       "      <td>...</td>\n",
       "      <td>0</td>\n",
       "      <td>0</td>\n",
       "      <td>0</td>\n",
       "      <td>0</td>\n",
       "      <td>0</td>\n",
       "      <td>0</td>\n",
       "      <td>0</td>\n",
       "      <td>0</td>\n",
       "      <td>0</td>\n",
       "      <td>0</td>\n",
       "    </tr>\n",
       "    <tr>\n",
       "      <th>1</th>\n",
       "      <td>Jeffrey</td>\n",
       "      <td>0</td>\n",
       "      <td>0</td>\n",
       "      <td>0</td>\n",
       "      <td>1</td>\n",
       "      <td>0</td>\n",
       "      <td>0</td>\n",
       "      <td>0</td>\n",
       "      <td>0</td>\n",
       "      <td>0</td>\n",
       "      <td>...</td>\n",
       "      <td>0</td>\n",
       "      <td>0</td>\n",
       "      <td>0</td>\n",
       "      <td>0</td>\n",
       "      <td>0</td>\n",
       "      <td>0</td>\n",
       "      <td>0</td>\n",
       "      <td>0</td>\n",
       "      <td>0</td>\n",
       "      <td>0</td>\n",
       "    </tr>\n",
       "    <tr>\n",
       "      <th>2</th>\n",
       "      <td>William</td>\n",
       "      <td>0</td>\n",
       "      <td>0</td>\n",
       "      <td>0</td>\n",
       "      <td>1</td>\n",
       "      <td>0</td>\n",
       "      <td>0</td>\n",
       "      <td>0</td>\n",
       "      <td>0</td>\n",
       "      <td>0</td>\n",
       "      <td>...</td>\n",
       "      <td>0</td>\n",
       "      <td>0</td>\n",
       "      <td>0</td>\n",
       "      <td>0</td>\n",
       "      <td>0</td>\n",
       "      <td>0</td>\n",
       "      <td>0</td>\n",
       "      <td>0</td>\n",
       "      <td>0</td>\n",
       "      <td>0</td>\n",
       "    </tr>\n",
       "    <tr>\n",
       "      <th>3</th>\n",
       "      <td>Lawrence</td>\n",
       "      <td>0</td>\n",
       "      <td>0</td>\n",
       "      <td>0</td>\n",
       "      <td>1</td>\n",
       "      <td>0</td>\n",
       "      <td>0</td>\n",
       "      <td>0</td>\n",
       "      <td>0</td>\n",
       "      <td>0</td>\n",
       "      <td>...</td>\n",
       "      <td>0</td>\n",
       "      <td>0</td>\n",
       "      <td>0</td>\n",
       "      <td>0</td>\n",
       "      <td>0</td>\n",
       "      <td>0</td>\n",
       "      <td>0</td>\n",
       "      <td>0</td>\n",
       "      <td>0</td>\n",
       "      <td>0</td>\n",
       "    </tr>\n",
       "    <tr>\n",
       "      <th>4</th>\n",
       "      <td>Warren</td>\n",
       "      <td>0</td>\n",
       "      <td>0</td>\n",
       "      <td>0</td>\n",
       "      <td>1</td>\n",
       "      <td>0</td>\n",
       "      <td>0</td>\n",
       "      <td>0</td>\n",
       "      <td>0</td>\n",
       "      <td>0</td>\n",
       "      <td>...</td>\n",
       "      <td>0</td>\n",
       "      <td>0</td>\n",
       "      <td>0</td>\n",
       "      <td>0</td>\n",
       "      <td>0</td>\n",
       "      <td>0</td>\n",
       "      <td>0</td>\n",
       "      <td>0</td>\n",
       "      <td>0</td>\n",
       "      <td>0</td>\n",
       "    </tr>\n",
       "  </tbody>\n",
       "</table>\n",
       "<p>5 rows × 89 columns</p>\n",
       "</div>"
      ],
      "text/plain": [
       "  finalName  Biblical  Hebrew  Biblical Hebrew  English  Russian  Bulgarian  \\\n",
       "0      Elon         1       1                1        0        0          0   \n",
       "1   Jeffrey         0       0                0        1        0          0   \n",
       "2   William         0       0                0        1        0          0   \n",
       "3  Lawrence         0       0                0        1        0          0   \n",
       "4    Warren         0       0                0        1        0          0   \n",
       "\n",
       "   Dutch  German  Danish  ...  Thai  Khmer  Japanese (Archaic)  Korean  \\\n",
       "0      0       0       0  ...     0      0                   0       0   \n",
       "1      0       0       0  ...     0      0                   0       0   \n",
       "2      0       0       0  ...     0      0                   0       0   \n",
       "3      0       0       0  ...     0      0                   0       0   \n",
       "4      0       0       0  ...     0      0                   0       0   \n",
       "\n",
       "   American  Tamil  Old Church Slavic  Basque  Korean (Modern)  Old Dutch  \n",
       "0         0      0                  0       0                0          0  \n",
       "1         0      0                  0       0                0          0  \n",
       "2         0      0                  0       0                0          0  \n",
       "3         0      0                  0       0                0          0  \n",
       "4         0      0                  0       0                0          0  \n",
       "\n",
       "[5 rows x 89 columns]"
      ]
     },
     "execution_count": 47,
     "metadata": {},
     "output_type": "execute_result"
    }
   ],
   "source": [
    "dfU.head()"
   ]
  },
  {
   "cell_type": "code",
   "execution_count": 54,
   "id": "c095cfee",
   "metadata": {},
   "outputs": [
    {
     "data": {
      "application/vnd.plotly.v1+json": {
       "config": {
        "plotlyServerURL": "https://plot.ly"
       },
       "data": [
        {
         "alignmentgroup": "True",
         "bingroup": "x",
         "hovertemplate": "x=%{x}<br>count=%{y}<extra></extra>",
         "legendgroup": "",
         "marker": {
          "color": "#636efa",
          "pattern": {
           "shape": ""
          }
         },
         "name": "",
         "offsetgroup": "",
         "orientation": "v",
         "showlegend": false,
         "type": "histogram",
         "x": [
          8,
          8,
          8,
          9,
          8,
          8,
          9,
          6,
          8,
          2,
          8,
          4,
          5,
          1,
          1,
          8,
          8,
          3,
          2,
          2,
          8,
          9,
          8,
          8,
          8,
          2,
          5,
          10,
          4,
          1,
          10,
          8,
          8,
          6,
          5,
          9,
          8,
          8,
          8,
          8,
          8,
          7,
          9,
          8,
          10,
          5,
          10,
          8,
          6,
          2,
          9,
          8,
          5,
          9,
          10,
          5,
          8,
          8,
          8,
          8,
          8,
          8,
          9,
          1,
          8,
          3,
          8,
          8,
          2,
          2,
          2,
          2,
          10,
          8,
          7,
          8,
          4,
          1,
          9,
          1,
          8,
          10,
          2,
          8,
          8,
          8,
          8,
          7,
          6,
          7,
          8,
          9,
          8,
          10,
          9,
          9,
          1,
          10,
          9,
          5,
          8,
          5,
          8,
          5,
          8,
          8,
          7,
          8,
          8,
          1,
          8,
          10,
          7,
          8,
          8,
          8,
          8,
          10,
          1,
          1,
          1,
          1,
          8,
          10,
          3,
          8,
          8,
          8,
          8,
          9,
          9,
          10,
          4,
          4,
          2,
          2,
          9,
          7,
          9,
          8,
          7,
          9,
          8,
          8,
          8,
          2,
          9,
          5,
          10,
          8,
          10,
          10,
          8,
          8,
          8,
          10,
          8,
          7,
          8,
          8,
          5,
          9,
          9,
          3,
          9,
          4,
          4,
          4,
          8,
          2,
          5,
          1,
          8,
          9,
          6,
          9,
          9,
          1,
          8,
          1,
          9,
          8,
          8,
          7,
          7,
          8,
          8,
          6,
          8,
          8,
          4,
          4,
          5,
          3,
          8,
          1,
          8,
          8,
          8,
          8,
          3,
          8,
          7,
          3,
          5,
          8,
          2,
          3,
          3,
          3,
          8,
          4,
          8,
          9,
          8,
          3,
          1,
          3,
          2,
          5,
          5,
          8,
          7,
          1,
          4,
          9,
          8,
          1,
          5,
          1,
          8,
          9,
          8,
          1,
          6,
          9,
          8,
          5,
          7,
          8,
          7,
          4,
          6,
          8,
          8,
          8,
          8,
          9,
          9,
          10,
          8,
          8,
          7,
          7,
          9,
          9,
          8,
          3,
          8,
          10,
          1,
          1,
          10,
          8,
          4,
          1,
          8,
          8,
          8,
          10,
          10,
          8,
          9,
          2,
          7,
          4,
          5,
          8,
          8,
          5,
          7,
          7,
          5,
          8,
          8,
          2,
          8,
          10,
          4,
          4,
          5,
          8,
          7,
          7,
          8,
          4,
          8,
          8,
          4,
          3,
          9,
          9,
          4,
          5,
          9,
          8,
          7,
          3,
          8,
          7,
          8,
          8,
          7,
          3,
          8,
          9,
          10,
          8,
          6,
          4,
          4,
          7,
          8,
          8,
          6,
          1,
          7,
          2,
          4,
          5,
          10,
          7,
          8,
          4,
          7,
          9,
          8,
          8,
          10,
          8,
          8,
          8,
          2,
          8,
          1,
          9,
          4,
          4,
          8,
          8,
          9,
          5,
          9,
          8,
          6,
          8,
          10,
          6,
          7,
          9,
          9,
          8,
          8,
          9,
          3,
          8,
          3,
          4,
          9,
          5,
          10,
          5,
          8,
          7,
          9,
          8,
          9,
          3,
          8,
          1,
          8,
          5,
          8,
          5,
          8,
          8,
          9,
          8,
          8,
          3,
          7,
          8,
          5,
          8,
          8,
          8,
          8,
          9,
          1,
          8
         ],
         "xaxis": "x",
         "yaxis": "y"
        }
       ],
       "layout": {
        "barmode": "relative",
        "legend": {
         "tracegroupgap": 0
        },
        "margin": {
         "t": 60
        },
        "template": {
         "data": {
          "bar": [
           {
            "error_x": {
             "color": "#2a3f5f"
            },
            "error_y": {
             "color": "#2a3f5f"
            },
            "marker": {
             "line": {
              "color": "#E5ECF6",
              "width": 0.5
             },
             "pattern": {
              "fillmode": "overlay",
              "size": 10,
              "solidity": 0.2
             }
            },
            "type": "bar"
           }
          ],
          "barpolar": [
           {
            "marker": {
             "line": {
              "color": "#E5ECF6",
              "width": 0.5
             },
             "pattern": {
              "fillmode": "overlay",
              "size": 10,
              "solidity": 0.2
             }
            },
            "type": "barpolar"
           }
          ],
          "carpet": [
           {
            "aaxis": {
             "endlinecolor": "#2a3f5f",
             "gridcolor": "white",
             "linecolor": "white",
             "minorgridcolor": "white",
             "startlinecolor": "#2a3f5f"
            },
            "baxis": {
             "endlinecolor": "#2a3f5f",
             "gridcolor": "white",
             "linecolor": "white",
             "minorgridcolor": "white",
             "startlinecolor": "#2a3f5f"
            },
            "type": "carpet"
           }
          ],
          "choropleth": [
           {
            "colorbar": {
             "outlinewidth": 0,
             "ticks": ""
            },
            "type": "choropleth"
           }
          ],
          "contour": [
           {
            "colorbar": {
             "outlinewidth": 0,
             "ticks": ""
            },
            "colorscale": [
             [
              0,
              "#0d0887"
             ],
             [
              0.1111111111111111,
              "#46039f"
             ],
             [
              0.2222222222222222,
              "#7201a8"
             ],
             [
              0.3333333333333333,
              "#9c179e"
             ],
             [
              0.4444444444444444,
              "#bd3786"
             ],
             [
              0.5555555555555556,
              "#d8576b"
             ],
             [
              0.6666666666666666,
              "#ed7953"
             ],
             [
              0.7777777777777778,
              "#fb9f3a"
             ],
             [
              0.8888888888888888,
              "#fdca26"
             ],
             [
              1,
              "#f0f921"
             ]
            ],
            "type": "contour"
           }
          ],
          "contourcarpet": [
           {
            "colorbar": {
             "outlinewidth": 0,
             "ticks": ""
            },
            "type": "contourcarpet"
           }
          ],
          "heatmap": [
           {
            "colorbar": {
             "outlinewidth": 0,
             "ticks": ""
            },
            "colorscale": [
             [
              0,
              "#0d0887"
             ],
             [
              0.1111111111111111,
              "#46039f"
             ],
             [
              0.2222222222222222,
              "#7201a8"
             ],
             [
              0.3333333333333333,
              "#9c179e"
             ],
             [
              0.4444444444444444,
              "#bd3786"
             ],
             [
              0.5555555555555556,
              "#d8576b"
             ],
             [
              0.6666666666666666,
              "#ed7953"
             ],
             [
              0.7777777777777778,
              "#fb9f3a"
             ],
             [
              0.8888888888888888,
              "#fdca26"
             ],
             [
              1,
              "#f0f921"
             ]
            ],
            "type": "heatmap"
           }
          ],
          "heatmapgl": [
           {
            "colorbar": {
             "outlinewidth": 0,
             "ticks": ""
            },
            "colorscale": [
             [
              0,
              "#0d0887"
             ],
             [
              0.1111111111111111,
              "#46039f"
             ],
             [
              0.2222222222222222,
              "#7201a8"
             ],
             [
              0.3333333333333333,
              "#9c179e"
             ],
             [
              0.4444444444444444,
              "#bd3786"
             ],
             [
              0.5555555555555556,
              "#d8576b"
             ],
             [
              0.6666666666666666,
              "#ed7953"
             ],
             [
              0.7777777777777778,
              "#fb9f3a"
             ],
             [
              0.8888888888888888,
              "#fdca26"
             ],
             [
              1,
              "#f0f921"
             ]
            ],
            "type": "heatmapgl"
           }
          ],
          "histogram": [
           {
            "marker": {
             "pattern": {
              "fillmode": "overlay",
              "size": 10,
              "solidity": 0.2
             }
            },
            "type": "histogram"
           }
          ],
          "histogram2d": [
           {
            "colorbar": {
             "outlinewidth": 0,
             "ticks": ""
            },
            "colorscale": [
             [
              0,
              "#0d0887"
             ],
             [
              0.1111111111111111,
              "#46039f"
             ],
             [
              0.2222222222222222,
              "#7201a8"
             ],
             [
              0.3333333333333333,
              "#9c179e"
             ],
             [
              0.4444444444444444,
              "#bd3786"
             ],
             [
              0.5555555555555556,
              "#d8576b"
             ],
             [
              0.6666666666666666,
              "#ed7953"
             ],
             [
              0.7777777777777778,
              "#fb9f3a"
             ],
             [
              0.8888888888888888,
              "#fdca26"
             ],
             [
              1,
              "#f0f921"
             ]
            ],
            "type": "histogram2d"
           }
          ],
          "histogram2dcontour": [
           {
            "colorbar": {
             "outlinewidth": 0,
             "ticks": ""
            },
            "colorscale": [
             [
              0,
              "#0d0887"
             ],
             [
              0.1111111111111111,
              "#46039f"
             ],
             [
              0.2222222222222222,
              "#7201a8"
             ],
             [
              0.3333333333333333,
              "#9c179e"
             ],
             [
              0.4444444444444444,
              "#bd3786"
             ],
             [
              0.5555555555555556,
              "#d8576b"
             ],
             [
              0.6666666666666666,
              "#ed7953"
             ],
             [
              0.7777777777777778,
              "#fb9f3a"
             ],
             [
              0.8888888888888888,
              "#fdca26"
             ],
             [
              1,
              "#f0f921"
             ]
            ],
            "type": "histogram2dcontour"
           }
          ],
          "mesh3d": [
           {
            "colorbar": {
             "outlinewidth": 0,
             "ticks": ""
            },
            "type": "mesh3d"
           }
          ],
          "parcoords": [
           {
            "line": {
             "colorbar": {
              "outlinewidth": 0,
              "ticks": ""
             }
            },
            "type": "parcoords"
           }
          ],
          "pie": [
           {
            "automargin": true,
            "type": "pie"
           }
          ],
          "scatter": [
           {
            "marker": {
             "colorbar": {
              "outlinewidth": 0,
              "ticks": ""
             }
            },
            "type": "scatter"
           }
          ],
          "scatter3d": [
           {
            "line": {
             "colorbar": {
              "outlinewidth": 0,
              "ticks": ""
             }
            },
            "marker": {
             "colorbar": {
              "outlinewidth": 0,
              "ticks": ""
             }
            },
            "type": "scatter3d"
           }
          ],
          "scattercarpet": [
           {
            "marker": {
             "colorbar": {
              "outlinewidth": 0,
              "ticks": ""
             }
            },
            "type": "scattercarpet"
           }
          ],
          "scattergeo": [
           {
            "marker": {
             "colorbar": {
              "outlinewidth": 0,
              "ticks": ""
             }
            },
            "type": "scattergeo"
           }
          ],
          "scattergl": [
           {
            "marker": {
             "colorbar": {
              "outlinewidth": 0,
              "ticks": ""
             }
            },
            "type": "scattergl"
           }
          ],
          "scattermapbox": [
           {
            "marker": {
             "colorbar": {
              "outlinewidth": 0,
              "ticks": ""
             }
            },
            "type": "scattermapbox"
           }
          ],
          "scatterpolar": [
           {
            "marker": {
             "colorbar": {
              "outlinewidth": 0,
              "ticks": ""
             }
            },
            "type": "scatterpolar"
           }
          ],
          "scatterpolargl": [
           {
            "marker": {
             "colorbar": {
              "outlinewidth": 0,
              "ticks": ""
             }
            },
            "type": "scatterpolargl"
           }
          ],
          "scatterternary": [
           {
            "marker": {
             "colorbar": {
              "outlinewidth": 0,
              "ticks": ""
             }
            },
            "type": "scatterternary"
           }
          ],
          "surface": [
           {
            "colorbar": {
             "outlinewidth": 0,
             "ticks": ""
            },
            "colorscale": [
             [
              0,
              "#0d0887"
             ],
             [
              0.1111111111111111,
              "#46039f"
             ],
             [
              0.2222222222222222,
              "#7201a8"
             ],
             [
              0.3333333333333333,
              "#9c179e"
             ],
             [
              0.4444444444444444,
              "#bd3786"
             ],
             [
              0.5555555555555556,
              "#d8576b"
             ],
             [
              0.6666666666666666,
              "#ed7953"
             ],
             [
              0.7777777777777778,
              "#fb9f3a"
             ],
             [
              0.8888888888888888,
              "#fdca26"
             ],
             [
              1,
              "#f0f921"
             ]
            ],
            "type": "surface"
           }
          ],
          "table": [
           {
            "cells": {
             "fill": {
              "color": "#EBF0F8"
             },
             "line": {
              "color": "white"
             }
            },
            "header": {
             "fill": {
              "color": "#C8D4E3"
             },
             "line": {
              "color": "white"
             }
            },
            "type": "table"
           }
          ]
         },
         "layout": {
          "annotationdefaults": {
           "arrowcolor": "#2a3f5f",
           "arrowhead": 0,
           "arrowwidth": 1
          },
          "autotypenumbers": "strict",
          "coloraxis": {
           "colorbar": {
            "outlinewidth": 0,
            "ticks": ""
           }
          },
          "colorscale": {
           "diverging": [
            [
             0,
             "#8e0152"
            ],
            [
             0.1,
             "#c51b7d"
            ],
            [
             0.2,
             "#de77ae"
            ],
            [
             0.3,
             "#f1b6da"
            ],
            [
             0.4,
             "#fde0ef"
            ],
            [
             0.5,
             "#f7f7f7"
            ],
            [
             0.6,
             "#e6f5d0"
            ],
            [
             0.7,
             "#b8e186"
            ],
            [
             0.8,
             "#7fbc41"
            ],
            [
             0.9,
             "#4d9221"
            ],
            [
             1,
             "#276419"
            ]
           ],
           "sequential": [
            [
             0,
             "#0d0887"
            ],
            [
             0.1111111111111111,
             "#46039f"
            ],
            [
             0.2222222222222222,
             "#7201a8"
            ],
            [
             0.3333333333333333,
             "#9c179e"
            ],
            [
             0.4444444444444444,
             "#bd3786"
            ],
            [
             0.5555555555555556,
             "#d8576b"
            ],
            [
             0.6666666666666666,
             "#ed7953"
            ],
            [
             0.7777777777777778,
             "#fb9f3a"
            ],
            [
             0.8888888888888888,
             "#fdca26"
            ],
            [
             1,
             "#f0f921"
            ]
           ],
           "sequentialminus": [
            [
             0,
             "#0d0887"
            ],
            [
             0.1111111111111111,
             "#46039f"
            ],
            [
             0.2222222222222222,
             "#7201a8"
            ],
            [
             0.3333333333333333,
             "#9c179e"
            ],
            [
             0.4444444444444444,
             "#bd3786"
            ],
            [
             0.5555555555555556,
             "#d8576b"
            ],
            [
             0.6666666666666666,
             "#ed7953"
            ],
            [
             0.7777777777777778,
             "#fb9f3a"
            ],
            [
             0.8888888888888888,
             "#fdca26"
            ],
            [
             1,
             "#f0f921"
            ]
           ]
          },
          "colorway": [
           "#636efa",
           "#EF553B",
           "#00cc96",
           "#ab63fa",
           "#FFA15A",
           "#19d3f3",
           "#FF6692",
           "#B6E880",
           "#FF97FF",
           "#FECB52"
          ],
          "font": {
           "color": "#2a3f5f"
          },
          "geo": {
           "bgcolor": "white",
           "lakecolor": "white",
           "landcolor": "#E5ECF6",
           "showlakes": true,
           "showland": true,
           "subunitcolor": "white"
          },
          "hoverlabel": {
           "align": "left"
          },
          "hovermode": "closest",
          "mapbox": {
           "style": "light"
          },
          "paper_bgcolor": "white",
          "plot_bgcolor": "#E5ECF6",
          "polar": {
           "angularaxis": {
            "gridcolor": "white",
            "linecolor": "white",
            "ticks": ""
           },
           "bgcolor": "#E5ECF6",
           "radialaxis": {
            "gridcolor": "white",
            "linecolor": "white",
            "ticks": ""
           }
          },
          "scene": {
           "xaxis": {
            "backgroundcolor": "#E5ECF6",
            "gridcolor": "white",
            "gridwidth": 2,
            "linecolor": "white",
            "showbackground": true,
            "ticks": "",
            "zerolinecolor": "white"
           },
           "yaxis": {
            "backgroundcolor": "#E5ECF6",
            "gridcolor": "white",
            "gridwidth": 2,
            "linecolor": "white",
            "showbackground": true,
            "ticks": "",
            "zerolinecolor": "white"
           },
           "zaxis": {
            "backgroundcolor": "#E5ECF6",
            "gridcolor": "white",
            "gridwidth": 2,
            "linecolor": "white",
            "showbackground": true,
            "ticks": "",
            "zerolinecolor": "white"
           }
          },
          "shapedefaults": {
           "line": {
            "color": "#2a3f5f"
           }
          },
          "ternary": {
           "aaxis": {
            "gridcolor": "white",
            "linecolor": "white",
            "ticks": ""
           },
           "baxis": {
            "gridcolor": "white",
            "linecolor": "white",
            "ticks": ""
           },
           "bgcolor": "#E5ECF6",
           "caxis": {
            "gridcolor": "white",
            "linecolor": "white",
            "ticks": ""
           }
          },
          "title": {
           "x": 0.05
          },
          "xaxis": {
           "automargin": true,
           "gridcolor": "white",
           "linecolor": "white",
           "ticks": "",
           "title": {
            "standoff": 15
           },
           "zerolinecolor": "white",
           "zerolinewidth": 2
          },
          "yaxis": {
           "automargin": true,
           "gridcolor": "white",
           "linecolor": "white",
           "ticks": "",
           "title": {
            "standoff": 15
           },
           "zerolinecolor": "white",
           "zerolinewidth": 2
          }
         }
        },
        "xaxis": {
         "anchor": "y",
         "domain": [
          0,
          1
         ],
         "title": {
          "text": "x"
         }
        },
        "yaxis": {
         "anchor": "x",
         "domain": [
          0,
          1
         ],
         "title": {
          "text": "count"
         }
        }
       }
      },
      "text/html": [
       "<div>                            <div id=\"7f01f644-a234-4a08-ab50-94511dc2d9d9\" class=\"plotly-graph-div\" style=\"height:525px; width:100%;\"></div>            <script type=\"text/javascript\">                require([\"plotly\"], function(Plotly) {                    window.PLOTLYENV=window.PLOTLYENV || {};                                    if (document.getElementById(\"7f01f644-a234-4a08-ab50-94511dc2d9d9\")) {                    Plotly.newPlot(                        \"7f01f644-a234-4a08-ab50-94511dc2d9d9\",                        [{\"alignmentgroup\":\"True\",\"bingroup\":\"x\",\"hovertemplate\":\"x=%{x}<br>count=%{y}<extra></extra>\",\"legendgroup\":\"\",\"marker\":{\"color\":\"#636efa\",\"pattern\":{\"shape\":\"\"}},\"name\":\"\",\"offsetgroup\":\"\",\"orientation\":\"v\",\"showlegend\":false,\"x\":[8,8,8,9,8,8,9,6,8,2,8,4,5,1,1,8,8,3,2,2,8,9,8,8,8,2,5,10,4,1,10,8,8,6,5,9,8,8,8,8,8,7,9,8,10,5,10,8,6,2,9,8,5,9,10,5,8,8,8,8,8,8,9,1,8,3,8,8,2,2,2,2,10,8,7,8,4,1,9,1,8,10,2,8,8,8,8,7,6,7,8,9,8,10,9,9,1,10,9,5,8,5,8,5,8,8,7,8,8,1,8,10,7,8,8,8,8,10,1,1,1,1,8,10,3,8,8,8,8,9,9,10,4,4,2,2,9,7,9,8,7,9,8,8,8,2,9,5,10,8,10,10,8,8,8,10,8,7,8,8,5,9,9,3,9,4,4,4,8,2,5,1,8,9,6,9,9,1,8,1,9,8,8,7,7,8,8,6,8,8,4,4,5,3,8,1,8,8,8,8,3,8,7,3,5,8,2,3,3,3,8,4,8,9,8,3,1,3,2,5,5,8,7,1,4,9,8,1,5,1,8,9,8,1,6,9,8,5,7,8,7,4,6,8,8,8,8,9,9,10,8,8,7,7,9,9,8,3,8,10,1,1,10,8,4,1,8,8,8,10,10,8,9,2,7,4,5,8,8,5,7,7,5,8,8,2,8,10,4,4,5,8,7,7,8,4,8,8,4,3,9,9,4,5,9,8,7,3,8,7,8,8,7,3,8,9,10,8,6,4,4,7,8,8,6,1,7,2,4,5,10,7,8,4,7,9,8,8,10,8,8,8,2,8,1,9,4,4,8,8,9,5,9,8,6,8,10,6,7,9,9,8,8,9,3,8,3,4,9,5,10,5,8,7,9,8,9,3,8,1,8,5,8,5,8,8,9,8,8,3,7,8,5,8,8,8,8,9,1,8],\"xaxis\":\"x\",\"yaxis\":\"y\",\"type\":\"histogram\"}],                        {\"template\":{\"data\":{\"bar\":[{\"error_x\":{\"color\":\"#2a3f5f\"},\"error_y\":{\"color\":\"#2a3f5f\"},\"marker\":{\"line\":{\"color\":\"#E5ECF6\",\"width\":0.5},\"pattern\":{\"fillmode\":\"overlay\",\"size\":10,\"solidity\":0.2}},\"type\":\"bar\"}],\"barpolar\":[{\"marker\":{\"line\":{\"color\":\"#E5ECF6\",\"width\":0.5},\"pattern\":{\"fillmode\":\"overlay\",\"size\":10,\"solidity\":0.2}},\"type\":\"barpolar\"}],\"carpet\":[{\"aaxis\":{\"endlinecolor\":\"#2a3f5f\",\"gridcolor\":\"white\",\"linecolor\":\"white\",\"minorgridcolor\":\"white\",\"startlinecolor\":\"#2a3f5f\"},\"baxis\":{\"endlinecolor\":\"#2a3f5f\",\"gridcolor\":\"white\",\"linecolor\":\"white\",\"minorgridcolor\":\"white\",\"startlinecolor\":\"#2a3f5f\"},\"type\":\"carpet\"}],\"choropleth\":[{\"colorbar\":{\"outlinewidth\":0,\"ticks\":\"\"},\"type\":\"choropleth\"}],\"contour\":[{\"colorbar\":{\"outlinewidth\":0,\"ticks\":\"\"},\"colorscale\":[[0.0,\"#0d0887\"],[0.1111111111111111,\"#46039f\"],[0.2222222222222222,\"#7201a8\"],[0.3333333333333333,\"#9c179e\"],[0.4444444444444444,\"#bd3786\"],[0.5555555555555556,\"#d8576b\"],[0.6666666666666666,\"#ed7953\"],[0.7777777777777778,\"#fb9f3a\"],[0.8888888888888888,\"#fdca26\"],[1.0,\"#f0f921\"]],\"type\":\"contour\"}],\"contourcarpet\":[{\"colorbar\":{\"outlinewidth\":0,\"ticks\":\"\"},\"type\":\"contourcarpet\"}],\"heatmap\":[{\"colorbar\":{\"outlinewidth\":0,\"ticks\":\"\"},\"colorscale\":[[0.0,\"#0d0887\"],[0.1111111111111111,\"#46039f\"],[0.2222222222222222,\"#7201a8\"],[0.3333333333333333,\"#9c179e\"],[0.4444444444444444,\"#bd3786\"],[0.5555555555555556,\"#d8576b\"],[0.6666666666666666,\"#ed7953\"],[0.7777777777777778,\"#fb9f3a\"],[0.8888888888888888,\"#fdca26\"],[1.0,\"#f0f921\"]],\"type\":\"heatmap\"}],\"heatmapgl\":[{\"colorbar\":{\"outlinewidth\":0,\"ticks\":\"\"},\"colorscale\":[[0.0,\"#0d0887\"],[0.1111111111111111,\"#46039f\"],[0.2222222222222222,\"#7201a8\"],[0.3333333333333333,\"#9c179e\"],[0.4444444444444444,\"#bd3786\"],[0.5555555555555556,\"#d8576b\"],[0.6666666666666666,\"#ed7953\"],[0.7777777777777778,\"#fb9f3a\"],[0.8888888888888888,\"#fdca26\"],[1.0,\"#f0f921\"]],\"type\":\"heatmapgl\"}],\"histogram\":[{\"marker\":{\"pattern\":{\"fillmode\":\"overlay\",\"size\":10,\"solidity\":0.2}},\"type\":\"histogram\"}],\"histogram2d\":[{\"colorbar\":{\"outlinewidth\":0,\"ticks\":\"\"},\"colorscale\":[[0.0,\"#0d0887\"],[0.1111111111111111,\"#46039f\"],[0.2222222222222222,\"#7201a8\"],[0.3333333333333333,\"#9c179e\"],[0.4444444444444444,\"#bd3786\"],[0.5555555555555556,\"#d8576b\"],[0.6666666666666666,\"#ed7953\"],[0.7777777777777778,\"#fb9f3a\"],[0.8888888888888888,\"#fdca26\"],[1.0,\"#f0f921\"]],\"type\":\"histogram2d\"}],\"histogram2dcontour\":[{\"colorbar\":{\"outlinewidth\":0,\"ticks\":\"\"},\"colorscale\":[[0.0,\"#0d0887\"],[0.1111111111111111,\"#46039f\"],[0.2222222222222222,\"#7201a8\"],[0.3333333333333333,\"#9c179e\"],[0.4444444444444444,\"#bd3786\"],[0.5555555555555556,\"#d8576b\"],[0.6666666666666666,\"#ed7953\"],[0.7777777777777778,\"#fb9f3a\"],[0.8888888888888888,\"#fdca26\"],[1.0,\"#f0f921\"]],\"type\":\"histogram2dcontour\"}],\"mesh3d\":[{\"colorbar\":{\"outlinewidth\":0,\"ticks\":\"\"},\"type\":\"mesh3d\"}],\"parcoords\":[{\"line\":{\"colorbar\":{\"outlinewidth\":0,\"ticks\":\"\"}},\"type\":\"parcoords\"}],\"pie\":[{\"automargin\":true,\"type\":\"pie\"}],\"scatter\":[{\"marker\":{\"colorbar\":{\"outlinewidth\":0,\"ticks\":\"\"}},\"type\":\"scatter\"}],\"scatter3d\":[{\"line\":{\"colorbar\":{\"outlinewidth\":0,\"ticks\":\"\"}},\"marker\":{\"colorbar\":{\"outlinewidth\":0,\"ticks\":\"\"}},\"type\":\"scatter3d\"}],\"scattercarpet\":[{\"marker\":{\"colorbar\":{\"outlinewidth\":0,\"ticks\":\"\"}},\"type\":\"scattercarpet\"}],\"scattergeo\":[{\"marker\":{\"colorbar\":{\"outlinewidth\":0,\"ticks\":\"\"}},\"type\":\"scattergeo\"}],\"scattergl\":[{\"marker\":{\"colorbar\":{\"outlinewidth\":0,\"ticks\":\"\"}},\"type\":\"scattergl\"}],\"scattermapbox\":[{\"marker\":{\"colorbar\":{\"outlinewidth\":0,\"ticks\":\"\"}},\"type\":\"scattermapbox\"}],\"scatterpolar\":[{\"marker\":{\"colorbar\":{\"outlinewidth\":0,\"ticks\":\"\"}},\"type\":\"scatterpolar\"}],\"scatterpolargl\":[{\"marker\":{\"colorbar\":{\"outlinewidth\":0,\"ticks\":\"\"}},\"type\":\"scatterpolargl\"}],\"scatterternary\":[{\"marker\":{\"colorbar\":{\"outlinewidth\":0,\"ticks\":\"\"}},\"type\":\"scatterternary\"}],\"surface\":[{\"colorbar\":{\"outlinewidth\":0,\"ticks\":\"\"},\"colorscale\":[[0.0,\"#0d0887\"],[0.1111111111111111,\"#46039f\"],[0.2222222222222222,\"#7201a8\"],[0.3333333333333333,\"#9c179e\"],[0.4444444444444444,\"#bd3786\"],[0.5555555555555556,\"#d8576b\"],[0.6666666666666666,\"#ed7953\"],[0.7777777777777778,\"#fb9f3a\"],[0.8888888888888888,\"#fdca26\"],[1.0,\"#f0f921\"]],\"type\":\"surface\"}],\"table\":[{\"cells\":{\"fill\":{\"color\":\"#EBF0F8\"},\"line\":{\"color\":\"white\"}},\"header\":{\"fill\":{\"color\":\"#C8D4E3\"},\"line\":{\"color\":\"white\"}},\"type\":\"table\"}]},\"layout\":{\"annotationdefaults\":{\"arrowcolor\":\"#2a3f5f\",\"arrowhead\":0,\"arrowwidth\":1},\"autotypenumbers\":\"strict\",\"coloraxis\":{\"colorbar\":{\"outlinewidth\":0,\"ticks\":\"\"}},\"colorscale\":{\"diverging\":[[0,\"#8e0152\"],[0.1,\"#c51b7d\"],[0.2,\"#de77ae\"],[0.3,\"#f1b6da\"],[0.4,\"#fde0ef\"],[0.5,\"#f7f7f7\"],[0.6,\"#e6f5d0\"],[0.7,\"#b8e186\"],[0.8,\"#7fbc41\"],[0.9,\"#4d9221\"],[1,\"#276419\"]],\"sequential\":[[0.0,\"#0d0887\"],[0.1111111111111111,\"#46039f\"],[0.2222222222222222,\"#7201a8\"],[0.3333333333333333,\"#9c179e\"],[0.4444444444444444,\"#bd3786\"],[0.5555555555555556,\"#d8576b\"],[0.6666666666666666,\"#ed7953\"],[0.7777777777777778,\"#fb9f3a\"],[0.8888888888888888,\"#fdca26\"],[1.0,\"#f0f921\"]],\"sequentialminus\":[[0.0,\"#0d0887\"],[0.1111111111111111,\"#46039f\"],[0.2222222222222222,\"#7201a8\"],[0.3333333333333333,\"#9c179e\"],[0.4444444444444444,\"#bd3786\"],[0.5555555555555556,\"#d8576b\"],[0.6666666666666666,\"#ed7953\"],[0.7777777777777778,\"#fb9f3a\"],[0.8888888888888888,\"#fdca26\"],[1.0,\"#f0f921\"]]},\"colorway\":[\"#636efa\",\"#EF553B\",\"#00cc96\",\"#ab63fa\",\"#FFA15A\",\"#19d3f3\",\"#FF6692\",\"#B6E880\",\"#FF97FF\",\"#FECB52\"],\"font\":{\"color\":\"#2a3f5f\"},\"geo\":{\"bgcolor\":\"white\",\"lakecolor\":\"white\",\"landcolor\":\"#E5ECF6\",\"showlakes\":true,\"showland\":true,\"subunitcolor\":\"white\"},\"hoverlabel\":{\"align\":\"left\"},\"hovermode\":\"closest\",\"mapbox\":{\"style\":\"light\"},\"paper_bgcolor\":\"white\",\"plot_bgcolor\":\"#E5ECF6\",\"polar\":{\"angularaxis\":{\"gridcolor\":\"white\",\"linecolor\":\"white\",\"ticks\":\"\"},\"bgcolor\":\"#E5ECF6\",\"radialaxis\":{\"gridcolor\":\"white\",\"linecolor\":\"white\",\"ticks\":\"\"}},\"scene\":{\"xaxis\":{\"backgroundcolor\":\"#E5ECF6\",\"gridcolor\":\"white\",\"gridwidth\":2,\"linecolor\":\"white\",\"showbackground\":true,\"ticks\":\"\",\"zerolinecolor\":\"white\"},\"yaxis\":{\"backgroundcolor\":\"#E5ECF6\",\"gridcolor\":\"white\",\"gridwidth\":2,\"linecolor\":\"white\",\"showbackground\":true,\"ticks\":\"\",\"zerolinecolor\":\"white\"},\"zaxis\":{\"backgroundcolor\":\"#E5ECF6\",\"gridcolor\":\"white\",\"gridwidth\":2,\"linecolor\":\"white\",\"showbackground\":true,\"ticks\":\"\",\"zerolinecolor\":\"white\"}},\"shapedefaults\":{\"line\":{\"color\":\"#2a3f5f\"}},\"ternary\":{\"aaxis\":{\"gridcolor\":\"white\",\"linecolor\":\"white\",\"ticks\":\"\"},\"baxis\":{\"gridcolor\":\"white\",\"linecolor\":\"white\",\"ticks\":\"\"},\"bgcolor\":\"#E5ECF6\",\"caxis\":{\"gridcolor\":\"white\",\"linecolor\":\"white\",\"ticks\":\"\"}},\"title\":{\"x\":0.05},\"xaxis\":{\"automargin\":true,\"gridcolor\":\"white\",\"linecolor\":\"white\",\"ticks\":\"\",\"title\":{\"standoff\":15},\"zerolinecolor\":\"white\",\"zerolinewidth\":2},\"yaxis\":{\"automargin\":true,\"gridcolor\":\"white\",\"linecolor\":\"white\",\"ticks\":\"\",\"title\":{\"standoff\":15},\"zerolinecolor\":\"white\",\"zerolinewidth\":2}}},\"xaxis\":{\"anchor\":\"y\",\"domain\":[0.0,1.0],\"title\":{\"text\":\"x\"}},\"yaxis\":{\"anchor\":\"x\",\"domain\":[0.0,1.0],\"title\":{\"text\":\"count\"}},\"legend\":{\"tracegroupgap\":0},\"margin\":{\"t\":60},\"barmode\":\"relative\"},                        {\"responsive\": true}                    ).then(function(){\n",
       "                            \n",
       "var gd = document.getElementById('7f01f644-a234-4a08-ab50-94511dc2d9d9');\n",
       "var x = new MutationObserver(function (mutations, observer) {{\n",
       "        var display = window.getComputedStyle(gd).display;\n",
       "        if (!display || display === 'none') {{\n",
       "            console.log([gd, 'removed!']);\n",
       "            Plotly.purge(gd);\n",
       "            observer.disconnect();\n",
       "        }}\n",
       "}});\n",
       "\n",
       "// Listen for the removal of the full notebook cells\n",
       "var notebookContainer = gd.closest('#notebook-container');\n",
       "if (notebookContainer) {{\n",
       "    x.observe(notebookContainer, {childList: true});\n",
       "}}\n",
       "\n",
       "// Listen for the clearing of the current output cell\n",
       "var outputEl = gd.closest('.output');\n",
       "if (outputEl) {{\n",
       "    x.observe(outputEl, {childList: true});\n",
       "}}\n",
       "\n",
       "                        })                };                });            </script>        </div>"
      ]
     },
     "metadata": {},
     "output_type": "display_data"
    }
   ],
   "source": [
    "fig7 = px.histogram(x=df['selfMadeRank'])\n",
    "\n",
    "fig7.show()"
   ]
  },
  {
   "cell_type": "code",
   "execution_count": null,
   "id": "9ed268a8",
   "metadata": {},
   "outputs": [],
   "source": []
  }
 ],
 "metadata": {
  "kernelspec": {
   "display_name": "Python 3 (ipykernel)",
   "language": "python",
   "name": "python3"
  },
  "language_info": {
   "codemirror_mode": {
    "name": "ipython",
    "version": 3
   },
   "file_extension": ".py",
   "mimetype": "text/x-python",
   "name": "python",
   "nbconvert_exporter": "python",
   "pygments_lexer": "ipython3",
   "version": "3.9.12"
  }
 },
 "nbformat": 4,
 "nbformat_minor": 5
}
